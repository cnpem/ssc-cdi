{
 "cells": [
  {
   "cell_type": "markdown",
   "id": "d382b0d3-07c4-48f5-8813-9062311b45a9",
   "metadata": {},
   "source": [
    "## Update packages to most recent version"
   ]
  },
  {
   "cell_type": "code",
   "execution_count": null,
   "id": "e056b060-4493-4840-be37-e30a6fddbf82",
   "metadata": {},
   "outputs": [],
   "source": [
    "import sscInstall\n",
    "server = sscInstall.connect_server()\n",
    "sscInstall.install_jupyter(server,beamline='caterete',sscCdi='0.5.1',sscPtycho='2.1.1',sscPimega='0.7.3',sscRaft='2.0.1',sscRadon='1.0.0',sscResolution='0.5.7')"
   ]
  }
 ],
 "metadata": {
  "kernelspec": {
   "display_name": "Python 3",
   "language": "python",
   "name": "python3"
  },
  "language_info": {
   "codemirror_mode": {
    "name": "ipython",
    "version": 3
   },
   "file_extension": ".py",
   "mimetype": "text/x-python",
   "name": "python",
   "nbconvert_exporter": "python",
   "pygments_lexer": "ipython3",
   "version": "3.9.2"
  }
 },
 "nbformat": 4,
 "nbformat_minor": 5
}
