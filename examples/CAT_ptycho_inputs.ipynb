{
 "cells": [
  {
   "cell_type": "markdown",
   "id": "5907b5fd-c1a2-41bb-a750-f5a2752f694b",
   "metadata": {},
   "source": [
    "## Imports"
   ]
  },
  {
   "cell_type": "code",
   "execution_count": 10,
   "id": "d27ac7ad-ba2e-43b4-b22e-fd31f4301ad5",
   "metadata": {
    "tags": []
   },
   "outputs": [],
   "source": [
    "import json\n",
    "from sscCdi import save_input_dictionary"
   ]
  },
  {
   "cell_type": "markdown",
   "id": "9dd92c92-7003-42ae-9877-57fd9709ee52",
   "metadata": {},
   "source": [
    "## Inputs"
   ]
  },
  {
   "cell_type": "code",
   "execution_count": null,
   "id": "18afb0d5-c61d-450d-bba0-8226bc947da4",
   "metadata": {},
   "outputs": [],
   "source": [
    "# template_path = \"CAT_ptycho_inputs.json\"\n",
    "# input_dict = json.load(open(template_path)\n",
    "                       \n",
    "output_folder = \"/ibira/lnls/beamlines/caterete/apps/gcc-jupyter/inputs/\""
   ]
  },
  {
   "cell_type": "code",
   "execution_count": 11,
   "id": "661e7fa9-63e2-460f-8d62-0780550cb1cd",
   "metadata": {
    "tags": []
   },
   "outputs": [],
   "source": [
    "input_dict = {'beamline': 'CAT',\n",
    "             'detector': '540D',\n",
    "             'debug': False,\n",
    "             'data_folder': '/ibira/lnls/beamlines/caterete/apps/gcc-jupyter/00000000/data/ptycho2d/',\n",
    "             'acquisition_folders': ['SS03112022_02'],\n",
    "             'projections': [0],\n",
    "             'custom_output_folder': '',\n",
    "             'output_filename': '',\n",
    "             'CPUs': 96,\n",
    "             'GPUs': [0, 1, 2],\n",
    "             'binning': 1,\n",
    "             'direct_beam_path': '',\n",
    "             'DP_center': [1418, 1383],\n",
    "             'fill_blanks': False,\n",
    "             'keep_original_negative_values': False,\n",
    "             'suspect_border_pixels': 3,\n",
    "             'detector_ROI_radius': 1280,\n",
    "             'position_rotation': -0.003,\n",
    "             'object_padding': 20,\n",
    "             'incoherent_modes': 0,\n",
    "             'probe_support': [300, 0, 0],\n",
    "             'fresnel_number': -0.001,\n",
    "             'initial_obj': '/ibira/lnls/beamlines/caterete/apps/gcc-jupyter/00000000/proc/recons/SS03112022_02/initial_obj.npy',\n",
    "             'initial_probe': '/ibira/lnls/beamlines/caterete/apps/gcc-jupyter/00000000/proc/recons/SS03112022_02/initial_probe.npy',\n",
    "             'Algorithm1': {'Batch': 64,\n",
    "              'Beta': 0.995,\n",
    "              'Epsilon': 0.01,\n",
    "              'Iterations': 70,\n",
    "              'Name': 'RAAR',\n",
    "              'ProbeCycles': 4,\n",
    "              'TV': 0},\n",
    "             'Algorithm2': {'Batch': 64,\n",
    "              'Epsilon': 0.01,\n",
    "              'Iterations': 50,\n",
    "              'Name': 'GL',\n",
    "              'ObjBeta': 0.97,\n",
    "              'ProbeBeta': 0.95,\n",
    "              'TV': 0.0001},\n",
    "             'Algorithm3': {'Batch': 64,\n",
    "              'Epsilon': 0.1,\n",
    "              'Iterations': 5,\n",
    "              'Name': 'GL',\n",
    "              'ObjBeta': 0.5,\n",
    "              'ProbeBeta': 0.5,\n",
    "              'TV': 0.01},\n",
    "             'crop': [],\n",
    "             'phase_unwrap': [],\n",
    "             'FRC': []};"
   ]
  },
  {
   "cell_type": "markdown",
   "id": "cc73407e-7278-4a93-8ab0-800a915de749",
   "metadata": {},
   "source": [
    "## Save"
   ]
  },
  {
   "cell_type": "code",
   "execution_count": 14,
   "id": "06b77847-6cdb-443e-84b3-bcf5f3ffb9f2",
   "metadata": {
    "tags": []
   },
   "outputs": [],
   "source": [
    "save_input_dictionary(output_folder,input_dict)"
   ]
  }
 ],
 "metadata": {
  "kernelspec": {
   "display_name": "Python 3",
   "language": "python",
   "name": "python3"
  },
  "language_info": {
   "codemirror_mode": {
    "name": "ipython",
    "version": 3
   },
   "file_extension": ".py",
   "mimetype": "text/x-python",
   "name": "python",
   "nbconvert_exporter": "python",
   "pygments_lexer": "ipython3",
   "version": "3.9.2"
  }
 },
 "nbformat": 4,
 "nbformat_minor": 5
}
