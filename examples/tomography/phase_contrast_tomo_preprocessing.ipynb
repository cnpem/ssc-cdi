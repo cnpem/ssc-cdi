{
 "cells": [
  {
   "cell_type": "markdown",
   "id": "54b2b750",
   "metadata": {},
   "source": [
    "## Sirius/LNLS - Scientific Computing Group\n",
    "## Tomography pre-processing pipeline\n",
    "\n",
    "This notebook contains an example on how to perform pre-processing of phase-contrast images before Tomography.\n",
    "The sinogram alignment functions are called from **sscRaft package**."
   ]
  },
  {
   "cell_type": "markdown",
   "id": "1e10bbde",
   "metadata": {},
   "source": [
    "## Imports"
   ]
  },
  {
   "cell_type": "code",
   "execution_count": null,
   "id": "3a7f76cb",
   "metadata": {
    "tags": []
   },
   "outputs": [],
   "source": [
    "%matplotlib widget\n",
    "import numpy as np\n",
    "import matplotlib.pyplot as plt\n",
    "import json, h5py\n",
    "\n",
    "import sscCdi\n",
    "print(f'sscCdi version: {sscCdi.__version__}')\n",
    "\n",
    "import sscRaft\n",
    "print(f'sscRaft version: {sscRaft.__version__}')\n",
    "\n",
    "plt.rcParams['image.cmap'] = 'cividis' # select standard colormap for plots here\n",
    "dic = {}"
   ]
  },
  {
   "cell_type": "markdown",
   "id": "fcb026c5",
   "metadata": {},
   "source": [
    "## Load data"
   ]
  },
  {
   "cell_type": "code",
   "execution_count": null,
   "id": "b77d6193",
   "metadata": {
    "tags": []
   },
   "outputs": [],
   "source": [
    "obj = np.load('../data/tomo/data.npy')\n",
    "angles = np.load('../data/tomo/angles.npy') # column 1 contains angles in degrees"
   ]
  },
  {
   "cell_type": "code",
   "execution_count": null,
   "id": "9531261d-a8e3-4c00-97f0-f5eb738ea24b",
   "metadata": {
    "tags": []
   },
   "outputs": [],
   "source": [
    "sscCdi.visualize_magnitude_and_phase(obj,axis=0,cmap='gray',aspect_ratio='')"
   ]
  },
  {
   "cell_type": "code",
   "execution_count": null,
   "id": "f76cd4a2",
   "metadata": {
    "tags": []
   },
   "outputs": [],
   "source": [
    "sscCdi.deploy_visualizer(obj,type='abs',title='Original sinogram',cmap='gray') # type = amplitude, phase, real or imag"
   ]
  },
  {
   "cell_type": "code",
   "execution_count": null,
   "id": "51a2ecb4-89e7-4bbe-b653-87c1696e9e9d",
   "metadata": {},
   "outputs": [],
   "source": [
    "dic[\"bad_frames\"] = []\n",
    "dic['sinogram_filepath'] = \"\" # path to save new sinogram\n",
    "\n",
    "obj, angles = sscCdi.remove_frames_from_sinogram(obj,angles,dic[\"bad_frames\"],ordered_object_filepath=\"\")"
   ]
  },
  {
   "cell_type": "markdown",
   "id": "e755c8a6",
   "metadata": {},
   "source": [
    "## Crop data"
   ]
  },
  {
   "cell_type": "code",
   "execution_count": null,
   "id": "d61d3034",
   "metadata": {},
   "outputs": [],
   "source": [
    "dic[\"top_crop\"]    = 2 # n of pixels to remove on top\n",
    "dic[\"bottom_crop\"] = 2 # n of pixels to remove on bottom\n",
    "dic[\"left_crop\"]   = 2 # n of pixels to remove on left\n",
    "dic[\"right_crop\"]  = 2 # n of pixels to remove on right\n",
    "\n",
    "cropped_data = sscCdi.processing.crop_volume(obj,dic[\"top_crop\"],dic[\"bottom_crop\"],dic[\"left_crop\"] ,dic[\"right_crop\"] ,cropped_savepath='',crop_mode=0)"
   ]
  },
  {
   "cell_type": "markdown",
   "id": "87db181a",
   "metadata": {},
   "source": [
    "## Sort data"
   ]
  },
  {
   "cell_type": "code",
   "execution_count": null,
   "id": "51268fb4",
   "metadata": {},
   "outputs": [],
   "source": [
    "sorted_data, sorted_angles = sscCdi.sort_sinogram_by_angle(cropped_data, angles,object_savepath='',angles_savepath='') "
   ]
  },
  {
   "cell_type": "markdown",
   "id": "5fd5ccb6",
   "metadata": {},
   "source": [
    "## Alignment Cross Correlation (CC) "
   ]
  },
  {
   "cell_type": "code",
   "execution_count": null,
   "id": "b8dfabd8",
   "metadata": {},
   "outputs": [],
   "source": [
    "dic[\"CC_correlate_via_variance_field\"] = True # if True, performs alignment of the variance (derivative) of the images. Only use True if phase wrapping is present!\n",
    "dic[\"CC_return_common_valid_region\"] = True    # if True, will return images containing only common ROI for all slices\n",
    "dic[\"CC_remove_null_borders\"] = True           # if True, removes the null borders of the image which represent the biggest shift in each direction\n",
    "dic[\"CC_downscaling_factor\"] = 1             # how many times to downsample the image before alignment. Recommended is 4.\n",
    "dic[\"CC_fft_upsampling\"] = 10                  # how much to upsample the data in reciprocal space for alignment. Recommended is 10. See: https://opg.optica.org/ol/abstract.cfm?uri=ol-33-2-156\n",
    "\n",
    "neighbor_shifts, total_shift = sscRaft.alignment.get_shifts_of_local_variance_parallel(sorted_data,fft_upsampling=dic[\"CC_fft_upsampling\"],downscaling_factor=dic[\"CC_downscaling_factor\"], use_gradient=dic[\"CC_correlate_via_variance_field\"],plot=True)"
   ]
  },
  {
   "cell_type": "code",
   "execution_count": null,
   "id": "50db2742",
   "metadata": {},
   "outputs": [],
   "source": [
    "aligned_data_CC = sscRaft.alignment.shift_and_crop_volume(sorted_data,total_shift,return_common_valid_region=dic[\"CC_return_common_valid_region\"], remove_null_borders = dic[\"CC_remove_null_borders\"])"
   ]
  },
  {
   "cell_type": "code",
   "execution_count": null,
   "id": "561f851a",
   "metadata": {},
   "outputs": [],
   "source": [
    "sscCdi.misc.deploy_visualizer(aligned_data_CC,type='phase',title='CC',cmap='gray',axis=0) # select axis"
   ]
  },
  {
   "cell_type": "markdown",
   "id": "a54206bd",
   "metadata": {},
   "source": [
    "## Alignment Vertical Mass Fluctuation (VMF)"
   ]
  },
  {
   "cell_type": "code",
   "execution_count": null,
   "id": "45e35139",
   "metadata": {},
   "outputs": [],
   "source": [
    "dic[\"VMF_vertical_region\"] = (0,100)       # (top, bottom). Select a region with good data (no phase wrapping is better) avoiding the borders\n",
    "dic[\"VMF_use_phase_gradient\"] = False         # if True, will align over the gradient of the phase images, making it indifferent to phase ramps\n",
    "dic[\"VMF_filter_sigma\"] = 0                  # sigma of a Gaussian filter applied to the curves prior to alignment. May help to reduce the influence of noise and fine features when overlapping curves\n",
    "dic[\"VMF_return_common_valid_region\"] = True # if True, will return images containing only common ROI for all slices\n",
    "dic[\"VMF_remove_null_borders\"] = True        # if True, removes the null borders of the image which represent the biggest shift in each direction\n",
    "dic[\"VMF_plot\"] = None                       # if True, shows VMF curves of the VMF_vertical_region before and after alignment\n",
    "\n",
    "aligned_data_VMF, curves, total_shift = sscRaft.alignment_vertical_mass_fluctuation(aligned_data_CC, curve_portion = dic[\"VMF_vertical_region\"],  use_phase_gradient = dic[\"VMF_use_phase_gradient\"],  filter_sigma = dic[\"VMF_filter_sigma\"], return_common_valid_region=dic[\"VMF_return_common_valid_region\"], remove_null_borders = dic[\"VMF_remove_null_borders\"], plot = dic[\"VMF_plot\"]) # if data is not equalized, phase gradient should be used"
   ]
  },
  {
   "cell_type": "code",
   "execution_count": null,
   "id": "18350f49",
   "metadata": {},
   "outputs": [],
   "source": [
    "sscCdi.misc.deploy_visualizer(aligned_data_VMF,type='phase',title='VMF',cmap='gray',axis=0)"
   ]
  },
  {
   "cell_type": "markdown",
   "id": "125aac0e-fc33-4faf-b24c-bea4334a3343",
   "metadata": {},
   "source": [
    "#### Visualize vertical mass"
   ]
  },
  {
   "cell_type": "code",
   "execution_count": null,
   "id": "101dd7bb",
   "metadata": {},
   "outputs": [],
   "source": [
    "curves_CC = sscRaft.get_VMF_curves(aligned_data_CC,use_phase_gradient=True,filter_sigma=0,curve_portion=None)\n",
    "curves_VMF = sscRaft.get_VMF_curves(aligned_data_VMF,use_phase_gradient=True,filter_sigma=0,curve_portion=None)\n",
    "\n",
    "fig, ax = plt.subplots(1,2)\n",
    "ax[0].imshow(curves_CC.T)\n",
    "ax[1].imshow(curves_VMF.T)"
   ]
  },
  {
   "cell_type": "markdown",
   "id": "324462da",
   "metadata": {},
   "source": [
    "## Unwrap"
   ]
  },
  {
   "cell_type": "code",
   "execution_count": null,
   "id": "0675af82",
   "metadata": {},
   "outputs": [],
   "source": [
    "data_to_unwrap = np.angle(aligned_data_VMF)\n",
    "\n",
    "unwrapped_sinogram = sscCdi.processing.unwrap_sinogram(data_to_unwrap,unwrapped_savepath=\"\")"
   ]
  },
  {
   "cell_type": "code",
   "execution_count": null,
   "id": "2d23f849",
   "metadata": {},
   "outputs": [],
   "source": [
    "sscCdi.misc.deploy_visualizer(unwrapped_sinogram,type='real',title='VMF',cmap='gray',axis=0)"
   ]
  },
  {
   "cell_type": "markdown",
   "id": "ce9245d1",
   "metadata": {},
   "source": [
    "## 2D Equalization / Phase-ramp removal"
   ]
  },
  {
   "cell_type": "code",
   "execution_count": null,
   "id": "923abc96",
   "metadata": {},
   "outputs": [],
   "source": [
    "dic[\"CPUs\"] = 32\n",
    "\n",
    "dic[\"equalize_invert\"] = True                           # invert phase shift signal from negative to positive\n",
    "dic[\"equalize_ROI\"] = [0,10,0,10]                    # region of interest of null region around the sample used for phase ramp and offset corrections\n",
    "dic[\"equalize_remove_phase_gradient\"] = True            # if empty and equalize_ROI = [], will subtract best plane fit from whole image\n",
    "dic[\"equalize_remove_phase_gradient_iterations\"] = 5    # number of times the gradient fitting is performed\n",
    "dic[\"equalize_local_offset\"] = True                     # remove offset of each frame from the mean of ROI \n",
    "dic[\"equalize_set_min_max\"]= []                         # [minimum,maximum] threshold values for whole volume\n",
    "dic[\"equalize_non_negative\"] = False                    # turn any remaining negative values to zero"
   ]
  },
  {
   "cell_type": "code",
   "execution_count": null,
   "id": "276fbddf",
   "metadata": {},
   "outputs": [],
   "source": [
    "equalized_sinogram = sscCdi.processing.equalize_sinogram(dic,unwrapped_sinogram,save=False)"
   ]
  },
  {
   "cell_type": "markdown",
   "id": "8d148569",
   "metadata": {},
   "source": [
    "### Equalization (Alternative Method #1)"
   ]
  },
  {
   "cell_type": "code",
   "execution_count": null,
   "id": "b4adc672",
   "metadata": {},
   "outputs": [],
   "source": [
    "projection = np.abs(unwrapped_sinogram.sum(0))\n",
    "mask = np.zeros_like(projection)\n",
    "\n",
    "mask[:, 0:20] = 1\n",
    "mask[:, 200:] = 1\n",
    "\n",
    "fig, ax = plt.subplots(1,3)\n",
    "ax[0].imshow(projection)\n",
    "ax[1].imshow(mask)\n",
    "ax[2].imshow(mask*projection)"
   ]
  },
  {
   "cell_type": "code",
   "execution_count": null,
   "id": "63ea06aa",
   "metadata": {},
   "outputs": [],
   "source": [
    "equalized_sinogram = sscCdi.equalize_scipy_optimization_parallel(unwrapped_sinogram,mask,initial_guess=(0,0,0),method='Nelder-Mead',max_iter = 1,processes=32)"
   ]
  },
  {
   "cell_type": "code",
   "execution_count": null,
   "id": "00084daf",
   "metadata": {},
   "outputs": [],
   "source": [
    "sscCdi.deploy_visualizer(equalized_sinogram,title=\"Equalized sinogram\",cmap='gray')"
   ]
  },
  {
   "cell_type": "code",
   "execution_count": null,
   "id": "7c682dbe",
   "metadata": {},
   "outputs": [],
   "source": [
    "sscCdi.deploy_visualizer(equalized_sinogram,title=\"Equalized sinogram\",cmap='gray',axis=1,aspect_ratio='auto')"
   ]
  },
  {
   "cell_type": "markdown",
   "id": "1ff5ab46",
   "metadata": {},
   "source": [
    "## Rotation axis adjustment"
   ]
  },
  {
   "cell_type": "code",
   "execution_count": null,
   "id": "4a3fe1eb",
   "metadata": {},
   "outputs": [],
   "source": [
    "slice_to_reconstruct = 100 # select which slice in the vertical direction to reconstruct\n",
    "sinogram = equalized_sinogram\n",
    "\n",
    "displacements = np.linspace(-20,20,41,dtype=int) # select list of displacement values to evaluate\n",
    "print(\"Displacements: \",displacements)"
   ]
  },
  {
   "cell_type": "code",
   "execution_count": null,
   "id": "23463edf",
   "metadata": {},
   "outputs": [],
   "source": [
    "dic[\"algorithm_dic\"] = { # if FBP: filtered back-projection\n",
    "    'algorithm': \"FBP\",\n",
    "    'gpu': [0],\n",
    "    'filter': 'lorentz', # 'gaussian','lorentz','cosine','rectangle'\n",
    "    'angles': angles[:,1]*np.pi/180,\n",
    "    'paganin regularization': 0, # 0 <= regularization <= 1; use for smoothening\n",
    "}\n",
    "\n",
    "biggest_side = np.max(sinogram[0].shape)\n",
    "tomos = np.empty((len(displacements),biggest_side,biggest_side))\n",
    "\n",
    "for i, dx in enumerate(displacements):\n",
    "    shifted_sino = np.roll(sinogram[:,slice_to_reconstruct,:],shift=dx,axis=1)\n",
    "    tomo = sscRaft.fbp(shifted_sino, dic[\"algorithm_dic\"])\n",
    "    tomos[i] = tomo"
   ]
  },
  {
   "cell_type": "code",
   "execution_count": null,
   "id": "1a65e3a7-9cec-41bb-8470-58dfba89f1a7",
   "metadata": {},
   "outputs": [],
   "source": [
    "chosen_dx = displacements[23] # select which displacement to use\n",
    "sinogram_adjusted_axis = np.roll(sinogram,shift=chosen_dx,axis=2)\n",
    "                 \n",
    "sscCdi.misc.deploy_visualizer(tomos,type='real',title='',cmap='gray',axis=0)"
   ]
  },
  {
   "cell_type": "markdown",
   "id": "47394e57",
   "metadata": {},
   "source": [
    "## Alignment (Iterative Reprojection) "
   ]
  },
  {
   "cell_type": "code",
   "execution_count": null,
   "id": "a3fb15cc",
   "metadata": {},
   "outputs": [],
   "source": [
    "dic[\"algorithm_dic\"] = { # if FBP: filtered back-projection\n",
    "    'angles': angles[:,1]*np.pi/180,\n",
    "    'algorithm': \"FBP\",\n",
    "    'gpu': [0],\n",
    "    'filter': 'lorentz', # 'gaussian','lorentz','cosine','rectangle'\n",
    "    'paganin regularization': 0.1, # 0 <= regularization <= 1; use for smoothening\n",
    "}\n",
    "\n",
    "aligned_tomo, sinogram, cumulative_shifts = sscRaft.iterative_reprojection(equalized_sinogram,dic, max_iterations=3, downsampling=2,plot=True,find_shift_method='correlation_parallel',apply_shift_method='scipy',tomo_method='raft',radon_method='raft',n_cpus=32)"
   ]
  }
 ],
 "metadata": {
  "kernelspec": {
   "display_name": "Python 3 (ipykernel)",
   "language": "python",
   "name": "python3"
  },
  "language_info": {
   "codemirror_mode": {
    "name": "ipython",
    "version": 3
   },
   "file_extension": ".py",
   "mimetype": "text/x-python",
   "name": "python",
   "nbconvert_exporter": "python",
   "pygments_lexer": "ipython3",
   "version": "3.9.2"
  }
 },
 "nbformat": 4,
 "nbformat_minor": 5
}
