{
 "cells": [
  {
   "cell_type": "markdown",
   "id": "7064ab3c-e983-4802-92be-4abfdb34397f",
   "metadata": {},
   "source": [
    "# GCC's ssc-cdi : tomography pipeline for Cateretê v0.1\n",
    " \n",
    "- #### Questions? E-mail gcc@lnls.br\n",
    "- #### Documentation about the ssc-cdi package: https://gcc.lnls.br/wiki/\n",
    "- #### To use a test sample:\n",
    "    - dic[\"sinogram_path\"] = \"/ibira/lnls/beamlines/caterete/apps/gcc-jupyter/00000000/proc/recons/glass24/2023-05-12-15h19m_glass24.hdf5\""
   ]
  },
  {
   "cell_type": "code",
   "execution_count": null,
   "id": "a00cbb78-489d-4a10-9411-b3b788d2caa8",
   "metadata": {},
   "outputs": [],
   "source": [
    "import sscInstall, os\n",
    "server = sscInstall.connect_server()\n",
    "sscInstall.install_jupyter(server,beamline='caterete',sscCdi='0.4.16',sscPtycho='2.1.1',sscPimega='0.5.3',sscRaft='2.0.1',sscRadon='1.0.0',sscResolution='1.2.3'), os._exit(00) # shutdown kernel. Required to import new installed packages"
   ]
  },
  {
   "cell_type": "markdown",
   "id": "e6a6ae0d-1e74-4ce8-811b-d325d1dec033",
   "metadata": {},
   "source": [
    "## Imports"
   ]
  },
  {
   "cell_type": "code",
   "execution_count": 1,
   "id": "e5c1f553-619a-44a5-a2a6-8375d800512c",
   "metadata": {
    "tags": []
   },
   "outputs": [],
   "source": [
    "%matplotlib widget\n",
    "import numpy as np, matplotlib.pyplot as plt\n",
    "from sscCdi import read_data, define_paths, tomo_sort, tomo_crop, tomo_unwrap, tomo_equalize, preview_angle_projection, tomo_alignment, tomo_recon, tomo_equalize3D, deploy_visualizer, plot_histograms, clean_pwcdi_dataset"
   ]
  },
  {
   "cell_type": "markdown",
   "id": "1dba28bf-7b8c-4698-8402-8371c2ac5fad",
   "metadata": {},
   "source": [
    "## Load dictionary"
   ]
  },
  {
   "cell_type": "code",
   "execution_count": 2,
   "id": "4bd08a4b-0b64-45a8-ac11-d4e94c5b9ae4",
   "metadata": {
    "tags": []
   },
   "outputs": [],
   "source": [
    "dic = {} # or load from template file"
   ]
  },
  {
   "cell_type": "markdown",
   "id": "4235f590-bfb4-4d0e-96d3-38e503aa9d46",
   "metadata": {},
   "source": [
    "## Load data"
   ]
  },
  {
   "cell_type": "code",
   "execution_count": 3,
   "id": "f42ae0db-799b-40ff-8c93-e4c1dc1aee55",
   "metadata": {
    "tags": []
   },
   "outputs": [
    {
     "name": "stdout",
     "output_type": "stream",
     "text": [
      "Object shape = (60, 3481, 3481) \t Number of angles: (60, 2)\n"
     ]
    }
   ],
   "source": [
    "dic[\"recon_method\"]  = \"ptycho\" # ptycho or pwcdi\n",
    "dic[\"contrast_type\"] = \"phase\" # phase or magnitude\n",
    "dic[\"sinogram_path\"] = \"/ibira/lnls/labs/tepui/home/yuri.tonin/00000000/proc/recons/glass24/2023-05-12-15h19m_glass24.hdf5\"\n",
    "dic = define_paths(dic)\n",
    "\n",
    "obj, angles = read_data(dic)\n",
    "print(f\"Object shape = {obj.shape} \\t Number of angles: {angles.shape}\")"
   ]
  },
  {
   "cell_type": "code",
   "execution_count": 4,
   "id": "3f733ad1-223e-418e-a140-2e3a57ed6963",
   "metadata": {
    "tags": []
   },
   "outputs": [
    {
     "data": {
      "application/vnd.jupyter.widget-view+json": {
       "model_id": "972cb7d37f7c4af9880471628d046bed",
       "version_major": 2,
       "version_minor": 0
      },
      "text/plain": [
       "VBox(children=(IntSlider(value=30, description='Slice', layout=Layout(width='25%'), max=59), Output()))"
      ]
     },
     "metadata": {},
     "output_type": "display_data"
    }
   ],
   "source": [
    "deploy_visualizer(obj,title='Original sinogram',cmap='gray')"
   ]
  },
  {
   "cell_type": "code",
   "execution_count": 5,
   "id": "932d1fb9-4a25-4cb9-9166-14de1754c051",
   "metadata": {
    "tags": []
   },
   "outputs": [
    {
     "data": {
      "application/vnd.jupyter.widget-view+json": {
       "model_id": "d881e23b6db74d48aa58e03b2fdeff3c",
       "version_major": 2,
       "version_minor": 0
      },
      "text/plain": [
       "VBox(children=(IntSlider(value=30, description='Slice', layout=Layout(width='25%'), max=59), Output()))"
      ]
     },
     "metadata": {},
     "output_type": "display_data"
    }
   ],
   "source": [
    "crop = obj[:,1600:-1400,1400:-1500]\n",
    "deploy_visualizer(crop,title='Original sinogram',cmap='gray')"
   ]
  },
  {
   "cell_type": "markdown",
   "id": "313af51e-3b3a-437e-8d35-2921b8c148f7",
   "metadata": {},
   "source": [
    "## Sort data"
   ]
  },
  {
   "cell_type": "code",
   "execution_count": 6,
   "id": "a0237899-1c0b-4071-9e59-7a6a034e36c4",
   "metadata": {
    "tags": []
   },
   "outputs": [
    {
     "name": "stdout",
     "output_type": "stream",
     "text": [
      "Time elapsed: 2.55 s\n"
     ]
    }
   ],
   "source": [
    "tomo_sort(dic,obj, angles)"
   ]
  },
  {
   "cell_type": "code",
   "execution_count": 7,
   "id": "a321be80-1b27-4dd0-8d26-b60eca7d3eef",
   "metadata": {
    "tags": []
   },
   "outputs": [
    {
     "data": {
      "application/vnd.jupyter.widget-view+json": {
       "model_id": "535ebcf799ee488187b9e32bc0f8b882",
       "version_major": 2,
       "version_minor": 0
      },
      "text/plain": [
       "VBox(children=(IntSlider(value=30, description='Slice', layout=Layout(width='25%'), max=59), Output()))"
      ]
     },
     "metadata": {},
     "output_type": "display_data"
    }
   ],
   "source": [
    "deploy_visualizer(np.load(dic[\"ordered_object_filepath\"]),title=\"Ordered sinogram\",cmap='gray')"
   ]
  },
  {
   "cell_type": "markdown",
   "id": "f1872b10-8413-40c9-aa6a-e4b24519e0ff",
   "metadata": {},
   "source": [
    "## Crop"
   ]
  },
  {
   "cell_type": "code",
   "execution_count": 8,
   "id": "4ae4e81a-60cc-4607-b8d0-9b360f394262",
   "metadata": {
    "tags": []
   },
   "outputs": [
    {
     "name": "stdout",
     "output_type": "stream",
     "text": [
      "Cropped sinogram shape: (60, 581, 681)\n",
      "Time elapsed: 1.12 s\n"
     ]
    }
   ],
   "source": [
    "dic[\"top_crop\"]    = 1500\n",
    "dic[\"bottom_crop\"] = 1400\n",
    "dic[\"left_crop\"]   = 1400\n",
    "dic[\"right_crop\"]  = 1400\n",
    "tomo_crop(dic)"
   ]
  },
  {
   "cell_type": "code",
   "execution_count": 9,
   "id": "f803373c-2f61-49cc-8367-8781c46f0b0d",
   "metadata": {
    "tags": []
   },
   "outputs": [
    {
     "data": {
      "application/vnd.jupyter.widget-view+json": {
       "model_id": "249cb7d798ca4e00a08b54332551c526",
       "version_major": 2,
       "version_minor": 0
      },
      "text/plain": [
       "VBox(children=(IntSlider(value=30, description='Slice', layout=Layout(width='25%'), max=59), Output()))"
      ]
     },
     "metadata": {},
     "output_type": "display_data"
    }
   ],
   "source": [
    "deploy_visualizer(np.load(dic[\"cropped_sinogram_filepath\"]),title=\"Cropped sinogram\",cmap='gray')"
   ]
  },
  {
   "cell_type": "markdown",
   "id": "be51fc09-8a80-40c4-bc14-884df2dc131a",
   "metadata": {},
   "source": [
    "## Unwrap"
   ]
  },
  {
   "cell_type": "code",
   "execution_count": 10,
   "id": "8dc03942-a961-4bf7-bb84-c9823429fc13",
   "metadata": {
    "tags": []
   },
   "outputs": [
    {
     "name": "stdout",
     "output_type": "stream",
     "text": [
      "Using 32 parallel processes\n"
     ]
    },
    {
     "name": "stderr",
     "output_type": "stream",
     "text": [
      "100%|████████████████████████████████████████████████████████████████████████████████████████████████████| 60/60 [00:00<00:00, 125.60it/s]"
     ]
    },
    {
     "name": "stdout",
     "output_type": "stream",
     "text": [
      "Time elapsed: 1.70 s\n"
     ]
    },
    {
     "name": "stderr",
     "output_type": "stream",
     "text": [
      "\n"
     ]
    }
   ],
   "source": [
    "dic[\"bad_frames_before_unwrap\"] = []\n",
    "tomo_unwrap(dic)"
   ]
  },
  {
   "cell_type": "code",
   "execution_count": 11,
   "id": "de1862c6-5d2e-4fc5-83da-01fa06ad21c0",
   "metadata": {
    "tags": []
   },
   "outputs": [
    {
     "data": {
      "application/vnd.jupyter.widget-view+json": {
       "model_id": "e4360fa19dbf4ac482944a619e66ef3e",
       "version_major": 2,
       "version_minor": 0
      },
      "text/plain": [
       "VBox(children=(IntSlider(value=30, description='Slice', layout=Layout(width='25%'), max=59), Output()))"
      ]
     },
     "metadata": {},
     "output_type": "display_data"
    }
   ],
   "source": [
    "deploy_visualizer(np.load(dic[\"unwrapped_sinogram_filepath\"]),title=\"Unwrapped sinogram\",cmap='gray')"
   ]
  },
  {
   "cell_type": "markdown",
   "id": "4766d187-201a-4e04-84bb-87aeafd7ab00",
   "metadata": {},
   "source": [
    "## 2D Equalization"
   ]
  },
  {
   "cell_type": "code",
   "execution_count": 24,
   "id": "623b6caf-2bbf-4cc1-8857-8b8dc204ecf1",
   "metadata": {
    "tags": []
   },
   "outputs": [
    {
     "name": "stdout",
     "output_type": "stream",
     "text": [
      "Sinogram shape to unwrap:  (60, 581, 681)\n",
      "Using 32 parallel processes\n"
     ]
    },
    {
     "name": "stderr",
     "output_type": "stream",
     "text": [
      "100%|███████████████████████████████████████████████████████████████████████████████████████████████████| 60/60 [00:00<00:00, 1386.49it/s]\n"
     ]
    },
    {
     "name": "stdout",
     "output_type": "stream",
     "text": [
      "Min \t Mean-3*sigma \t Mean \t Mean+3*sigma \t Max \n",
      "Old  -1.1115834 -5.272718727588654 0.18058163 5.633881986141205 6.0498953\n",
      "New  -1.4397715 -5.131946235895157 0.37690517 5.885756582021713 6.7427197\n",
      "Time elapsed: 1.00 s\n"
     ]
    }
   ],
   "source": [
    "dic[\"sinogram_to_equalize\"] = 'unwrapped' # cropped or unwrapped\n",
    "dic[\"bad_frames_before_equalization\"] = []\n",
    "dic[\"equalize_gradient\"] = False\n",
    "dic[\"equalize_global_offset\"] = False\n",
    "dic[\"equalize_invert\"] = True\n",
    "dic[\"equalize_local_offset\"] = []\n",
    "dic[\"equalize_outliers\"] = 0\n",
    "\n",
    "tomo_equalize(dic)"
   ]
  },
  {
   "cell_type": "code",
   "execution_count": 25,
   "id": "953159cd-1658-49cc-8996-33ca98dfa5e9",
   "metadata": {
    "tags": []
   },
   "outputs": [
    {
     "data": {
      "application/vnd.jupyter.widget-view+json": {
       "model_id": "16806a683a384335a72857ed3e3735a6",
       "version_major": 2,
       "version_minor": 0
      },
      "text/plain": [
       "VBox(children=(IntSlider(value=30, description='Slice', layout=Layout(width='25%'), max=59), Output()))"
      ]
     },
     "metadata": {},
     "output_type": "display_data"
    }
   ],
   "source": [
    "deploy_visualizer(np.load(dic[\"equalized_sinogram_filepath\"]),title=\"Equalized sinogram\",cmap='gray')"
   ]
  },
  {
   "cell_type": "code",
   "execution_count": 27,
   "id": "9705fd7a-4f55-45cd-9375-a16a2f990f22",
   "metadata": {
    "tags": []
   },
   "outputs": [
    {
     "data": {
      "application/vnd.jupyter.widget-view+json": {
       "model_id": "4db2e6a12d5044e3ab8ef771007164da",
       "version_major": 2,
       "version_minor": 0
      },
      "text/plain": [
       "VBox(children=(IntSlider(value=290, description='Slice', layout=Layout(width='25%'), max=580), Output()))"
      ]
     },
     "metadata": {},
     "output_type": "display_data"
    }
   ],
   "source": [
    "deploy_visualizer(np.load(dic[\"equalized_sinogram_filepath\"]),title=\"Equalized sinogram\",cmap='gray',axis=1,aspect_ratio='auto')#,limits=(0,0.5))"
   ]
  },
  {
   "cell_type": "markdown",
   "id": "ad74754f-54f2-4d34-b1ce-9d683d49a5c4",
   "metadata": {},
   "source": [
    "## Alignment"
   ]
  },
  {
   "cell_type": "code",
   "execution_count": 28,
   "id": "9929518d-5dad-4a83-9571-3af502e1d550",
   "metadata": {
    "tags": []
   },
   "outputs": [
    {
     "name": "stdout",
     "output_type": "stream",
     "text": [
      "Simulating projection of angles to regular grid...\n",
      "Before+after frames added: 75\n",
      "Intermediate null frames : 243\n",
      "                        + -----\n",
      "Total null frames        : 318\n",
      "Frames being used        : 60  of  60\n",
      "                        + -----\n",
      "Projected Angles         : 378\n"
     ]
    }
   ],
   "source": [
    "dic[\"wiggle_sinogram_selection\"] = dic[\"equalized_sinogram_filepath\"]\n",
    "dic[\"step_percentage\"] = 0 # need to project irregular angle steps to a regular grid?\n",
    "preview_angle_projection(dic)"
   ]
  },
  {
   "cell_type": "code",
   "execution_count": 29,
   "id": "dc7c3f89-2ad6-46d1-b07d-a3b122f0eee8",
   "metadata": {},
   "outputs": [
    {
     "name": "stdout",
     "output_type": "stream",
     "text": [
      "ssc-radon: creating 378x581x681 shared arrays (tomogram)\n",
      "ssc-radon: creating 378x581x681 shared arrays (tomogram)\n",
      "\tFinished vertical wiggle. Starting horizontal wiggle...\n",
      "ssc-radon: creating 378x581x681 shared arrays (tomogram)\n",
      "Time elapsed: 8.76 s\n"
     ]
    }
   ],
   "source": [
    "dic[\"CPUs\"] = 32\n",
    "dic[\"bad_frames_before_wiggle\"] = [] \n",
    "dic[\"wiggle_reference_frame\"] = 0\n",
    "dic = tomo_alignment(dic)"
   ]
  },
  {
   "cell_type": "code",
   "execution_count": 30,
   "id": "13606d7f-04bb-40f1-ba8f-db003e6d130c",
   "metadata": {},
   "outputs": [
    {
     "data": {
      "application/vnd.jupyter.widget-view+json": {
       "model_id": "3594704d8c624f62b84d82ff28158f0d",
       "version_major": 2,
       "version_minor": 0
      },
      "text/plain": [
       "VBox(children=(IntSlider(value=290, description='Slice', layout=Layout(width='25%'), max=580), Output()))"
      ]
     },
     "metadata": {},
     "output_type": "display_data"
    }
   ],
   "source": [
    "deploy_visualizer(np.load(dic[\"wiggle_sinogram_filepath\"]),title=\"Aligned sinogram\",cmap='gray',axis=1)"
   ]
  },
  {
   "cell_type": "markdown",
   "id": "8918241b-492b-4e75-adc7-a37c2bf36bf1",
   "metadata": {},
   "source": [
    "## Tomography"
   ]
  },
  {
   "cell_type": "code",
   "execution_count": 31,
   "id": "0f1cf150-bbc8-44cc-a75a-ec908c148b22",
   "metadata": {},
   "outputs": [
    {
     "name": "stdout",
     "output_type": "stream",
     "text": [
      "\tStarting regularization frame by frame...\n",
      "\tRegularization done!\n",
      "Starting tomographic algorithm EEM with 10 iterations\n",
      "EM param: 20 [10, 3, 8] 0.0001 1e-15 eEM 378 [0] 681 581\n",
      "\tApplying wiggle center-of-mass correction to 3D reconstructed slices...\n",
      "ssc-radon: creating 581x681x681 shared arrays (tomogram)\n",
      "\t Tomography done!\n",
      "Saving tomography logfile...\n",
      "\tSaved!\n",
      "Time elapsed: Tomography: 30.581700325012207 s\n"
     ]
    }
   ],
   "source": [
    "dic[\"GPUs\"] = [0]\n",
    "dic[\"tomo_algorithm\"] = \"EEM\"\n",
    "dic[\"tomo_iterations\"] = 10\n",
    "dic[\"tomo_regularization\"] = False\n",
    "dic[\"tomo_regularization_param\"] = 0.001\n",
    "\n",
    "recon3D = tomo_recon(dic)"
   ]
  },
  {
   "cell_type": "code",
   "execution_count": 32,
   "id": "bd2c2829-93c2-4c92-a46c-05e9a5bc2b54",
   "metadata": {
    "tags": []
   },
   "outputs": [
    {
     "data": {
      "application/vnd.jupyter.widget-view+json": {
       "model_id": "ad0ee3bb76a846f999c261dce30f2750",
       "version_major": 2,
       "version_minor": 0
      },
      "text/plain": [
       "VBox(children=(IntSlider(value=290, description='Slice', layout=Layout(width='25%'), max=580), Output()))"
      ]
     },
     "metadata": {},
     "output_type": "display_data"
    }
   ],
   "source": [
    "deploy_visualizer(np.load(dic[\"reconstruction_filepath\"]),title=\"Recon\",cmap='gray',axis=0)#,limits=(-1,1))"
   ]
  },
  {
   "cell_type": "markdown",
   "id": "cb396c3e-04c5-4a9c-9567-8597800a1c37",
   "metadata": {},
   "source": [
    "## 3D Equalization"
   ]
  },
  {
   "cell_type": "code",
   "execution_count": 33,
   "id": "fdcf93bb-5ac6-4767-b0a2-4e2ae3b4303d",
   "metadata": {},
   "outputs": [
    {
     "name": "stdout",
     "output_type": "stream",
     "text": [
      "Time elapsed: 5.77 s\n"
     ]
    }
   ],
   "source": [
    "dic[\"tomo_remove_outliers\"] = 0\n",
    "dic[\"tomo_threshold\"] = 15.0\n",
    "dic[\"tomo_local_offset\"] = []\n",
    "dic[\"tomo_mask\"] = []\n",
    "\n",
    "tomo_equalize3D(dic)"
   ]
  },
  {
   "cell_type": "code",
   "execution_count": 34,
   "id": "cc3d8e5b-b21d-4eaf-84c8-9891659233fc",
   "metadata": {
    "tags": []
   },
   "outputs": [
    {
     "data": {
      "application/vnd.jupyter.widget-view+json": {
       "model_id": "c960c65ada9842c9b83447cedf734faf",
       "version_major": 2,
       "version_minor": 0
      },
      "text/plain": [
       "VBox(children=(IntSlider(value=290, description='Slice', layout=Layout(width='25%'), max=580), Output()))"
      ]
     },
     "metadata": {},
     "output_type": "display_data"
    }
   ],
   "source": [
    "deploy_visualizer(np.load(dic[\"eq_reconstruction_filepath\"]),title=\"Equalized Recon\",cmap='gray',axis=0)"
   ]
  },
  {
   "cell_type": "code",
   "execution_count": 35,
   "id": "c77432ae-61ab-472d-ae03-e653bdeef591",
   "metadata": {
    "tags": []
   },
   "outputs": [
    {
     "name": "stdout",
     "output_type": "stream",
     "text": [
      "Original data statistics:  \n",
      "\tMax = 1.12e+03\n",
      "\t Min = -3.67e+02\n",
      "\t Mean = 2.94e-02\n",
      "\t StdDev = 1.98e-01\n",
      "Thresholded data statistics:  \n",
      "\tMax = 1.50e+01\n",
      "\t Min = -1.50e+01\n",
      "\t Mean = 2.93e-02\n",
      "\t StdDev = 1.04e-01\n"
     ]
    },
    {
     "data": {
      "application/vnd.jupyter.widget-view+json": {
       "model_id": "1bd35876402f4b9ba282c6a7e4ae860a",
       "version_major": 2,
       "version_minor": 0
      },
      "image/png": "[encoded data removed]",
      "text/html": [
       "\n",
       "            <div style=\"display: inline-block;\">\n",
       "                <div class=\"jupyter-widgets widget-label\" style=\"text-align: center;\">\n",
       "                    Figure\n",
       "                </div>\n",
       "                <img src='data:image/png;base64,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' width=1300.0/>\n",
       "            </div>\n",
       "        "
      ],
      "text/plain": [
       "Canvas(header_visible=False, toolbar=Toolbar(toolitems=[('Home', 'Reset original view', 'home', 'home'), ('Bac…"
      ]
     },
     "metadata": {},
     "output_type": "display_data"
    }
   ],
   "source": [
    "equalized_tomogram = np.load(dic[\"eq_reconstruction_filepath\"])\n",
    "plot_histograms(recon3D, equalized_tomogram,bins=300)"
   ]
  },
  {
   "cell_type": "code",
   "execution_count": null,
   "id": "f9c894a8-3730-4c06-b645-8ab005a35684",
   "metadata": {},
   "outputs": [],
   "source": []
  }
 ],
 "metadata": {
  "kernelspec": {
   "display_name": "Python 3",
   "language": "python",
   "name": "python3"
  },
  "language_info": {
   "codemirror_mode": {
    "name": "ipython",
    "version": 3
   },
   "file_extension": ".py",
   "mimetype": "text/x-python",
   "name": "python",
   "nbconvert_exporter": "python",
   "pygments_lexer": "ipython3",
   "version": "3.9.2"
  }
 },
 "nbformat": 4,
 "nbformat_minor": 5
}
