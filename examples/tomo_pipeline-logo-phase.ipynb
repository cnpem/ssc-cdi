{
 "cells": [
  {
   "cell_type": "markdown",
   "id": "7064ab3c-e983-4802-92be-4abfdb34397f",
   "metadata": {},
   "source": [
    "# GCC's ssc-cdi : tomography pipeline for Cateretê v0.1\n",
    " \n",
    "- #### Questions? E-mail gcc@lnls.br\n",
    "- #### Documentation about the ssc-cdi package: https://gcc.lnls.br/wiki/\n",
    "- #### To use a test sample:\n",
    "    - dic[\"sinogram_path\"] = \"/ibira/lnls/beamlines/caterete/apps/gcc-jupyter/00000000/proc/recons/phantom_complex/phantom_complex.hdf5\""
   ]
  },
  {
   "cell_type": "markdown",
   "id": "e6a6ae0d-1e74-4ce8-811b-d325d1dec033",
   "metadata": {},
   "source": [
    "## Imports"
   ]
  },
  {
   "cell_type": "code",
   "execution_count": null,
   "id": "e5c1f553-619a-44a5-a2a6-8375d800512c",
   "metadata": {
    "tags": []
   },
   "outputs": [],
   "source": [
    "%matplotlib widget\n",
    "import numpy as np, matplotlib.pyplot as plt\n",
    "from sscCdi import read_data, define_paths, tomo_sort, tomo_crop, tomo_unwrap, tomo_equalize, preview_angle_projection, tomo_alignment, tomo_recon, tomo_equalize3D, deploy_visualizer, plot_histograms"
   ]
  },
  {
   "cell_type": "markdown",
   "id": "1dba28bf-7b8c-4698-8402-8371c2ac5fad",
   "metadata": {},
   "source": [
    "## Load dictionary"
   ]
  },
  {
   "cell_type": "code",
   "execution_count": null,
   "id": "4bd08a4b-0b64-45a8-ac11-d4e94c5b9ae4",
   "metadata": {
    "tags": []
   },
   "outputs": [],
   "source": [
    "dic = {} # or load from template file"
   ]
  },
  {
   "cell_type": "markdown",
   "id": "4235f590-bfb4-4d0e-96d3-38e503aa9d46",
   "metadata": {},
   "source": [
    "## Load data"
   ]
  },
  {
   "cell_type": "code",
   "execution_count": null,
   "id": "f42ae0db-799b-40ff-8c93-e4c1dc1aee55",
   "metadata": {
    "tags": []
   },
   "outputs": [],
   "source": [
    "dic[\"recon_method\"]  = \"pwcdi\" # ptycho or pwcdi\n",
    "dic[\"contrast_type\"] = \"magnitude\" # phase or magnitude\n",
    "dic[\"sinogram_path\"] = \"/ibira/lnls/labs/tepui/home/yuri.tonin/00000000/data/pwcdi/CAT_logo_2D_frames/logo3Dcdi_0000_restoredtiago_even2_all.npy\"\n",
    "dic[\"angles_path\"]   = \"/ibira/lnls/labs/tepui/home/yuri.tonin/00000000/data/pwcdi/CAT_logo_2D_frames/3Dcdilogo3Dcdi_Ry_positions.txt\"\n",
    "\n",
    "dic = define_paths(dic)\n",
    "\n",
    "obj, angles = read_data(dic)\n",
    "print(f\"Object shape = {obj.shape} \\t Number of angles: {angles.shape}\")"
   ]
  },
  {
   "cell_type": "code",
   "execution_count": null,
   "id": "3f733ad1-223e-418e-a140-2e3a57ed6963",
   "metadata": {
    "tags": []
   },
   "outputs": [],
   "source": [
    "deploy_visualizer(obj,title='Original sinogram',cmap='gray')"
   ]
  },
  {
   "cell_type": "code",
   "execution_count": null,
   "id": "932d1fb9-4a25-4cb9-9166-14de1754c051",
   "metadata": {
    "tags": []
   },
   "outputs": [],
   "source": [
    "crop = obj[:,1600:-1400,1400:-1500]\n",
    "deploy_visualizer(crop,title='Original sinogram',cmap='gray')"
   ]
  },
  {
   "cell_type": "markdown",
   "id": "313af51e-3b3a-437e-8d35-2921b8c148f7",
   "metadata": {},
   "source": [
    "## Sort data"
   ]
  },
  {
   "cell_type": "code",
   "execution_count": null,
   "id": "a0237899-1c0b-4071-9e59-7a6a034e36c4",
   "metadata": {
    "tags": []
   },
   "outputs": [],
   "source": [
    "tomo_sort(dic,obj, angles)"
   ]
  },
  {
   "cell_type": "code",
   "execution_count": null,
   "id": "a321be80-1b27-4dd0-8d26-b60eca7d3eef",
   "metadata": {
    "tags": []
   },
   "outputs": [],
   "source": [
    "deploy_visualizer(np.load(dic[\"ordered_object_filepath\"]),title=\"Ordered sinogram\",cmap='gray')"
   ]
  },
  {
   "cell_type": "markdown",
   "id": "48b69f4c-2d16-4d82-a4f4-f4383fccac29",
   "metadata": {},
   "source": [
    "## Invert data"
   ]
  },
  {
   "cell_type": "code",
   "execution_count": null,
   "id": "20189d88-401a-4ea0-96a3-13657f79b856",
   "metadata": {},
   "outputs": [],
   "source": [
    "inverted_frames = [1,12,20,21,30,32,50,53,55,64,67,72,73,75,76,85,86,87,89,91,95,99,107,108,109,115,116,117,120,121,126,128,129,133,138,141,146,150,151,154,160,164,169,174,175,176,180,185,190,193,195,198,203,211,216,223,228,229,232,235,238,241,245,246,255,258,259,260,267,268,271,272,274,277,279,281,285,288,290,294,298,301,302,310,314,315,320,322,323,324,328,334,336,337,342,344,346,347,348,349,353,354,358,359,363,365,366,368,371,372,375,376,379,380,385,387,388,390,391,392,393,396,401,402,404,408,409,416,418,419,422,427,431,432,433,441,444,445,452,455,459,461,467,473,474,476,481,483,485,487,488,490,491,495,497,498,506,509,513,516,518,520,522]\n",
    "bad_frames = [0,1,4,8,9,10,11,12,15,19,20,21,25,31,32,34,41,42,43,44,50,51,52,53,54,55,56,63,64,65,66,73,74,75,76,84,85,86,94,96,97,98,106,107,108,117,118,119,129,130,138,139,140,150, 159, 160,161,162,171,172,173,177,181,182,183,184,192,194,204,205,215,216,225,226,227,237,248, 249,258,259,268,269,270,271,280,281,290,291,292,301,302,311,312,313,323,333,334,335,344,345,356,357,366,367,377,378,398,399,400,401,410,420,421,422,431,432,437,442,443,453,454,458,461,463,464,465,474,475,476,484,485,486,487,496,497,507,508,509,517,518,519]"
   ]
  },
  {
   "cell_type": "markdown",
   "id": "f1872b10-8413-40c9-aa6a-e4b24519e0ff",
   "metadata": {},
   "source": [
    "## Crop"
   ]
  },
  {
   "cell_type": "code",
   "execution_count": null,
   "id": "4ae4e81a-60cc-4607-b8d0-9b360f394262",
   "metadata": {
    "tags": []
   },
   "outputs": [],
   "source": [
    "dic[\"top_crop\"]    = 1000\n",
    "dic[\"bottom_crop\"] = 1000\n",
    "dic[\"left_crop\"]   = 1000\n",
    "dic[\"right_crop\"]  = 1000\n",
    "tomo_crop(dic)"
   ]
  },
  {
   "cell_type": "code",
   "execution_count": null,
   "id": "f803373c-2f61-49cc-8367-8781c46f0b0d",
   "metadata": {
    "tags": []
   },
   "outputs": [],
   "source": [
    "deploy_visualizer(np.load(dic[\"cropped_sinogram_filepath\"]),title=\"Cropped sinogram\",cmap='gray')"
   ]
  },
  {
   "cell_type": "markdown",
   "id": "be51fc09-8a80-40c4-bc14-884df2dc131a",
   "metadata": {},
   "source": [
    "## Unwrap"
   ]
  },
  {
   "cell_type": "code",
   "execution_count": null,
   "id": "8dc03942-a961-4bf7-bb84-c9823429fc13",
   "metadata": {
    "tags": []
   },
   "outputs": [],
   "source": [
    "dic[\"bad_frames_before_unwrap\"] = []\n",
    "tomo_unwrap(dic)"
   ]
  },
  {
   "cell_type": "code",
   "execution_count": null,
   "id": "de1862c6-5d2e-4fc5-83da-01fa06ad21c0",
   "metadata": {
    "tags": []
   },
   "outputs": [],
   "source": [
    "deploy_visualizer(np.load(dic[\"unwrapped_sinogram_filepath\"]),title=\"Unwrapped sinogram\",cmap='gray')"
   ]
  },
  {
   "cell_type": "markdown",
   "id": "4766d187-201a-4e04-84bb-87aeafd7ab00",
   "metadata": {},
   "source": [
    "## 2D Equalization"
   ]
  },
  {
   "cell_type": "code",
   "execution_count": null,
   "id": "623b6caf-2bbf-4cc1-8857-8b8dc204ecf1",
   "metadata": {
    "tags": []
   },
   "outputs": [],
   "source": [
    "dic[\"sinogram_to_equalize\"] = 'cropped' # cropped or unwrapped\n",
    "dic[\"bad_frames_before_equalization\"] = []\n",
    "dic[\"equalize_gradient\"] = False\n",
    "dic[\"equalize_global_offset\"] = False\n",
    "dic[\"equalize_invert\"] = True\n",
    "dic[\"equalize_local_offset\"] = []\n",
    "dic[\"equalize_outliers\"] = 0\n",
    "\n",
    "tomo_equalize(dic)"
   ]
  },
  {
   "cell_type": "code",
   "execution_count": null,
   "id": "953159cd-1658-49cc-8996-33ca98dfa5e9",
   "metadata": {
    "tags": []
   },
   "outputs": [],
   "source": [
    "deploy_visualizer(np.load(dic[\"equalized_sinogram_filepath\"]),title=\"Equalized sinogram\",cmap='gray')"
   ]
  },
  {
   "cell_type": "code",
   "execution_count": null,
   "id": "57f076c1-ab0c-405d-8c87-7d9827f301ae",
   "metadata": {
    "tags": []
   },
   "outputs": [],
   "source": [
    "deploy_visualizer(np.load(dic[\"equalized_sinogram_filepath\"]),title=\"Equalized sinogram\",cmap='gray',axis=0,aspect_ratio='auto',limits=(0,2))"
   ]
  },
  {
   "cell_type": "code",
   "execution_count": null,
   "id": "9705fd7a-4f55-45cd-9375-a16a2f990f22",
   "metadata": {
    "tags": []
   },
   "outputs": [],
   "source": [
    "deploy_visualizer(np.load(dic[\"equalized_sinogram_filepath\"]),title=\"Equalized sinogram\",cmap='gray',axis=1,aspect_ratio='auto')#,limits=(0,0.5))"
   ]
  },
  {
   "cell_type": "markdown",
   "id": "ad74754f-54f2-4d34-b1ce-9d683d49a5c4",
   "metadata": {},
   "source": [
    "## Alignment"
   ]
  },
  {
   "cell_type": "code",
   "execution_count": null,
   "id": "9929518d-5dad-4a83-9571-3af502e1d550",
   "metadata": {
    "tags": []
   },
   "outputs": [],
   "source": [
    "dic[\"wiggle_sinogram_selection\"] = dic[\"equalized_sinogram_filepath\"]\n",
    "dic[\"step_percentage\"] = 0 # need to project irregular angle steps to a regular grid?\n",
    "preview_angle_projection(dic)"
   ]
  },
  {
   "cell_type": "code",
   "execution_count": null,
   "id": "dc7c3f89-2ad6-46d1-b07d-a3b122f0eee8",
   "metadata": {},
   "outputs": [],
   "source": [
    "dic[\"CPUs\"] = 32\n",
    "dic[\"bad_frames_before_wiggle\"] = [] \n",
    "dic[\"wiggle_reference_frame\"] = 0\n",
    "dic = tomo_alignment(dic)"
   ]
  },
  {
   "cell_type": "code",
   "execution_count": null,
   "id": "13606d7f-04bb-40f1-ba8f-db003e6d130c",
   "metadata": {},
   "outputs": [],
   "source": [
    "deploy_visualizer(np.load(dic[\"wiggle_sinogram_filepath\"]),title=\"Aligned sinogram\",cmap='gray',axis=1)"
   ]
  },
  {
   "cell_type": "markdown",
   "id": "8918241b-492b-4e75-adc7-a37c2bf36bf1",
   "metadata": {},
   "source": [
    "## Tomography"
   ]
  },
  {
   "cell_type": "code",
   "execution_count": null,
   "id": "0f1cf150-bbc8-44cc-a75a-ec908c148b22",
   "metadata": {},
   "outputs": [],
   "source": [
    "dic[\"GPUs\"] = [0]\n",
    "dic[\"tomo_algorithm\"] = \"EEM\"\n",
    "dic[\"tomo_iterations\"] = 10\n",
    "dic[\"tomo_regularization\"] = False\n",
    "dic[\"tomo_regularization_param\"] = 0.001\n",
    "\n",
    "recon3D = tomo_recon(dic)"
   ]
  },
  {
   "cell_type": "code",
   "execution_count": null,
   "id": "bd2c2829-93c2-4c92-a46c-05e9a5bc2b54",
   "metadata": {
    "tags": []
   },
   "outputs": [],
   "source": [
    "deploy_visualizer(np.load(dic[\"reconstruction_filepath\"]),title=\"Recon\",cmap='gray',axis=0)#,limits=(-1,1))"
   ]
  },
  {
   "cell_type": "markdown",
   "id": "cb396c3e-04c5-4a9c-9567-8597800a1c37",
   "metadata": {},
   "source": [
    "## 3D Equalization"
   ]
  },
  {
   "cell_type": "code",
   "execution_count": null,
   "id": "fdcf93bb-5ac6-4767-b0a2-4e2ae3b4303d",
   "metadata": {},
   "outputs": [],
   "source": [
    "dic[\"tomo_remove_outliers\"] = 0\n",
    "dic[\"tomo_threshold\"] = 15.0\n",
    "dic[\"tomo_local_offset\"] = []\n",
    "dic[\"tomo_mask\"] = []\n",
    "\n",
    "tomo_equalize3D(dic)"
   ]
  },
  {
   "cell_type": "code",
   "execution_count": null,
   "id": "cc3d8e5b-b21d-4eaf-84c8-9891659233fc",
   "metadata": {
    "tags": []
   },
   "outputs": [],
   "source": [
    "deploy_visualizer(np.load(dic[\"eq_reconstruction_filepath\"]),title=\"Equalized Recon\",cmap='gray',axis=0,limits)"
   ]
  },
  {
   "cell_type": "code",
   "execution_count": null,
   "id": "c77432ae-61ab-472d-ae03-e653bdeef591",
   "metadata": {
    "tags": []
   },
   "outputs": [],
   "source": [
    "equalized_tomogram = np.load(dic[\"eq_reconstruction_filepath\"])\n",
    "plot_histograms(recon3D, equalized_tomogram,bins=300)"
   ]
  },
  {
   "cell_type": "code",
   "execution_count": null,
   "id": "f9c894a8-3730-4c06-b645-8ab005a35684",
   "metadata": {},
   "outputs": [],
   "source": []
  }
 ],
 "metadata": {
  "kernelspec": {
   "display_name": "Python 3",
   "language": "python",
   "name": "python3"
  },
  "language_info": {
   "codemirror_mode": {
    "name": "ipython",
    "version": 3
   },
   "file_extension": ".py",
   "mimetype": "text/x-python",
   "name": "python",
   "nbconvert_exporter": "python",
   "pygments_lexer": "ipython3",
   "version": "3.9.2"
  }
 },
 "nbformat": 4,
 "nbformat_minor": 5
}
