{
 "cells": [
  {
   "cell_type": "code",
   "execution_count": null,
   "id": "516e6342-31cc-483e-9914-5f0e9656403f",
   "metadata": {},
   "outputs": [],
   "source": []
  },
  {
   "cell_type": "code",
   "execution_count": null,
   "id": "f8523bfe-6176-4ded-a8d3-a35dc961bc8b",
   "metadata": {},
   "outputs": [],
   "source": []
  },
  {
   "cell_type": "markdown",
   "id": "1dba28bf-7b8c-4698-8402-8371c2ac5fad",
   "metadata": {},
   "source": [
    "## Load dictionary"
   ]
  },
  {
   "cell_type": "code",
   "execution_count": 1,
   "id": "4bd08a4b-0b64-45a8-ac11-d4e94c5b9ae4",
   "metadata": {
    "tags": []
   },
   "outputs": [
    {
     "data": {
      "text/plain": [
       "{}"
      ]
     },
     "execution_count": 1,
     "metadata": {},
     "output_type": "execute_result"
    }
   ],
   "source": [
    "dic = {} # or load from template file\n",
    "dic"
   ]
  },
  {
   "cell_type": "markdown",
   "id": "4235f590-bfb4-4d0e-96d3-38e503aa9d46",
   "metadata": {},
   "source": [
    "## Load data"
   ]
  },
  {
   "cell_type": "code",
   "execution_count": null,
   "id": "f42ae0db-799b-40ff-8c93-e4c1dc1aee55",
   "metadata": {},
   "outputs": [],
   "source": [
    "dic[\"sinogram_path\"] = \"\"\n",
    "dic[\"recon_method\"]  = \"\"\n",
    "object, angles, dic = read_data(dic[\"sinogram_path\"],dic[\"recon_method\"])"
   ]
  },
  {
   "cell_type": "markdown",
   "id": "1d5b677d-5c72-4625-b3d3-d78c487289cc",
   "metadata": {},
   "source": [
    "## Select contrast"
   ]
  },
  {
   "cell_type": "code",
   "execution_count": null,
   "id": "c6171a65-07ed-418d-9562-6a5597d29621",
   "metadata": {},
   "outputs": [],
   "source": [
    "dic[\"contrast_type\"] = \"phase\" \n",
    "object = select_contrast(dic)"
   ]
  },
  {
   "cell_type": "markdown",
   "id": "313af51e-3b3a-437e-8d35-2921b8c148f7",
   "metadata": {},
   "source": [
    "## Sort data"
   ]
  },
  {
   "cell_type": "code",
   "execution_count": null,
   "id": "a0237899-1c0b-4071-9e59-7a6a034e36c4",
   "metadata": {},
   "outputs": [],
   "source": [
    "dic = tomo_sort(dic,object, angles)"
   ]
  },
  {
   "cell_type": "markdown",
   "id": "f1872b10-8413-40c9-aa6a-e4b24519e0ff",
   "metadata": {},
   "source": [
    "## Cropping"
   ]
  },
  {
   "cell_type": "code",
   "execution_count": null,
   "id": "4ae4e81a-60cc-4607-b8d0-9b360f394262",
   "metadata": {},
   "outputs": [],
   "source": [
    "dic[\"top_crop\"]    = 707\n",
    "dic[\"bottom_crop\"] = 627\n",
    "dic[\"left_crop\"]   = 644\n",
    "dic[\"right_crop\"]  = 626\n",
    "dic = tomo_crop(dic)"
   ]
  },
  {
   "cell_type": "markdown",
   "id": "be51fc09-8a80-40c4-bc14-884df2dc131a",
   "metadata": {},
   "source": [
    "## Unwrapping"
   ]
  },
  {
   "cell_type": "code",
   "execution_count": null,
   "id": "8dc03942-a961-4bf7-bb84-c9823429fc13",
   "metadata": {},
   "outputs": [],
   "source": [
    "dic[\"bad_frames_before_unwrap\"] = []\n",
    "dic[\"unwrap_gradient_removal\"] = false\n",
    "dic[\"unwrap_iterations\"] = 0\n",
    "dic[\"unwrap_non_negativity\"] = false\n",
    "dic = tomo_unwrap(dic)"
   ]
  },
  {
   "cell_type": "markdown",
   "id": "4766d187-201a-4e04-84bb-87aeafd7ab00",
   "metadata": {},
   "source": [
    "## 2D Equalization"
   ]
  },
  {
   "cell_type": "code",
   "execution_count": null,
   "id": "623b6caf-2bbf-4cc1-8857-8b8dc204ecf1",
   "metadata": {},
   "outputs": [],
   "source": [
    "dic[\"bad_frames_before_equalization\"] = []\n",
    "dic[\"equalize_gradient\"] = 0\n",
    "dic[\"equalize_global_offset\"] = True\n",
    "dic[\"equalize_invert\"] = True\n",
    "dic[\"equalize_local_offset\"] = [ 150,  250,    150,   250 ]\n",
    "dic[\"equalize_outliers\"] = 0\n",
    "\n",
    "dic = tomo_equalize(dic)"
   ]
  },
  {
   "cell_type": "markdown",
   "id": "ad74754f-54f2-4d34-b1ce-9d683d49a5c4",
   "metadata": {},
   "source": [
    "## Alignment"
   ]
  },
  {
   "cell_type": "code",
   "execution_count": null,
   "id": "dc7c3f89-2ad6-46d1-b07d-a3b122f0eee8",
   "metadata": {},
   "outputs": [],
   "source": [
    "dic[\"bad_frames_before_wiggle\"] = [  0,  1,   2 ]\n",
    "dic[\"wiggle_ctr_of_mas\"] =  []\n",
    "dic[\"wiggle_reference_frame\"] = 152\n",
    "dic[\"wiggle_sinogram_selection\"] = \"equalized\"\n",
    "\n",
    "dic = tomo_alignment(dic)"
   ]
  },
  {
   "cell_type": "markdown",
   "id": "8918241b-492b-4e75-adc7-a37c2bf36bf1",
   "metadata": {},
   "source": [
    "## Tomography"
   ]
  },
  {
   "cell_type": "code",
   "execution_count": null,
   "id": "0f1cf150-bbc8-44cc-a75a-ec908c148b22",
   "metadata": {},
   "outputs": [],
   "source": [
    "dic[\"tomo_algorithm\"] = \"EEM\"\n",
    "dic[\"tomo_iterations\"] = 40\n",
    "dic[\"tomo_regularization\"] = False\n",
    "dic[\"tomo_regularization_param\"] = 0.001\n",
    "\n",
    "\n",
    "dic = tomo_recon(dic)"
   ]
  },
  {
   "cell_type": "markdown",
   "id": "cb396c3e-04c5-4a9c-9567-8597800a1c37",
   "metadata": {},
   "source": [
    "## 3D Equalization"
   ]
  },
  {
   "cell_type": "code",
   "execution_count": null,
   "id": "fdcf93bb-5ac6-4767-b0a2-4e2ae3b4303d",
   "metadata": {},
   "outputs": [],
   "source": [
    "dic[\"tomo_remove_outliers\"] = 0\n",
    "dic[\"tomo_threshold\"] = 10.0\n",
    "dic[\"tomo_local_offset\"] = []\n",
    "dic[\"tomo_mask\"] = []\n",
    "\n",
    "dic = tomo_equalize3D(dic)"
   ]
  }
 ],
 "metadata": {
  "kernelspec": {
   "display_name": "Python 3 (ipykernel)",
   "language": "python",
   "name": "python3"
  },
  "language_info": {
   "codemirror_mode": {
    "name": "ipython",
    "version": 3
   },
   "file_extension": ".py",
   "mimetype": "text/x-python",
   "name": "python",
   "nbconvert_exporter": "python",
   "pygments_lexer": "ipython3",
   "version": "3.9.2"
  }
 },
 "nbformat": 4,
 "nbformat_minor": 5
}
