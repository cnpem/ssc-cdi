{
 "cells": [
  {
   "cell_type": "markdown",
   "id": "7064ab3c-e983-4802-92be-4abfdb34397f",
   "metadata": {},
   "source": [
    "# GCC's ssc-cdi : tomography pipeline for Cateretê v0.1\n",
    " \n",
    "- #### Questions? E-mail gcc@lnls.br\n",
    "- #### Documentation about the ssc-cdi package: https://gcc.lnls.br/wiki/\n",
    "- #### To use a test sample:\n",
    "    - dic[\"sinogram_path\"] = \"/ibira/lnls/beamlines/caterete/apps/gcc-jupyter/00000000/proc/recons/phantom_complex/phantom_complex.hdf5\""
   ]
  },
  {
   "cell_type": "markdown",
   "id": "e6a6ae0d-1e74-4ce8-811b-d325d1dec033",
   "metadata": {},
   "source": [
    "## Imports"
   ]
  },
  {
   "cell_type": "code",
   "execution_count": 1,
   "id": "e5c1f553-619a-44a5-a2a6-8375d800512c",
   "metadata": {
    "tags": []
   },
   "outputs": [],
   "source": [
    "%matplotlib widget\n",
    "import numpy as np, matplotlib.pyplot as plt\n",
    "from sscCdi import read_data, define_paths, tomo_sort, tomo_crop, tomo_unwrap, tomo_equalize, preview_angle_projection, tomo_alignment, tomo_recon, tomo_equalize3D, deploy_visualizer"
   ]
  },
  {
   "cell_type": "markdown",
   "id": "1dba28bf-7b8c-4698-8402-8371c2ac5fad",
   "metadata": {},
   "source": [
    "## Load dictionary"
   ]
  },
  {
   "cell_type": "code",
   "execution_count": 2,
   "id": "4bd08a4b-0b64-45a8-ac11-d4e94c5b9ae4",
   "metadata": {
    "tags": []
   },
   "outputs": [],
   "source": [
    "dic = {} # or load from template file"
   ]
  },
  {
   "cell_type": "markdown",
   "id": "4235f590-bfb4-4d0e-96d3-38e503aa9d46",
   "metadata": {},
   "source": [
    "## Load data"
   ]
  },
  {
   "cell_type": "code",
   "execution_count": 4,
   "id": "f42ae0db-799b-40ff-8c93-e4c1dc1aee55",
   "metadata": {
    "tags": []
   },
   "outputs": [
    {
     "name": "stdout",
     "output_type": "stream",
     "text": [
      "Object shape = (60, 3481, 3481) \t Number of angles: (60, 2)\n"
     ]
    }
   ],
   "source": [
    "dic[\"recon_method\"]  = \"ptycho\" # ptycho or pwcdi\n",
    "dic[\"contrast_type\"] = \"phase\" # phase or magnitude\n",
    "dic[\"sinogram_path\"] = \"/ibira/lnls/labs/tepui/home/yuri.tonin/00000000/proc/recons/glass24/2023-05-12-15h19m_glass24.hdf5\"\n",
    "\n",
    "dic = define_paths(dic)\n",
    "obj, angles = read_data(dic)\n",
    "print(f\"Object shape = {obj.shape} \\t Number of angles: {angles.shape}\")"
   ]
  },
  {
   "cell_type": "code",
   "execution_count": 4,
   "id": "3f733ad1-223e-418e-a140-2e3a57ed6963",
   "metadata": {
    "tags": []
   },
   "outputs": [
    {
     "data": {
      "application/vnd.jupyter.widget-view+json": {
       "model_id": "4ca619136c3a47d5b98afad7e8c4a3a1",
       "version_major": 2,
       "version_minor": 0
      },
      "text/plain": [
       "VBox(children=(IntSlider(value=30, description='Slice', layout=Layout(width='25%'), max=59), Output()))"
      ]
     },
     "metadata": {},
     "output_type": "display_data"
    }
   ],
   "source": [
    "deploy_visualizer(obj,title='Original sinogram',cmap='gray')"
   ]
  },
  {
   "cell_type": "code",
   "execution_count": 5,
   "id": "932d1fb9-4a25-4cb9-9166-14de1754c051",
   "metadata": {
    "tags": []
   },
   "outputs": [
    {
     "data": {
      "application/vnd.jupyter.widget-view+json": {
       "model_id": "6504dd0a0bd04663a3becc64faeb0217",
       "version_major": 2,
       "version_minor": 0
      },
      "text/plain": [
       "VBox(children=(IntSlider(value=30, description='Slice', layout=Layout(width='25%'), max=59), Output()))"
      ]
     },
     "metadata": {},
     "output_type": "display_data"
    }
   ],
   "source": [
    "crop = obj[:,1600:-1400,1400:-1500]\n",
    "deploy_visualizer(crop,title='Original sinogram',cmap='gray')"
   ]
  },
  {
   "cell_type": "markdown",
   "id": "313af51e-3b3a-437e-8d35-2921b8c148f7",
   "metadata": {},
   "source": [
    "## Sort data"
   ]
  },
  {
   "cell_type": "code",
   "execution_count": null,
   "id": "a0237899-1c0b-4071-9e59-7a6a034e36c4",
   "metadata": {
    "tags": []
   },
   "outputs": [],
   "source": [
    "tomo_sort(dic,obj, angles)"
   ]
  },
  {
   "cell_type": "code",
   "execution_count": 8,
   "id": "a321be80-1b27-4dd0-8d26-b60eca7d3eef",
   "metadata": {
    "tags": []
   },
   "outputs": [
    {
     "data": {
      "application/vnd.jupyter.widget-view+json": {
       "model_id": "95cbd6efc8584e1792829551f1ddcd57",
       "version_major": 2,
       "version_minor": 0
      },
      "text/plain": [
       "VBox(children=(IntSlider(value=30, description='Slice', layout=Layout(width='25%'), max=59), Output()))"
      ]
     },
     "metadata": {},
     "output_type": "display_data"
    }
   ],
   "source": [
    "deploy_visualizer(np.load(dic[\"ordered_object_filepath\"]),title=\"Ordered sinogram\",cmap='gray')"
   ]
  },
  {
   "cell_type": "markdown",
   "id": "f1872b10-8413-40c9-aa6a-e4b24519e0ff",
   "metadata": {},
   "source": [
    "## Crop"
   ]
  },
  {
   "cell_type": "code",
   "execution_count": 9,
   "id": "4ae4e81a-60cc-4607-b8d0-9b360f394262",
   "metadata": {
    "tags": []
   },
   "outputs": [
    {
     "name": "stdout",
     "output_type": "stream",
     "text": [
      "Cropped sinogram shape: (60, 481, 581)\n",
      "Time elapsed: 1.14 s\n"
     ]
    }
   ],
   "source": [
    "dic[\"top_crop\"]    = 1600\n",
    "dic[\"bottom_crop\"] = 1400\n",
    "dic[\"left_crop\"]   = 1400\n",
    "dic[\"right_crop\"]  = 1500\n",
    "tomo_crop(dic)"
   ]
  },
  {
   "cell_type": "code",
   "execution_count": 10,
   "id": "f803373c-2f61-49cc-8367-8781c46f0b0d",
   "metadata": {
    "tags": []
   },
   "outputs": [
    {
     "data": {
      "application/vnd.jupyter.widget-view+json": {
       "model_id": "01bb5e6fb59d44409d61b2e01f84d0f1",
       "version_major": 2,
       "version_minor": 0
      },
      "text/plain": [
       "VBox(children=(IntSlider(value=30, description='Slice', layout=Layout(width='25%'), max=59), Output()))"
      ]
     },
     "metadata": {},
     "output_type": "display_data"
    }
   ],
   "source": [
    "deploy_visualizer(np.load(dic[\"cropped_sinogram_filepath\"]),title=\"Cropped sinogram\",cmap='gray')"
   ]
  },
  {
   "cell_type": "markdown",
   "id": "be51fc09-8a80-40c4-bc14-884df2dc131a",
   "metadata": {},
   "source": [
    "## Unwrap"
   ]
  },
  {
   "cell_type": "code",
   "execution_count": 13,
   "id": "8dc03942-a961-4bf7-bb84-c9823429fc13",
   "metadata": {
    "tags": []
   },
   "outputs": [
    {
     "name": "stdout",
     "output_type": "stream",
     "text": [
      "Using 32 parallel processes\n"
     ]
    },
    {
     "name": "stderr",
     "output_type": "stream",
     "text": [
      "100%|████████████████████████████████████████████████████████████████████████████████████████████████████████████████| 60/60 [00:00<00:00, 146.80it/s]\n"
     ]
    },
    {
     "name": "stdout",
     "output_type": "stream",
     "text": [
      "Time elapsed: 4.32 s\n"
     ]
    }
   ],
   "source": [
    "dic[\"bad_frames_before_unwrap\"] = []\n",
    "tomo_unwrap(dic)"
   ]
  },
  {
   "cell_type": "code",
   "execution_count": 14,
   "id": "de1862c6-5d2e-4fc5-83da-01fa06ad21c0",
   "metadata": {
    "tags": []
   },
   "outputs": [
    {
     "data": {
      "application/vnd.jupyter.widget-view+json": {
       "model_id": "d23fd409e58048ab92ed4b1e8a0b76d5",
       "version_major": 2,
       "version_minor": 0
      },
      "text/plain": [
       "VBox(children=(IntSlider(value=30, description='Slice', layout=Layout(width='25%'), max=59), Output()))"
      ]
     },
     "metadata": {},
     "output_type": "display_data"
    }
   ],
   "source": [
    "deploy_visualizer(np.load(dic[\"unwrapped_sinogram_filepath\"]),title=\"Unwrapped sinogram\",cmap='gray')"
   ]
  },
  {
   "cell_type": "markdown",
   "id": "4766d187-201a-4e04-84bb-87aeafd7ab00",
   "metadata": {},
   "source": [
    "## 2D Equalization"
   ]
  },
  {
   "cell_type": "code",
   "execution_count": 15,
   "id": "623b6caf-2bbf-4cc1-8857-8b8dc204ecf1",
   "metadata": {
    "tags": []
   },
   "outputs": [
    {
     "name": "stdout",
     "output_type": "stream",
     "text": [
      "Sinogram shape to unwrap:  (60, 481, 581)\n",
      "Using 32 parallel processes\n"
     ]
    },
    {
     "name": "stderr",
     "output_type": "stream",
     "text": [
      "100%|███████████████████████████████████████████████████████████████████████████████████████████████████████████████| 60/60 [00:00<00:00, 2083.07it/s]\n"
     ]
    },
    {
     "name": "stdout",
     "output_type": "stream",
     "text": [
      "Min \t Mean-3*sigma \t Mean \t Mean+3*sigma \t Max \n",
      "Old  0.0 -4.760403752326965 1.3935772 7.5475581884384155 6.892859\n",
      "New  0.0 -4.844692945480347 1.202848 7.250388860702515 7.22563\n",
      "Time elapsed: 0.64 s\n"
     ]
    }
   ],
   "source": [
    "dic[\"bad_frames_before_equalization\"] = []\n",
    "dic[\"equalize_gradient\"] = 0\n",
    "dic[\"equalize_global_offset\"] = False\n",
    "dic[\"equalize_invert\"] = True\n",
    "dic[\"equalize_local_offset\"] = [ 400, 450,500, 550 ]\n",
    "dic[\"equalize_outliers\"] = 0\n",
    "\n",
    "tomo_equalize(dic)"
   ]
  },
  {
   "cell_type": "code",
   "execution_count": 16,
   "id": "953159cd-1658-49cc-8996-33ca98dfa5e9",
   "metadata": {
    "tags": []
   },
   "outputs": [
    {
     "data": {
      "application/vnd.jupyter.widget-view+json": {
       "model_id": "8de71f4f5b7c4199a4f693a7f14c339e",
       "version_major": 2,
       "version_minor": 0
      },
      "text/plain": [
       "VBox(children=(IntSlider(value=30, description='Slice', layout=Layout(width='25%'), max=59), Output()))"
      ]
     },
     "metadata": {},
     "output_type": "display_data"
    }
   ],
   "source": [
    "deploy_visualizer(np.load(dic[\"equalized_sinogram_filepath\"]),title=\"Equalized sinogram\",cmap='gray')"
   ]
  },
  {
   "cell_type": "code",
   "execution_count": 31,
   "id": "6d9aa48a-7216-49d9-9877-6cc87be2d7b6",
   "metadata": {
    "tags": []
   },
   "outputs": [
    {
     "data": {
      "application/vnd.jupyter.widget-view+json": {
       "model_id": "e6d199a58cff4c01b72cb1f23c4cac40",
       "version_major": 2,
       "version_minor": 0
      },
      "text/plain": [
       "VBox(children=(IntSlider(value=30, description='Slice', layout=Layout(width='25%'), max=59), Output()))"
      ]
     },
     "metadata": {},
     "output_type": "display_data"
    }
   ],
   "source": [
    "deploy_visualizer(np.load(dic[\"equalized_sinogram_filepath\"]),title=\"Equalized sinogram\",cmap='gray',axis=1)"
   ]
  },
  {
   "cell_type": "markdown",
   "id": "ad74754f-54f2-4d34-b1ce-9d683d49a5c4",
   "metadata": {},
   "source": [
    "## Alignment"
   ]
  },
  {
   "cell_type": "code",
   "execution_count": 36,
   "id": "84d461cd-8c69-4013-bd5f-6874ac4935ea",
   "metadata": {
    "tags": []
   },
   "outputs": [],
   "source": [
    "from sscCdi import angle_grid_organize\n",
    "angles  = np.load(dic[\"ordered_angles_filepath\"])\n",
    "object = np.load(dic[\"wiggle_sinogram_selection\"]) \n",
    "\n",
    "object, _, _, projected_angles = angle_grid_organize(object, angles,percentage=dic[\"step_percentage\"])"
   ]
  },
  {
   "cell_type": "code",
   "execution_count": 38,
   "id": "0cdc2d2e-9a25-4fd6-bcbf-d9afc1ae0a71",
   "metadata": {
    "tags": []
   },
   "outputs": [
    {
     "data": {
      "text/plain": [
       "array([  0.,  30.,  60.,  90., 120., 150.])"
      ]
     },
     "execution_count": 38,
     "metadata": {},
     "output_type": "execute_result"
    }
   ],
   "source": [
    "projected_angles"
   ]
  },
  {
   "cell_type": "code",
   "execution_count": 26,
   "id": "9929518d-5dad-4a83-9571-3af502e1d550",
   "metadata": {
    "tags": []
   },
   "outputs": [
    {
     "name": "stdout",
     "output_type": "stream",
     "text": [
      "Simulating projection of angles to regular grid...\n",
      "Before+after frames added: 59\n",
      "Intermediate null frames : 188\n",
      "                        + -----\n",
      "Total null frames        : 247\n",
      "Frames being used        : 51  of  60\n",
      "                        + -----\n",
      "Projected Angles         : 298\n"
     ]
    }
   ],
   "source": [
    "dic[\"wiggle_sinogram_selection\"] = dic[\"equalized_sinogram_filepath\"]\n",
    "dic[\"step_percentage\"] = 1 # need to project irregular angle steps to a regular grid?\n",
    "preview_angle_projection(dic)"
   ]
  },
  {
   "cell_type": "code",
   "execution_count": 27,
   "id": "dc7c3f89-2ad6-46d1-b07d-a3b122f0eee8",
   "metadata": {},
   "outputs": [
    {
     "name": "stdout",
     "output_type": "stream",
     "text": [
      "ssc-radon: creating 6x481x581 shared arrays (tomogram)\n",
      "ssc-radon: creating 6x481x581 shared arrays (tomogram)\n",
      "\tFinished vertical wiggle. Starting horizontal wiggle...\n",
      "ssc-radon: creating 6x481x581 shared arrays (tomogram)\n",
      "Time elapsed: 0.90 s\n"
     ]
    }
   ],
   "source": [
    "dic[\"CPUs\"] = 32\n",
    "dic[\"bad_frames_before_wiggle\"] = [] \n",
    "dic[\"wiggle_reference_frame\"] = 0\n",
    "dic = tomo_alignment(dic)"
   ]
  },
  {
   "cell_type": "code",
   "execution_count": 28,
   "id": "13606d7f-04bb-40f1-ba8f-db003e6d130c",
   "metadata": {},
   "outputs": [
    {
     "data": {
      "application/vnd.jupyter.widget-view+json": {
       "model_id": "755fb5aca2744efd8cf7640cc9c77c0f",
       "version_major": 2,
       "version_minor": 0
      },
      "text/plain": [
       "VBox(children=(IntSlider(value=3, description='Slice', layout=Layout(width='25%'), max=5), Output()))"
      ]
     },
     "metadata": {},
     "output_type": "display_data"
    }
   ],
   "source": [
    "deploy_visualizer(np.load(dic[\"wiggle_sinogram_filepath\"]),title=\"Aligned sinogram\",cmap='gray',axis=0)"
   ]
  },
  {
   "cell_type": "markdown",
   "id": "8918241b-492b-4e75-adc7-a37c2bf36bf1",
   "metadata": {},
   "source": [
    "## Tomography"
   ]
  },
  {
   "cell_type": "code",
   "execution_count": null,
   "id": "0f1cf150-bbc8-44cc-a75a-ec908c148b22",
   "metadata": {},
   "outputs": [],
   "source": [
    "dic[\"GPUs\"] = [0]\n",
    "dic[\"tomo_algorithm\"] = \"EEM\"\n",
    "dic[\"tomo_iterations\"] = 40\n",
    "dic[\"tomo_regularization\"] = False\n",
    "dic[\"tomo_regularization_param\"] = 0.001\n",
    "\n",
    "dic = tomo_recon(dic)"
   ]
  },
  {
   "cell_type": "code",
   "execution_count": null,
   "id": "bd2c2829-93c2-4c92-a46c-05e9a5bc2b54",
   "metadata": {
    "tags": []
   },
   "outputs": [],
   "source": [
    "deploy_visualizer(np.load(dic[\"reconstruction_filepath\"]),title=\"Recon\",cmap='gray',axis=0)"
   ]
  },
  {
   "cell_type": "markdown",
   "id": "cb396c3e-04c5-4a9c-9567-8597800a1c37",
   "metadata": {},
   "source": [
    "## 3D Equalization"
   ]
  },
  {
   "cell_type": "code",
   "execution_count": null,
   "id": "fdcf93bb-5ac6-4767-b0a2-4e2ae3b4303d",
   "metadata": {},
   "outputs": [],
   "source": [
    "dic[\"tomo_remove_outliers\"] = 0\n",
    "dic[\"tomo_threshold\"] = 1000.0\n",
    "dic[\"tomo_local_offset\"] = []\n",
    "dic[\"tomo_mask\"] = []\n",
    "\n",
    "dic = tomo_equalize3D(dic)"
   ]
  },
  {
   "cell_type": "code",
   "execution_count": null,
   "id": "cc3d8e5b-b21d-4eaf-84c8-9891659233fc",
   "metadata": {
    "tags": []
   },
   "outputs": [],
   "source": [
    "deploy_visualizer(np.load(dic[\"eq_reconstruction_filepath\"]),title=\"Equalized Recon\",cmap='gray',axis=0)"
   ]
  }
 ],
 "metadata": {
  "kernelspec": {
   "display_name": "Python 3",
   "language": "python",
   "name": "python3"
  },
  "language_info": {
   "codemirror_mode": {
    "name": "ipython",
    "version": 3
   },
   "file_extension": ".py",
   "mimetype": "text/x-python",
   "name": "python",
   "nbconvert_exporter": "python",
   "pygments_lexer": "ipython3",
   "version": "3.9.2"
  }
 },
 "nbformat": 4,
 "nbformat_minor": 5
}
