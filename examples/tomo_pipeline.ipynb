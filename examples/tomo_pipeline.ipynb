{
 "cells": [
  {
   "cell_type": "markdown",
   "id": "7064ab3c-e983-4802-92be-4abfdb34397f",
   "metadata": {},
   "source": [
    "# GCC's ssc-cdi : tomography pipeline for Cateretê v0.1\n",
    " \n",
    "- #### Questions? E-mail gcc@lnls.br\n",
    "- #### Installation and User guide [available here](https://10.10.10.141/ssc/wiki/). \n",
    "- #### Documentation about the ssc-cdi package: https://gcc.lnls.br/ssc/ssc-cdi/index.html\n",
    "- #### To use a test sample:\n",
    "    - Ibira Datapath (str) = /ibira/lnls/beamlines/caterete/apps/gcc-jupyter/00000000/data/ptycho3d/\n",
    "    - Ibira Datafolders (list) = ['phantom_complex']\n",
    "    - Ptycho sinogram path (str) = /ibira/lnls/beamlines/caterete/apps/gcc-jupyter/00000000/proc/recons/phantom_complex/object_phantom_complex.npy"
   ]
  },
  {
   "cell_type": "markdown",
   "id": "e6a6ae0d-1e74-4ce8-811b-d325d1dec033",
   "metadata": {},
   "source": [
    "## Imports"
   ]
  },
  {
   "cell_type": "code",
   "execution_count": 1,
   "id": "e5c1f553-619a-44a5-a2a6-8375d800512c",
   "metadata": {
    "tags": []
   },
   "outputs": [],
   "source": [
    "%matplotlib widget\n",
    "import numpy as np, matplotlib.pyplot as plt\n",
    "from sscCdi import read_data, define_paths, select_contrast, tomo_sort, tomo_crop, tomo_unwrap, tomo_equalize, preview_angle_projection, tomo_alignment, tomo_recon, tomo_equalize3D, deploy_visualizer"
   ]
  },
  {
   "cell_type": "markdown",
   "id": "1dba28bf-7b8c-4698-8402-8371c2ac5fad",
   "metadata": {},
   "source": [
    "## Load dictionary"
   ]
  },
  {
   "cell_type": "code",
   "execution_count": 2,
   "id": "4bd08a4b-0b64-45a8-ac11-d4e94c5b9ae4",
   "metadata": {
    "tags": []
   },
   "outputs": [],
   "source": [
    "dic = {} # or load from template file"
   ]
  },
  {
   "cell_type": "markdown",
   "id": "4235f590-bfb4-4d0e-96d3-38e503aa9d46",
   "metadata": {},
   "source": [
    "## Load data"
   ]
  },
  {
   "cell_type": "code",
   "execution_count": 3,
   "id": "f42ae0db-799b-40ff-8c93-e4c1dc1aee55",
   "metadata": {},
   "outputs": [
    {
     "name": "stdout",
     "output_type": "stream",
     "text": [
      "Object shape = (128, 64, 64) \t Number of angles: (128, 2)\n"
     ]
    }
   ],
   "source": [
    "dic[\"sinogram_path\"] = \"/ibira/lnls/beamlines/caterete/apps/gcc-jupyter/00000000/proc/recons/phantom_complex/phantom_complex.hdf5\"\n",
    "dic[\"recon_method\"]  = \"ptycho\" # ptycho or pwcdi\n",
    "dic[\"contrast_type\"] = \"phase\" # phase or magnitude\n",
    "dic = define_paths(dic)\n",
    "obj, angles = read_data(dic)\n",
    "print(f\"Object shape = {obj.shape} \\t Number of angles: {angles.shape}\")"
   ]
  },
  {
   "cell_type": "markdown",
   "id": "1d5b677d-5c72-4625-b3d3-d78c487289cc",
   "metadata": {},
   "source": [
    "## Select contrast"
   ]
  },
  {
   "cell_type": "code",
   "execution_count": 4,
   "id": "c6171a65-07ed-418d-9562-6a5597d29621",
   "metadata": {},
   "outputs": [],
   "source": [
    "phase_object = select_contrast(dic, obj)\n",
    "# deploy_visualizer(phase_object,title='Original sinogram')"
   ]
  },
  {
   "cell_type": "markdown",
   "id": "313af51e-3b3a-437e-8d35-2921b8c148f7",
   "metadata": {},
   "source": [
    "## Sort data"
   ]
  },
  {
   "cell_type": "code",
   "execution_count": 5,
   "id": "a0237899-1c0b-4071-9e59-7a6a034e36c4",
   "metadata": {},
   "outputs": [
    {
     "name": "stdout",
     "output_type": "stream",
     "text": [
      "Time elapsed: 0.00 s\n"
     ]
    }
   ],
   "source": [
    "dic = tomo_sort(dic,phase_object, angles)\n",
    "# deploy_visualizer(np.load(dic[\"ordered_object_filepath\"]),title=\"Ordered sinogram\")"
   ]
  },
  {
   "cell_type": "markdown",
   "id": "f1872b10-8413-40c9-aa6a-e4b24519e0ff",
   "metadata": {},
   "source": [
    "## Crop"
   ]
  },
  {
   "cell_type": "code",
   "execution_count": 6,
   "id": "4ae4e81a-60cc-4607-b8d0-9b360f394262",
   "metadata": {},
   "outputs": [
    {
     "name": "stdout",
     "output_type": "stream",
     "text": [
      "Cropped sinogram shape: (128, 48, 54)\n",
      "Time elapsed: 0.01 s\n"
     ]
    }
   ],
   "source": [
    "dic[\"top_crop\"]    = 15\n",
    "dic[\"bottom_crop\"] = 1\n",
    "dic[\"left_crop\"]   = 0\n",
    "dic[\"right_crop\"]  = 10\n",
    "dic = tomo_crop(dic)\n",
    "# deploy_visualizer(np.load(dic[\"cropped_sinogram_filepath\"]),title=\"Cropped sinogram\")"
   ]
  },
  {
   "cell_type": "markdown",
   "id": "be51fc09-8a80-40c4-bc14-884df2dc131a",
   "metadata": {},
   "source": [
    "## Unwrap"
   ]
  },
  {
   "cell_type": "code",
   "execution_count": 7,
   "id": "8dc03942-a961-4bf7-bb84-c9823429fc13",
   "metadata": {},
   "outputs": [
    {
     "name": "stdout",
     "output_type": "stream",
     "text": [
      "Using 32 parallel processes\n"
     ]
    },
    {
     "name": "stderr",
     "output_type": "stream",
     "text": [
      "100%|██████████████████████████████████████████████████████████████████████████████████████████████████████████| 128/128 [00:00<00:00, 4712.20it/s]"
     ]
    },
    {
     "name": "stdout",
     "output_type": "stream",
     "text": [
      "Time elapsed: 0.75 s\n"
     ]
    },
    {
     "name": "stderr",
     "output_type": "stream",
     "text": [
      "\n"
     ]
    }
   ],
   "source": [
    "dic[\"bad_frames_before_unwrap\"] = []\n",
    "dic = tomo_unwrap(dic)\n",
    "# deploy_visualizer(np.load(dic[\"unwrapped_sinogram_filepath\"]),title=\"Unwrapped sinogram\")"
   ]
  },
  {
   "cell_type": "markdown",
   "id": "4766d187-201a-4e04-84bb-87aeafd7ab00",
   "metadata": {},
   "source": [
    "## 2D Equalization"
   ]
  },
  {
   "cell_type": "code",
   "execution_count": 8,
   "id": "623b6caf-2bbf-4cc1-8857-8b8dc204ecf1",
   "metadata": {},
   "outputs": [
    {
     "name": "stdout",
     "output_type": "stream",
     "text": [
      "Sinogram shape to unwrap:  (128, 48, 54)\n",
      "Using 32 parallel processes\n"
     ]
    },
    {
     "name": "stderr",
     "output_type": "stream",
     "text": [
      "100%|██████████████████████████████████████████████████████████████████████████████████████████████████████████| 128/128 [00:00<00:00, 5080.88it/s]"
     ]
    },
    {
     "name": "stdout",
     "output_type": "stream",
     "text": [
      "Min \t Mean-3*sigma \t Mean \t Mean+3*sigma \t Max \n",
      "Old  0.0 -1.6899914145469666 0.2645012 2.218993842601776 2.931003\n",
      "New  0.0 -2.108442723751068 0.37819195 2.8648266196250916 8.512125\n",
      "Time elapsed: 0.27 s\n"
     ]
    },
    {
     "name": "stderr",
     "output_type": "stream",
     "text": [
      "\n"
     ]
    },
    {
     "data": {
      "application/vnd.jupyter.widget-view+json": {
       "model_id": "e2c2954bbabc43a58decb5e895e23984",
       "version_major": 2,
       "version_minor": 0
      },
      "text/plain": [
       "VBox(children=(IntSlider(value=64, description='Slice', layout=Layout(width='25%'), max=127), Output()))"
      ]
     },
     "metadata": {},
     "output_type": "display_data"
    }
   ],
   "source": [
    "dic[\"bad_frames_before_equalization\"] = []\n",
    "dic[\"equalize_gradient\"] = 0\n",
    "dic[\"equalize_global_offset\"] = False\n",
    "dic[\"equalize_invert\"] = False\n",
    "dic[\"equalize_local_offset\"] = [ 0, 10, 0, 10 ]\n",
    "dic[\"equalize_outliers\"] = 0\n",
    "\n",
    "dic = tomo_equalize(dic)\n",
    "deploy_visualizer(np.load(dic[\"equalized_sinogram_filepath\"]),title=\"Equalized sinogram\")"
   ]
  },
  {
   "cell_type": "markdown",
   "id": "ad74754f-54f2-4d34-b1ce-9d683d49a5c4",
   "metadata": {},
   "source": [
    "## Alignment"
   ]
  },
  {
   "cell_type": "code",
   "execution_count": 9,
   "id": "9929518d-5dad-4a83-9571-3af502e1d550",
   "metadata": {
    "tags": []
   },
   "outputs": [
    {
     "name": "stdout",
     "output_type": "stream",
     "text": [
      "Simulating projection of angles to regular grid...\n",
      "Before+after frames added: 7149\n",
      "Intermediate null frames : 0\n",
      "                        + -----\n",
      "Total null frames        : 7149\n",
      "Frames being used        : 128  of  128\n",
      "                        + -----\n",
      "Projected Angles         : 7277\n"
     ]
    }
   ],
   "source": [
    "dic[\"wiggle_sinogram_selection\"] = dic[\"equalized_sinogram_filepath\"]\n",
    "dic[\"step_percentage\"] = 1 # need to project irregular angle steps to a regular grid?\n",
    "\n",
    "preview_angle_projection(dic)"
   ]
  },
  {
   "cell_type": "code",
   "execution_count": 10,
   "id": "dc7c3f89-2ad6-46d1-b07d-a3b122f0eee8",
   "metadata": {},
   "outputs": [
    {
     "name": "stdout",
     "output_type": "stream",
     "text": [
      "ssc-radon: creating 127x48x54 shared arrays (tomogram)\n",
      "ssc-radon: creating 127x48x54 shared arrays (tomogram)\n",
      "\tFinished vertical wiggle. Starting horizontal wiggle...\n",
      "ssc-radon: creating 127x48x54 shared arrays (tomogram)\n",
      "Time elapsed: 0.49 s\n"
     ]
    },
    {
     "data": {
      "application/vnd.jupyter.widget-view+json": {
       "model_id": "80e7c69d591741c89762399ad7855772",
       "version_major": 2,
       "version_minor": 0
      },
      "text/plain": [
       "VBox(children=(IntSlider(value=64, description='Slice', layout=Layout(width='25%'), max=127), Output()))"
      ]
     },
     "metadata": {},
     "output_type": "display_data"
    }
   ],
   "source": [
    "dic[\"CPUs\"] = 32\n",
    "dic[\"bad_frames_before_wiggle\"] = [  0,  1,   2 ]\n",
    "dic[\"wiggle_reference_frame\"] = 10\n",
    "\n",
    "dic = tomo_alignment(dic)\n",
    "deploy_visualizer(np.load(dic[\"unwrapped_sinogram_filepath\"]),title=\"Aligned sinogram\",cmap='gray',axis=0)"
   ]
  },
  {
   "cell_type": "markdown",
   "id": "8918241b-492b-4e75-adc7-a37c2bf36bf1",
   "metadata": {},
   "source": [
    "## Tomography"
   ]
  },
  {
   "cell_type": "code",
   "execution_count": 11,
   "id": "0f1cf150-bbc8-44cc-a75a-ec908c148b22",
   "metadata": {},
   "outputs": [
    {
     "name": "stdout",
     "output_type": "stream",
     "text": [
      "Starting tomographic algorithm:  EEM\n",
      "EM param: 20 [40, 3, 8] 0.0001 1e-15 eEM 127 [0, 1, 2] 54 48\n",
      "ssc-raft: Error! Please check block size!\n",
      "\tApplying wiggle center-of-mass correction to 3D recon slices...\n",
      "ssc-radon: creating 48x54x54 shared arrays (tomogram)\n",
      "\t\t Correction done!\n",
      "\t Tomography done!\n",
      "Saving tomography logfile...\n"
     ]
    },
    {
     "ename": "KeyError",
     "evalue": "'datetime'",
     "output_type": "error",
     "traceback": [
      "\u001b[0;31m---------------------------------------------------------------------------\u001b[0m",
      "\u001b[0;31mKeyError\u001b[0m                                  Traceback (most recent call last)",
      "\u001b[0;32m/tmp/ipykernel_3184088/4180296986.py\u001b[0m in \u001b[0;36m<module>\u001b[0;34m\u001b[0m\n\u001b[1;32m      5\u001b[0m \u001b[0mdic\u001b[0m\u001b[0;34m[\u001b[0m\u001b[0;34m\"tomo_regularization_param\"\u001b[0m\u001b[0;34m]\u001b[0m \u001b[0;34m=\u001b[0m \u001b[0;36m0.001\u001b[0m\u001b[0;34m\u001b[0m\u001b[0;34m\u001b[0m\u001b[0m\n\u001b[1;32m      6\u001b[0m \u001b[0;34m\u001b[0m\u001b[0m\n\u001b[0;32m----> 7\u001b[0;31m \u001b[0mdic\u001b[0m \u001b[0;34m=\u001b[0m \u001b[0mtomo_recon\u001b[0m\u001b[0;34m(\u001b[0m\u001b[0mdic\u001b[0m\u001b[0;34m)\u001b[0m\u001b[0;34m\u001b[0m\u001b[0;34m\u001b[0m\u001b[0m\n\u001b[0m",
      "\u001b[0;32m/ibira/lnls/labs/tepui/home/yuri.tonin/.local/lib/python3.9/site-packages/sscCdi/tomo/tomo_processing.py\u001b[0m in \u001b[0;36mtomo_recon\u001b[0;34m(dic)\u001b[0m\n\u001b[1;32m    344\u001b[0m \u001b[0;32mdef\u001b[0m \u001b[0mtomo_recon\u001b[0m\u001b[0;34m(\u001b[0m\u001b[0mdic\u001b[0m\u001b[0;34m)\u001b[0m\u001b[0;34m:\u001b[0m\u001b[0;34m\u001b[0m\u001b[0;34m\u001b[0m\u001b[0m\n\u001b[1;32m    345\u001b[0m     \u001b[0mstart\u001b[0m \u001b[0;34m=\u001b[0m \u001b[0mtime\u001b[0m\u001b[0;34m.\u001b[0m\u001b[0mtime\u001b[0m\u001b[0;34m(\u001b[0m\u001b[0;34m)\u001b[0m\u001b[0;34m\u001b[0m\u001b[0;34m\u001b[0m\u001b[0m\n\u001b[0;32m--> 346\u001b[0;31m     \u001b[0mreconstruction3D\u001b[0m \u001b[0;34m=\u001b[0m \u001b[0mtomography\u001b[0m\u001b[0;34m(\u001b[0m\u001b[0mdic\u001b[0m\u001b[0;34m,\u001b[0m\u001b[0muse_regularly_spaced_angles\u001b[0m\u001b[0;34m=\u001b[0m\u001b[0;32mTrue\u001b[0m\u001b[0;34m)\u001b[0m\u001b[0;34m\u001b[0m\u001b[0;34m\u001b[0m\u001b[0m\n\u001b[0m\u001b[1;32m    347\u001b[0m     \u001b[0mnp\u001b[0m\u001b[0;34m.\u001b[0m\u001b[0msave\u001b[0m\u001b[0;34m(\u001b[0m\u001b[0mdic\u001b[0m\u001b[0;34m[\u001b[0m\u001b[0;34m\"reconstruction_filepath\"\u001b[0m\u001b[0;34m]\u001b[0m\u001b[0;34m,\u001b[0m\u001b[0mreconstruction3D\u001b[0m\u001b[0;34m)\u001b[0m\u001b[0;34m\u001b[0m\u001b[0;34m\u001b[0m\u001b[0m\n\u001b[1;32m    348\u001b[0m     \u001b[0mimsave\u001b[0m\u001b[0;34m(\u001b[0m\u001b[0mdic\u001b[0m\u001b[0;34m[\u001b[0m\u001b[0;34m\"reconstruction_filepath\"\u001b[0m\u001b[0;34m]\u001b[0m\u001b[0;34m[\u001b[0m\u001b[0;34m:\u001b[0m\u001b[0;34m-\u001b[0m\u001b[0;36m4\u001b[0m\u001b[0;34m]\u001b[0m \u001b[0;34m+\u001b[0m \u001b[0;34m'.tif'\u001b[0m\u001b[0;34m,\u001b[0m\u001b[0mreconstruction3D\u001b[0m\u001b[0;34m)\u001b[0m\u001b[0;34m\u001b[0m\u001b[0;34m\u001b[0m\u001b[0m\n",
      "\u001b[0;32m/ibira/lnls/labs/tepui/home/yuri.tonin/.local/lib/python3.9/site-packages/sscCdi/tomo/tomo_processing.py\u001b[0m in \u001b[0;36mtomography\u001b[0;34m(input_dict, use_regularly_spaced_angles)\u001b[0m\n\u001b[1;32m    438\u001b[0m \u001b[0;34m\u001b[0m\u001b[0m\n\u001b[1;32m    439\u001b[0m     \u001b[0mprint\u001b[0m\u001b[0;34m(\u001b[0m\u001b[0;34m'Saving tomography logfile...'\u001b[0m\u001b[0;34m)\u001b[0m\u001b[0;34m\u001b[0m\u001b[0;34m\u001b[0m\u001b[0m\n\u001b[0;32m--> 440\u001b[0;31m     \u001b[0msave_json_logfile_tomo\u001b[0m\u001b[0;34m(\u001b[0m\u001b[0minput_dict\u001b[0m\u001b[0;34m)\u001b[0m\u001b[0;34m\u001b[0m\u001b[0;34m\u001b[0m\u001b[0m\n\u001b[0m\u001b[1;32m    441\u001b[0m     \u001b[0mprint\u001b[0m\u001b[0;34m(\u001b[0m\u001b[0;34m'\\tSaved!'\u001b[0m\u001b[0;34m)\u001b[0m\u001b[0;34m\u001b[0m\u001b[0;34m\u001b[0m\u001b[0m\n\u001b[1;32m    442\u001b[0m \u001b[0;34m\u001b[0m\u001b[0m\n",
      "\u001b[0;32m/ibira/lnls/labs/tepui/home/yuri.tonin/.local/lib/python3.9/site-packages/sscCdi/misc.py\u001b[0m in \u001b[0;36msave_json_logfile_tomo\u001b[0;34m(input_dict)\u001b[0m\n\u001b[1;32m    172\u001b[0m     \u001b[0mpath\u001b[0m \u001b[0;34m=\u001b[0m \u001b[0minput_dict\u001b[0m\u001b[0;34m[\u001b[0m\u001b[0;34m\"output_folder\"\u001b[0m\u001b[0;34m]\u001b[0m\u001b[0;34m\u001b[0m\u001b[0;34m\u001b[0m\u001b[0m\n\u001b[1;32m    173\u001b[0m \u001b[0;34m\u001b[0m\u001b[0m\n\u001b[0;32m--> 174\u001b[0;31m     \u001b[0mdatetime\u001b[0m \u001b[0;34m=\u001b[0m \u001b[0minput_dict\u001b[0m\u001b[0;34m[\u001b[0m\u001b[0;34m\"datetime\"\u001b[0m\u001b[0;34m]\u001b[0m\u001b[0;34m\u001b[0m\u001b[0;34m\u001b[0m\u001b[0m\n\u001b[0m\u001b[1;32m    175\u001b[0m     \u001b[0mname\u001b[0m \u001b[0;34m=\u001b[0m \u001b[0mdatetime\u001b[0m\u001b[0;34m+\u001b[0m\u001b[0;34m\".json\"\u001b[0m\u001b[0;34m\u001b[0m\u001b[0;34m\u001b[0m\u001b[0m\n\u001b[1;32m    176\u001b[0m \u001b[0;34m\u001b[0m\u001b[0m\n",
      "\u001b[0;31mKeyError\u001b[0m: 'datetime'"
     ]
    }
   ],
   "source": [
    "dic[\"GPUs\"] = [0,1,2]\n",
    "dic[\"tomo_algorithm\"] = \"EEM\"\n",
    "dic[\"tomo_iterations\"] = 40\n",
    "dic[\"tomo_regularization\"] = False\n",
    "dic[\"tomo_regularization_param\"] = 0.001\n",
    "\n",
    "dic = tomo_recon(dic)"
   ]
  },
  {
   "cell_type": "markdown",
   "id": "cb396c3e-04c5-4a9c-9567-8597800a1c37",
   "metadata": {},
   "source": [
    "## 3D Equalization"
   ]
  },
  {
   "cell_type": "code",
   "execution_count": null,
   "id": "fdcf93bb-5ac6-4767-b0a2-4e2ae3b4303d",
   "metadata": {},
   "outputs": [],
   "source": [
    "dic[\"tomo_remove_outliers\"] = 0\n",
    "dic[\"tomo_threshold\"] = 10.0\n",
    "dic[\"tomo_local_offset\"] = []\n",
    "dic[\"tomo_mask\"] = []\n",
    "\n",
    "dic = tomo_equalize3D(dic)"
   ]
  },
  {
   "cell_type": "markdown",
   "id": "6dee6415-893f-4ac6-8118-33720d08de92",
   "metadata": {},
   "source": [
    "## Save output metadata"
   ]
  },
  {
   "cell_type": "code",
   "execution_count": 2,
   "id": "1d1e0711-1e21-4448-b660-8e2e698dc925",
   "metadata": {
    "tags": []
   },
   "outputs": [],
   "source": [
    "# save dic"
   ]
  },
  {
   "cell_type": "code",
   "execution_count": null,
   "id": "3bea67cb-92e1-4679-ad09-9fa8116b0ad2",
   "metadata": {},
   "outputs": [],
   "source": []
  }
 ],
 "metadata": {
  "kernelspec": {
   "display_name": "Python 3 (ipykernel)",
   "language": "python",
   "name": "python3"
  },
  "language_info": {
   "codemirror_mode": {
    "name": "ipython",
    "version": 3
   },
   "file_extension": ".py",
   "mimetype": "text/x-python",
   "name": "python",
   "nbconvert_exporter": "python",
   "pygments_lexer": "ipython3",
   "version": "3.9.2"
  }
 },
 "nbformat": 4,
 "nbformat_minor": 5
}
