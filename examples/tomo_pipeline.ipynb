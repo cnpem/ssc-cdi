{
 "cells": [
  {
   "cell_type": "markdown",
   "id": "7064ab3c-e983-4802-92be-4abfdb34397f",
   "metadata": {},
   "source": [
    "# GCC's ssc-cdi : tomography pipeline for Cateretê v0.1\n",
    " \n",
    "- #### Questions? E-mail gcc@lnls.br\n",
    "- #### Documentation about the ssc-cdi package: https://gcc.lnls.br/wiki/\n",
    "- #### To use a test sample:\n",
    "    - dic[\"sinogram_path\"] = \"/ibira/lnls/beamlines/caterete/apps/gcc-jupyter/00000000/proc/recons/phantom_complex/phantom_complex.hdf5\""
   ]
  },
  {
   "cell_type": "markdown",
   "id": "e6a6ae0d-1e74-4ce8-811b-d325d1dec033",
   "metadata": {},
   "source": [
    "## Imports"
   ]
  },
  {
   "cell_type": "code",
   "execution_count": null,
   "id": "e5c1f553-619a-44a5-a2a6-8375d800512c",
   "metadata": {
    "tags": []
   },
   "outputs": [],
   "source": [
    "%matplotlib widget\n",
    "import numpy as np, matplotlib.pyplot as plt\n",
    "from sscCdi import read_data, define_paths, tomo_sort, tomo_crop, tomo_unwrap, tomo_equalize, preview_angle_projection, tomo_alignment, tomo_recon, tomo_equalize3D, deploy_visualizer"
   ]
  },
  {
   "cell_type": "markdown",
   "id": "1dba28bf-7b8c-4698-8402-8371c2ac5fad",
   "metadata": {},
   "source": [
    "## Load dictionary"
   ]
  },
  {
   "cell_type": "code",
   "execution_count": null,
   "id": "4bd08a4b-0b64-45a8-ac11-d4e94c5b9ae4",
   "metadata": {
    "tags": []
   },
   "outputs": [],
   "source": [
    "dic = {} # or load from template file"
   ]
  },
  {
   "cell_type": "markdown",
   "id": "4235f590-bfb4-4d0e-96d3-38e503aa9d46",
   "metadata": {},
   "source": [
    "## Load data"
   ]
  },
  {
   "cell_type": "code",
   "execution_count": null,
   "id": "f42ae0db-799b-40ff-8c93-e4c1dc1aee55",
   "metadata": {},
   "outputs": [],
   "source": [
    "dic[\"recon_method\"]  = \"ptycho\" # ptycho or pwcdi\n",
    "dic[\"contrast_type\"] = \"magnitude\" # phase or magnitude\n",
    "dic[\"sinogram_path\"] = \"/ibira/lnls/beamlines/caterete/apps/gcc-jupyter/00000000/proc/recons/phantom_complex/phantom_complex.hdf5\"\n",
    "\n",
    "dic = define_paths(dic)\n",
    "obj, angles = read_data(dic)\n",
    "print(f\"Object shape = {obj.shape} \\t Number of angles: {angles.shape}\")"
   ]
  },
  {
   "cell_type": "code",
   "execution_count": null,
   "id": "3f733ad1-223e-418e-a140-2e3a57ed6963",
   "metadata": {},
   "outputs": [],
   "source": [
    "deploy_visualizer(obj,title='Original sinogram')"
   ]
  },
  {
   "cell_type": "markdown",
   "id": "313af51e-3b3a-437e-8d35-2921b8c148f7",
   "metadata": {},
   "source": [
    "## Sort data"
   ]
  },
  {
   "cell_type": "code",
   "execution_count": null,
   "id": "a0237899-1c0b-4071-9e59-7a6a034e36c4",
   "metadata": {},
   "outputs": [],
   "source": [
    "dic = tomo_sort(dic,obj, angles)"
   ]
  },
  {
   "cell_type": "code",
   "execution_count": null,
   "id": "a321be80-1b27-4dd0-8d26-b60eca7d3eef",
   "metadata": {
    "tags": []
   },
   "outputs": [],
   "source": [
    "deploy_visualizer(np.load(dic[\"ordered_object_filepath\"]),title=\"Ordered sinogram\")"
   ]
  },
  {
   "cell_type": "markdown",
   "id": "f1872b10-8413-40c9-aa6a-e4b24519e0ff",
   "metadata": {},
   "source": [
    "## Crop"
   ]
  },
  {
   "cell_type": "code",
   "execution_count": null,
   "id": "4ae4e81a-60cc-4607-b8d0-9b360f394262",
   "metadata": {},
   "outputs": [],
   "source": [
    "dic[\"top_crop\"]    = 20\n",
    "dic[\"bottom_crop\"] = 1\n",
    "dic[\"left_crop\"]   = 1\n",
    "dic[\"right_crop\"]  = 1\n",
    "dic = tomo_crop(dic)"
   ]
  },
  {
   "cell_type": "code",
   "execution_count": null,
   "id": "f803373c-2f61-49cc-8367-8781c46f0b0d",
   "metadata": {},
   "outputs": [],
   "source": [
    "deploy_visualizer(np.load(dic[\"cropped_sinogram_filepath\"]),title=\"Cropped sinogram\")"
   ]
  },
  {
   "cell_type": "markdown",
   "id": "be51fc09-8a80-40c4-bc14-884df2dc131a",
   "metadata": {},
   "source": [
    "## Unwrap"
   ]
  },
  {
   "cell_type": "code",
   "execution_count": null,
   "id": "8dc03942-a961-4bf7-bb84-c9823429fc13",
   "metadata": {},
   "outputs": [],
   "source": [
    "dic[\"bad_frames_before_unwrap\"] = []\n",
    "dic = tomo_unwrap(dic)"
   ]
  },
  {
   "cell_type": "code",
   "execution_count": null,
   "id": "de1862c6-5d2e-4fc5-83da-01fa06ad21c0",
   "metadata": {},
   "outputs": [],
   "source": [
    "deploy_visualizer(np.load(dic[\"unwrapped_sinogram_filepath\"]),title=\"Unwrapped sinogram\")"
   ]
  },
  {
   "cell_type": "markdown",
   "id": "4766d187-201a-4e04-84bb-87aeafd7ab00",
   "metadata": {},
   "source": [
    "## 2D Equalization"
   ]
  },
  {
   "cell_type": "code",
   "execution_count": null,
   "id": "623b6caf-2bbf-4cc1-8857-8b8dc204ecf1",
   "metadata": {},
   "outputs": [],
   "source": [
    "dic[\"bad_frames_before_equalization\"] = []\n",
    "dic[\"equalize_gradient\"] = 0\n",
    "dic[\"equalize_global_offset\"] = False\n",
    "dic[\"equalize_invert\"] = False\n",
    "dic[\"equalize_local_offset\"] = [ 0, 20, 0, 20 ]\n",
    "dic[\"equalize_outliers\"] = 0\n",
    "\n",
    "dic = tomo_equalize(dic)"
   ]
  },
  {
   "cell_type": "code",
   "execution_count": null,
   "id": "953159cd-1658-49cc-8996-33ca98dfa5e9",
   "metadata": {},
   "outputs": [],
   "source": [
    "deploy_visualizer(np.load(dic[\"equalized_sinogram_filepath\"]),title=\"Equalized sinogram\")"
   ]
  },
  {
   "cell_type": "markdown",
   "id": "ad74754f-54f2-4d34-b1ce-9d683d49a5c4",
   "metadata": {},
   "source": [
    "## Alignment"
   ]
  },
  {
   "cell_type": "code",
   "execution_count": null,
   "id": "9929518d-5dad-4a83-9571-3af502e1d550",
   "metadata": {
    "tags": []
   },
   "outputs": [],
   "source": [
    "dic[\"wiggle_sinogram_selection\"] = dic[\"equalized_sinogram_filepath\"]\n",
    "dic[\"step_percentage\"] = 100 # need to project irregular angle steps to a regular grid?\n",
    "preview_angle_projection(dic)"
   ]
  },
  {
   "cell_type": "code",
   "execution_count": null,
   "id": "dc7c3f89-2ad6-46d1-b07d-a3b122f0eee8",
   "metadata": {},
   "outputs": [],
   "source": [
    "dic[\"CPUs\"] = 96\n",
    "dic[\"bad_frames_before_wiggle\"] = [] \n",
    "dic[\"wiggle_reference_frame\"] = 10\n",
    "dic = tomo_alignment(dic)"
   ]
  },
  {
   "cell_type": "code",
   "execution_count": null,
   "id": "13606d7f-04bb-40f1-ba8f-db003e6d130c",
   "metadata": {},
   "outputs": [],
   "source": [
    "deploy_visualizer(np.load(dic[\"wiggle_sinogram_filepath\"]),title=\"Aligned sinogram\",cmap='gray',axis=1)"
   ]
  },
  {
   "cell_type": "markdown",
   "id": "8918241b-492b-4e75-adc7-a37c2bf36bf1",
   "metadata": {},
   "source": [
    "## Tomography"
   ]
  },
  {
   "cell_type": "code",
   "execution_count": null,
   "id": "0f1cf150-bbc8-44cc-a75a-ec908c148b22",
   "metadata": {},
   "outputs": [],
   "source": [
    "dic[\"GPUs\"] = [0]\n",
    "dic[\"tomo_algorithm\"] = \"EEM\"\n",
    "dic[\"tomo_iterations\"] = 40\n",
    "dic[\"tomo_regularization\"] = False\n",
    "dic[\"tomo_regularization_param\"] = 0.001\n",
    "\n",
    "dic = tomo_recon(dic)"
   ]
  },
  {
   "cell_type": "code",
   "execution_count": null,
   "id": "bd2c2829-93c2-4c92-a46c-05e9a5bc2b54",
   "metadata": {
    "tags": []
   },
   "outputs": [],
   "source": [
    "deploy_visualizer(np.load(dic[\"reconstruction_filepath\"]),title=\"Recon\",cmap='gray',axis=0)"
   ]
  },
  {
   "cell_type": "markdown",
   "id": "cb396c3e-04c5-4a9c-9567-8597800a1c37",
   "metadata": {},
   "source": [
    "## 3D Equalization"
   ]
  },
  {
   "cell_type": "code",
   "execution_count": null,
   "id": "fdcf93bb-5ac6-4767-b0a2-4e2ae3b4303d",
   "metadata": {},
   "outputs": [],
   "source": [
    "dic[\"tomo_remove_outliers\"] = 0\n",
    "dic[\"tomo_threshold\"] = 1000.0\n",
    "dic[\"tomo_local_offset\"] = []\n",
    "dic[\"tomo_mask\"] = []\n",
    "\n",
    "dic = tomo_equalize3D(dic)"
   ]
  },
  {
   "cell_type": "code",
   "execution_count": null,
   "id": "cc3d8e5b-b21d-4eaf-84c8-9891659233fc",
   "metadata": {
    "tags": []
   },
   "outputs": [],
   "source": [
    "deploy_visualizer(np.load(dic[\"eq_reconstruction_filepath\"]),title=\"Equalized Recon\",cmap='gray',axis=0)"
   ]
  }
 ],
 "metadata": {
  "kernelspec": {
   "display_name": "Python 3 (ipykernel)",
   "language": "python",
   "name": "python3"
  },
  "language_info": {
   "codemirror_mode": {
    "name": "ipython",
    "version": 3
   },
   "file_extension": ".py",
   "mimetype": "text/x-python",
   "name": "python",
   "nbconvert_exporter": "python",
   "pygments_lexer": "ipython3",
   "version": "3.9.2"
  }
 },
 "nbformat": 4,
 "nbformat_minor": 5
}
