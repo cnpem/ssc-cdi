{
 "cells": [
  {
   "cell_type": "markdown",
   "id": "5907b5fd-c1a2-41bb-a750-f5a2752f694b",
   "metadata": {},
   "source": [
    "## Imports"
   ]
  },
  {
   "cell_type": "code",
   "execution_count": null,
   "id": "d27ac7ad-ba2e-43b4-b22e-fd31f4301ad5",
   "metadata": {
    "tags": []
   },
   "outputs": [],
   "source": [
    "%matplotlib widget\n",
    "import os, json\n",
    "import numpy as np\n",
    "import sscInstall\n",
    "import sscCdi\n",
    "import sscResolution\n",
    "\n",
    "print(f'sscCdi version: {sscCdi.__version__}')\n",
    "print(f'sscResolution version: {sscResolution.__version__}')"
   ]
  },
  {
   "cell_type": "markdown",
   "id": "9dd92c92-7003-42ae-9877-57fd9709ee52",
   "metadata": {},
   "source": [
    "## Inputs"
   ]
  },
  {
   "cell_type": "code",
   "execution_count": null,
   "id": "661e7fa9-63e2-460f-8d62-0780550cb1cd",
   "metadata": {
    "tags": []
   },
   "outputs": [],
   "source": [
    "input_dict = {\n",
    "    \n",
    "'beamline': 'CAT',\n",
    "'detector': '540D',\n",
    "'debug': False,\n",
    "\n",
    "\"data_folder\": \"/ibira/lnls/labs/tepui/home/yuri.tonin/00000000/data/ptycho3d/\",\n",
    "\"acquisition_folders\": [\"glass21\"],\n",
    "\"projections\": [1],\n",
    "\n",
    "'CPUs': 64,\n",
    "'GPUs': [0, 1],\n",
    "\n",
    "'using_direct_beam': False,\n",
    "'DP_center': [1434,1477],\n",
    "'fill_blanks': False,\n",
    "'keep_original_negative_values': False,\n",
    "'suspect_border_pixels': 3,\n",
    "'detector_ROI_radius': 1400,\n",
    "\n",
    "'position_rotation': -0.003,\n",
    "\n",
    "'object_padding': 20,\n",
    "\n",
    "'incoherent_modes': 0,\n",
    "'probe_support': [300, 0, 0],\n",
    "'fresnel_number': -0.001,\n",
    "\n",
    "\"initial_obj\": [\"random\"],\n",
    "\"initial_probe\": [\"inverse\"],\n",
    "\n",
    "'Algorithm1': {'Batch': 64,\n",
    "                'Beta': 0.995,\n",
    "                'Epsilon': 0.01,\n",
    "                'Iterations': 70,\n",
    "                'Name': 'RAAR',\n",
    "                'ProbeCycles': 4,\n",
    "                'TV': 0},\n",
    "\n",
    "'Algorithm2': {'Batch': 64,\n",
    "                'Epsilon': 0.01,\n",
    "                'Iterations': 50,\n",
    "                'Name': 'GL',\n",
    "                'ObjBeta': 0.97,\n",
    "                'ProbeBeta': 0.95,\n",
    "                'TV': 0.0001},\n",
    "\n",
    "'Algorithm3': {'Batch': 64,\n",
    "                'Epsilon': 0.1,\n",
    "                'Iterations': 5,\n",
    "                'Name': 'GL',\n",
    "                'ObjBeta': 0.5,\n",
    "                'ProbeBeta': 0.5,\n",
    "                'TV': 0.01},\n",
    "}\n",
    "\n",
    "input_dict = sscCdi.caterete.cat_ptycho_processing.define_paths(input_dict)"
   ]
  },
  {
   "cell_type": "markdown",
   "id": "6a54b522-657f-46c9-b85b-c977edf53b4b",
   "metadata": {},
   "source": [
    "# Run at Cluster"
   ]
  },
  {
   "cell_type": "code",
   "execution_count": null,
   "id": "6fbcf23d-80d0-4245-b960-936aae37654c",
   "metadata": {},
   "outputs": [],
   "source": [
    "# server = sscInstall.connect_server()    "
   ]
  },
  {
   "cell_type": "code",
   "execution_count": null,
   "id": "ebdb3847-2863-42e6-bd87-49a4557f21bf",
   "metadata": {
    "tags": []
   },
   "outputs": [],
   "source": [
    "# json_filepath_path = sscCdi.cat_ptycho_processing.save_input_dictionary(input_dict)\n",
    "# sscCdi.run_at_cluster(server,json_filepath_path,queue='cat',gpus=input_dict[\"GPUs\"],cpus=input_dict[\"CPUs\"],jobName='JOB',script_path = \"/ibira/lnls/labs/tepui/home/yuri.tonin/ssc-cdi/bin/caterete_tomo.py\",slurm_path = '/ibira/lnls/beamlines/caterete/apps/gcc-jupyter/inputs/')"
   ]
  },
  {
   "cell_type": "markdown",
   "id": "57cc1c56-d232-47c6-86b1-77563604424d",
   "metadata": {},
   "source": [
    "# Run Locally"
   ]
  },
  {
   "cell_type": "markdown",
   "id": "cc73407e-7278-4a93-8ab0-800a915de749",
   "metadata": {},
   "source": [
    "## Restoration"
   ]
  },
  {
   "cell_type": "code",
   "execution_count": null,
   "id": "06b77847-6cdb-443e-84b3-bcf5f3ffb9f2",
   "metadata": {
    "tags": []
   },
   "outputs": [],
   "source": [
    "restoration_dict_list, restored_data_info_list = sscCdi.caterete.cat_restoration.restoration_CAT(input_dict) # restoration of all frames; restored DPs saved at temporary folder"
   ]
  },
  {
   "cell_type": "markdown",
   "id": "e0a8a458-5dc8-421e-ac92-ef062acc03e1",
   "metadata": {},
   "source": [
    "## Ptychography"
   ]
  },
  {
   "cell_type": "code",
   "execution_count": null,
   "id": "832f7c8b-667d-425e-b66d-b7eb4f3bc2e1",
   "metadata": {
    "tags": []
   },
   "outputs": [],
   "source": [
    "input_dict, obj, probe, probe_positions = sscCdi.caterete.cat_ptycho_processing.cat_ptychography(input_dict,restoration_dict_list,restored_data_info_list)\n",
    "obj, probe = sscCdi.misc.save_volume_from_parts(input_dict)\n",
    "sscCdi.misc.save_variable(input_dict, obj,flag='object')\n",
    "sscCdi.misc.save_variable(input_dict,probe,flag='probe')\n",
    "sscCdi.misc.save_json_logfile(input_dict) \n",
    "sscCdi.misc.delete_temporary_folders(input_dict)"
   ]
  },
  {
   "cell_type": "code",
   "execution_count": null,
   "id": "a5456e7d-737f-4543-a21d-5cb547b96f8d",
   "metadata": {
    "tags": []
   },
   "outputs": [],
   "source": [
    "if 1: # phase\n",
    "    preview = np.angle(obj)\n",
    "else: # magnitude\n",
    "    preview = np.abs(obj)\n",
    "\n",
    "sscCdi.misc.deploy_visualizer(preview,title='Sinogram',cmap='gray')"
   ]
  },
  {
   "cell_type": "markdown",
   "id": "a70075e8-606f-4aa7-9869-e9bc8c929412",
   "metadata": {},
   "source": [
    "## Crop object"
   ]
  },
  {
   "cell_type": "code",
   "execution_count": null,
   "id": "4252dea4-c65b-4370-9914-1b22bea6c0ad",
   "metadata": {
    "tags": []
   },
   "outputs": [],
   "source": [
    "input_dict['crop'] = [1400,2000,1300,1900]\n",
    "cropped_object = sscCdi.caterete.cat_ptycho_processing.crop_sinogram(input_dict,obj,probe_positions)\n",
    "if 1: # phase\n",
    "    cropped_object = np.angle(cropped_object)\n",
    "else: # magnitude\n",
    "    cropped_object = np.abs(cropped_object)"
   ]
  },
  {
   "cell_type": "code",
   "execution_count": null,
   "id": "bfa9bbf0-4122-4ac9-bb8c-c4d86717dd20",
   "metadata": {
    "tags": []
   },
   "outputs": [],
   "source": [
    "sscCdi.misc.deploy_visualizer(cropped_object,title='Cropped sinogram',cmap='gray')"
   ]
  },
  {
   "cell_type": "markdown",
   "id": "eaffe455-3a54-4541-ad45-137d731b4a82",
   "metadata": {},
   "source": [
    "## Unwrap object"
   ]
  },
  {
   "cell_type": "code",
   "execution_count": null,
   "id": "ebea1960-a3f2-4831-ade9-0ea420cdcdfd",
   "metadata": {
    "tags": []
   },
   "outputs": [],
   "source": [
    "phase = sscCdi.caterete.unwrap_in_parallel(cropped_object)\n",
    "sscCdi.misc.save_variable(input_dict,phase, flag = 'object_unwrapped')"
   ]
  },
  {
   "cell_type": "code",
   "execution_count": null,
   "id": "cba63e26-0307-40c0-8e46-60415ecaf083",
   "metadata": {
    "tags": []
   },
   "outputs": [],
   "source": [
    "sscCdi.misc.deploy_visualizer(phase,title='Unwrapped',cmap='gray')"
   ]
  },
  {
   "cell_type": "markdown",
   "id": "5a4f179c-4a60-4cd6-83c3-ddd380e634d0",
   "metadata": {},
   "source": [
    "## Fourier Ring Correlation"
   ]
  },
  {
   "cell_type": "code",
   "execution_count": null,
   "id": "51d1cc29-01e6-4334-8f8f-53ed14b09b62",
   "metadata": {
    "tags": []
   },
   "outputs": [],
   "source": [
    "frame = 0\n",
    "\n",
    "if 1: # FRC on phase image\n",
    "    img = phase[frame]\n",
    "else: # else, on absorption image\n",
    "    img = np.abs(cropped_object)[frame]\n",
    "\n",
    "padding = 0\n",
    "sharpness = 10\n",
    "radius = 0.8\n",
    "\n",
    "dic = sscResolution.frc.computep( sscResolution.frc.window( img, padding, [sharpness, radius] ) , input_dict[\"CPUs\"] ) \n",
    "print(f\"\\tResolution via halfbit criterion: {1e9*input_dict['object_pixel']/dic['x']['H']:.2f} nm\")\n",
    "\n",
    "sscResolution.frc.plot(dic, {'label': \"Resolution\", 'unit': \"nm\", 'pxlsize': input_dict['object_pixel']*1e9} )"
   ]
  }
 ],
 "metadata": {
  "kernelspec": {
   "display_name": "Python 3",
   "language": "python",
   "name": "python3"
  },
  "language_info": {
   "codemirror_mode": {
    "name": "ipython",
    "version": 3
   },
   "file_extension": ".py",
   "mimetype": "text/x-python",
   "name": "python",
   "nbconvert_exporter": "python",
   "pygments_lexer": "ipython3",
   "version": "3.9.2"
  }
 },
 "nbformat": 4,
 "nbformat_minor": 5
}
