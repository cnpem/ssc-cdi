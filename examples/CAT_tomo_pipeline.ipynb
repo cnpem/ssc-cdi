{
 "cells": [
  {
   "cell_type": "markdown",
   "id": "7064ab3c-e983-4802-92be-4abfdb34397f",
   "metadata": {},
   "source": [
    "# GCC's ssc-cdi : tomography pipeline for Cateretê v0.1\n",
    " \n",
    "- #### Questions? E-mail gcc@lnls.br\n",
    "- #### Documentation about the ssc-cdi package: https://gcc.lnls.br/wiki/\n",
    "- #### To use a test sample:\n",
    "    - dic[\"sinogram_path\"] = \"/ibira/lnls/beamlines/caterete/apps/gcc-jupyter/00000000/proc/recons/glass24/2023-05-12-15h19m_glass24.hdf5\""
   ]
  },
  {
   "cell_type": "markdown",
   "id": "e6a6ae0d-1e74-4ce8-811b-d325d1dec033",
   "metadata": {},
   "source": [
    "## Imports"
   ]
  },
  {
   "cell_type": "code",
   "execution_count": null,
   "id": "e5c1f553-619a-44a5-a2a6-8375d800512c",
   "metadata": {
    "tags": []
   },
   "outputs": [],
   "source": [
    "%matplotlib widget\n",
    "import numpy as np, matplotlib.pyplot as plt, json\n",
    "import sscInstall\n",
    "import sscCdi"
   ]
  },
  {
   "cell_type": "markdown",
   "id": "1dba28bf-7b8c-4698-8402-8371c2ac5fad",
   "metadata": {},
   "source": [
    "## Load dictionary"
   ]
  },
  {
   "cell_type": "code",
   "execution_count": null,
   "id": "4bd08a4b-0b64-45a8-ac11-d4e94c5b9ae4",
   "metadata": {
    "tags": []
   },
   "outputs": [],
   "source": [
    "dic = {}"
   ]
  },
  {
   "cell_type": "code",
   "execution_count": null,
   "id": "71f8d719-81f5-4267-80e6-43387ec4e11c",
   "metadata": {
    "tags": []
   },
   "outputs": [],
   "source": [
    "# dic = json.load(open('/ibira/lnls/beamlines/caterete/apps/gcc-jupyter/inputs/CAT_tomo_inputs.json'))\n",
    "dic['processing_steps']['sort'] = True\n",
    "dic['processing_steps']['crop'] = True\n",
    "dic['processing_steps']['equalize2D'] = True\n",
    "dic['processing_steps']['unwrap'] = True\n",
    "dic['processing_steps']['alignment'] = True\n",
    "dic['processing_steps']['tomography'] = True\n",
    "dic['processing_steps']['equalize3D'] = True\n",
    "dic"
   ]
  },
  {
   "cell_type": "markdown",
   "id": "2a5e8777-6ba4-469c-9085-2514b0af8ced",
   "metadata": {},
   "source": [
    "# Run at Cluster"
   ]
  },
  {
   "cell_type": "code",
   "execution_count": null,
   "id": "da8a8a5e-4eaf-4d77-a601-4273b9b50804",
   "metadata": {
    "tags": []
   },
   "outputs": [],
   "source": [
    "# server = sscInstall.connect_server()    "
   ]
  },
  {
   "cell_type": "code",
   "execution_count": null,
   "id": "f10f5ab3-2800-42c0-a0c2-5d8375e601a2",
   "metadata": {
    "tags": []
   },
   "outputs": [],
   "source": [
    "# json_filepath_path = sscCdi.cat_ptycho_processing.save_input_dictionary(dic)\n",
    "# sscCdi.run_at_cluster(server,json_filepath_path,queue='cat',gpus=dic[\"GPUs\"],cpus=dic[\"CPUs\"],jobName='job',script_path = \"/ibira/lnls/labs/tepui/home/yuri.tonin/ssc-cdi/bin/caterete_tomo.py\",slurm_path = '/ibira/lnls/beamlines/caterete/apps/gcc-jupyter/inputs/')"
   ]
  },
  {
   "cell_type": "markdown",
   "id": "babb4eb5-799b-4c03-9d82-27e83f5a60e2",
   "metadata": {},
   "source": [
    "# Run Locally"
   ]
  },
  {
   "cell_type": "markdown",
   "id": "4235f590-bfb4-4d0e-96d3-38e503aa9d46",
   "metadata": {},
   "source": [
    "## Load data"
   ]
  },
  {
   "cell_type": "code",
   "execution_count": null,
   "id": "0427d2e1-39cc-4db3-9cdb-3822394111c3",
   "metadata": {
    "tags": []
   },
   "outputs": [],
   "source": [
    "dic[\"recon_method\"]  = \"ptycho\" # ptycho or pwcdi\n",
    "dic[\"contrast_type\"] = \"phase\" # phase or magnitude\n",
    "dic[\"sinogram_path\"] = \"/ibira/lnls/labs/tepui/home/yuri.tonin/00000000/proc/recons/glass_sphere/2023-05-16-15h38m_glass_sphere.hdf5\""
   ]
  },
  {
   "cell_type": "code",
   "execution_count": null,
   "id": "cf005891-c511-4cf3-a8ca-a8a4359b960d",
   "metadata": {
    "tags": []
   },
   "outputs": [],
   "source": [
    "dic = define_paths(dic)"
   ]
  },
  {
   "cell_type": "code",
   "execution_count": null,
   "id": "f42ae0db-799b-40ff-8c93-e4c1dc1aee55",
   "metadata": {
    "tags": []
   },
   "outputs": [],
   "source": [
    "obj, angles = sscCdi.read_data(dic)\n",
    "print(f\"Object shape = {obj.shape} \\t Number of angles: {angles.shape}\")"
   ]
  },
  {
   "cell_type": "code",
   "execution_count": null,
   "id": "3f733ad1-223e-418e-a140-2e3a57ed6963",
   "metadata": {
    "tags": []
   },
   "outputs": [],
   "source": [
    "sscCdi.deploy_visualizer(obj,title='Original sinogram',cmap='gray')"
   ]
  },
  {
   "cell_type": "code",
   "execution_count": null,
   "id": "932d1fb9-4a25-4cb9-9166-14de1754c051",
   "metadata": {
    "tags": []
   },
   "outputs": [],
   "source": [
    "crop = obj[:,1500:-1400,1400:-1500]\n",
    "sscCdi.deploy_visualizer(crop,title='Original sinogram',cmap='gray')"
   ]
  },
  {
   "cell_type": "markdown",
   "id": "313af51e-3b3a-437e-8d35-2921b8c148f7",
   "metadata": {},
   "source": [
    "## Sort data"
   ]
  },
  {
   "cell_type": "code",
   "execution_count": null,
   "id": "a0237899-1c0b-4071-9e59-7a6a034e36c4",
   "metadata": {
    "tags": []
   },
   "outputs": [],
   "source": [
    "sscCdi.tomo_sort(dic,obj, angles)"
   ]
  },
  {
   "cell_type": "code",
   "execution_count": null,
   "id": "a321be80-1b27-4dd0-8d26-b60eca7d3eef",
   "metadata": {
    "tags": []
   },
   "outputs": [],
   "source": [
    "sscCdi.deploy_visualizer(np.load(dic[\"ordered_object_filepath\"]),title=\"Ordered sinogram\",cmap='gray')"
   ]
  },
  {
   "cell_type": "code",
   "execution_count": null,
   "id": "5f1a36e4-ce27-4354-b29f-51f5a6c2542f",
   "metadata": {
    "tags": []
   },
   "outputs": [],
   "source": [
    "dic[\"top_crop\"]    = 1500\n",
    "dic[\"bottom_crop\"] = 1400\n",
    "dic[\"left_crop\"]   = 1400\n",
    "dic[\"right_crop\"]  = 1500"
   ]
  },
  {
   "cell_type": "code",
   "execution_count": null,
   "id": "4ae4e81a-60cc-4607-b8d0-9b360f394262",
   "metadata": {
    "tags": []
   },
   "outputs": [],
   "source": [
    "sscCdi.tomo_crop(dic)"
   ]
  },
  {
   "cell_type": "code",
   "execution_count": null,
   "id": "f803373c-2f61-49cc-8367-8781c46f0b0d",
   "metadata": {
    "tags": []
   },
   "outputs": [],
   "source": [
    "sscCdi.deploy_visualizer(np.load(dic[\"cropped_sinogram_filepath\"]),title=\"Cropped sinogram\",cmap='gray')"
   ]
  },
  {
   "cell_type": "markdown",
   "id": "be51fc09-8a80-40c4-bc14-884df2dc131a",
   "metadata": {},
   "source": [
    "## Unwrap"
   ]
  },
  {
   "cell_type": "code",
   "execution_count": null,
   "id": "25f2f10c-6d60-4e48-b66d-7597c92b678e",
   "metadata": {
    "tags": []
   },
   "outputs": [],
   "source": [
    "dic[\"bad_frames_before_unwrap\"] = [28,30,45,49,65,66,91,113]"
   ]
  },
  {
   "cell_type": "code",
   "execution_count": null,
   "id": "8dc03942-a961-4bf7-bb84-c9823429fc13",
   "metadata": {
    "tags": []
   },
   "outputs": [],
   "source": [
    "sscCdi.tomo_unwrap(dic)"
   ]
  },
  {
   "cell_type": "code",
   "execution_count": null,
   "id": "de1862c6-5d2e-4fc5-83da-01fa06ad21c0",
   "metadata": {
    "tags": []
   },
   "outputs": [],
   "source": [
    "sscCdi.deploy_visualizer(np.load(dic[\"unwrapped_sinogram_filepath\"]),title=\"Unwrapped sinogram\",cmap='gray')"
   ]
  },
  {
   "cell_type": "markdown",
   "id": "4766d187-201a-4e04-84bb-87aeafd7ab00",
   "metadata": {},
   "source": [
    "## 2D Equalization"
   ]
  },
  {
   "cell_type": "code",
   "execution_count": null,
   "id": "670f16b5-9ea6-4fee-aba2-ad39f75db613",
   "metadata": {
    "tags": []
   },
   "outputs": [],
   "source": [
    "dic[\"sinogram_to_equalize\"] = 'unwrapped' # cropped or unwrapped\n",
    "dic[\"bad_frames_before_equalization\"] = []\n",
    "dic[\"equalize_gradient\"] = True\n",
    "dic[\"equalize_global_offset\"] = False\n",
    "dic[\"equalize_invert\"] = True\n",
    "dic[\"equalize_local_offset\"] = [0,50,0,50]\n",
    "dic[\"equalize_outliers\"] = 0"
   ]
  },
  {
   "cell_type": "code",
   "execution_count": null,
   "id": "623b6caf-2bbf-4cc1-8857-8b8dc204ecf1",
   "metadata": {
    "tags": []
   },
   "outputs": [],
   "source": [
    "sscCdi.tomo_equalize(dic)"
   ]
  },
  {
   "cell_type": "code",
   "execution_count": null,
   "id": "953159cd-1658-49cc-8996-33ca98dfa5e9",
   "metadata": {
    "tags": []
   },
   "outputs": [],
   "source": [
    "sscCdi.deploy_visualizer(np.load(dic[\"equalized_sinogram_filepath\"]),title=\"Equalized sinogram\",cmap='gray')"
   ]
  },
  {
   "cell_type": "code",
   "execution_count": null,
   "id": "9705fd7a-4f55-45cd-9375-a16a2f990f22",
   "metadata": {
    "tags": []
   },
   "outputs": [],
   "source": [
    "sscCdi.deploy_visualizer(np.load(dic[\"equalized_sinogram_filepath\"]),title=\"Equalized sinogram\",cmap='gray',axis=1,aspect_ratio='auto')#,limits=(0,0.5))"
   ]
  },
  {
   "cell_type": "markdown",
   "id": "ad74754f-54f2-4d34-b1ce-9d683d49a5c4",
   "metadata": {},
   "source": [
    "## Alignment"
   ]
  },
  {
   "cell_type": "code",
   "execution_count": null,
   "id": "f31698e0-9d53-48a2-b754-2ccef15da697",
   "metadata": {
    "tags": []
   },
   "outputs": [],
   "source": [
    "dic[\"wiggle_sinogram_selection\"] = dic[\"equalized_sinogram_filepath\"]\n",
    "dic[\"step_percentage\"] = 0 # need to project irregular angle steps to a regular grid?"
   ]
  },
  {
   "cell_type": "code",
   "execution_count": null,
   "id": "9929518d-5dad-4a83-9571-3af502e1d550",
   "metadata": {
    "tags": []
   },
   "outputs": [],
   "source": [
    "sscCdi.preview_angle_projection(dic)"
   ]
  },
  {
   "cell_type": "code",
   "execution_count": null,
   "id": "dc7c3f89-2ad6-46d1-b07d-a3b122f0eee8",
   "metadata": {},
   "outputs": [],
   "source": [
    "dic[\"CPUs\"] = 64\n",
    "dic[\"project_angles_to_regular_grid\"] = True\n",
    "dic[\"bad_frames_before_wiggle\"] = [] \n",
    "dic[\"wiggle_reference_frame\"] = 0"
   ]
  },
  {
   "cell_type": "code",
   "execution_count": null,
   "id": "e8e9ba53-128c-4623-ae8e-dc40e508caa7",
   "metadata": {
    "tags": []
   },
   "outputs": [],
   "source": [
    "dic = sscCdi.tomo_alignment(dic)"
   ]
  },
  {
   "cell_type": "code",
   "execution_count": null,
   "id": "13606d7f-04bb-40f1-ba8f-db003e6d130c",
   "metadata": {},
   "outputs": [],
   "source": [
    "sscCdi.deploy_visualizer(np.load(dic[\"wiggle_sinogram_filepath\"]),title=\"Aligned sinogram\",cmap='gray',axis=1)"
   ]
  },
  {
   "cell_type": "markdown",
   "id": "8918241b-492b-4e75-adc7-a37c2bf36bf1",
   "metadata": {},
   "source": [
    "## Tomography"
   ]
  },
  {
   "cell_type": "code",
   "execution_count": null,
   "id": "6eb132f6-ca40-4804-8a45-2b42688d60ef",
   "metadata": {
    "tags": []
   },
   "outputs": [],
   "source": [
    "dic[\"GPUs\"] = [0,1]\n",
    "dic[\"tomo_algorithm\"] = \"EEM\"\n",
    "dic[\"tomo_iterations\"] = 10\n",
    "dic[\"tomo_regularization_param\"] = 0 # if != 0, do regularization. Recommended = 0.001"
   ]
  },
  {
   "cell_type": "code",
   "execution_count": null,
   "id": "0f1cf150-bbc8-44cc-a75a-ec908c148b22",
   "metadata": {},
   "outputs": [],
   "source": [
    "recon3D = sscCdi.tomo_recon(dic)"
   ]
  },
  {
   "cell_type": "code",
   "execution_count": null,
   "id": "bd2c2829-93c2-4c92-a46c-05e9a5bc2b54",
   "metadata": {
    "tags": []
   },
   "outputs": [],
   "source": [
    "sscCdi.deploy_visualizer(np.load(dic[\"reconstruction_filepath\"]),title=\"Recon\",cmap='gray',axis=0)#,limits=(-1,1))"
   ]
  },
  {
   "cell_type": "markdown",
   "id": "cb396c3e-04c5-4a9c-9567-8597800a1c37",
   "metadata": {},
   "source": [
    "## 3D Equalization"
   ]
  },
  {
   "cell_type": "code",
   "execution_count": null,
   "id": "b2e85eae-3393-4e31-b999-7e943888a65f",
   "metadata": {
    "tags": []
   },
   "outputs": [],
   "source": [
    "dic[\"tomo_remove_outliers\"] = 0\n",
    "dic[\"tomo_threshold\"] = 15.0\n",
    "dic[\"tomo_local_offset\"] = []\n",
    "dic[\"tomo_mask\"] = []"
   ]
  },
  {
   "cell_type": "code",
   "execution_count": null,
   "id": "fdcf93bb-5ac6-4767-b0a2-4e2ae3b4303d",
   "metadata": {},
   "outputs": [],
   "source": [
    "sscCdi.tomo_equalize3D(dic)"
   ]
  },
  {
   "cell_type": "code",
   "execution_count": null,
   "id": "cc3d8e5b-b21d-4eaf-84c8-9891659233fc",
   "metadata": {
    "tags": []
   },
   "outputs": [],
   "source": [
    "sscCdi.deploy_visualizer(np.load(dic[\"eq_reconstruction_filepath\"]),title=\"Equalized Recon\",cmap='gray',axis=0)"
   ]
  },
  {
   "cell_type": "code",
   "execution_count": null,
   "id": "c77432ae-61ab-472d-ae03-e653bdeef591",
   "metadata": {
    "tags": []
   },
   "outputs": [],
   "source": [
    "sscCdi.equalized_tomogram = np.load(dic[\"eq_reconstruction_filepath\"])\n",
    "sscCdi.plot_histograms(recon3D, equalized_tomogram,bins=300)"
   ]
  }
 ],
 "metadata": {
  "kernelspec": {
   "display_name": "Python 3",
   "language": "python",
   "name": "python3"
  },
  "language_info": {
   "codemirror_mode": {
    "name": "ipython",
    "version": 3
   },
   "file_extension": ".py",
   "mimetype": "text/x-python",
   "name": "python",
   "nbconvert_exporter": "python",
   "pygments_lexer": "ipython3",
   "version": "3.9.2"
  }
 },
 "nbformat": 4,
 "nbformat_minor": 5
}
