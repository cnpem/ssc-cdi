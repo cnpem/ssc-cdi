{
 "cells": [
  {
   "cell_type": "markdown",
   "id": "7064ab3c-e983-4802-92be-4abfdb34397f",
   "metadata": {},
   "source": [
    "# GCC's ssc-cdi : tomography pipeline for Cateretê v0.1\n",
    " \n",
    "- #### Questions? E-mail gcc@lnls.br\n",
    "- #### Documentation about the ssc-cdi package: https://gcc.lnls.br/wiki/"
   ]
  },
  {
   "cell_type": "markdown",
   "id": "e6a6ae0d-1e74-4ce8-811b-d325d1dec033",
   "metadata": {},
   "source": [
    "## Imports"
   ]
  },
  {
   "cell_type": "code",
   "execution_count": 1,
   "id": "e5c1f553-619a-44a5-a2a6-8375d800512c",
   "metadata": {
    "tags": []
   },
   "outputs": [
    {
     "name": "stdout",
     "output_type": "stream",
     "text": [
      "sscCdi version: 0.5.1\n"
     ]
    }
   ],
   "source": [
    "%matplotlib widget\n",
    "import numpy as np, matplotlib.pyplot as plt, json\n",
    "import sscInstall\n",
    "import sscCdi\n",
    "\n",
    "print(f'sscCdi version: {sscCdi.__version__}')"
   ]
  },
  {
   "cell_type": "markdown",
   "id": "1dba28bf-7b8c-4698-8402-8371c2ac5fad",
   "metadata": {},
   "source": [
    "## Load dictionary"
   ]
  },
  {
   "cell_type": "code",
   "execution_count": 2,
   "id": "4bd08a4b-0b64-45a8-ac11-d4e94c5b9ae4",
   "metadata": {
    "tags": []
   },
   "outputs": [],
   "source": [
    "dic = {}"
   ]
  },
  {
   "cell_type": "code",
   "execution_count": 3,
   "id": "71f8d719-81f5-4267-80e6-43387ec4e11c",
   "metadata": {
    "tags": []
   },
   "outputs": [],
   "source": [
    "# dic = json.load(open('/ibira/lnls/beamlines/caterete/apps/gcc-jupyter/inputs/CAT_tomo_inputs.json'))\n",
    "dic['processing_steps'] = {}\n",
    "dic['processing_steps']['read'] = True\n",
    "dic['processing_steps']['sort'] = True\n",
    "dic['processing_steps']['crop'] = True\n",
    "dic['processing_steps']['equalize2D'] = True\n",
    "dic['processing_steps']['unwrap'] = True\n",
    "dic['processing_steps']['alignment'] = True\n",
    "dic['processing_steps']['tomography'] = True\n",
    "dic['processing_steps']['equalize3D'] = True\n",
    "# dic"
   ]
  },
  {
   "cell_type": "markdown",
   "id": "2a5e8777-6ba4-469c-9085-2514b0af8ced",
   "metadata": {},
   "source": [
    "# Run at Cluster"
   ]
  },
  {
   "cell_type": "code",
   "execution_count": 35,
   "id": "da8a8a5e-4eaf-4d77-a601-4273b9b50804",
   "metadata": {
    "tags": []
   },
   "outputs": [
    {
     "name": "stdin",
     "output_type": "stream",
     "text": [
      "Username: yuri.tonin\n"
     ]
    },
    {
     "name": "stdout",
     "output_type": "stream",
     "text": [
      "Password:\n"
     ]
    },
    {
     "name": "stdin",
     "output_type": "stream",
     "text": [
      " ········\n"
     ]
    }
   ],
   "source": [
    "server = sscInstall.connect_server()  "
   ]
  },
  {
   "cell_type": "code",
   "execution_count": 5,
   "id": "f10f5ab3-2800-42c0-a0c2-5d8375e601a2",
   "metadata": {
    "tags": []
   },
   "outputs": [],
   "source": [
    "json_filepath_path = sscCdi.cat_ptycho_processing.save_input_dictionary(dic)\n",
    "sscCdi.run_at_cluster(server,json_filepath_path,queue='cat',gpus=dic[\"GPUs\"],cpus=dic[\"CPUs\"],jobName='job',script_path = \"/ibira/lnls/labs/tepui/home/yuri.tonin/ssc-cdi/bin/caterete_tomo.py\",slurm_path = '/ibira/lnls/beamlines/caterete/apps/gcc-jupyter/inputs/')"
   ]
  },
  {
   "cell_type": "markdown",
   "id": "babb4eb5-799b-4c03-9d82-27e83f5a60e2",
   "metadata": {},
   "source": [
    "# Run Locally"
   ]
  },
  {
   "cell_type": "markdown",
   "id": "4235f590-bfb4-4d0e-96d3-38e503aa9d46",
   "metadata": {},
   "source": [
    "## Load data"
   ]
  },
  {
   "cell_type": "code",
   "execution_count": 6,
   "id": "0427d2e1-39cc-4db3-9cdb-3822394111c3",
   "metadata": {
    "tags": []
   },
   "outputs": [],
   "source": [
    "dic[\"recon_method\"]  = \"ptycho\" # ptycho or pwcdi\n",
    "dic[\"contrast_type\"] = \"phase\" # phase or magnitude\n",
    "dic[\"sinogram_path\"] = \"/ibira/lnls/labs/tepui/home/yuri.tonin/00000000/proc/recons/glass_sphere/2023-05-16-15h38m_glass_sphere.hdf5\""
   ]
  },
  {
   "cell_type": "code",
   "execution_count": 7,
   "id": "cf005891-c511-4cf3-a8ca-a8a4359b960d",
   "metadata": {
    "tags": []
   },
   "outputs": [],
   "source": [
    "dic = sscCdi.define_paths(dic)"
   ]
  },
  {
   "cell_type": "code",
   "execution_count": 8,
   "id": "f42ae0db-799b-40ff-8c93-e4c1dc1aee55",
   "metadata": {
    "tags": []
   },
   "outputs": [
    {
     "name": "stdout",
     "output_type": "stream",
     "text": [
      "Object shape = (214, 3479, 3479) \t Number of angles: (214, 2)\n"
     ]
    }
   ],
   "source": [
    "obj, angles = sscCdi.read_data(dic)\n",
    "print(f\"Object shape = {obj.shape} \\t Number of angles: {angles.shape}\")"
   ]
  },
  {
   "cell_type": "code",
   "execution_count": 9,
   "id": "3f733ad1-223e-418e-a140-2e3a57ed6963",
   "metadata": {
    "tags": []
   },
   "outputs": [
    {
     "data": {
      "application/vnd.jupyter.widget-view+json": {
       "model_id": "48a079e1be3241629ddf4f61f737b3fc",
       "version_major": 2,
       "version_minor": 0
      },
      "text/plain": [
       "VBox(children=(IntSlider(value=107, description='Slice', layout=Layout(width='25%'), max=213), Output()))"
      ]
     },
     "metadata": {},
     "output_type": "display_data"
    }
   ],
   "source": [
    "sscCdi.deploy_visualizer(obj,title='Original sinogram',cmap='gray')"
   ]
  },
  {
   "cell_type": "code",
   "execution_count": 10,
   "id": "932d1fb9-4a25-4cb9-9166-14de1754c051",
   "metadata": {
    "tags": []
   },
   "outputs": [
    {
     "data": {
      "application/vnd.jupyter.widget-view+json": {
       "model_id": "bcd7d1038af046a9be887a18f246d168",
       "version_major": 2,
       "version_minor": 0
      },
      "text/plain": [
       "VBox(children=(IntSlider(value=107, description='Slice', layout=Layout(width='25%'), max=213), Output()))"
      ]
     },
     "metadata": {},
     "output_type": "display_data"
    }
   ],
   "source": [
    "crop = obj[:,1500:-1400,1400:-1500]\n",
    "sscCdi.deploy_visualizer(crop,title='Original sinogram',cmap='gray')"
   ]
  },
  {
   "cell_type": "markdown",
   "id": "313af51e-3b3a-437e-8d35-2921b8c148f7",
   "metadata": {},
   "source": [
    "## Sort data"
   ]
  },
  {
   "cell_type": "code",
   "execution_count": 11,
   "id": "a0237899-1c0b-4071-9e59-7a6a034e36c4",
   "metadata": {
    "tags": []
   },
   "outputs": [
    {
     "name": "stdout",
     "output_type": "stream",
     "text": [
      "Time elapsed: 8.48 s\n"
     ]
    }
   ],
   "source": [
    "sscCdi.tomo_sort(dic,obj, angles)"
   ]
  },
  {
   "cell_type": "code",
   "execution_count": 12,
   "id": "a321be80-1b27-4dd0-8d26-b60eca7d3eef",
   "metadata": {
    "tags": []
   },
   "outputs": [
    {
     "data": {
      "application/vnd.jupyter.widget-view+json": {
       "model_id": "b7e6dc57008842b2b27925adb6592c3b",
       "version_major": 2,
       "version_minor": 0
      },
      "text/plain": [
       "VBox(children=(IntSlider(value=107, description='Slice', layout=Layout(width='25%'), max=213), Output()))"
      ]
     },
     "metadata": {},
     "output_type": "display_data"
    }
   ],
   "source": [
    "sscCdi.deploy_visualizer(np.load(dic[\"ordered_object_filepath\"]),title=\"Ordered sinogram\",cmap='gray')"
   ]
  },
  {
   "cell_type": "code",
   "execution_count": 13,
   "id": "5f1a36e4-ce27-4354-b29f-51f5a6c2542f",
   "metadata": {
    "tags": []
   },
   "outputs": [],
   "source": [
    "dic[\"top_crop\"]    = 1500\n",
    "dic[\"bottom_crop\"] = 1400\n",
    "dic[\"left_crop\"]   = 1400\n",
    "dic[\"right_crop\"]  = 1500"
   ]
  },
  {
   "cell_type": "code",
   "execution_count": 14,
   "id": "4ae4e81a-60cc-4607-b8d0-9b360f394262",
   "metadata": {
    "tags": []
   },
   "outputs": [
    {
     "name": "stdout",
     "output_type": "stream",
     "text": [
      "Cropped sinogram shape: (214, 579, 579)\n",
      "Time elapsed: 5.55 s\n"
     ]
    }
   ],
   "source": [
    "sscCdi.tomo_crop(dic)"
   ]
  },
  {
   "cell_type": "code",
   "execution_count": 15,
   "id": "f803373c-2f61-49cc-8367-8781c46f0b0d",
   "metadata": {
    "tags": []
   },
   "outputs": [
    {
     "data": {
      "application/vnd.jupyter.widget-view+json": {
       "model_id": "427c5a6e1b6740e6b10426ea47034822",
       "version_major": 2,
       "version_minor": 0
      },
      "text/plain": [
       "VBox(children=(IntSlider(value=107, description='Slice', layout=Layout(width='25%'), max=213), Output()))"
      ]
     },
     "metadata": {},
     "output_type": "display_data"
    }
   ],
   "source": [
    "sscCdi.deploy_visualizer(np.load(dic[\"cropped_sinogram_filepath\"]),title=\"Cropped sinogram\",cmap='gray')"
   ]
  },
  {
   "cell_type": "markdown",
   "id": "be51fc09-8a80-40c4-bc14-884df2dc131a",
   "metadata": {},
   "source": [
    "## Unwrap"
   ]
  },
  {
   "cell_type": "code",
   "execution_count": 16,
   "id": "25f2f10c-6d60-4e48-b66d-7597c92b678e",
   "metadata": {
    "tags": []
   },
   "outputs": [],
   "source": [
    "dic[\"bad_frames_before_unwrap\"] = [28,30,45,49,65,66,91,113]"
   ]
  },
  {
   "cell_type": "code",
   "execution_count": 17,
   "id": "8dc03942-a961-4bf7-bb84-c9823429fc13",
   "metadata": {
    "tags": []
   },
   "outputs": [
    {
     "name": "stdout",
     "output_type": "stream",
     "text": [
      "Using 32 parallel processes\n"
     ]
    },
    {
     "name": "stderr",
     "output_type": "stream",
     "text": [
      "100%|███████████████████████████████████████████████████████████████████████████████████████████████████████████████| 214/214 [00:02<00:00, 78.92it/s]\n"
     ]
    },
    {
     "name": "stdout",
     "output_type": "stream",
     "text": [
      "Time elapsed: 4.14 s\n"
     ]
    }
   ],
   "source": [
    "sscCdi.tomo_unwrap(dic)"
   ]
  },
  {
   "cell_type": "code",
   "execution_count": 18,
   "id": "de1862c6-5d2e-4fc5-83da-01fa06ad21c0",
   "metadata": {
    "tags": []
   },
   "outputs": [
    {
     "data": {
      "application/vnd.jupyter.widget-view+json": {
       "model_id": "0199966981cc4f57b269e4ef7cc41a7d",
       "version_major": 2,
       "version_minor": 0
      },
      "text/plain": [
       "VBox(children=(IntSlider(value=107, description='Slice', layout=Layout(width='25%'), max=213), Output()))"
      ]
     },
     "metadata": {},
     "output_type": "display_data"
    }
   ],
   "source": [
    "sscCdi.deploy_visualizer(np.load(dic[\"unwrapped_sinogram_filepath\"]),title=\"Unwrapped sinogram\",cmap='gray')"
   ]
  },
  {
   "cell_type": "markdown",
   "id": "4766d187-201a-4e04-84bb-87aeafd7ab00",
   "metadata": {},
   "source": [
    "## 2D Equalization"
   ]
  },
  {
   "cell_type": "code",
   "execution_count": 19,
   "id": "670f16b5-9ea6-4fee-aba2-ad39f75db613",
   "metadata": {
    "tags": []
   },
   "outputs": [],
   "source": [
    "dic[\"sinogram_to_equalize\"] = 'unwrapped' # cropped or unwrapped\n",
    "dic[\"bad_frames_before_equalization\"] = []\n",
    "dic[\"equalize_gradient\"] = True\n",
    "dic[\"equalize_global_offset\"] = False\n",
    "dic[\"equalize_invert\"] = True\n",
    "dic[\"equalize_local_offset\"] = [0,50,0,50]\n",
    "dic[\"equalize_outliers\"] = 0"
   ]
  },
  {
   "cell_type": "code",
   "execution_count": 20,
   "id": "623b6caf-2bbf-4cc1-8857-8b8dc204ecf1",
   "metadata": {
    "tags": []
   },
   "outputs": [
    {
     "name": "stdout",
     "output_type": "stream",
     "text": [
      "Sinogram shape to unwrap:  (214, 579, 579)\n",
      "Using 32 parallel processes\n"
     ]
    },
    {
     "name": "stderr",
     "output_type": "stream",
     "text": [
      "100%|███████████████████████████████████████████████████████████████████████████████████████████████████████████████| 214/214 [00:06<00:00, 32.16it/s]\n"
     ]
    },
    {
     "name": "stdout",
     "output_type": "stream",
     "text": [
      "Min \t Mean-3*sigma \t Mean \t Mean+3*sigma \t Max \n",
      "Old  0.0 -3.6074194572404017 0.6918467435562231 4.991112944352848 5.428686880720798\n",
      "New  0.0 -4.462309718132019 0.97892106 6.4201518297195435 8.264117\n",
      "Time elapsed: 8.18 s\n"
     ]
    }
   ],
   "source": [
    "sscCdi.tomo_equalize(dic)"
   ]
  },
  {
   "cell_type": "code",
   "execution_count": 21,
   "id": "953159cd-1658-49cc-8996-33ca98dfa5e9",
   "metadata": {
    "tags": []
   },
   "outputs": [
    {
     "data": {
      "application/vnd.jupyter.widget-view+json": {
       "model_id": "6e2a0c70c9d341cd95ddef5290ca7c2a",
       "version_major": 2,
       "version_minor": 0
      },
      "text/plain": [
       "VBox(children=(IntSlider(value=107, description='Slice', layout=Layout(width='25%'), max=213), Output()))"
      ]
     },
     "metadata": {},
     "output_type": "display_data"
    }
   ],
   "source": [
    "sscCdi.deploy_visualizer(np.load(dic[\"equalized_sinogram_filepath\"]),title=\"Equalized sinogram\",cmap='gray')"
   ]
  },
  {
   "cell_type": "code",
   "execution_count": 22,
   "id": "9705fd7a-4f55-45cd-9375-a16a2f990f22",
   "metadata": {
    "tags": []
   },
   "outputs": [
    {
     "data": {
      "application/vnd.jupyter.widget-view+json": {
       "model_id": "9e4a35e773b748c8a8413a96cbd9e12f",
       "version_major": 2,
       "version_minor": 0
      },
      "text/plain": [
       "VBox(children=(IntSlider(value=289, description='Slice', layout=Layout(width='25%'), max=578), Output()))"
      ]
     },
     "metadata": {},
     "output_type": "display_data"
    }
   ],
   "source": [
    "sscCdi.deploy_visualizer(np.load(dic[\"equalized_sinogram_filepath\"]),title=\"Equalized sinogram\",cmap='gray',axis=1,aspect_ratio='auto')#,limits=(0,0.5))"
   ]
  },
  {
   "cell_type": "markdown",
   "id": "ad74754f-54f2-4d34-b1ce-9d683d49a5c4",
   "metadata": {},
   "source": [
    "## Alignment"
   ]
  },
  {
   "cell_type": "code",
   "execution_count": 23,
   "id": "f31698e0-9d53-48a2-b754-2ccef15da697",
   "metadata": {
    "tags": []
   },
   "outputs": [],
   "source": [
    "dic[\"wiggle_sinogram_selection\"] = dic[\"equalized_sinogram_filepath\"]\n",
    "dic[\"step_percentage\"] = 0 # need to project irregular angle steps to a regular grid?"
   ]
  },
  {
   "cell_type": "code",
   "execution_count": 24,
   "id": "9929518d-5dad-4a83-9571-3af502e1d550",
   "metadata": {
    "tags": []
   },
   "outputs": [
    {
     "name": "stdout",
     "output_type": "stream",
     "text": [
      "Simulating projection of angles to regular grid...\n",
      "Before+after frames added: 59\n",
      "Intermediate null frames : 105\n",
      "                        + -----\n",
      "Total null frames        : 164\n",
      "Frames being used        : 214  of  214\n",
      "                        + -----\n",
      "Projected Angles         : 378\n"
     ]
    }
   ],
   "source": [
    "sscCdi.preview_angle_projection(dic)"
   ]
  },
  {
   "cell_type": "code",
   "execution_count": 25,
   "id": "dc7c3f89-2ad6-46d1-b07d-a3b122f0eee8",
   "metadata": {},
   "outputs": [],
   "source": [
    "dic[\"CPUs\"] = 64\n",
    "dic[\"project_angles_to_regular_grid\"] = True\n",
    "dic[\"bad_frames_before_wiggle\"] = [] \n",
    "dic[\"wiggle_reference_frame\"] = 0"
   ]
  },
  {
   "cell_type": "code",
   "execution_count": 26,
   "id": "e8e9ba53-128c-4623-ae8e-dc40e508caa7",
   "metadata": {
    "tags": []
   },
   "outputs": [
    {
     "name": "stdout",
     "output_type": "stream",
     "text": [
      "ssc-radon: creating 378x579x579 shared arrays (tomogram)\n",
      "ssc-radon: creating 378x579x579 shared arrays (tomogram)\n",
      "\tFinished vertical wiggle. Starting horizontal wiggle...\n",
      "ssc-radon: creating 378x579x579 shared arrays (tomogram)\n",
      "Time elapsed: 8.51 s\n"
     ]
    }
   ],
   "source": [
    "dic = sscCdi.tomo_alignment(dic)"
   ]
  },
  {
   "cell_type": "code",
   "execution_count": 27,
   "id": "13606d7f-04bb-40f1-ba8f-db003e6d130c",
   "metadata": {},
   "outputs": [
    {
     "data": {
      "application/vnd.jupyter.widget-view+json": {
       "model_id": "38b1076e53574abdb2d5aa6f1aa2f39d",
       "version_major": 2,
       "version_minor": 0
      },
      "text/plain": [
       "VBox(children=(IntSlider(value=289, description='Slice', layout=Layout(width='25%'), max=578), Output()))"
      ]
     },
     "metadata": {},
     "output_type": "display_data"
    }
   ],
   "source": [
    "sscCdi.deploy_visualizer(np.load(dic[\"wiggle_sinogram_filepath\"]),title=\"Aligned sinogram\",cmap='gray',axis=1)"
   ]
  },
  {
   "cell_type": "markdown",
   "id": "8918241b-492b-4e75-adc7-a37c2bf36bf1",
   "metadata": {},
   "source": [
    "## Tomography"
   ]
  },
  {
   "cell_type": "code",
   "execution_count": 28,
   "id": "6eb132f6-ca40-4804-8a45-2b42688d60ef",
   "metadata": {
    "tags": []
   },
   "outputs": [],
   "source": [
    "dic[\"GPUs\"] = [0,1]\n",
    "dic[\"tomo_algorithm\"] = \"EEM\"\n",
    "dic[\"tomo_iterations\"] = 10\n",
    "dic[\"tomo_regularization_param\"] = 0 # if != 0, do regularization. Recommended = 0.001"
   ]
  },
  {
   "cell_type": "code",
   "execution_count": 29,
   "id": "0f1cf150-bbc8-44cc-a75a-ec908c148b22",
   "metadata": {},
   "outputs": [
    {
     "name": "stdout",
     "output_type": "stream",
     "text": [
      "Starting tomographic algorithm EEM with 10 iterations\n",
      "EM param: 20 [10, 3, 8] 0.0001 1e-15 eEM 378 [0, 1] 579 579\n",
      "\tApplying wiggle center-of-mass correction to 3D reconstructed slices...\n",
      "ssc-radon: creating 579x579x579 shared arrays (tomogram)\n",
      "\t Tomography done!\n",
      "Saving tomography logfile...\n",
      "\tSaved!\n",
      "Time elapsed: Tomography: 9.82306170463562 s\n"
     ]
    }
   ],
   "source": [
    "recon3D = sscCdi.tomo_recon(dic)"
   ]
  },
  {
   "cell_type": "code",
   "execution_count": 30,
   "id": "bd2c2829-93c2-4c92-a46c-05e9a5bc2b54",
   "metadata": {
    "tags": []
   },
   "outputs": [
    {
     "data": {
      "application/vnd.jupyter.widget-view+json": {
       "model_id": "3141893bfce74bc392a5e48cd6f61a43",
       "version_major": 2,
       "version_minor": 0
      },
      "text/plain": [
       "VBox(children=(IntSlider(value=289, description='Slice', layout=Layout(width='25%'), max=578), Output()))"
      ]
     },
     "metadata": {},
     "output_type": "display_data"
    }
   ],
   "source": [
    "sscCdi.deploy_visualizer(np.load(dic[\"reconstruction_filepath\"]),title=\"Recon\",cmap='gray',axis=0)#,limits=(-1,1))"
   ]
  },
  {
   "cell_type": "markdown",
   "id": "cb396c3e-04c5-4a9c-9567-8597800a1c37",
   "metadata": {},
   "source": [
    "## 3D Equalization"
   ]
  },
  {
   "cell_type": "code",
   "execution_count": 31,
   "id": "b2e85eae-3393-4e31-b999-7e943888a65f",
   "metadata": {
    "tags": []
   },
   "outputs": [],
   "source": [
    "dic[\"tomo_remove_outliers\"] = 0\n",
    "dic[\"tomo_threshold\"] = 15.0\n",
    "dic[\"tomo_local_offset\"] = []\n",
    "dic[\"tomo_mask\"] = []"
   ]
  },
  {
   "cell_type": "code",
   "execution_count": 32,
   "id": "fdcf93bb-5ac6-4767-b0a2-4e2ae3b4303d",
   "metadata": {},
   "outputs": [
    {
     "name": "stdout",
     "output_type": "stream",
     "text": [
      "Time elapsed: 1.33 s\n"
     ]
    }
   ],
   "source": [
    "sscCdi.tomo_equalize3D(dic)"
   ]
  },
  {
   "cell_type": "code",
   "execution_count": 33,
   "id": "cc3d8e5b-b21d-4eaf-84c8-9891659233fc",
   "metadata": {
    "tags": []
   },
   "outputs": [
    {
     "data": {
      "application/vnd.jupyter.widget-view+json": {
       "model_id": "5d8a924e64a84efe8d531e4291bcd974",
       "version_major": 2,
       "version_minor": 0
      },
      "text/plain": [
       "VBox(children=(IntSlider(value=289, description='Slice', layout=Layout(width='25%'), max=578), Output()))"
      ]
     },
     "metadata": {},
     "output_type": "display_data"
    }
   ],
   "source": [
    "sscCdi.deploy_visualizer(np.load(dic[\"eq_reconstruction_filepath\"]),title=\"Equalized Recon\",cmap='gray',axis=0)"
   ]
  },
  {
   "cell_type": "code",
   "execution_count": 34,
   "id": "c77432ae-61ab-472d-ae03-e653bdeef591",
   "metadata": {
    "tags": []
   },
   "outputs": [
    {
     "name": "stdout",
     "output_type": "stream",
     "text": [
      "Original data statistics:  \n",
      "\tMax = 3.27e+00\n",
      "\t Min = -9.53e-02\n",
      "\t Mean = 2.52e-01\n",
      "\t StdDev = 6.87e-01\n",
      "Thresholded data statistics:  \n",
      "\tMax = 3.27e+00\n",
      "\t Min = -9.53e-02\n",
      "\t Mean = 2.52e-01\n",
      "\t StdDev = 6.87e-01\n"
     ]
    },
    {
     "data": {
      "application/vnd.jupyter.widget-view+json": {
       "model_id": "9015ce2b6ba443799807984b8f8f7664",
       "version_major": 2,
       "version_minor": 0
      },
      "image/png": "[encoded data removed]",
      "text/html": [
       "\n",
       "            <div style=\"display: inline-block;\">\n",
       "                <div class=\"jupyter-widgets widget-label\" style=\"text-align: center;\">\n",
       "                    Figure\n",
       "                </div>\n",
       "                <img src='data:image/png;base64,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' width=1300.0/>\n",
       "            </div>\n",
       "        "
      ],
      "text/plain": [
       "Canvas(header_visible=False, toolbar=Toolbar(toolitems=[('Home', 'Reset original view', 'home', 'home'), ('Bac…"
      ]
     },
     "metadata": {},
     "output_type": "display_data"
    }
   ],
   "source": [
    "equalized_tomogram = np.load(dic[\"eq_reconstruction_filepath\"])\n",
    "sscCdi.plot_histograms(recon3D, equalized_tomogram,bins=300)"
   ]
  },
  {
   "cell_type": "code",
   "execution_count": null,
   "id": "ec25111e-6cb6-4aee-8fe1-433fe176be3c",
   "metadata": {},
   "outputs": [],
   "source": []
  }
 ],
 "metadata": {
  "kernelspec": {
   "display_name": "Python 3 (ipykernel)",
   "language": "python",
   "name": "python3"
  },
  "language_info": {
   "codemirror_mode": {
    "name": "ipython",
    "version": 3
   },
   "file_extension": ".py",
   "mimetype": "text/x-python",
   "name": "python",
   "nbconvert_exporter": "python",
   "pygments_lexer": "ipython3",
   "version": "3.9.2"
  }
 },
 "nbformat": 4,
 "nbformat_minor": 5
}
