{
 "cells": [
  {
   "cell_type": "code",
   "execution_count": null,
   "id": "77225029-b80e-4ca0-9a14-201b3151a7c4",
   "metadata": {
    "tags": []
   },
   "outputs": [],
   "source": [
    "import numpy as np\n",
    "import matplotlib.pyplot as plt\n",
    "\n",
    "from skimage import data\n",
    "from skimage.transform import pyramid_gaussian\n",
    "\n",
    "import sscPhantom \n",
    "# import xraydb"
   ]
  },
  {
   "cell_type": "code",
   "execution_count": null,
   "id": "172be13f-1a39-4fcc-9db7-cb3832d14b7b",
   "metadata": {
    "tags": []
   },
   "outputs": [],
   "source": [
    "def calculate_delta_beta_xraydb(material,energy):\n",
    "    \n",
    "    if material == 'Ni': # nickel\n",
    "        density = 8.908 # g/cm^3\n",
    "    elif material == 'Si': # silicon\n",
    "        density = 2.329002\n",
    "    elif material == 'W': # tungsten\n",
    "        density = 19.25\n",
    "    elif material == 'Au': # gold\n",
    "        density = 19.3\n",
    "    elif material == 'C': # carbon\n",
    "        density = 2.2\n",
    "        \n",
    "    delta, beta, attenuation_length = xraydb.xray_delta_beta(material,density,energy)\n",
    "    return delta, beta \n",
    "\n",
    "def get_phantom(inputs):\n",
    "\n",
    "    params = { 'HowMany': 10,\n",
    "               'radius': 0.07,\n",
    "               'Rtorus': 0.5,\n",
    "               'rtorus': 0.1}\n",
    "    \n",
    "    phantom2, phantom1 = sscPhantom.donuts.createDonuts( inputs[\"matrix_size\"],inputs[\"n_cpus\"], inputs[\"energy\"], params )\n",
    "    \n",
    "    print(np.max(phantom1), np.mean(phantom1), np.min(phantom1))\n",
    "    print(np.max(phantom2), np.mean(phantom2), np.min(phantom2))    \n",
    "    \n",
    "    # phantom2 = phantom2/np.max(phantom2)\n",
    "    # delta, beta = calculate_delta_beta_xraydb('C',inputs[\"energy\"]*1e3)\n",
    "    # print(delta,beta)\n",
    "    # phantom2 = beta*phantom2*np.exp(1j*delta*phantom2)\n",
    "\n",
    "    # mean = np.mean(phantom1[phantom1>0])\n",
    "    # print('mean',mean)\n",
    "    \n",
    "    # Gold\n",
    "    # phantom1 = phantom1/np.max(phantom1)\n",
    "\n",
    "    donut = phantom1 + phantom2\n",
    "    phantom = np.swapaxes(donut,1,0)\n",
    "\n",
    "    return phantom"
   ]
  },
  {
   "cell_type": "code",
   "execution_count": null,
   "id": "3dcee099-ab92-488b-bab2-73657c3b9a4a",
   "metadata": {
    "tags": []
   },
   "outputs": [],
   "source": [
    "inputs = {}\n",
    "inputs[\"matrix_size\"] = 256\n",
    "inputs[\"n_cpus\"] = 32 \n",
    "inputs[\"energy\"] = 9"
   ]
  },
  {
   "cell_type": "code",
   "execution_count": null,
   "id": "20381018-5735-4eaa-9ed6-dc8e9e7100fd",
   "metadata": {
    "tags": []
   },
   "outputs": [],
   "source": [
    "phantom = get_phantom(inputs)\n",
    "phantom.shape"
   ]
  },
  {
   "cell_type": "code",
   "execution_count": null,
   "id": "7295b36f-8013-4503-8c61-6f3dbbaddd34",
   "metadata": {
    "tags": []
   },
   "outputs": [],
   "source": [
    "proj = np.sum(phantom,axis=0)\n",
    "\n",
    "fig, ax = plt.subplots(dpi=150)\n",
    "ax.imshow(np.abs(proj))"
   ]
  },
  {
   "cell_type": "code",
   "execution_count": 6,
   "id": "f05c47ec-25d1-4ec4-90be-d888fe1fbfca",
   "metadata": {
    "tags": []
   },
   "outputs": [
    {
     "name": "stdout",
     "output_type": "stream",
     "text": [
      "349 174.5\n",
      "350 175.0\n",
      "351 175.5\n",
      "352 176.0\n",
      "353 176.5\n",
      "354 177.0\n",
      "355 177.5\n",
      "356 178.0\n",
      "357 178.5\n",
      "358 179.0\n",
      "359 179.5\n",
      "360 180.0\n"
     ]
    }
   ],
   "source": [
    "from scipy.ndimage import rotate\n",
    "\n",
    "def rotate_matrix(matrix,angle,rotation_point=None):\n",
    "    \n",
    "    if rotation_point == None:\n",
    "        rotation_point = (matrix.shape[0]//2,matrix.shape[1]//2)\n",
    "\n",
    "    real_part, imag_part = matrix.real, matrix.imag \n",
    "    rotated_matrix = rotate(real_part,angle,axes=(0,2),reshape=False)\n",
    "    \n",
    "    return rotated_matrix\n",
    "\n",
    "angles = np.linspace(0,180,360+1)\n",
    "# angles = [0,1,2,3,4]\n",
    "sinogram = np.empty((len(angles),phantom.shape[0],phantom.shape[1]))\n",
    "for i, angle in enumerate(angles):\n",
    "    phantom_rotated = rotate_matrix(phantom,angle)\n",
    "    proj = np.sum(phantom_rotated,axis=0)\n",
    "    sinogram[i] = proj\n",
    "    print(i,angle)\n",
    "    # fig, ax = plt.subplots(dpi=100)\n",
    "    # ax.imshow(proj)\n",
    "    # plt.show()\n",
    "    # plt.close()\n",
    "    \n",
    "np.save('/ibira/lnls/beamlines/caterete/apps/gcc-jupyter/00000000/proc/recons/phantom_donut/regular_angles_donut.npy',sinogram)    \n"
   ]
  },
  {
   "cell_type": "code",
   "execution_count": 20,
   "id": "977bef4d-aabe-4b72-99d7-6361a40da237",
   "metadata": {
    "tags": []
   },
   "outputs": [
    {
     "name": "stdout",
     "output_type": "stream",
     "text": [
      "(361, 256, 256)\n",
      "(361, 2)\n"
     ]
    }
   ],
   "source": [
    "print(sinogram.shape)\n",
    "angles = np.linspace(0,180,360+1)\n",
    "a = np.linspace(0,360,360+1)\n",
    "angles = np.vstack((a,angles)).T\n",
    "print(angles.shape)\n",
    "np.save('/ibira/lnls/beamlines/caterete/apps/gcc-jupyter/00000000/proc/recons/phantom_donut/angles.npy',angles)"
   ]
  },
  {
   "cell_type": "code",
   "execution_count": 32,
   "id": "413e9275-478b-4396-bdb7-c78bf3099b70",
   "metadata": {},
   "outputs": [],
   "source": [
    "shifted_sinogram = np.empty_like(sinogram)\n",
    "pixel_shifts = []\n",
    "for i, proj in enumerate(sinogram):\n",
    "\n",
    "    factor = 25\n",
    "    \n",
    "    px = int((np.random.rand(1)-0.5)*factor)\n",
    "    py = int((np.random.rand(1)-0.5)*factor)\n",
    "    \n",
    "    pixel_shifts.append((py,px))\n",
    "\n",
    "    shifted = np.roll(proj, shift=px, axis=1)\n",
    "    shifted_sinogram[i] = np.roll(shifted, shift=py, axis=0)\n",
    "     \n",
    "    # fig, ax = plt.subplots(1,2,dpi=100)\n",
    "    # ax[0].imshow(proj)\n",
    "    # ax[1].imshow(shifted)\n",
    "\n",
    "np.save('/ibira/lnls/beamlines/caterete/apps/gcc-jupyter/00000000/proc/recons/phantom_donut/regular_angles_donut_shifted.npy',shifted_sinogram)    \n",
    "np.save('/ibira/lnls/beamlines/caterete/apps/gcc-jupyter/00000000/proc/recons/phantom_donut/pixel_shifts.npy',np.asarray(pixel_shifts))"
   ]
  },
  {
   "cell_type": "code",
   "execution_count": 24,
   "id": "c546d7ec-191a-462f-abc1-9b15003651bf",
   "metadata": {
    "tags": []
   },
   "outputs": [],
   "source": [
    "%matplotlib widget\n",
    "import sscCdi"
   ]
  },
  {
   "cell_type": "code",
   "execution_count": 92,
   "id": "4686ae27-7490-4d0b-841f-1f2a9165c8ed",
   "metadata": {},
   "outputs": [],
   "source": [
    "import numpy as np\n",
    "import h5py\n",
    "from matplotlib import pyplot as plt\n",
    "o_path = \"/ibira/lnls/beamlines/caterete/apps/gcc-jupyter/00000000/proc/recons/phantom_donut/phantom_donut.hdf5\"\n",
    "\n",
    "path = \"/ibira/lnls/beamlines/caterete/apps/gcc-jupyter/00000000/proc/recons/phantom_donut/regular_angles_donut_shifted.npy\"\n",
    "shifted_data = np.load(path)\n",
    "\n",
    "path = \"/ibira/lnls/beamlines/caterete/apps/gcc-jupyter/00000000/proc/recons/phantom_donut/angles.npy\"\n",
    "angles = np.load(path)\n",
    "\n",
    "path = \"/ibira/lnls/beamlines/caterete/apps/gcc-jupyter/00000000/proc/recons/phantom_donut/regular_angles_donut.npy\"\n",
    "data = np.load(path)\n",
    "\n",
    "path = \"/ibira/lnls/beamlines/caterete/apps/gcc-jupyter/00000000/proc/recons/phantom_donut/pixel_shifts.npy\"\n",
    "shifts = np.load(path)\n",
    "\n",
    "def make_complex(data):\n",
    "    data = data/np.max(data)\n",
    "    data[data<1e-2] = 0\n",
    "    data += 1e-2\n",
    "    # data += 0.1*np.mean(data)*np.random.rand(*data.shape)\n",
    "    data = data*np.exp(-1j*0.7*np.pi*(data))\n",
    "    # data[np.abs(np.angle(data))<1e-3] = 1e-2\n",
    "    return data\n",
    "\n",
    "data = make_complex(data)\n",
    "shifted_data = make_complex(shifted_data)\n",
    "\n",
    "\n",
    "angles = np.hstack((angles,angles))\n",
    "angles[:,2] = angles[:,3]\n",
    "angles[:,3] = angles[:,3]*np.pi/180\n",
    "angles[:,1] = 0\n",
    "angles.shape, angles\n",
    "\n",
    "\n",
    "with h5py.File(o_path, 'w') as f:\n",
    "    dset = f.create_dataset('recon/object', data=shifted_data)\n",
    "    dset = f.create_dataset('recon/angles', data=angles)\n",
    "    dset = f.create_dataset('recon/original_object', data=data)\n",
    "    dset = f.create_dataset('recon/pixel_shifts', data=shifts)\n",
    "    \n",
    "    f.close()"
   ]
  },
  {
   "cell_type": "code",
   "execution_count": 93,
   "id": "52248350-2674-4bae-915f-7675ce31bab3",
   "metadata": {
    "tags": []
   },
   "outputs": [
    {
     "data": {
      "application/vnd.jupyter.widget-view+json": {
       "model_id": "b6c60553dbe7471f9e14b9a7d85939be",
       "version_major": 2,
       "version_minor": 0
      },
      "text/plain": [
       "VBox(children=(IntSlider(value=180, description='Slice', layout=Layout(width='25%'), max=360), Output()))"
      ]
     },
     "metadata": {},
     "output_type": "display_data"
    }
   ],
   "source": [
    "sscCdi.deploy_visualizer(shifted_data,type='phase',title=\"Cropped sinogram\",cmap='gray')"
   ]
  },
  {
   "cell_type": "code",
   "execution_count": null,
   "id": "668495b2-2c51-46c8-8d8d-f36ebcaea572",
   "metadata": {},
   "outputs": [],
   "source": []
  }
 ],
 "metadata": {
  "kernelspec": {
   "display_name": "Python 3 (ipykernel)",
   "language": "python",
   "name": "python3"
  },
  "language_info": {
   "codemirror_mode": {
    "name": "ipython",
    "version": 3
   },
   "file_extension": ".py",
   "mimetype": "text/x-python",
   "name": "python",
   "nbconvert_exporter": "python",
   "pygments_lexer": "ipython3",
   "version": "3.9.2"
  }
 },
 "nbformat": 4,
 "nbformat_minor": 5
}
