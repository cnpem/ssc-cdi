{
 "cells": [
  {
   "cell_type": "code",
   "execution_count": 1,
   "id": "dffa738d-2d5d-47d8-8d83-d341f36fe559",
   "metadata": {
    "tags": []
   },
   "outputs": [
    {
     "data": {
      "text/plain": [
       "<HDF5 dataset \"1\": shape (5, 5), type \"<c8\">"
      ]
     },
     "execution_count": 1,
     "metadata": {},
     "output_type": "execute_result"
    }
   ],
   "source": [
    "import numpy as np\n",
    "import h5py\n",
    "\n",
    "file = h5py.File('test.h5','a')\n",
    "\n",
    "name = '1'\n",
    "data = np.ones((5,5),dtype=np.complex64)\n",
    "\n",
    "file.create_dataset(name,data=data)"
   ]
  },
  {
   "cell_type": "code",
   "execution_count": 2,
   "id": "36580e36-9c5f-4e64-9163-cabe152e3ced",
   "metadata": {
    "tags": []
   },
   "outputs": [],
   "source": [
    "file.close()"
   ]
  },
  {
   "cell_type": "code",
   "execution_count": null,
   "id": "001b3960-49e7-4a13-b25a-75c767bb15a6",
   "metadata": {},
   "outputs": [],
   "source": []
  }
 ],
 "metadata": {
  "kernelspec": {
   "display_name": "Python 3 (ipykernel)",
   "language": "python",
   "name": "python3"
  },
  "language_info": {
   "codemirror_mode": {
    "name": "ipython",
    "version": 3
   },
   "file_extension": ".py",
   "mimetype": "text/x-python",
   "name": "python",
   "nbconvert_exporter": "python",
   "pygments_lexer": "ipython3",
   "version": "3.9.2"
  }
 },
 "nbformat": 4,
 "nbformat_minor": 5
}
