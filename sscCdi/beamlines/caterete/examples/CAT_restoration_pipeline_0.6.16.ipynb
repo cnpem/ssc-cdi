{
 "cells": [
  {
   "cell_type": "markdown",
   "metadata": {},
   "source": [
    "# GCC's ssc-cdi : Restoration Interface for Cateretê, v0.0.6\n",
    " \n",
    "- #### To visualize outputs in real time, open the log console at: View > Show Log Console\n",
    "- #### The processed data will be saved in the corresponding folder at .../proc/recons/...\n",
    "- #### Questions? E-mail gcc@lnls.br"
   ]
  },
  {
   "cell_type": "code",
   "execution_count": 1,
   "metadata": {
    "tags": []
   },
   "outputs": [],
   "source": [
    "%matplotlib widget\n",
    "import numpy as np\n",
    "from sscCdi import restoration_CAT, deploy_visualizer"
   ]
  },
  {
   "cell_type": "markdown",
   "metadata": {},
   "source": [
    "## Inputs"
   ]
  },
  {
   "cell_type": "code",
   "execution_count": 2,
   "metadata": {
    "tags": []
   },
   "outputs": [],
   "source": [
    "restoration_method = \"CUDA\" # \"IO\" or \"CUDA\"\n",
    "\n",
    "input_dict = {\n",
    "    \n",
    "'beamline': 'CAT',\n",
    "'detector': '540D',\n",
    "\n",
    "\"data_path\": [\"/ibira/lnls/beamlines/caterete/apps/gcc-jupyter/00000000/data/ptycho2d/SS03112022_02/scans/0000_SS03112022_02_001.hdf5\",\"/ibira/lnls/beamlines/caterete/apps/gcc-jupyter/00000000/data/ptycho2d/SS03112022_02/scans/0000_SS03112022_02_001.hdf5\"],\n",
    "\"flatfield\": \"/ibira/lnls/beamlines/caterete/apps/gcc-jupyter/00000000/data/ptycho2d/SS03112022_02/images/flat.hdf5\", # if it is a npy file it will perform the forward restoration, if it is not, it will simply load the hdf5 file\n",
    "\"mask\": \"/ibira/lnls/beamlines/caterete/apps/gcc-jupyter/00000000/data/ptycho2d/SS03112022_02/images/mask.hdf5\",\n",
    "\"subtraction_path\": \"/ibira/lnls/beamlines/caterete/apps/gcc-jupyter/00000000/data/ptycho2d/SS03112022_02/images/flat.hdf5\",\n",
    "\"empty_path\":  \"/ibira/lnls/beamlines/caterete/apps/gcc-jupyter/00000000/data/ptycho2d/SS03112022_02/images/empty.hdf5\",\n",
    "\"save_path\": '/ibira/lnls/beamlines/caterete/apps/gcc-jupyter/00000000/SS03112022_02/tmp/', \n",
    "\n",
    "'CPUs': 64,\n",
    "'GPUs': [0, 1],\n",
    "\n",
    "'detector_distance': 10, # meters\n",
    "'binning': 1,\n",
    "'using_direct_beam': True,\n",
    "'DP_center': [1380,1340], # [center_row, center_column] \n",
    "'fill_blanks': False,\n",
    "'keep_original_negative_values': False,\n",
    "'suspect_border_pixels': 3,\n",
    "'detector_ROI_radius': 300,\n",
    "    \n",
    "}\n"
   ]
  },
  {
   "cell_type": "markdown",
   "metadata": {},
   "source": [
    "## Process Data"
   ]
  },
  {
   "cell_type": "code",
   "execution_count": 3,
   "metadata": {
    "tags": []
   },
   "outputs": [
    {
     "name": "stdout",
     "output_type": "stream",
     "text": [
      "Corrected center position: cy=1389 cx=1354\n",
      "Restoring data...\n",
      "ssc-pimega: reading and restoring /ibira/lnls/beamlines/caterete/apps/gcc-jupyter/00000000/data/ptycho2d/SS03112022_02/scans/0000_SS03112022_02_001.hdf5 @ GPU no. 0\n",
      "ssc-pimega: reading and restoring /ibira/lnls/beamlines/caterete/apps/gcc-jupyter/00000000/data/ptycho2d/SS03112022_02/scans/0000_SS03112022_02_001.hdf5 @ GPU no. 1\n",
      "ssc-pimega: file /ibira/lnls/beamlines/caterete/apps/gcc-jupyter/00000000/data/ptycho2d/SS03112022_02/scans/0000_SS03112022_02_001.hdf5 sent to: /ibira/lnls/labs/tepui/home/yuri.tonin/00000000/proc/recons// 625 images @ uid: 88a51185-a791-47ef-8b72-6488fafa3323\n",
      "ssc-pimega: file /ibira/lnls/beamlines/caterete/apps/gcc-jupyter/00000000/data/ptycho2d/SS03112022_02/scans/0000_SS03112022_02_001.hdf5 sent to: /ibira/lnls/labs/tepui/home/yuri.tonin/00000000/proc/recons// 625 images @ uid: 4f53e880-2c9f-41cd-a783-755db7904b6a\n",
      "Reading restored data...\n",
      "Cleaning temporary data...\n",
      "Output data shape (1250, 600, 600). Type: float32\n",
      "Dataset size: 1800.00 MBs = 1.80 GBs\n",
      "Saving data at:  /ibira/lnls/labs/tepui/home/yuri.tonin/00000000/proc/recons/\n"
     ]
    }
   ],
   "source": [
    "diffraction_patterns = restoration_CAT(input_dict, method=restoration_method)"
   ]
  },
  {
   "cell_type": "markdown",
   "metadata": {},
   "source": [
    "## View processed data\n",
    "    - Plot containing the processed data. Use slider to scan through slices and visualize each diffraction pattern\n",
    "    - ATTENTION: since \"processed_data\" may have up to GBs of size, plots can take a long time to load (up to a few minutes) \n",
    "    If you want to have a quick preview of the data only, select a small portion of the data using a slice, for instance, by changing \"diffraction_patterns\" to \"diffraction_patterns[25:50]\" to preview only slices 25 to 50"
   ]
  },
  {
   "cell_type": "code",
   "execution_count": 4,
   "metadata": {},
   "outputs": [
    {
     "data": {
      "application/vnd.jupyter.widget-view+json": {
       "model_id": "6a1a2ae844624447b256a799d5397aeb",
       "version_major": 2,
       "version_minor": 0
      },
      "text/plain": [
       "VBox(children=(IntSlider(value=5, description='Slice', layout=Layout(width='25%'), max=9), Output()))"
      ]
     },
     "metadata": {},
     "output_type": "display_data"
    }
   ],
   "source": [
    "deploy_visualizer(diffraction_patterns[0:10],title='Restored DPs',cmap='jet',norm='LogNorm')"
   ]
  },
  {
   "cell_type": "code",
   "execution_count": null,
   "metadata": {},
   "outputs": [],
   "source": []
  }
 ],
 "metadata": {
  "kernelspec": {
   "display_name": "Python 3 (ipykernel)",
   "language": "python",
   "name": "python3"
  },
  "language_info": {
   "codemirror_mode": {
    "name": "ipython",
    "version": 3
   },
   "file_extension": ".py",
   "mimetype": "text/x-python",
   "name": "python",
   "nbconvert_exporter": "python",
   "pygments_lexer": "ipython3",
   "version": "3.9.2"
  }
 },
 "nbformat": 4,
 "nbformat_minor": 4
}
