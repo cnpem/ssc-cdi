{
 "cells": [
  {
   "cell_type": "markdown",
   "id": "7ae7ed71-9aea-4cad-bd90-846ec0a01957",
   "metadata": {},
   "source": [
    "## Near-field Ptychography Pipeline"
   ]
  },
  {
   "cell_type": "code",
   "execution_count": 1,
   "id": "310eac57-266c-4e2d-a0d5-a8265d8d567c",
   "metadata": {
    "tags": []
   },
   "outputs": [
    {
     "name": "stdout",
     "output_type": "stream",
     "text": [
      "sscCdi version = 0.7.14\n"
     ]
    }
   ],
   "source": [
    "import numpy\n",
    "import matplotlib.pyplot as plt\n",
    "\n",
    "import sscCdi\n",
    "\n",
    "print(f'sscCdi version = {sscCdi.__version__}')"
   ]
  },
  {
   "cell_type": "code",
   "execution_count": null,
   "id": "b31849a8-a432-4ddc-8af3-1395648d653a",
   "metadata": {},
   "outputs": [],
   "source": [
    "input_dict = \n",
    "{'path': '/ibira/lnls/labs/tepui/home/yuri.tonin/00000000/data/ptycho3d/complex_phantom/',\n",
    " 'n_cpus': 32,\n",
    " 'energy': 22, # keV\n",
    " 'distance': 0.995721938, # z2 detector-sample distance\n",
    " 'source_distance': 0.004278062, # z1 source-sample distance. should be 0 for paralel beam case\n",
    " 'detector_pixel_size': 1.44e-06, # meters\n",
    " 'object_padding': 100, # pixels \n",
    " 'probe_support': None,\n",
    " 'fresnel_regime' = True,\n",
    " 'incoherent_modes': 1,\n",
    "\n",
    "\n",
    "'algorithms': {\n",
    "    \n",
    "'1': {'name': 'ePIE_python',\n",
    "        'iterations': 100,\n",
    "        'regularization_object': 0.25,\n",
    "        'regularization_probe': 0.5,\n",
    "        'step_object': 0.5,\n",
    "        'step_probe': 1,\n",
    "        'use_mPIE': False, # friction and momentum counter only relevant if this is True\n",
    "        'mPIE_friction_obj': 0.9,\n",
    "        'mPIE_friction_probe': 0.99,\n",
    "        'mPIE_momentum_counter': 10,\n",
    "        },\n",
    "    \n",
    "'2':  {'name': 'RAAR_python',\n",
    "        'iterations': 30,\n",
    "        'regularization_object': 0.25,\n",
    "        'regularization_probe': 0.5,\n",
    "        'step_object': 0.9,\n",
    "        'step_probe': 0.9,\n",
    "        }\n",
    "}"
   ]
  },
  {
   "cell_type": "markdown",
   "id": "7c470a88-76d3-4565-82bd-fd23bd00d356",
   "metadata": {},
   "source": [
    "## Load data"
   ]
  },
  {
   "cell_type": "code",
   "execution_count": null,
   "id": "07d6532e-9763-4e6f-bef3-e5bc9989547a",
   "metadata": {},
   "outputs": [],
   "source": [
    "DPs = np.load(input_dict['path'])\n",
    "print(f'Data shape = {DPs.shape}')\n",
    "print(\"Size of the array:\", DPs.nbytes / (1024**3), \"GB\") # Get the size of the array in bytes and convert the size to gigabytes"
   ]
  },
  {
   "cell_type": "markdown",
   "id": "d786fc6f-fdca-40d3-bb24-57331d5fed01",
   "metadata": {},
   "source": [
    "### Load positions"
   ]
  },
  {
   "cell_type": "code",
   "execution_count": null,
   "id": "d00d77c2-b91e-4a00-b0fb-38a308bbfd31",
   "metadata": {},
   "outputs": [],
   "source": [
    "scan_positions = sscCdi.read_mogno_probe_positions(input_dict,DPs.shape)\n",
    "print(f'Positions shape = {scan_positions.shape}')"
   ]
  },
  {
   "cell_type": "markdown",
   "id": "42d3e731-94f8-4e7e-a0ec-4e2f6893a8a6",
   "metadata": {},
   "source": [
    "### Set initial object"
   ]
  },
  {
   "cell_type": "code",
   "execution_count": null,
   "id": "5355bd72-03fe-45d7-b7e0-4c8b09656c58",
   "metadata": {},
   "outputs": [],
   "source": [
    "inputs = sscCdi.set_object_shape(inputs, DPs.shape, positions)\n",
    "obj_guess = np.ones(inputs[\"object_shape\"])\n",
    "print(f'Object shape = {inputs[\"object_shape\"]}')"
   ]
  },
  {
   "cell_type": "markdown",
   "id": "31595707-7015-4fa5-8866-5982c61a3c2b",
   "metadata": {},
   "source": [
    "### Initial probe: use flat if available, otherwise, constant array of 1's"
   ]
  },
  {
   "cell_type": "code",
   "execution_count": null,
   "id": "e1789646-cdee-4cd6-9285-f857f2a9904f",
   "metadata": {},
   "outputs": [],
   "source": [
    "probe_guess = np.load('empty.npy') + 1j\n",
    "print(f'Probe shape = {probe.shape}')"
   ]
  },
  {
   "cell_type": "markdown",
   "id": "b5149b8b-52c1-4a22-9896-bedef01c487d",
   "metadata": {},
   "source": [
    "### Call Ptychography"
   ]
  },
  {
   "cell_type": "code",
   "execution_count": null,
   "id": "f3577204-7264-403d-a5d9-db73aff53ac0",
   "metadata": {},
   "outputs": [],
   "source": [
    "obj, probes, input_dict = sscCdi.call_ptychography(input_dict,DPs,scan_positions,initial_obj=obj_guess,initial_probe=probe_guess)\n",
    "print(f'Object shape = {obj.shape} \\t Probe shape = {probes.shape}')"
   ]
  },
  {
   "cell_type": "code",
   "execution_count": null,
   "id": "66521194-33c9-40e1-8192-366837d77c5f",
   "metadata": {},
   "outputs": [],
   "source": [
    "sscCdi.deploy_visualizer(obj,axis=0,cmap='cividis')"
   ]
  },
  {
   "cell_type": "code",
   "execution_count": null,
   "id": "137c43a9-df11-42d1-a383-ab708b395495",
   "metadata": {},
   "outputs": [],
   "source": [
    "fig, ax = plt.subplots(2,4,figsize=(13,8),dpi=100)\n",
    "ax[0,0].imshow(np.abs(RAAR_obj)), ax[0,0].set_title('Obj Mag')\n",
    "ax[0,0].plot(positions[:,1],positions[:,0],'.',color='r')\n",
    "ax[0,1].imshow(np.angle(RAAR_obj)), ax[0,1].set_title('Obj Phase')\n",
    "ax[0,2].imshow(np.abs(empty),vmax=6000), ax[0,2].set_title('Flat')\n",
    "ax[1,0].imshow(np.abs(RAAR_probes[0])), ax[1,0].set_title('Probe Mag')\n",
    "ax[1,1].imshow(np.angle(RAAR_probes[0])), ax[1,1].set_title('Probe Phase')\n",
    "ax[1,2].imshow(np.abs(propagated_probe),vmax=0.5), ax[1,2].set_title('Mag Propagated')\n",
    "ax[1,3].imshow(np.angle(propagated_probe),vmax=0.1,vmin=-0.1), ax[1,3].set_title('Phase Propagated')\n",
    "ax[0,3].plot(RAAR_error,'o-',label='Error')\n",
    "ax[0,3].set_xlabel('Iterations')\n",
    "ax[0,3].legend(), ax[0,3].grid()\n",
    "\n",
    "fig.suptitle('Tim Salditt RHD sample - Near Field Ptychography')\n",
    "\n",
    "for i, ax in enumerate(ax.ravel()):\n",
    "    if i==3 or i==0 or i ==4: continue\n",
    "    ax.set_xticks([])\n",
    "    ax.set_yticks([])"
   ]
  }
 ],
 "metadata": {
  "kernelspec": {
   "display_name": "Python 3 (ipykernel)",
   "language": "python",
   "name": "python3"
  },
  "language_info": {
   "codemirror_mode": {
    "name": "ipython",
    "version": 3
   },
   "file_extension": ".py",
   "mimetype": "text/x-python",
   "name": "python",
   "nbconvert_exporter": "python",
   "pygments_lexer": "ipython3",
   "version": "3.9.2"
  }
 },
 "nbformat": 4,
 "nbformat_minor": 5
}
