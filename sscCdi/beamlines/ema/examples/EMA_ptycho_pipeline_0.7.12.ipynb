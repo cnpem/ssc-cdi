{
 "cells": [
  {
   "cell_type": "markdown",
   "id": "154f122b-7ac9-42ca-aa5a-5fc929e9a03b",
   "metadata": {},
   "source": [
    "# GCC's ssc-cdi : ptychography pipeline for EMA v0.7.12\n",
    " \n",
    "- #### Questions? E-mail gcc@lnls.br\n",
    "- #### Documentation about the ssc-cdi package: https://gcc.lnls.br/wiki/"
   ]
  },
  {
   "cell_type": "markdown",
   "id": "5907b5fd-c1a2-41bb-a750-f5a2752f694b",
   "metadata": {},
   "source": [
    "## Imports"
   ]
  },
  {
   "cell_type": "code",
   "execution_count": 1,
   "id": "d27ac7ad-ba2e-43b4-b22e-fd31f4301ad5",
   "metadata": {
    "tags": []
   },
   "outputs": [
    {
     "name": "stdout",
     "output_type": "stream",
     "text": [
      "sscCdi version: 0.6.40\n",
      "sscResolution version: 0.6\n"
     ]
    }
   ],
   "source": [
    "%matplotlib widget\n",
    "import os, json, h5py\n",
    "import numpy as np\n",
    "import matplotlib.pyplot as plt\n",
    "from matplotlib.colors import LogNorm\n",
    "import sscInstall\n",
    "import sscCdi\n",
    "import sscResolution\n",
    "import time\n",
    "from PIL import Image\n",
    "\n",
    "print(f'sscCdi version: {sscCdi.__version__}')"
   ]
  },
  {
   "cell_type": "markdown",
   "id": "9dd92c92-7003-42ae-9877-57fd9709ee52",
   "metadata": {
    "jp-MarkdownHeadingCollapsed": true,
    "tags": []
   },
   "source": [
    "## Inputs"
   ]
  },
  {
   "cell_type": "code",
   "execution_count": 2,
   "id": "661e7fa9-63e2-460f-8d62-0780550cb1cd",
   "metadata": {
    "tags": []
   },
   "outputs": [
    {
     "name": "stdout",
     "output_type": "stream",
     "text": [
      "\tData path:  /ibira/lnls/labs/tepui/proposals/20210062/camila/ema/proposals/00000000/data/ptycho-files/ptycho_file_001.h5\n",
      "\tOutput path: /ibira/lnls/labs/tepui/proposals/20210062/camila/ema/proposals/00000000/proc/ptycho-files\n"
     ]
    }
   ],
   "source": [
    "input_dict = {\n",
    "    \n",
    "\"beamline\": \"EMA\",\n",
    "\"detector\": \"Moibipix\",\n",
    "    \n",
    "\"data_path\": \"/ibira/lnls/beamlines/ema/proposals/20210094/data/ptycho-files/ptycho_file_001.h5\",\n",
    "\"beamline_parameters_path\": \"/ibira/lnls/beamlines/ema/proposals/20210094/data/ptycho-files/ptycho_aux.h5\",\n",
    "\"output_path\": \"/ibira/lnls/beamlines/ema/proposals/20210094/proc/ptycho-files\", # you must create the proc folder before run, or give a valid output path\n",
    " \n",
    "    \n",
    "\"positions_unit_conversion\": 1.0,\n",
    "    \n",
    "\"flatfield\": \"/ibira/lnls/labs/ldet/mobipix_15D/mobipix_007/01_Calibracao/Flat Field/100imgs/Ge_FF.tif\", # path to flat fiedl\n",
    "\"mask\": \"\", # path to mask, must be in .tif\n",
    "\n",
    "\"CPUs\": 32,\n",
    "\"GPUs\": [0],\n",
    "\n",
    "'binning':1,\n",
    "    \n",
    "\"detector_distance\": 2.9, # meters\n",
    "    \n",
    "\"DP_center\": [362,376], # [center_y, center_x]\n",
    "\"DP_radius\": 100,  # crop radius\n",
    "\n",
    "\"position_rotation\": 0.0,\n",
    "\n",
    "\"object_padding\": 30,\n",
    "\n",
    "\"incoherent_modes\": 1,\n",
    "\"probe_support\": [ \"circular\", 100,0,0 ], # [ \"cross\", cross_width, border, center_width ], [\"circular\",radius]\n",
    "# \"probe_support\": [ \"cross\", 47, 10, 94],\n",
    "\n",
    "\"fresnel_number\": -0.001,\n",
    "\n",
    "\"initial_obj\":  [\"random\"], \n",
    "\"initial_probe\": ['inverse'],\n",
    "    \n",
    "'Algorithm1': {'Batch': 64,\n",
    "                'Beta': 0.995,\n",
    "                'Epsilon': 0.01,\n",
    "                'Iterations': 200,\n",
    "                'Name': 'RAAR',\n",
    "                'ProbeCycles': 4,\n",
    "                'TV': 0},\n",
    "\n",
    "'Algorithm2': {'Batch': 64,\n",
    "                'Epsilon': 0.01,\n",
    "                'Iterations': 100,\n",
    "                'Name': 'positioncorrection',\n",
    "                'ObjBeta': 0.97,\n",
    "                'ProbeBeta': 0.95,\n",
    "                'TV': 0.0001},\n",
    "\n",
    "'Algorithm3': {'Batch': 64,\n",
    "                'Epsilon': 0.01,\n",
    "                'Iterations': 70,\n",
    "                'Name': 'GL',\n",
    "                'ObjBeta': 0.97,\n",
    "                'ProbeBeta': 0.95,\n",
    "                 'TV': 0.0001},\n",
    "\n",
    "# 'Algorithm3': {'Batch': 64,\n",
    "#                 'Epsilon': 0.1,\n",
    "#                 'Iterations': 5,\n",
    "#                 'Name': 'GL',\n",
    "#                 'ObjBeta': 0.5,\n",
    "#                 'ProbeBeta': 0.5,\n",
    "#                 'TV': 0.01},\n",
    "    \n",
    "}\n",
    "\n",
    "input_dict = sscCdi.ema.ema_ptycho_processing.define_paths(input_dict)"
   ]
  },
  {
   "cell_type": "markdown",
   "id": "f79aa87b-a4a5-4439-b539-8eda51163b02",
   "metadata": {
    "tags": []
   },
   "source": [
    "## Cropping diffraction patterns"
   ]
  },
  {
   "cell_type": "code",
   "execution_count": null,
   "id": "c0f6a30b-7ff6-4986-9046-66114953d7ed",
   "metadata": {},
   "outputs": [],
   "source": [
    "# getting diffraction patterns\n",
    "data = h5py.File(input_dict[\"data_path\"],'r')\n",
    "diffraction_patterns = data[\"entry/data/data\"][()]\n",
    "diffraction_patterns = diffraction_patterns.astype(np.float32)\n",
    "\n",
    "# appling mask and flatfield\n",
    "flat_field = np.array(Image.open(input_dict[\"flatfield\"])).astype(np.float32)\n",
    "mask = np.array(Image.open(input_dict[\"mask\"])).astype(np.float32)\n",
    "\n",
    "for i in range(diffraction_patterns.shape[0]):\n",
    "    diffraction_patterns[i,:,:] = diffraction_patterns[i,:,:]*flat_field\n",
    "    diffraction_patterns[i,:,:][mask==1] = -1 # setting bad pixels as -1\n",
    "\n",
    "# cropping data\n",
    "diffraction_patterns_cropped = sscCdi.ema.crop_data(input_dict, diffraction_patterns)\n",
    "\n",
    "# aditional masking\n",
    "# diffraction_patterns_cropped[diffraction_patterns_cropped==0] = -1\n",
    "diffraction_patterns_cropped[:,94:107,95:104] = -1\n",
    "\n",
    "# visualization\n",
    "sscCdi.misc.deploy_visualizer(diffraction_patterns_cropped, title='Sinogram',cmap='viridis', norm=\"LogNorm\")"
   ]
  },
  {
   "cell_type": "markdown",
   "id": "e0a8a458-5dc8-421e-ac92-ef062acc03e1",
   "metadata": {
    "tags": []
   },
   "source": [
    "## Ptychography"
   ]
  },
  {
   "cell_type": "code",
   "execution_count": 3,
   "id": "832f7c8b-667d-425e-b66d-b7eb4f3bc2e1",
   "metadata": {
    "tags": []
   },
   "outputs": [
    {
     "name": "stdout",
     "output_type": "stream",
     "text": [
      "\tObject pixel size = 0.16 nm\n",
      "\tLimit thickness for resolution of 1 pixel: 0.004 microns\n",
      "Fresnel number: -0.001\n",
      "Creating initial probe...\n",
      "\tProbe shape (512,512) with 1 incoherent mode(s)\n",
      "Setting probe support...\n",
      "Creating initial object...\n",
      "Diffraction Patterns: (8, 512, 512)\n",
      "Initial Object: (12914, 6264)\n",
      "Initial Probe: (1, 512, 512)\n",
      "Probe Support: (1, 512, 512)\n",
      "Probe Positions: (8, 4)\n",
      "Creating datapack...\n",
      "Total datapack size: 0.66 GBs\n",
      "Starting ptychography... using 1 GPUs [0] and 32 CPUs\n",
      "\tCalling 70 iterations of RAAR algorithm...\n",
      "\tDone in: 2.56 seconds\n",
      "\tCalling 50 iterations of positioncorrection algorithm...\n",
      "\tDone in: 1.82 seconds\n",
      "\tCalling 5 iterations of GL algorithm...\n",
      "\tDone in: 0.29 seconds\n"
     ]
    }
   ],
   "source": [
    "# calling ptycho\n",
    "obj, probe, input_dict = sscCdi.ema.ema_ptycho_processing.ema_ptychography(input_dict,diffraction_patterns_cropped)\n",
    "\n",
    "# saving variables\n",
    "sscCdi.misc.save_variable(input_dict, obj,name='object')\n",
    "sscCdi.misc.save_variable(input_dict,probe,name='probe')\n",
    "sscCdi.misc.save_json_logfile(input_dict) "
   ]
  },
  {
   "cell_type": "code",
   "execution_count": 4,
   "id": "fd8b8463-834b-4599-8647-4cecdcbb6234",
   "metadata": {
    "tags": []
   },
   "outputs": [
    {
     "data": {
      "application/vnd.jupyter.widget-view+json": {
       "model_id": "345bf4f9e2e1454dadec835bfb75a861",
       "version_major": 2,
       "version_minor": 0
      },
      "text/plain": [
       "VBox(children=(IntSlider(value=0, description='Slice', layout=Layout(width='25%'), max=0), Output()))"
      ]
     },
     "metadata": {},
     "output_type": "display_data"
    }
   ],
   "source": [
    "if 1: # phase\n",
    "    preview = np.angle(obj)\n",
    "else: # magnitude\n",
    "    preview = np.abs(obj)\n",
    "\n",
    "sscCdi.misc.deploy_visualizer(preview,title='Sinogram',cmap='gray')"
   ]
  },
  {
   "cell_type": "markdown",
   "id": "05ab8a21-2598-4059-b093-dee9302194eb",
   "metadata": {},
   "source": [
    "## Unwrap"
   ]
  },
  {
   "cell_type": "code",
   "execution_count": null,
   "id": "c12ce088-ce49-4594-a767-efaa86c1be2f",
   "metadata": {},
   "outputs": [],
   "source": [
    "phase = sscCdi.caterete.unwrap_in_parallel(preview)\n",
    "# sscCdi.misc.save_variable(input_dict,phase, name = 'object_unwrapped')\n",
    "sscCdi.misc.deploy_visualizer(phase,title='Sinogram',cmap='gray')"
   ]
  },
  {
   "cell_type": "markdown",
   "id": "ac22195a-65ff-4dc9-8641-e8e350899f32",
   "metadata": {},
   "source": [
    "## Equalize"
   ]
  },
  {
   "cell_type": "code",
   "execution_count": null,
   "id": "d8e28efd-07d7-4d27-b9ae-c6d293f1e488",
   "metadata": {},
   "outputs": [],
   "source": [
    "dic = {}\n",
    "dic[\"equalize_invert\"] = True # invert phase shift signal from negative to positive\n",
    "dic[\"equalize_ROI\"] = [] # region of interest of null region around the sample used for phase ramp and offset corrections\n",
    "dic[\"equalize_remove_phase_gradient\"] = True  # if empty and equalize_ROI = [], will subtract best plane fit from whole image\n",
    "dic[\"equalize_local_offset\"] = False # remove offset of each frame from the mean of ROI \n",
    "dic[\"equalize_set_min_max\"]= [] # [minimum,maximum] threshold values for whole volume\n",
    "dic[\"equalize_non_negative\"] = False # turn any remaining negative values to zero\n",
    "\n",
    "frame = phase[0] # make sure to select a 2D frame\n",
    "equalized_frame = sscCdi.equalize_frame(dic,frame)\n",
    "\n",
    "figure, ax = plt.subplots(dpi=100)\n",
    "ax.imshow(equalized_frame,cmap='gray')"
   ]
  }
 ],
 "metadata": {
  "kernelspec": {
   "display_name": "Python 3 (ipykernel)",
   "language": "python",
   "name": "python3"
  },
  "language_info": {
   "codemirror_mode": {
    "name": "ipython",
    "version": 3
   },
   "file_extension": ".py",
   "mimetype": "text/x-python",
   "name": "python",
   "nbconvert_exporter": "python",
   "pygments_lexer": "ipython3",
   "version": "3.9.2"
  }
 },
 "nbformat": 4,
 "nbformat_minor": 5
}
