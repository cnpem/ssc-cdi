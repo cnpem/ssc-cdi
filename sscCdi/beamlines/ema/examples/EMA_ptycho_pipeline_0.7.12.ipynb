{
 "cells": [
  {
   "cell_type": "markdown",
   "id": "154f122b-7ac9-42ca-aa5a-5fc929e9a03b",
   "metadata": {},
   "source": [
    "# GCC's ssc-cdi : ptychography pipeline for EMA v0.7.12\n",
    " \n",
    "- #### Questions? E-mail gcc@lnls.br\n",
    "- #### Documentation about the ssc-cdi package: https://gcc.lnls.br/wiki/"
   ]
  },
  {
   "cell_type": "markdown",
   "id": "5907b5fd-c1a2-41bb-a750-f5a2752f694b",
   "metadata": {},
   "source": [
    "## Imports"
   ]
  },
  {
   "cell_type": "code",
   "execution_count": 1,
   "id": "d27ac7ad-ba2e-43b4-b22e-fd31f4301ad5",
   "metadata": {
    "tags": []
   },
   "outputs": [
    {
     "name": "stdout",
     "output_type": "stream",
     "text": [
      "sscCdi version: 0.6.40\n",
      "sscResolution version: 0.6\n"
     ]
    }
   ],
   "source": [
    "import os, json, h5py\n",
    "import numpy as np\n",
    "import scipy.ndimage as scp\n",
    "import matplotlib.pyplot as plt\n",
    "from matplotlib.colors import LogNorm\n",
    "import sscInstall\n",
    "import sscCdi\n",
    "import sscResolution\n",
    "import time\n",
    "from PIL import Image\n",
    "\n",
    "print(f'sscCdi version: {sscCdi.__version__}')\n",
    "print(f'sscResolution version: {sscResolution.__version__}')"
   ]
  },
  {
   "cell_type": "markdown",
   "id": "9dd92c92-7003-42ae-9877-57fd9709ee52",
   "metadata": {
    "jp-MarkdownHeadingCollapsed": true,
    "tags": []
   },
   "source": [
    "## Inputs"
   ]
  },
  {
   "cell_type": "code",
   "execution_count": 2,
   "id": "661e7fa9-63e2-460f-8d62-0780550cb1cd",
   "metadata": {
    "tags": []
   },
   "outputs": [
    {
     "name": "stdout",
     "output_type": "stream",
     "text": [
      "\tData path:  /ibira/lnls/labs/tepui/proposals/20210062/camila/ema/proposals/00000000/data/ptycho-files/ptycho_file_001.h5\n",
      "\tOutput path: /ibira/lnls/labs/tepui/proposals/20210062/camila/ema/proposals/00000000/proc/ptycho-files\n"
     ]
    }
   ],
   "source": [
    "input_dict = {\n",
    "    \n",
    "\"beamline\": \"EMA\",\n",
    "\n",
    "\"data_path\": \"/ibira/lnls/beamlines/ema/proposals/20210094/data/ptycho-files/ptycho_file_001.h5\",\n",
    "\"beamline_parameters_path\": \"/ibira/lnls/beamlines/ema/proposals/20210094/data/ptycho-files/ptycho_aux.h5\",\n",
    "\"output_path\": \"/ibira/lnls/beamlines/ema/proposals/20210094/proc/ptycho-files\", # you must create the proc folder before run, or give a valid output path\n",
    " \n",
    "    \n",
    "\"positions_unit_conversion\": 1.0,\n",
    "\n",
    "\"fresnel_regime\": False,\n",
    "    \n",
    "\"flatfield\": \"/ibira/lnls/labs/ldet/mobipix_15D/mobipix_007/01_Calibracao/Flat Field/100imgs/Ge_FF.tif\", # path to flat fiedl\n",
    "\"mask\": \"\", # path to mask, must be in .tif\n",
    "\n",
    "\"CPUs\": 32,\n",
    "\"GPUs\": [0],\n",
    "\n",
    "'binning':1,\n",
    "    \n",
    "\"detector_distance\": 2.9, # meters\n",
    "    \n",
    "\"DP_center\": [362,376], # [center_y, center_x]\n",
    "\"DP_radius\": 100,  # crop radius\n",
    "\n",
    "\"position_rotation\": 0.0,\n",
    "\n",
    "\"object_padding\": 30,\n",
    "\n",
    "\"incoherent_modes\": 1,\n",
    "\"probe_support\": {\"type\": \"cross\",  \"center_width\": 90,  \"cross_width\": 70, \"border_padding\": 10}, \n",
    "\n",
    "\"initial_obj\": {\"obj\": 'random'}, \n",
    "\"initial_probe\": { \"probe\": 'inverse'},\n",
    "    \n",
    "'algorithms': { \n",
    "\n",
    "    '1': {'name':'RAAR',\n",
    "         'iterations': 100, \n",
    "         'beta': 0.795,\n",
    "         'step_object': 1.0,\n",
    "         'step_probe': 1.0,   \n",
    "         'regularization_object': 0.01,\n",
    "         'regularization_probe': 0.01,\n",
    "         'momentum_obj': 0.0,\n",
    "         'momentum_probe': 0.0, \n",
    "         'batch': 64,\n",
    "    },  \n",
    "\n",
    "    '2': {'name':'AP',\n",
    "         'iterations': 100, \n",
    "         'step_object': 1.0,\n",
    "         'step_probe': 1.0,   \n",
    "         'regularization_object': 0.01,\n",
    "         'regularization_probe': 0.01,\n",
    "         'momentum_obj': 0.4,\n",
    "         'momentum_probe': 0.4, \n",
    "         'batch': 64,\n",
    "    },\n",
    "    \n",
    "    '3': {'name':'RAAR',\n",
    "         'iterations': 100, \n",
    "         'beta': 0.795,\n",
    "         'step_object': 1.0,\n",
    "         'step_probe': 1.0,   \n",
    "         'regularization_object': 0.01,\n",
    "         'regularization_probe': 0.01,\n",
    "         'momentum_obj': 0.0,\n",
    "         'momentum_probe': 0.0, \n",
    "         'batch': 64,\n",
    "         'initial_obj': {\"obj\": 'random'},\n",
    "    }, \n",
    "    \n",
    "    '4': {'name':'AP',\n",
    "         'iterations': 100, \n",
    "         'step_object': 1.0,\n",
    "         'step_probe': 1.0,   \n",
    "         'regularization_object': 0.01,\n",
    "         'regularization_probe': 0.01,\n",
    "         'momentum_obj': 0.4,\n",
    "         'momentum_probe': 0.4, \n",
    "         'batch': 64,\n",
    "    },\n",
    "    \n",
    "    '5': {'name':'RAAR',\n",
    "         'iterations': 100, \n",
    "         'beta': 0.795,\n",
    "         'step_object': 1.0,\n",
    "         'step_probe': 1.0,   \n",
    "         'regularization_object': 0.01,\n",
    "         'regularization_probe': 0.01,\n",
    "         'momentum_obj': 0.0,\n",
    "         'momentum_probe': 0.0, \n",
    "         'batch': 64,\n",
    "         # 'initial_obj': {\"obj\": 'random'},\n",
    "    }, \n",
    "    \n",
    "    '6': {'name':'AP',\n",
    "         'iterations': 100, \n",
    "         'step_object': 1.0,\n",
    "         'step_probe': 1.0,   \n",
    "         'regularization_object': 0.01,\n",
    "         'regularization_probe': 0.01,\n",
    "         'momentum_obj': 0.4,\n",
    "         'momentum_probe': 0.4, \n",
    "         'batch': 64,\n",
    "    },\n",
    "\n",
    "    }\n",
    "}\n",
    "\n",
    "input_dict = sscCdi.ema.ema_ptycho_processing.define_paths(input_dict)"
   ]
  },
  {
   "cell_type": "markdown",
   "id": "f79aa87b-a4a5-4439-b539-8eda51163b02",
   "metadata": {
    "tags": []
   },
   "source": [
    "## Cropping diffraction patterns"
   ]
  },
  {
   "cell_type": "code",
   "execution_count": null,
   "id": "c0f6a30b-7ff6-4986-9046-66114953d7ed",
   "metadata": {},
   "outputs": [],
   "source": [
    "# getting diffraction patterns\n",
    "data = h5py.File(input_dict[\"data_path\"],'r')\n",
    "diffraction_patterns = data[\"entry/data/data\"][()]\n",
    "diffraction_patterns = diffraction_patterns.astype(np.float32)\n",
    "\n",
    "# appling mask and flatfield\n",
    "flat_field = np.array(Image.open(input_dict[\"flatfield\"])).astype(np.float32)\n",
    "mask = np.array(Image.open(input_dict[\"mask\"])).astype(np.float32)\n",
    "\n",
    "for i in range(diffraction_patterns.shape[0]):\n",
    "    diffraction_patterns[i,:,:] = diffraction_patterns[i,:,:]*flat_field\n",
    "    diffraction_patterns[i,:,:][mask==1] = -1 # setting bad pixels as -1\n",
    "\n",
    "# cropping data\n",
    "diffraction_patterns_cropped = sscCdi.ema.crop_data(input_dict, diffraction_patterns)\n",
    "\n",
    "# aditional masking\n",
    "# diffraction_patterns_cropped[diffraction_patterns_cropped==0] = -1\n",
    "diffraction_patterns_cropped[:,94:107,95:104] = -1\n",
    "\n",
    "# visualization\n",
    "from matplotlib.colors import LogNorm\n",
    "fig, ax = plt.subplots(1,1,dpi=150,figsize=(4,4))\n",
    "ax.imshow(diffraction_patterns_cropped[0],norm=LogNorm());"
   ]
  },
  {
   "cell_type": "markdown",
   "id": "e0a8a458-5dc8-421e-ac92-ef062acc03e1",
   "metadata": {
    "tags": []
   },
   "source": [
    "## Ptychography"
   ]
  },
  {
   "cell_type": "code",
   "execution_count": 3,
   "id": "832f7c8b-667d-425e-b66d-b7eb4f3bc2e1",
   "metadata": {
    "tags": []
   },
   "outputs": [
    {
     "name": "stdout",
     "output_type": "stream",
     "text": [
      "\tObject pixel size = 0.16 nm\n",
      "\tLimit thickness for resolution of 1 pixel: 0.004 microns\n",
      "Fresnel number: -0.001\n",
      "Creating initial probe...\n",
      "\tProbe shape (512,512) with 1 incoherent mode(s)\n",
      "Setting probe support...\n",
      "Creating initial object...\n",
      "Diffraction Patterns: (8, 512, 512)\n",
      "Initial Object: (12914, 6264)\n",
      "Initial Probe: (1, 512, 512)\n",
      "Probe Support: (1, 512, 512)\n",
      "Probe Positions: (8, 4)\n",
      "Creating datapack...\n",
      "Total datapack size: 0.66 GBs\n",
      "Starting ptychography... using 1 GPUs [0] and 32 CPUs\n",
      "\tCalling 70 iterations of RAAR algorithm...\n",
      "\tDone in: 2.56 seconds\n",
      "\tCalling 50 iterations of positioncorrection algorithm...\n",
      "\tDone in: 1.82 seconds\n",
      "\tCalling 5 iterations of GL algorithm...\n",
      "\tDone in: 0.29 seconds\n"
     ]
    }
   ],
   "source": [
    "# calling ptycho\n",
    "obj, probe, input_dict = sscCdi.ema.ema_ptycho_processing.ema_ptychography(input_dict,diffraction_patterns_cropped)\n"
   ]
  },
  {
   "cell_type": "code",
   "execution_count": 4,
   "id": "fd8b8463-834b-4599-8647-4cecdcbb6234",
   "metadata": {
    "tags": []
   },
   "outputs": [
    {
     "data": {
      "application/vnd.jupyter.widget-view+json": {
       "model_id": "345bf4f9e2e1454dadec835bfb75a861",
       "version_major": 2,
       "version_minor": 0
      },
      "text/plain": [
       "VBox(children=(IntSlider(value=0, description='Slice', layout=Layout(width='25%'), max=0), Output()))"
      ]
     },
     "metadata": {},
     "output_type": "display_data"
    }
   ],
   "source": [
    "fig, ax = plt.subplots(1,2,dpi=150,figsize=(6,3))\n",
    "ax[0].imshow(np.abs(probe[0,0]),cmap='gray'); # [cy1:cy2,cx1:cx2]\n",
    "ax[1].imshow(np.angle(obj[0]),cmap='gray');  "
   ]
  },
  {
   "cell_type": "markdown",
   "id": "05ab8a21-2598-4059-b093-dee9302194eb",
   "metadata": {},
   "source": [
    "## Unwrap"
   ]
  },
  {
   "cell_type": "code",
   "execution_count": null,
   "id": "c12ce088-ce49-4594-a767-efaa86c1be2f",
   "metadata": {},
   "outputs": [],
   "source": [
    "import sscCdi\n",
    "from skimage.restoration import unwrap_phase\n",
    "\n",
    "recon_obj_phase_unwrap = unwrap_phase(np.angle(obj))\n",
    "fig, ax = plt.subplots(1,2,dpi=150,figsize=(10,4))\n",
    "ax[0].imshow(np.abs(obj),cmap='gray'); # [cy1:cy2,cx1:cx2]\n",
    "ax[1].imshow(recon_obj_phase_unwrap,cmap='gray');"
   ]
  },
  {
   "cell_type": "markdown",
   "id": "2ee0d1fd",
   "metadata": {},
   "source": [
    "## Fourier Ring Correlation"
   ]
  },
  {
   "cell_type": "code",
   "execution_count": null,
   "id": "9f606c41",
   "metadata": {},
   "outputs": [],
   "source": [
    "ny_obj = obj.shape[1]\n",
    "nx_obj = obj.shape[2]\n",
    "\n",
    "if ny_obj < nx_obj:\n",
    "    new_obj = obj[0,:,0:ny_obj]\n",
    "elif nx_obj < ny_obj:\n",
    "    new_obj = obj[0,0:nx_obj,:]\n",
    "else:\n",
    "    new_obj = obj[0]\n",
    "    \n",
    "print(new_obj.shape)"
   ]
  },
  {
   "cell_type": "code",
   "execution_count": null,
   "id": "9dfb7c29",
   "metadata": {},
   "outputs": [],
   "source": [
    "img = np.angle(new_obj)\n",
    "# img = img - img.min()\n",
    "\n",
    "padding = 0\n",
    "sharpness = 5\n",
    "radius = 0.5\n",
    "\n",
    "new_img = sscResolution.frc.window( img, padding, [sharpness, radius] )\n",
    "dic = sscResolution.frc.computep( new_img , 1 ) \n",
    "print(f\"\\tResolution via halfbit criterion: {1e9*input_dict['object_pixel']/dic['x']['H']:.2f} nm\")\n",
    "\n",
    "sscResolution.frc.plot(dic, {'label': \"Resolution\", 'unit': \"nm\", 'pxlsize': input_dict['object_pixel']*1e9} )"
   ]
  }
 ],
 "metadata": {
  "kernelspec": {
   "display_name": "Python 3 (ipykernel)",
   "language": "python",
   "name": "python3"
  },
  "language_info": {
   "codemirror_mode": {
    "name": "ipython",
    "version": 3
   },
   "file_extension": ".py",
   "mimetype": "text/x-python",
   "name": "python",
   "nbconvert_exporter": "python",
   "pygments_lexer": "ipython3",
   "version": "3.9.2"
  }
 },
 "nbformat": 4,
 "nbformat_minor": 5
}
