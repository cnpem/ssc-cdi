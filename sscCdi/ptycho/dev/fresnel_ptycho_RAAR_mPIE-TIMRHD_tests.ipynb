{
 "cells": [
  {
   "cell_type": "code",
   "execution_count": 1,
   "metadata": {
    "tags": []
   },
   "outputs": [
    {
     "data": {
      "text/plain": [
       "('0.7.15',\n",
       " ['/ibira/lnls/labs/tepui/home/yuri.tonin/.local/lib/python3.9/site-packages/sscCdi'])"
      ]
     },
     "execution_count": 1,
     "metadata": {},
     "output_type": "execute_result"
    }
   ],
   "source": [
    "# %matplotlib widget\n",
    "\n",
    "import numpy as np\n",
    "import matplotlib.pyplot as plt\n",
    "from matplotlib.colors import LogNorm\n",
    "import h5py\n",
    "import scipy\n",
    "\n",
    "import sscCdi\n",
    "sscCdi.__version__, sscCdi.__path__"
   ]
  },
  {
   "cell_type": "code",
   "execution_count": 2,
   "metadata": {
    "tags": []
   },
   "outputs": [
    {
     "data": {
      "text/plain": [
       "(0.004278062, 0.995721938, 233.75070300523927)"
      ]
     },
     "execution_count": 2,
     "metadata": {},
     "output_type": "execute_result"
    }
   ],
   "source": [
    "z1 = np.load('/ibira/lnls/labs/tepui/home/yuri.tonin/00000000/data/mogno/RHD_Salditt/z_positions.npy')\n",
    "z1 = z1[-1]*1e-3\n",
    "z2 = 1 - z1\n",
    "M = (z2+z1)/z1\n",
    "\n",
    "z1, z2, M"
   ]
  },
  {
   "cell_type": "code",
   "execution_count": 3,
   "metadata": {
    "tags": []
   },
   "outputs": [
    {
     "name": "stdout",
     "output_type": "stream",
     "text": [
      "Object pixel = 1.44e-06 m\n"
     ]
    },
    {
     "data": {
      "text/plain": [
       "(1640, 2048, 2048)"
      ]
     },
     "execution_count": 3,
     "metadata": {},
     "output_type": "execute_result"
    }
   ],
   "source": [
    "c_speed = 299792458        # Velocity of Light [m/s]\n",
    "planck  = 4.135667662E-18  # Plank constant [keV*s]\n",
    "n_pixels = 2048\n",
    "\n",
    "inputs = {\n",
    "\"n_cpus\": 32, # cpu cores\n",
    "\"energy\": 22, #keV\n",
    "\"detector_distance\": z2, # meter\n",
    "\"detector_pixel_size\": 1.44e-6,\n",
    "\"source_distance\": z1, # should be 0 if parallel beam\n",
    "}\n",
    "\n",
    "wavelength = c_speed * planck / inputs[\"energy\"]\n",
    "inputs[\"wavelength\"] = wavelength\n",
    "\n",
    "inputs['object_pixel'] = inputs[\"detector_pixel_size\"]\n",
    "print(f'Object pixel = {inputs[\"object_pixel\"]} m')\n",
    "\n",
    "DPs = np.load('/ibira/lnls/labs/tepui/home/yuri.tonin/00000000/data/mogno/RHD_Salditt/data.npy')\n",
    "DPs.shape"
   ]
  },
  {
   "cell_type": "code",
   "execution_count": 4,
   "metadata": {
    "tags": []
   },
   "outputs": [
    {
     "name": "stdout",
     "output_type": "stream",
     "text": [
      "Probe shape = (2048, 2048)\n",
      "Deleting 1340 slices\n",
      "Size of the array: 2.34375 GB\n",
      "Object shape = (5065, 5320)\n",
      "Data shape = (300, 2048, 2048)\n",
      "Positions shape = (300, 2)\n"
     ]
    },
    {
     "data": {
      "image/png": "[encoded data removed]",
      "text/plain": [
       "<Figure size 432x288 with 1 Axes>"
      ]
     },
     "metadata": {
      "needs_background": "light"
     },
     "output_type": "display_data"
    }
   ],
   "source": [
    "positions = np.load('/ibira/lnls/labs/tepui/home/yuri.tonin/00000000/data/mogno/RHD_Salditt/positions.npy')\n",
    "\n",
    "empty = np.load('/ibira/lnls/labs/tepui/home/yuri.tonin/00000000/data/mogno/RHD_Salditt/empty.npy')\n",
    "\n",
    "probe = np.ones_like(empty)\n",
    "\n",
    "print(f'Probe shape = {probe.shape}')\n",
    "\n",
    "inputs[\"object_padding\"] = 100\n",
    "positions = sscCdi.convert_probe_mogno_positions_meters_to_pixels(positions.copy(),inputs[\"object_pixel\"],inputs[\"object_padding\"])\n",
    "\n",
    "if 1: # remove random points from data\n",
    "    n_of_points_to_keep = 300\n",
    "    start_idx = positions.shape[0] - n_of_points_to_keep\n",
    "    slices_to_ignore = np.random.permutation(positions.shape[0])[-start_idx::]\n",
    "    print(f'Deleting {slices_to_ignore.shape[0]} slices')\n",
    "    DPs = np.delete(DPs,slices_to_ignore,axis=0)\n",
    "    positions = np.delete(positions,slices_to_ignore,axis=0)\n",
    "\n",
    "fig, ax = plt.subplots()\n",
    "ax.plot(positions[:,1],positions[:,0],'o')\n",
    "\n",
    "size_in_bytes = DPs.nbytes # Get the size of the array in bytes\n",
    "size_in_gb = size_in_bytes / (1024**3) # Convert the size to gigabytes\n",
    "print(\"Size of the array:\", size_in_gb, \"GB\")\n",
    "\n",
    "inputs = sscCdi.set_object_shape(inputs, DPs.shape, positions)\n",
    "# inputs[\"object_shape\"] = (inputs[\"object_shape\"][1],inputs[\"object_shape\"][0])\n",
    "print(f'Object shape = {inputs[\"object_shape\"]}')\n",
    "\n",
    "print(f'Data shape = {DPs.shape}')\n",
    "print(f'Positions shape = {positions.shape}')"
   ]
  },
  {
   "cell_type": "code",
   "execution_count": 5,
   "metadata": {
    "tags": []
   },
   "outputs": [
    {
     "data": {
      "text/plain": [
       "{'n_cpus': 32,\n",
       " 'energy': 22,\n",
       " 'detector_distance': 0.995721938,\n",
       " 'detector_pixel_size': 1.44e-06,\n",
       " 'source_distance': 0.004278062,\n",
       " 'wavelength': 5.6356453357367875e-11,\n",
       " 'object_pixel': 1.44e-06,\n",
       " 'object_padding': 100,\n",
       " 'object_shape': (5065, 5320),\n",
       " 'iterations': 10,\n",
       " 'fresnel_regime': True,\n",
       " 'probe_support': None,\n",
       " 'incoherent_modes': 1,\n",
       " 'beta': 0.9,\n",
       " 'epsilon': 0.01}"
      ]
     },
     "execution_count": 5,
     "metadata": {},
     "output_type": "execute_result"
    }
   ],
   "source": [
    "model_object = np.ones(inputs[\"object_shape\"])\n",
    "\n",
    "probe_guess = np.ones_like(probe) + 1j\n",
    "probe_guess = probe + 1j\n",
    "obj_guess = np.ones_like(model_object) # constant object\n",
    "\n",
    "inputs['iterations'] = 10    \n",
    "inputs[\"fresnel_regime\"] = True\n",
    "inputs[\"probe_support\"] = None\n",
    "inputs[\"incoherent_modes\"] = 1\n",
    "inputs['beta'] = 0.9 # RAAR\n",
    "inputs['epsilon'] = 0.01 # RAAR; small value to add to probe/object update denominator\n",
    "\n",
    "inputs"
   ]
  },
  {
   "cell_type": "code",
   "execution_count": 6,
   "metadata": {
    "tags": []
   },
   "outputs": [
    {
     "data": {
      "text/plain": [
       "((300, 2), (300, 2048, 2048), (2048, 2048), (5065, 5320))"
      ]
     },
     "execution_count": 6,
     "metadata": {},
     "output_type": "execute_result"
    }
   ],
   "source": [
    "positions = np.roll(positions,shift=1,axis=1)\n",
    "\n",
    "positions.shape, DPs.shape, probe_guess.shape, obj_guess.shape"
   ]
  },
  {
   "cell_type": "code",
   "execution_count": null,
   "metadata": {
    "tags": []
   },
   "outputs": [
    {
     "name": "stdout",
     "output_type": "stream",
     "text": [
      "\tIteration 0/10 \tError: 1.21e+02\n"
     ]
    }
   ],
   "source": [
    "RAAR_obj, RAAR_probes, RAAR_error = sscCdi.ptycho.raar.RAAR_multiprobe_cupy(DPs,positions,obj_guess,probe_guess,inputs)\n",
    "\n",
    "propagated_probe = sscCdi.fresnel_propagator_cone_beam(RAAR_probes[0],inputs[\"wavelength\"],inputs[\"detector_pixel_size\"],z2,z1) \n",
    "propagated_probe /= np.max(propagated_probe)\n",
    "\n",
    "RAAR_obj.shape, RAAR_probes.shape"
   ]
  },
  {
   "cell_type": "code",
   "execution_count": null,
   "metadata": {
    "tags": []
   },
   "outputs": [],
   "source": [
    "plt.figure()\n",
    "plt.plot(RAAR_error, 'o')"
   ]
  },
  {
   "cell_type": "code",
   "execution_count": null,
   "metadata": {
    "tags": []
   },
   "outputs": [],
   "source": [
    "# fig, ax = plt.subplots(1,4,figsize=(10,5),dpi=200)\n",
    "# ax[0].imshow(np.abs(obj_guess)), ax[0].set_title('Initial Obj Mag')\n",
    "# ax[1].imshow(np.angle(obj_guess)), ax[1].set_title('Initial Obj Phase')\n",
    "# ax[2].imshow(np.abs(probe_guess)), ax[2].set_title('Initial Probe Mag')\n",
    "# ax[3].imshow(np.angle(probe_guess)), ax[3].set_title('Initial Probe Phase')"
   ]
  },
  {
   "cell_type": "code",
   "execution_count": null,
   "metadata": {
    "tags": []
   },
   "outputs": [],
   "source": [
    "fig, ax = plt.subplots(2,4,figsize=(13,8),dpi=100)\n",
    "ax[0,0].imshow(np.abs(RAAR_obj)), ax[0,0].set_title('Obj Mag')\n",
    "ax[0,0].plot(positions[:,1],positions[:,0],'.',color='r')\n",
    "ax[0,1].imshow(np.angle(RAAR_obj)), ax[0,1].set_title('Obj Phase')\n",
    "ax[0,2].imshow(np.abs(empty),vmax=6000), ax[0,2].set_title('Flat')\n",
    "ax[1,0].imshow(np.abs(RAAR_probes[0])), ax[1,0].set_title('Probe Mag')\n",
    "ax[1,1].imshow(np.angle(RAAR_probes[0])), ax[1,1].set_title('Probe Phase')\n",
    "ax[1,2].imshow(np.abs(propagated_probe),vmax=0.5), ax[1,2].set_title('Mag Propagated')\n",
    "ax[1,3].imshow(np.angle(propagated_probe),vmax=0.1,vmin=-0.1), ax[1,3].set_title('Phase Propagated')\n",
    "ax[0,3].plot(RAAR_error,'o-',label='Error')\n",
    "ax[0,3].set_xlabel('Iterations')\n",
    "ax[0,3].legend(), ax[0,3].grid()\n",
    "\n",
    "fig.suptitle('Tim Salditt RHD sample - Near Field Ptychography')\n",
    "\n",
    "for i, ax in enumerate(ax.ravel()):\n",
    "    if i==3 or i==0 or i ==4: continue\n",
    "    ax.set_xticks([])\n",
    "    ax.set_yticks([])"
   ]
  },
  {
   "cell_type": "code",
   "execution_count": 64,
   "metadata": {},
   "outputs": [
    {
     "name": "stdout",
     "output_type": "stream",
     "text": [
      "\tIteration 0/10 \tError: 1.18e+01\n"
     ]
    }
   ],
   "source": [
    "# inputs[\"regularization_object\"] = 0.25\n",
    "# inputs[\"regularization_probe\"] = 0.5\n",
    "# inputs[\"step_object\"] = 0.7\n",
    "# inputs[\"step_probe\"] = 0.5\n",
    "\n",
    "# inputs[\"friction_object\"] = 0.9\n",
    "# inputs[\"friction_probe\"] = 0.99\n",
    "# inputs[\"momentum_counter\"] = 10\n",
    "# inputs[\"use_mPIE\"] = False\n",
    "# PIE_obj, PIE_probes, PIE_error = sscCdi.PIE_multiprobe_loop(DPs, positions,obj_guess,probe_guess,inputs)\n",
    "\n",
    "# propagated_probe_PIE = sscCdi.fresnel_propagator_cone_beam(PIE_probes[0],inputs[\"wavelength\"],inputs[\"detector_pixel_size\"],z2,z1) \n",
    "# propagated_probe_PIE /= np.max(propagated_probe_PIE)\n",
    "\n",
    "# fig, ax = plt.subplots(2,4,figsize=(13,8),dpi=100)\n",
    "# ax[0,0].imshow(np.abs(PIE_obj[0])), ax[0,0].set_title('Obj Mag')\n",
    "# ax[0,0].plot(positions[:,1],positions[:,0],'.',color='r')\n",
    "# ax[0,1].imshow(np.angle(PIE_obj[0])), ax[0,1].set_title('Obj Phase')\n",
    "# ax[0,2].imshow(np.abs(empty),vmax=6000), ax[0,2].set_title('Flat')\n",
    "# ax[1,0].imshow(np.abs(PIE_probes[0])), ax[1,0].set_title('Probe Mag')\n",
    "# ax[1,1].imshow(np.angle(PIE_probes[0])), ax[1,1].set_title('Probe Phase')\n",
    "# ax[1,2].imshow(np.abs(propagated_probe_PIE),vmax=0.5), ax[1,2].set_title('Mag Propagated')\n",
    "# ax[1,3].imshow(np.angle(propagated_probe_PIE),vmax=0.1,vmin=-0.1), ax[1,3].set_title('Phase Propagated')\n",
    "# ax[0,3].plot(PIE_error,'o-',label='Error')\n",
    "# ax[0,3].set_xlabel('Iterations')\n",
    "# ax[0,3].legend(), ax[0,3].grid()\n",
    "\n",
    "# fig.suptitle('Tim Salditt RHD sample - Near Field Ptychography')\n",
    "\n",
    "# for i, ax in enumerate(ax.ravel()):\n",
    "#     if i==3 or i==0 or i ==4: continue\n",
    "#     ax.set_xticks([])\n",
    "#     ax.set_yticks([])"
   ]
  },
  {
   "cell_type": "code",
   "execution_count": null,
   "metadata": {},
   "outputs": [],
   "source": []
  }
 ],
 "metadata": {
  "kernelspec": {
   "display_name": "Python 3 (ipykernel)",
   "language": "python",
   "name": "python3"
  },
  "language_info": {
   "codemirror_mode": {
    "name": "ipython",
    "version": 3
   },
   "file_extension": ".py",
   "mimetype": "text/x-python",
   "name": "python",
   "nbconvert_exporter": "python",
   "pygments_lexer": "ipython3",
   "version": "3.9.2"
  }
 },
 "nbformat": 4,
 "nbformat_minor": 4
}
