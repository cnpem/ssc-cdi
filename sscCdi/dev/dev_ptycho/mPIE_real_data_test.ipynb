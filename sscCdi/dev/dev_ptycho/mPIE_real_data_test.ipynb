{
 "cells": [
  {
   "cell_type": "code",
   "execution_count": 1,
   "id": "96e2f7d7-51bc-41fa-b698-167077c6fc10",
   "metadata": {
    "tags": []
   },
   "outputs": [
    {
     "name": "stderr",
     "output_type": "stream",
     "text": [
      "/ibira/lnls/labs/tepui/apps/modules/python/3.9.2/lib/python3.9/site-packages/cupy/_environment.py:436: UserWarning: \n",
      "--------------------------------------------------------------------------------\n",
      "\n",
      "  CuPy may not function correctly because multiple CuPy packages are installed\n",
      "  in your environment:\n",
      "\n",
      "    cupy-cuda110, cupy-cuda112\n",
      "\n",
      "  Follow these steps to resolve this issue:\n",
      "\n",
      "    1. For all packages listed above, run the following command to remove all\n",
      "       existing CuPy installations:\n",
      "\n",
      "         $ pip uninstall <package_name>\n",
      "\n",
      "      If you previously installed CuPy via conda, also run the following:\n",
      "\n",
      "         $ conda uninstall cupy\n",
      "\n",
      "    2. Install the appropriate CuPy package.\n",
      "       Refer to the Installation Guide for detailed instructions.\n",
      "\n",
      "         https://docs.cupy.dev/en/stable/install.html\n",
      "\n",
      "--------------------------------------------------------------------------------\n",
      "\n",
      "  warnings.warn(f'''\n"
     ]
    }
   ],
   "source": [
    "from ptycho_functions import *\n",
    "from sscCdi import restoration_CAT\n",
    "from sscCdi.caterete.cat_ptycho_processing import convert_probe_positions_meters_to_pixels\n",
    "import numpy as np\n",
    "import h5py\n",
    "import cupy as cp\n",
    "import time\n",
    "\n",
    "# %matplotlib widget\n",
    "\n",
    "def rotate_coordinate_system(angle_rad,px,py):\n",
    "    px_rotated = np.cos(angle_rad) * px - np.sin(angle_rad) * py\n",
    "    py_rotated = np.sin(angle_rad) * px + np.cos(angle_rad) * py\n",
    "    return px_rotated, py_rotated"
   ]
  },
  {
   "cell_type": "code",
   "execution_count": 2,
   "id": "257b5591-dad2-4a38-86f8-d64187da4e0d",
   "metadata": {
    "tags": []
   },
   "outputs": [],
   "source": [
    "# gpu_info = !nvidia-smi\n",
    "# gpu_info = '\\n'.join(gpu_info)\n",
    "# if gpu_info.find('failed') >= 0:\n",
    "#   print('Not connected to a GPU')\n",
    "# else:\n",
    "#   print(gpu_info)"
   ]
  },
  {
   "cell_type": "code",
   "execution_count": 10,
   "id": "c7372e43-c8d1-49dd-9543-7a5456c63806",
   "metadata": {
    "tags": []
   },
   "outputs": [],
   "source": [
    "\"\"\" mPIE \"\"\"\n",
    "if 0: # suggested min from paper\n",
    "    regularization_object, regularization_probe = 0.05, 0.5\n",
    "    step_object, step_probe = 0.1, 0.2\n",
    "    friction_object, friction_probe = 0.5, 0.75\n",
    "    momentum_counter = 10\n",
    "elif 1: # suggested max from paper\n",
    "    regularization_object, regularization_probe = 0.25, 5\n",
    "    step_object, step_probe = 0.5, 1\n",
    "    friction_object, friction_probe = 0.9, 0.99\n",
    "    momentum_counter = 100 \n",
    "else: # my params\n",
    "    regularization_object, regularization_probe = 0.25, 5\n",
    "    step_object, step_probe = 0.5, 0.1\n",
    "    friction_object, friction_probe = 0.9, 0\n",
    "    momentum_counter = 100 \n",
    "\n",
    "inputs = {}\n",
    "inputs['object_pixel'] = 6.574936275422776e-08 #1.9481292667919335e-08\n",
    "inputs['wavelength'] = 2.0664032897701555e-10\n",
    "inputs['distance'] = 14.000035595703125\n",
    "inputs['iterations'] = 30\n",
    "inputs[\"position_rotation\"] = -0.003\n",
    "inputs[\"object_padding\"] = 0\n",
    "inputs['centralize_probe'] = False # not implemented \n",
    "inputs['regularization_object'] = regularization_object\n",
    "inputs['regularization_probe']  = regularization_probe\n",
    "inputs['step_object']= step_object\n",
    "inputs['step_probe'] = step_probe\n",
    "inputs['use_mPIE'] = False # friction and momentum counter only relevant if this is True\n",
    "inputs['friction_object'] = friction_object\n",
    "inputs['friction_probe'] = friction_probe\n",
    "inputs['momentum_counter'] = momentum_counter\n",
    "inputs['position_correction_beta'] = 0 # if 0, does not apply position correction"
   ]
  },
  {
   "cell_type": "code",
   "execution_count": 11,
   "id": "b40e1c8a-41a6-47f5-b70e-29e1f5efb855",
   "metadata": {
    "tags": []
   },
   "outputs": [
    {
     "name": "stdout",
     "output_type": "stream",
     "text": [
      "(625, 400, 400)\n"
     ]
    }
   ],
   "source": [
    "restored_data_path = '/ibira/lnls/labs/tepui/home/yuri.tonin/00000000/proc/recons/SS03112022_02/restored_data/0000_SS03112022_02_001.npy'\n",
    "restored_data = np.load(restored_data_path)\n",
    "\n",
    "N = 1100\n",
    "restored_data = restored_data[:,N:-N,N:-N]\n",
    "print(restored_data.shape)"
   ]
  },
  {
   "cell_type": "code",
   "execution_count": 5,
   "id": "e8bc64bf-3249-42bf-8b55-e4135ffbe73f",
   "metadata": {
    "tags": []
   },
   "outputs": [
    {
     "name": "stdout",
     "output_type": "stream",
     "text": [
      "Probe shape:  (400, 400)\n",
      "Object shape:  (682, 682)\n",
      "Positions shape:  (625, 2)\n"
     ]
    },
    {
     "data": {
      "text/plain": [
       "array([[ 50,  50],\n",
       "       [ 58,  50],\n",
       "       [ 65,  50],\n",
       "       ...,\n",
       "       [216, 228],\n",
       "       [226, 228],\n",
       "       [232, 228]], dtype=int32)"
      ]
     },
     "execution_count": 5,
     "metadata": {},
     "output_type": "execute_result"
    }
   ],
   "source": [
    "data_path = '/ibira/lnls/labs/tepui/home/yuri.tonin/00000000/proc/recons/SS03112022_02/2023-08-09-16h25m_SS03112022_02.hdf5'\n",
    "data = h5py.File(data_path,'r')\n",
    "\n",
    "positions = data['recon/positions'][()][0][0]\n",
    "positions = positions.astype(np.int32)\n",
    "positions = np.roll(positions,shift=1,axis=1)\n",
    "\n",
    "obj_guess = data['recon/initial_object'][()]\n",
    "# obj_guess = np.random.rand(*obj_guess.shape) + 1j*np.random.rand(*obj_guess.shape) \n",
    "\n",
    "probe_guess = data['recon/initial_probe'][()][0]\n",
    "# ft = np.fft.fftshift(np.fft.fft2(np.fft.fftshift(np.mean(restored_data,axis=0))))\n",
    "# probe_guess = np.sqrt(np.fft.fftshift(np.fft.ifft2(np.fft.fftshift(ft))))\n",
    "\n",
    "print('Probe shape: ',probe_guess.shape)\n",
    "print('Object shape: ',obj_guess.shape)\n",
    "print('Positions shape: ',positions.shape)\n",
    "\n",
    "positions"
   ]
  },
  {
   "cell_type": "code",
   "execution_count": 12,
   "id": "01dfcc6c-1c50-404b-8879-9e05e4c45304",
   "metadata": {},
   "outputs": [
    {
     "name": "stdout",
     "output_type": "stream",
     "text": [
      "Starting PIE...\n",
      "1.4901161193847656 GBs\n",
      "\tIteration 0/30\n",
      "\tIteration 10/30\n",
      "\tIteration 20/30\n",
      "elapsed: 1.0089503049850463\n"
     ]
    }
   ],
   "source": [
    "t1 = time.time()\n",
    "PIE_obj, PIE_probe, PIE_positions, PIE_error, PIE_time, positions_story = mPIE_loop_cupy(restored_data, positions.copy(),obj_guess.copy(),probe_guess.copy(), inputs)\n",
    "print(f'elapsed: {(time.time()-t1)/60}')"
   ]
  },
  {
   "cell_type": "code",
   "execution_count": null,
   "id": "5142b46f-0598-4a50-b3a3-4311024df333",
   "metadata": {
    "tags": []
   },
   "outputs": [
    {
     "name": "stdout",
     "output_type": "stream",
     "text": [
      "Starting multiprobe PIE algorithm...\n",
      "\tIteration 0/30\n",
      "\tIteration 10/30\n",
      "\tIteration 20/30\n"
     ]
    }
   ],
   "source": [
    "inputs[\"n_of_modes\"] = 1\n",
    "\n",
    "t1 = time.time()\n",
    "# PIE_modes_obj, PIE_modes_probe, PIE_modes_time = PIE_multiprobe_loop(restored_data, positions.copy(),obj_guess.copy(),probe_guess.copy(), inputs)\n",
    "PIE_modes_obj, PIE_modes_probe, _, _  = PIE_multiprobe_loop_OBSOLETE(restored_data, positions.copy(), inputs[\"iterations\"], inputs, obj_guess.copy(), n_of_modes = inputs[\"n_of_modes\"], object_guess=obj_guess.copy(), probe_guess=probe_guess.copy(), use_momentum = False)\n",
    "print(f'elapsed: {(time.time()-t1)/60}')"
   ]
  },
  {
   "cell_type": "code",
   "execution_count": null,
   "id": "3b9121c9-83e6-4e7f-9eea-2b7915c803e5",
   "metadata": {
    "tags": []
   },
   "outputs": [],
   "source": [
    "# inputs['beta'] = 0.995\n",
    "# inputs['epsilon'] = 0.01 # small value to add to probe/object update denominator\n",
    "# inputs['pixel_size'] = inputs['object_pixel']\n",
    "\n",
    "# t1 = time.time()\n",
    "# RAAR_obj, RAAR_probe, RAAR_error, RAAR_time = RAAR_loop(restored_data, positions.copy(),obj_guess.copy(),probe_guess.copy(),inputs)\n",
    "# print(f'elapsed: {(time.time()-t1)/60}')"
   ]
  },
  {
   "cell_type": "code",
   "execution_count": null,
   "id": "6ed734da-dff3-4384-87a0-4f7c69663b23",
   "metadata": {
    "tags": []
   },
   "outputs": [],
   "source": [
    "# PIE_obj.shape, PIE_probe.shape\n",
    "\n",
    "colormap = 'viridis'\n",
    "colormap2 = 'gray'   \n",
    "\n",
    "figure, ax = plt.subplots(2,5,dpi=150,figsize=(15,5))\n",
    "\n",
    "ax[0,1].imshow(np.abs(PIE_modes_obj[0]),cmap=colormap)\n",
    "ax[0,2].imshow(np.angle(PIE_modes_obj[0]),cmap=colormap2)\n",
    "ax[0,3].imshow(np.abs(PIE_modes_probe[0]),cmap=colormap)\n",
    "ax[0,4].imshow(np.angle(PIE_modes_probe[0]),cmap=colormap2)\n",
    "\n",
    "ax[1,0].plot(PIE_error[1::])\n",
    "ax[1,1].imshow(np.abs(PIE_obj),cmap=colormap)\n",
    "ax[1,2].imshow(np.angle(PIE_obj),cmap=colormap2)\n",
    "ax[1,3].imshow(np.abs(PIE_probe),cmap=colormap)\n",
    "ax[1,4].imshow(np.angle(PIE_probe),cmap=colormap2)\n",
    "\n",
    "ax[1,0].set_yscale('log')"
   ]
  },
  {
   "cell_type": "code",
   "execution_count": null,
   "id": "92865cae-8dce-4b3e-9d1c-c89cb921320d",
   "metadata": {},
   "outputs": [],
   "source": []
  },
  {
   "cell_type": "code",
   "execution_count": null,
   "id": "6869f3ae-51df-4e5a-ae54-f7c90f2e7ab4",
   "metadata": {},
   "outputs": [],
   "source": []
  }
 ],
 "metadata": {
  "kernelspec": {
   "display_name": "Python 3 (ipykernel)",
   "language": "python",
   "name": "python3"
  },
  "language_info": {
   "codemirror_mode": {
    "name": "ipython",
    "version": 3
   },
   "file_extension": ".py",
   "mimetype": "text/x-python",
   "name": "python",
   "nbconvert_exporter": "python",
   "pygments_lexer": "ipython3",
   "version": "3.9.2"
  }
 },
 "nbformat": 4,
 "nbformat_minor": 5
}
