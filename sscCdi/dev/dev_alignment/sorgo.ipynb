{
 "cells": [
  {
   "cell_type": "code",
   "execution_count": 1,
   "id": "e9225d89-84cb-4682-b282-addafdb441e9",
   "metadata": {
    "tags": []
   },
   "outputs": [],
   "source": [
    "import numpy as np\n",
    "import matplotlib.pyplot as plt\n",
    "import h5py\n",
    "import tomopy\n",
    "\n",
    "path = \"/ibira/lnls/beamlines/caterete/proposals/20221798/proc/recons/sorgoBMR08_mem1_FAA_YuriTest/YuriTest_sorgoBMR08_mem1_FAA.hdf5\"\n",
    "save_path = \"/ibira/lnls/beamlines/caterete/proposals/20221798/proc/recons/sorgoBMR08_mem1_FAA_YuriTest/\"\n",
    "\n",
    "data = h5py.File(path, 'r')"
   ]
  },
  {
   "cell_type": "code",
   "execution_count": 2,
   "id": "19aea570-76aa-45c8-8044-325ade38a91f",
   "metadata": {
    "tags": []
   },
   "outputs": [
    {
     "data": {
      "text/plain": [
       "<KeysViewHDF5 ['angles', 'initial_object', 'initial_probe', 'object', 'positions', 'probe', 'probe_support']>"
      ]
     },
     "execution_count": 2,
     "metadata": {},
     "output_type": "execute_result"
    }
   ],
   "source": [
    "data.keys()\n",
    "data['recon'].keys()"
   ]
  },
  {
   "cell_type": "code",
   "execution_count": 3,
   "id": "1154b8f9-263f-4e80-9426-32f6588e0b04",
   "metadata": {
    "tags": []
   },
   "outputs": [
    {
     "data": {
      "text/plain": [
       "((510, 348, 348), (510,))"
      ]
     },
     "execution_count": 3,
     "metadata": {},
     "output_type": "execute_result"
    }
   ],
   "source": [
    "N = 2000\n",
    "obj = data['recon/object'][()][:,N:-N,N:-N]\n",
    "angles = data['recon/angles'][()][:,3]\n",
    "obj.shape, angles.shape"
   ]
  },
  {
   "cell_type": "code",
   "execution_count": 4,
   "id": "6faf39ee-71aa-48bb-87d0-e258988ee5dd",
   "metadata": {},
   "outputs": [
    {
     "name": "stdout",
     "output_type": "stream",
     "text": [
      "iter=0, err=24.962371682193982\n",
      "iter=1, err=19.621926510921398\n",
      "iter=2, err=14.798310714402506\n",
      "iter=3, err=11.17899816620434\n",
      "iter=4, err=8.09814793641114\n",
      "iter=5, err=5.921148537234985\n",
      "iter=6, err=4.455333881989094\n",
      "iter=7, err=3.352610922848042\n",
      "iter=8, err=2.521904042583698\n",
      "iter=9, err=1.8466185312619385\n"
     ]
    },
    {
     "ename": "ValueError",
     "evalue": "too many values to unpack (expected 2)",
     "output_type": "error",
     "traceback": [
      "\u001b[0;31m---------------------------------------------------------------------------\u001b[0m",
      "\u001b[0;31mValueError\u001b[0m                                Traceback (most recent call last)",
      "\u001b[0;32m/tmp/ipykernel_652929/1682986358.py\u001b[0m in \u001b[0;36m<module>\u001b[0;34m\u001b[0m\n\u001b[0;32m----> 1\u001b[0;31m \u001b[0mvolume1\u001b[0m\u001b[0;34m,\u001b[0m \u001b[0merror1\u001b[0m \u001b[0;34m=\u001b[0m \u001b[0mtomopy\u001b[0m\u001b[0;34m.\u001b[0m\u001b[0mprep\u001b[0m\u001b[0;34m.\u001b[0m\u001b[0malignment\u001b[0m\u001b[0;34m.\u001b[0m\u001b[0malign_joint\u001b[0m\u001b[0;34m(\u001b[0m\u001b[0mnp\u001b[0m\u001b[0;34m.\u001b[0m\u001b[0mabs\u001b[0m\u001b[0;34m(\u001b[0m\u001b[0mobj\u001b[0m\u001b[0;34m)\u001b[0m\u001b[0;34m,\u001b[0m\u001b[0mangles\u001b[0m\u001b[0;34m)\u001b[0m\u001b[0;34m\u001b[0m\u001b[0;34m\u001b[0m\u001b[0m\n\u001b[0m",
      "\u001b[0;31mValueError\u001b[0m: too many values to unpack (expected 2)"
     ]
    }
   ],
   "source": [
    "volume1, error1 = tomopy.prep.alignment.align_joint(np.abs(obj),angles)"
   ]
  },
  {
   "cell_type": "code",
   "execution_count": null,
   "id": "a6fec5c7-5804-41ae-b8d7-b33c35d4f92f",
   "metadata": {},
   "outputs": [],
   "source": [
    "np.save(save_path+'_joint.npy',volume1)\n",
    "np.save(save_path+'_joint_error.npy',error1)"
   ]
  },
  {
   "cell_type": "code",
   "execution_count": null,
   "id": "90dcf482-c954-49be-acaf-16342c15bf81",
   "metadata": {},
   "outputs": [],
   "source": [
    "volume2, error2 = tomopy.prep.alignment.align_seq(np.angle(obj),angles)"
   ]
  },
  {
   "cell_type": "code",
   "execution_count": null,
   "id": "691ffeb3-7b02-4839-8457-7f769c44c047",
   "metadata": {},
   "outputs": [],
   "source": [
    "np.save(save_path+'_seq.npy',volume2)\n",
    "np.save(save_path+'_seq_error.npy',error2)"
   ]
  },
  {
   "cell_type": "code",
   "execution_count": null,
   "id": "7b06310c-8d67-4e1d-b707-b972d2fb1eb5",
   "metadata": {},
   "outputs": [],
   "source": []
  }
 ],
 "metadata": {
  "kernelspec": {
   "display_name": "Python 3 (ipykernel)",
   "language": "python",
   "name": "python3"
  },
  "language_info": {
   "codemirror_mode": {
    "name": "ipython",
    "version": 3
   },
   "file_extension": ".py",
   "mimetype": "text/x-python",
   "name": "python",
   "nbconvert_exporter": "python",
   "pygments_lexer": "ipython3",
   "version": "3.9.2"
  }
 },
 "nbformat": 4,
 "nbformat_minor": 5
}
