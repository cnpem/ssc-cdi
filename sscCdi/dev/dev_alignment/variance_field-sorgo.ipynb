{
 "cells": [
  {
   "cell_type": "code",
   "execution_count": 1,
   "id": "10fa77fa-6c1d-4dca-96fb-374211d44a5f",
   "metadata": {
    "tags": []
   },
   "outputs": [],
   "source": [
    "import numpy as np\n",
    "import matplotlib.pyplot as plt\n",
    "import h5py\n",
    "import cv2\n",
    "import sscCdi\n",
    "import scipy\n",
    "\n",
    "from skimage import data\n",
    "from skimage.registration import phase_cross_correlation\n",
    "from skimage.registration._phase_cross_correlation import _upsampled_dft\n",
    "\n",
    "%matplotlib widget"
   ]
  },
  {
   "cell_type": "code",
   "execution_count": 2,
   "id": "efa59bfa-4c40-40d6-96b9-c6e0d04f8e63",
   "metadata": {
    "tags": []
   },
   "outputs": [],
   "source": [
    "def alignment_variance_field(data,upsampling_factor=10,return_common_valid_region=False):\n",
    "    \n",
    "    neighbor_shifts = np.empty((data.shape[0],2))\n",
    "    \n",
    "    print('Finding shift between neighboor slices...')\n",
    "    for i in range(0,data.shape[0]-1):\n",
    "\n",
    "        if i%10 == 0: print(i)\n",
    "        \n",
    "        local_variance1 = calculate_local_variance_field(data[i])\n",
    "        local_variance2 = calculate_local_variance_field(data[i+1])\n",
    "        \n",
    "        shift, error, diffphase = phase_cross_correlation(local_variance1, local_variance2, upsample_factor=upsampling_factor)\n",
    "\n",
    "        neighbor_shifts[i][0] = shift[0]\n",
    "        neighbor_shifts[i][1] = shift[1]\n",
    "        \n",
    "    total_shift = np.cumsum(neighbor_shifts,axis=0)\n",
    "    aligned_volume = np.zeros_like(data)\n",
    "    aligned_volume[0] = data[0]\n",
    "    \n",
    "    print('Shifting slices...')\n",
    "    for i in range(0,data.shape[0]-1):\n",
    "        if i%100 == 0: print(i)\n",
    "        aligned_volume[i+1] = scipy.ndimage.shift(data[i+1],total_shift[i])\n",
    "    \n",
    "    if return_common_valid_region:\n",
    "        print('Finding common useful region for whole volume...')\n",
    "        masked_volume = np.where(aligned_volume==0,0,1)\n",
    "        product = np.prod(np.abs(masked_volume),axis=0)\n",
    "        where_null = np.where(np.abs(product) == 0,0,1)\n",
    "\n",
    "        # plt.figure()\n",
    "        # plt.imshow(np.abs(aligned_volume[-1]))\n",
    "\n",
    "        aligned_volume[:] = np.where(where_null==1,aligned_volume,0) \n",
    "\n",
    "    print('Done')\n",
    "    return aligned_volume, neighbor_shifts\n",
    "\n",
    "def shift_2d_replace(data, dx, dy, constant=False):\n",
    "    \"\"\"\n",
    "    Shifts the array in two dimensions while setting rolled values to constant\n",
    "    :param data: The 2d numpy array to be shifted\n",
    "    :param dx: The shift in x\n",
    "    :param dy: The shift in y\n",
    "    :param constant: The constant to replace rolled values with\n",
    "    :return: The shifted array with \"constant\" where roll occurs\n",
    "    \"\"\"\n",
    "    shifted_data = np.roll(data, dx, axis=1)\n",
    "    if dx < 0:\n",
    "        shifted_data[:, dx:] = constant\n",
    "    elif dx > 0:\n",
    "        shifted_data[:, 0:dx] = constant\n",
    "\n",
    "    shifted_data = np.roll(shifted_data, dy, axis=0)\n",
    "    if dy < 0:\n",
    "        shifted_data[dy:, :] = constant\n",
    "    elif dy > 0:\n",
    "        shifted_data[0:dy, :] = constant\n",
    "    return shifted_data\n",
    "\n",
    "\n",
    "def get_gaussian_pyramid(frame,layers=2):\n",
    "\n",
    "    from skimage.transform import pyramid_gaussian\n",
    "\n",
    "    img_real = np.real(frame)\n",
    "    img_imag = np.imag(frame)\n",
    "\n",
    "    pyramid_real = tuple(pyramid_gaussian(img_real,downscale=2,max_layer=layers-1))\n",
    "    pyramid_imag = tuple(pyramid_gaussian(img_imag,downscale=2,max_layer=layers-1))\n",
    "    \n",
    "    pyramid = []\n",
    "    for R, I in zip(pyramid_real,pyramid_imag):\n",
    "        pyramid.append(R+1j*I)\n",
    "\n",
    "    return pyramid\n",
    "\n",
    "def calculate_local_variance_field(matrix):\n",
    "    \n",
    "    gradient = np.gradient(matrix)\n",
    "    del_x = gradient[1]\n",
    "    del_y = gradient[0]\n",
    "        \n",
    "    return np.sqrt(np.abs(del_x)**2 + np.abs(del_y)**2)\n",
    "\n",
    "\n",
    "def remove_black_borders(aligned_volume):\n",
    "\n",
    "    not_null = np.argwhere(np.abs(aligned_volume[0]))\n",
    "\n",
    "    # Bounding box of non-black pixels.\n",
    "    x0, y0 = not_null.min(axis=0)\n",
    "    x1, y1 = not_null.max(axis=0) + 1   # slices are exclusive at the top\n",
    "\n",
    "    # Get the contents of the bounding box.\n",
    "    cropped_aligned_volume = aligned_volume[:,x0:x1, y0:y1]\n",
    "\n",
    "    return cropped_aligned_volume"
   ]
  },
  {
   "cell_type": "code",
   "execution_count": null,
   "id": "51790dc1-61e9-4b60-b641-a2e32589070a",
   "metadata": {
    "tags": []
   },
   "outputs": [],
   "source": [
    "# path = \"/ibira/lnls/labs/tepui/home/yuri.tonin/00000000/proc/recons/glass_sphere/temp/2023-05-16-15h38m_glass_sphere_phase_cropped_sinogram.npy\"\n",
    "# data = np.load(path)[0:10]\n",
    "\n",
    "path = \"/ibira/lnls/beamlines/caterete/proposals/20221798/proc/recons/sorgoBMR08_mem1_FAA_YuriTest/YuriTest_sorgoBMR08_mem1_FAA.hdf5\"\n",
    "data = h5py.File(path,'r')['recon/object'][()]\n",
    "angles = h5py.File(path,'r')['recon/angles'][()][:,0::2]\n",
    "\n",
    "# mean = np.mean(data,axis=0)\n",
    "# plt.figure()\n",
    "# plt.imshow(np.abs(mean))"
   ]
  },
  {
   "cell_type": "code",
   "execution_count": null,
   "id": "27df8760-e324-45d8-858d-15f59d852e84",
   "metadata": {
    "tags": []
   },
   "outputs": [],
   "source": [
    "data=data[:,1345:3040,1280:2980]"
   ]
  },
  {
   "cell_type": "code",
   "execution_count": null,
   "id": "07e88045-f096-4684-8a21-d29cd34dea05",
   "metadata": {
    "tags": []
   },
   "outputs": [],
   "source": [
    "mean = np.mean(data,axis=0)\n",
    "plt.figure()\n",
    "plt.imshow(np.abs(mean))"
   ]
  },
  {
   "cell_type": "code",
   "execution_count": null,
   "id": "58637e3e-32ea-41ad-90df-e91a762a662d",
   "metadata": {
    "tags": []
   },
   "outputs": [],
   "source": [
    "from sscCdi import sort_angles\n",
    "from sscCdi import reorder_slices_low_to_high_angle\n",
    "\n",
    "sorted_angles = sort_angles(angles) # input colums with frame number and angle in rad\n",
    "data = reorder_slices_low_to_high_angle(data, sorted_angles)"
   ]
  },
  {
   "cell_type": "code",
   "execution_count": null,
   "id": "3f21f2ef-075d-4ffc-b61f-106a891b1c8c",
   "metadata": {
    "tags": []
   },
   "outputs": [],
   "source": [
    "aligned_volume, neighbor_shifts = alignment_variance_field(data,return_common_valid_region=True)"
   ]
  },
  {
   "cell_type": "code",
   "execution_count": null,
   "id": "e8d7c577-a3d0-4775-b29b-a7c29c29879d",
   "metadata": {
    "tags": []
   },
   "outputs": [],
   "source": [
    "sscCdi.misc.deploy_visualizer(np.abs(data),title='sample',cmap='gray')"
   ]
  },
  {
   "cell_type": "code",
   "execution_count": null,
   "id": "0224d33c-1572-462b-8bec-8cc34d98a259",
   "metadata": {
    "tags": []
   },
   "outputs": [],
   "source": [
    "sscCdi.misc.deploy_visualizer(np.angle(aligned_volume),title='sample',cmap='gray')"
   ]
  },
  {
   "cell_type": "code",
   "execution_count": null,
   "id": "99431faa-b876-486a-94f6-3f0c6ad8d144",
   "metadata": {},
   "outputs": [],
   "source": [
    "cropped_aligned_volume = remove_black_borders(aligned_volume)\n",
    "\n",
    "cropped_aligned_volume = np.angle(cropped_aligned_volume)"
   ]
  },
  {
   "cell_type": "code",
   "execution_count": null,
   "id": "4601874f-966e-48b8-aebe-dd9093d38d08",
   "metadata": {
    "tags": []
   },
   "outputs": [],
   "source": [
    "sscCdi.misc.deploy_visualizer(cropped_aligned_volume,title='sample',cmap='gray')"
   ]
  },
  {
   "cell_type": "code",
   "execution_count": null,
   "id": "e84a421e-dfcb-4616-8ae3-2d6fdfd34a75",
   "metadata": {
    "tags": []
   },
   "outputs": [],
   "source": [
    "from sscCdi import unwrap_in_parallel, equalize_frames_parallel\n",
    "cropped_aligned_volume = unwrap_in_parallel(cropped_aligned_volume)"
   ]
  },
  {
   "cell_type": "code",
   "execution_count": null,
   "id": "f862d6cf-c5a9-4012-bfa5-90d6dc5aa381",
   "metadata": {
    "tags": []
   },
   "outputs": [],
   "source": [
    "dic={}\n",
    "dic[\"bad_frames_before_equalization\"] = [0,1,508,509]\n",
    "dic[\"equalize_gradient\"] = True\n",
    "dic[\"equalize_global_offset\"] = False\n",
    "dic[\"equalize_invert\"] = True\n",
    "dic[\"equalize_local_offset\"] = [1400,1500,1200,1400]\n",
    "dic[\"equalize_outliers\"] = 0\n",
    "\n",
    "equalized_sinogram = equalize_frames_parallel(cropped_aligned_volume,dic[\"equalize_invert\"],dic[\"equalize_gradient\"],dic[\"equalize_outliers\"],dic[\"equalize_global_offset\"], dic[\"equalize_local_offset\"])\n",
    "sscCdi.misc.deploy_visualizer(equalized_sinogram,title='sample',cmap='gray')"
   ]
  },
  {
   "cell_type": "code",
   "execution_count": null,
   "id": "059a7123-d857-413a-b1d6-814f92355847",
   "metadata": {
    "tags": []
   },
   "outputs": [],
   "source": [
    "# path1 = '/ibira/lnls/beamlines/caterete/proposals/20221798/proc/recons/sorgoBMR08_mem1_FAA_01/temp/2023-07-18-12h48m_sorgoBMR08_mem1_FAA_01_cross_correlation_alignment.npy'\n",
    "# np.save(path1,equalized_sinogram)"
   ]
  },
  {
   "cell_type": "code",
   "execution_count": null,
   "id": "2a262c8a-8e0e-48b1-b84b-64269d872976",
   "metadata": {
    "tags": []
   },
   "outputs": [],
   "source": [
    "sscCdi.misc.deploy_visualizer(equalized_sinogram,title='sample',cmap='gray',axis=1,limits=(0,9.5))"
   ]
  },
  {
   "cell_type": "code",
   "execution_count": null,
   "id": "b2130b28-ce93-47f3-afcb-20be93af1bed",
   "metadata": {
    "tags": []
   },
   "outputs": [],
   "source": [
    "sscCdi.misc.deploy_visualizer(equalized_sinogram,title='sample',cmap='gray',axis=1,limits=(0,9.5))"
   ]
  },
  {
   "cell_type": "code",
   "execution_count": null,
   "id": "a4c3855d-c5af-47f2-b8a6-d6e293e3b5a3",
   "metadata": {
    "tags": []
   },
   "outputs": [],
   "source": [
    "path = '/ibira/lnls/beamlines/caterete/proposals/20221798/proc/recons/sorgoBMR08_mem1_FAA_01/temp/2023-07-18-12h48m_sorgoBMR08_mem1_FAA_01_phase_wiggle_sinogram.npy'\n",
    "\n",
    "only_wiggle_alignment = np.load(path)\n",
    "\n",
    "sscCdi.misc.deploy_visualizer(only_wiggle_alignment,title='sample',cmap='gray',axis=1)"
   ]
  },
  {
   "cell_type": "code",
   "execution_count": null,
   "id": "f0eaf573-db3a-48d0-b0e4-6f82d86e7b07",
   "metadata": {
    "tags": []
   },
   "outputs": [],
   "source": [
    "from sscCdi import wiggle\n",
    "\n",
    "dic = {}\n",
    "dic[\"CPUs\"] = 32\n",
    "dic[\"project_angles_to_regular_grid\"] = False\n",
    "dic[\"bad_frames_before_wiggle\"] = [] \n",
    "dic[\"wiggle_reference_frame\"] = 100\n",
    "\n",
    "aligned_sinogram, wiggle_cmas = wiggle(dic,equalized_sinogram)\n",
    "# for frame in [28,30,45,49,65,66,91,113]:\n",
    "    # aligned_sinogram[frame] = np.zeros(equalized_sinogram[0].shape)\n",
    "\n",
    "sscCdi.misc.deploy_visualizer(aligned_sinogram,title='sample',cmap='gray',axis=1)"
   ]
  },
  {
   "cell_type": "code",
   "execution_count": null,
   "id": "ef4d2d27-e7e2-424c-9799-d988ed41e165",
   "metadata": {
    "tags": []
   },
   "outputs": [],
   "source": [
    "# path2 = '/ibira/lnls/beamlines/caterete/proposals/20221798/proc/recons/sorgoBMR08_mem1_FAA_01/temp/2023-07-18-12h48m_sorgoBMR08_mem1_FAA_01_cross_correlation_and_wiggle.npy'\n",
    "# np.save(path2,aligned_sinogram)"
   ]
  },
  {
   "cell_type": "code",
   "execution_count": null,
   "id": "a0ac60bd-30a4-48d2-914f-d0f40298e749",
   "metadata": {},
   "outputs": [],
   "source": []
  }
 ],
 "metadata": {
  "kernelspec": {
   "display_name": "Python 3 (ipykernel)",
   "language": "python",
   "name": "python3"
  },
  "language_info": {
   "codemirror_mode": {
    "name": "ipython",
    "version": 3
   },
   "file_extension": ".py",
   "mimetype": "text/x-python",
   "name": "python",
   "nbconvert_exporter": "python",
   "pygments_lexer": "ipython3",
   "version": "3.9.2"
  }
 },
 "nbformat": 4,
 "nbformat_minor": 5
}
