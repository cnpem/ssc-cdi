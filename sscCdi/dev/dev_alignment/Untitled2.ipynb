{
 "cells": [
  {
   "cell_type": "markdown",
   "id": "154f122b-7ac9-42ca-aa5a-5fc929e9a03b",
   "metadata": {},
   "source": [
    "# GCC's ssc-cdi : ptychography pipeline for Cateretê v0.1\n",
    " \n",
    "- #### Questions? E-mail gcc@lnls.br\n",
    "- #### Documentation about the ssc-cdi package: https://gcc.lnls.br/wiki/"
   ]
  },
  {
   "cell_type": "code",
   "execution_count": 5,
   "id": "36663a9b-c3bb-4374-960d-b9ce4f43d9d2",
   "metadata": {
    "tags": []
   },
   "outputs": [
    {
     "data": {
      "text/plain": [
       "(425, 1, 3072, 3072)"
      ]
     },
     "execution_count": 5,
     "metadata": {},
     "output_type": "execute_result"
    }
   ],
   "source": [
    "path = \"/ibira/lnls/beamlines/caterete/proposals/20222104/data/ptycho3d/AA34_picro_crio2_03/scans/0078_AA34_picro_crio2_03_001.hdf5\"\n",
    "\n",
    "data = h5py.File(path,'r')['entry/data/data'][()]\n",
    "data.shape"
   ]
  },
  {
   "cell_type": "markdown",
   "id": "5907b5fd-c1a2-41bb-a750-f5a2752f694b",
   "metadata": {},
   "source": [
    "## Imports"
   ]
  },
  {
   "cell_type": "code",
   "execution_count": 1,
   "id": "d27ac7ad-ba2e-43b4-b22e-fd31f4301ad5",
   "metadata": {
    "tags": []
   },
   "outputs": [
    {
     "name": "stdout",
     "output_type": "stream",
     "text": [
      "sscCdi version: 0.6.21\n",
      "sscResolution version: 0.5.8\n"
     ]
    }
   ],
   "source": [
    "%matplotlib widget\n",
    "import os, json, h5py\n",
    "import numpy as np\n",
    "import matplotlib.pyplot as plt\n",
    "from matplotlib.colors import LogNorm\n",
    "import sscInstall\n",
    "import sscCdi\n",
    "import sscResolution\n",
    "\n",
    "print(f'sscCdi version: {sscCdi.__version__}')\n",
    "print(f'sscResolution version: {sscResolution.__version__}')"
   ]
  },
  {
   "cell_type": "code",
   "execution_count": 13,
   "id": "0d8cb076-36cd-494f-92d2-12501d747c92",
   "metadata": {
    "tags": []
   },
   "outputs": [
    {
     "name": "stdout",
     "output_type": "stream",
     "text": [
      "[53, 54, 55, 56, 57, 58, 59, 60, 61, 62, 63, 64, 65, 66, 67, 68, 69, 70, 71, 72, 73, 74, 75, 76, 77, 78, 79, 80, 81, 82, 83, 84, 85, 86, 87, 88, 89, 90, 91, 92, 93, 94, 95, 96, 97, 98, 99, 100, 101, 102, 103, 104, 105, 106, 107, 108, 109, 110, 111, 112, 113, 114, 115, 116, 117, 118, 119, 120, 121, 122, 123, 124, 125, 126, 127, 128, 129, 130, 131, 132, 133, 134, 135, 136, 137, 138, 139, 140, 141, 142, 143, 144, 145, 146, 147, 148, 149, 150, 151, 152, 153, 154, 155, 156, 157, 158, 159, 160, 161, 162, 163, 164, 165, 166, 167, 168, 169, 170, 171, 172, 173, 174, 175, 176, 177, 178, 179, 180, 181, 182, 183, 184, 185, 186, 187, 188, 189, 190, 191, 192, 193, 194, 195, 196, 197, 198, 199, 200, 201, 202, 203, 204, 205, 206, 207, 208, 209, 210, 211, 212, 213, 214]\n"
     ]
    }
   ],
   "source": [
    "print([i for i in range(53,215)])"
   ]
  },
  {
   "cell_type": "markdown",
   "id": "9dd92c92-7003-42ae-9877-57fd9709ee52",
   "metadata": {},
   "source": [
    "## Inputs"
   ]
  },
  {
   "cell_type": "code",
   "execution_count": 2,
   "id": "661e7fa9-63e2-460f-8d62-0780550cb1cd",
   "metadata": {
    "tags": []
   },
   "outputs": [
    {
     "name": "stdout",
     "output_type": "stream",
     "text": [
      "\tProposal path:  /ibira/lnls/labs/tepui/home/yuri.tonin/00000000/data/ptycho3d/\n",
      "\tAcquisition folder:  glass_sphere\n",
      "\tOutput path: /ibira/lnls/labs/tepui/home/yuri.tonin/00000000/proc/recons/glass_sphere\n"
     ]
    }
   ],
   "source": [
    "input_dict = {\n",
    "    \n",
    "'beamline': 'CAT',\n",
    "'detector': '540D',\n",
    "'debug': False, # use False\n",
    "\n",
    "\"data_folder\": \"/ibira/lnls/labs/tepui/home/yuri.tonin/00000000/data/ptycho3d/\",\n",
    "\"acquisition_folders\": [\"glass_sphere\"],\n",
    "\"projections\": [53, 54, 55, 56, 57, 58, 59, 60, 61, 62, 63, 64, 65, 66, 67, 68, 69, 70, 71, 72, 73, 74, 75, 76, 77, 78, 79, 80, 81, 82, 83, 84, 85, 86, 87, 88, 89, 90, 91, 92, 93, 94, 95, 96, 97, 98, 99, 100, 101, 102, 103, 104, 105, 106, 107, 108, 109, 110, 111, 112, 113, 114, 115, 116, 117, 118, 119, 120, 121, 122, 123, 124, 125, 126, 127, 128, 129, 130, 131, 132, 133, 134, 135, 136, 137, 138, 139, 140, 141, 142, 143, 144, 145, 146, 147, 148, 149, 150, 151, 152, 153, 154, 155, 156, 157, 158, 159, 160, 161, 162, 163, 164, 165, 166, 167, 168, 169, 170, 171, 172, 173, 174, 175, 176, 177, 178, 179, 180, 181, 182, 183, 184, 185, 186, 187, 188, 189, 190, 191, 192, 193, 194, 195, 196, 197, 198, 199, 200, 201, 202, 203, 204, 205, 206, 207, 208, 209, 210, 211, 212, 213],\n",
    "\n",
    "\"flatfield\": \"\",\n",
    "\n",
    "'CPUs': 160,\n",
    "'GPUs': [0,1,2,3,4],\n",
    "\n",
    "'binning': 1, \n",
    "'using_direct_beam': True, # if True, converts DP_center coordinates from raw to restored coordinates\n",
    "'DP_center': [1433,1478],  # [center_y, center_x]\n",
    "'fill_blanks': False, # interpolate blank lines after restoration\n",
    "'keep_original_negative_values': False, \n",
    "'suspect_border_pixels': 3, # pixels\n",
    "'detector_ROI_radius': 1350, # pixels\n",
    "\n",
    "'position_rotation': -0.003, # radians. angle between detector and probe coordinate system\n",
    "\n",
    "'object_padding': 50, # pixels\n",
    "\n",
    "'incoherent_modes': 1, \n",
    "'probe_support': [ \"circular\", 150,0,0 ], # [\"circular\",radius_pxls,center_y, center_x]; (0,0) is the center of the image\n",
    "'fresnel_number': -0.001,\n",
    "\n",
    "\"initial_obj\": [\"random\"], # path to .npy, .hdf5, [\"random\"], [\"constant\"]\n",
    "\"initial_probe\": [\"inverse\"], # path to .npy, .hdf5, [\"inverse\"], [\"random\"], [\"constant\"], [\"circular\",radius]\n",
    "\n",
    "'Algorithm1': {'Batch': 64,\n",
    "                'Beta': 0.995,\n",
    "                'Epsilon': 0.01,\n",
    "                'Iterations': 100,\n",
    "                'Name': 'RAAR',\n",
    "                'ProbeCycles': 4,\n",
    "                'TV': 0},\n",
    "\n",
    "'Algorithm2': {'Batch': 64,\n",
    "                'Beta': 0.5,\n",
    "                'Epsilon': 0.01,\n",
    "                'Iterations': 50,\n",
    "                'Name': 'RAAR',\n",
    "                'ProbeCycles': 4,\n",
    "                'TV': 0},\n",
    "    \n",
    "    \n",
    "# 'Algorithm2': {'Batch': 64,\n",
    "#                 'Epsilon': 0.01,\n",
    "#                 'Iterations': 50,\n",
    "#                 'Name': 'GL',\n",
    "#                 'ObjBeta': 0.97,\n",
    "#                 'ProbeBeta': 0.95,\n",
    "#                 'TV': 0.0001},\n",
    "\n",
    "# 'Algorithm3': {'Batch': 64,\n",
    "#                 'Epsilon': 0.1,\n",
    "#                 'Iterations': 50,\n",
    "#                 'Name': 'GL',\n",
    "#                 'ObjBeta': 0.5,\n",
    "#                 'ProbeBeta': 0.5,\n",
    "#                 'TV': 0.01},\n",
    "}\n",
    "\n",
    "input_dict = sscCdi.caterete.cat_ptycho_processing.define_paths(input_dict)"
   ]
  },
  {
   "cell_type": "markdown",
   "id": "ca6846c7-e1e5-41a5-9a0c-b6c20f1066f0",
   "metadata": {},
   "source": [
    "## Load diffraction data to find center"
   ]
  },
  {
   "cell_type": "code",
   "execution_count": 3,
   "id": "72108c36-1619-4f54-b41e-1f96b5e510c8",
   "metadata": {
    "tags": []
   },
   "outputs": [],
   "source": [
    "# path = \"/ibira/lnls/beamlines/caterete/apps/gcc-jupyter/00000000/data/ptycho2d/SS03112022_02/scans/0000_SS03112022_02_001.hdf5\" # enter path to raw diffractiom dataset\n",
    "\n",
    "# fig, ax = plt.subplots(dpi=100)\n",
    "# ax.imshow(np.squeeze(h5py.File(path,'r')['entry/data/data'])[0],norm=LogNorm(),cmap='jet')"
   ]
  },
  {
   "cell_type": "markdown",
   "id": "6a54b522-657f-46c9-b85b-c977edf53b4b",
   "metadata": {},
   "source": [
    "# Run new job at cluster"
   ]
  },
  {
   "cell_type": "code",
   "execution_count": 4,
   "id": "6fbcf23d-80d0-4245-b960-936aae37654c",
   "metadata": {
    "tags": []
   },
   "outputs": [
    {
     "name": "stdin",
     "output_type": "stream",
     "text": [
      "Username: Yuri.tonin\n"
     ]
    },
    {
     "name": "stdout",
     "output_type": "stream",
     "text": [
      "Password:\n"
     ]
    },
    {
     "name": "stdin",
     "output_type": "stream",
     "text": [
      " ········\n"
     ]
    }
   ],
   "source": [
    "server = sscInstall.connect_server()    "
   ]
  },
  {
   "cell_type": "code",
   "execution_count": 5,
   "id": "ebdb3847-2863-42e6-bd87-49a4557f21bf",
   "metadata": {
    "tags": []
   },
   "outputs": [
    {
     "name": "stdout",
     "output_type": "stream",
     "text": [
      "Terminal output: Submitted batch job 57511\n",
      "\n"
     ]
    },
    {
     "data": {
      "text/plain": [
       "'/ibira/lnls/beamlines/caterete/apps/gcc-jupyter/inputs/yuri.tonin_ptycho_input.json'"
      ]
     },
     "execution_count": 5,
     "metadata": {},
     "output_type": "execute_result"
    }
   ],
   "source": [
    "json_filepath_path = sscCdi.cat_ptycho_processing.save_input_dictionary(input_dict)\n",
    "sscCdi.run_at_cluster(server,json_filepath_path,queue='dev-gcc',gpus=input_dict[\"GPUs\"],cpus=input_dict[\"CPUs\"],jobName='JOB',script_path = \"/ibira/lnls/beamlines/caterete/apps/gcc-jupyter/ssc-cdi-0.6.17/bin/caterete_ptycho.py\",slurm_path = '/ibira/lnls/beamlines/caterete/apps/gcc-jupyter/inputs/')\n",
    "json_filepath_path"
   ]
  },
  {
   "cell_type": "markdown",
   "id": "57cc1c56-d232-47c6-86b1-77563604424d",
   "metadata": {},
   "source": [
    "\n",
    "# Run Locally"
   ]
  },
  {
   "cell_type": "markdown",
   "id": "cc73407e-7278-4a93-8ab0-800a915de749",
   "metadata": {},
   "source": [
    "## Restoration"
   ]
  },
  {
   "cell_type": "code",
   "execution_count": null,
   "id": "06b77847-6cdb-443e-84b3-bcf5f3ffb9f2",
   "metadata": {
    "tags": []
   },
   "outputs": [],
   "source": [
    "restoration_dict_list, restored_data_info_list = sscCdi.caterete.cat_restoration.restoration_ptycho_CAT(input_dict) # restoration of all frames; restored DPs saved at temporary folder"
   ]
  },
  {
   "cell_type": "markdown",
   "id": "e0a8a458-5dc8-421e-ac92-ef062acc03e1",
   "metadata": {},
   "source": [
    "## Ptychography"
   ]
  },
  {
   "cell_type": "code",
   "execution_count": 10,
   "id": "8d9979bb-2fea-4fa2-a76d-40215c918621",
   "metadata": {
    "tags": []
   },
   "outputs": [
    {
     "data": {
      "text/plain": [
       "{'beamline': 'CAT',\n",
       " 'detector': '540D',\n",
       " 'debug': False,\n",
       " 'data_folder': '/ibira/lnls/labs/tepui/home/yuri.tonin/00000000/data/ptycho3d/',\n",
       " 'acquisition_folders': ['glass_sphere'],\n",
       " 'projections': [0],\n",
       " 'flatfield': '/ibira/lnls/labs/tepui/home/yuri.tonin/00000000/data/ptycho3d/glass_sphere/images/flat.hdf5',\n",
       " 'CPUs': 64,\n",
       " 'GPUs': [0, 1],\n",
       " 'binning': 1,\n",
       " 'using_direct_beam': True,\n",
       " 'DP_center': [1433, 1478],\n",
       " 'fill_blanks': False,\n",
       " 'keep_original_negative_values': False,\n",
       " 'suspect_border_pixels': 3,\n",
       " 'detector_ROI_radius': 1350,\n",
       " 'position_rotation': -0.003,\n",
       " 'object_padding': 50,\n",
       " 'incoherent_modes': 1,\n",
       " 'probe_support': ['circular', 100, 0, 0],\n",
       " 'fresnel_number': -0.001,\n",
       " 'initial_obj': ['random'],\n",
       " 'initial_probe': ['inverse'],\n",
       " 'Algorithm1': {'Batch': 64,\n",
       "  'Beta': 0.995,\n",
       "  'Epsilon': 0.01,\n",
       "  'Iterations': 100,\n",
       "  'Name': 'RAAR',\n",
       "  'ProbeCycles': 4,\n",
       "  'TV': 0},\n",
       " 'Algorithm2': {'Batch': 64,\n",
       "  'Beta': 0.5,\n",
       "  'Epsilon': 0.01,\n",
       "  'Iterations': 50,\n",
       "  'Name': 'RAAR',\n",
       "  'ProbeCycles': 4,\n",
       "  'TV': 0},\n",
       " 'PreviewGCC': [False, ''],\n",
       " 'versions': 'sscCdi=0.6.21,sscPimega=0.7.4,sscResolution=0.5.8,sscRaft=2.2.0,sscRadon=1.0.1',\n",
       " 'output_path': '/ibira/lnls/labs/tepui/home/yuri.tonin/00000000/proc/recons/glass_sphere',\n",
       " 'temporary_output': '/ibira/lnls/labs/tepui/home/yuri.tonin/00000000/proc/recons/glass_sphere/temp',\n",
       " 'temporary_output_recons': '/ibira/lnls/labs/tepui/home/yuri.tonin/00000000/proc/recons/glass_sphere/recons',\n",
       " 'scans_string': 'scans',\n",
       " 'positions_string': 'positions',\n",
       " 'ignored_scans': [('folder_number', 'file_number')],\n",
       " 'energy': 3.8,\n",
       " 'detector_distance': 14.000094189453124,\n",
       " 'restored_pixel_size': 5.4999999999999995e-05,\n",
       " 'detector_exposure': [None, 10.0],\n",
       " 'mask': '/ibira/lnls/labs/tepui/home/yuri.tonin/00000000/data/ptycho3d/glass_sphere/images/mask.hdf5',\n",
       " 'empty': '/ibira/lnls/labs/tepui/home/yuri.tonin/00000000/data/ptycho3d/glass_sphere/images/empty.hdf5',\n",
       " 'datetime': '2023-07-31-16h53m_glass_sphere',\n",
       " 'hdf5_output': '/ibira/lnls/labs/tepui/home/yuri.tonin/00000000/proc/recons/glass_sphere/2023-07-31-16h53m_glass_sphere.hdf5'}"
      ]
     },
     "execution_count": 10,
     "metadata": {},
     "output_type": "execute_result"
    }
   ],
   "source": [
    "input_dict"
   ]
  },
  {
   "cell_type": "code",
   "execution_count": null,
   "id": "832f7c8b-667d-425e-b66d-b7eb4f3bc2e1",
   "metadata": {
    "tags": []
   },
   "outputs": [],
   "source": [
    "input_dict, obj, probe, probe_positions = sscCdi.caterete.cat_ptycho_processing.cat_ptychography(input_dict,restoration_dict_list,restored_data_info_list)\n",
    "obj, probe, angles, positions, error = sscCdi.misc.save_volume_from_parts(input_dict)\n",
    "sscCdi.misc.save_variable(input_dict, obj,name='object')\n",
    "sscCdi.misc.save_variable(input_dict,probe,name='probe')\n",
    "sscCdi.misc.save_variable(input_dict,positions,name='positions')\n",
    "sscCdi.misc.save_variable(input_dict,angles,name='angles')\n",
    "sscCdi.misc.save_variable(input_dict,error,name='error',group='log')\n",
    "sscCdi.misc.save_json_logfile(input_dict) \n",
    "sscCdi.misc.delete_temporary_folders(input_dict)"
   ]
  },
  {
   "cell_type": "code",
   "execution_count": null,
   "id": "a5456e7d-737f-4543-a21d-5cb547b96f8d",
   "metadata": {
    "tags": []
   },
   "outputs": [],
   "source": [
    "if 1: # phase\n",
    "    preview = np.angle(obj)\n",
    "else: # magnitude\n",
    "    preview = np.abs(obj)\n",
    "\n",
    "# sscCdi.misc.visualize_magnitude_and_phase(obj)\n",
    "sscCdi.misc.deploy_visualizer(preview,title='Sinogram',cmap='gray')"
   ]
  },
  {
   "cell_type": "code",
   "execution_count": null,
   "id": "239aef2c-46bd-4b09-9e8b-e68866e056c3",
   "metadata": {},
   "outputs": [],
   "source": [
    "sscCdi.misc.deploy_visualizer(probe,title='Sinogram',cmap='gray')"
   ]
  },
  {
   "cell_type": "markdown",
   "id": "a70075e8-606f-4aa7-9869-e9bc8c929412",
   "metadata": {},
   "source": [
    "## Crop object"
   ]
  },
  {
   "cell_type": "code",
   "execution_count": 9,
   "id": "4252dea4-c65b-4370-9914-1b22bea6c0ad",
   "metadata": {
    "tags": []
   },
   "outputs": [],
   "source": [
    "input_dict['crop'] = [1400,2000,1300,1900]\n",
    "cropped_object = sscCdi.caterete.cat_ptycho_processing.crop_sinogram(input_dict,obj,probe_positions)\n",
    "if 1: # phase\n",
    "    cropped_object = np.angle(cropped_object)\n",
    "else: # magnitude\n",
    "    cropped_object = np.abs(cropped_object)"
   ]
  },
  {
   "cell_type": "code",
   "execution_count": 10,
   "id": "bfa9bbf0-4122-4ac9-bb8c-c4d86717dd20",
   "metadata": {
    "tags": []
   },
   "outputs": [
    {
     "data": {
      "application/vnd.jupyter.widget-view+json": {
       "model_id": "d8f61e719baa42b1b03bf2b89abea225",
       "version_major": 2,
       "version_minor": 0
      },
      "text/plain": [
       "VBox(children=(IntSlider(value=0, description='Slice', layout=Layout(width='25%'), max=0), Output()))"
      ]
     },
     "metadata": {},
     "output_type": "display_data"
    }
   ],
   "source": [
    "sscCdi.misc.deploy_visualizer(cropped_object,title='Cropped sinogram',cmap='gray')"
   ]
  },
  {
   "cell_type": "markdown",
   "id": "eaffe455-3a54-4541-ad45-137d731b4a82",
   "metadata": {},
   "source": [
    "## Unwrap object"
   ]
  },
  {
   "cell_type": "code",
   "execution_count": 11,
   "id": "ebea1960-a3f2-4831-ade9-0ea420cdcdfd",
   "metadata": {
    "tags": []
   },
   "outputs": [
    {
     "name": "stdout",
     "output_type": "stream",
     "text": [
      "Using 32 parallel processes\n"
     ]
    },
    {
     "name": "stderr",
     "output_type": "stream",
     "text": [
      "100%|██████████| 1/1 [00:00<00:00,  5.47it/s]\n"
     ]
    }
   ],
   "source": [
    "phase = sscCdi.caterete.unwrap_in_parallel(cropped_object)\n",
    "sscCdi.misc.save_variable(input_dict,phase, name = 'object_unwrapped')"
   ]
  },
  {
   "cell_type": "code",
   "execution_count": 12,
   "id": "cba63e26-0307-40c0-8e46-60415ecaf083",
   "metadata": {
    "tags": []
   },
   "outputs": [
    {
     "data": {
      "application/vnd.jupyter.widget-view+json": {
       "model_id": "178ec0f351ac45bf9ae9d40385900106",
       "version_major": 2,
       "version_minor": 0
      },
      "text/plain": [
       "VBox(children=(IntSlider(value=0, description='Slice', layout=Layout(width='25%'), max=0), Output()))"
      ]
     },
     "metadata": {},
     "output_type": "display_data"
    }
   ],
   "source": [
    "sscCdi.misc.deploy_visualizer(phase,title='Unwrapped',cmap='gray')"
   ]
  },
  {
   "cell_type": "markdown",
   "id": "5a4f179c-4a60-4cd6-83c3-ddd380e634d0",
   "metadata": {},
   "source": [
    "## Fourier Ring Correlation"
   ]
  },
  {
   "cell_type": "code",
   "execution_count": null,
   "id": "51d1cc29-01e6-4334-8f8f-53ed14b09b62",
   "metadata": {
    "tags": []
   },
   "outputs": [],
   "source": [
    "frame = 0\n",
    "\n",
    "if 1: # FRC on phase image\n",
    "    img = phase[frame]\n",
    "else: # else, on absorption image\n",
    "    img = np.abs(cropped_object)[frame]\n",
    "\n",
    "padding = 0\n",
    "sharpness = 10\n",
    "radius = 0.8\n",
    "\n",
    "dic = sscResolution.frc.computep( sscResolution.frc.window( img, padding, [sharpness, radius] ) , input_dict[\"CPUs\"] ) \n",
    "print(f\"\\tResolution via halfbit criterion: {1e9*input_dict['object_pixel']/dic['x']['H']:.2f} nm\")\n",
    "\n",
    "sscResolution.frc.plot(dic, {'label': \"Resolution\", 'unit': \"nm\", 'pxlsize': input_dict['object_pixel']*1e9} )"
   ]
  }
 ],
 "metadata": {
  "kernelspec": {
   "display_name": "Python 3 (ipykernel)",
   "language": "python",
   "name": "python3"
  },
  "language_info": {
   "codemirror_mode": {
    "name": "ipython",
    "version": 3
   },
   "file_extension": ".py",
   "mimetype": "text/x-python",
   "name": "python",
   "nbconvert_exporter": "python",
   "pygments_lexer": "ipython3",
   "version": "3.9.2"
  }
 },
 "nbformat": 4,
 "nbformat_minor": 5
}
