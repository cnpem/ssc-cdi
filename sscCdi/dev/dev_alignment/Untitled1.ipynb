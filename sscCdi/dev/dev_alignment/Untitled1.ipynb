{
 "cells": [
  {
   "cell_type": "markdown",
   "id": "154f122b-7ac9-42ca-aa5a-5fc929e9a03b",
   "metadata": {},
   "source": [
    "# GCC's ssc-cdi : ptychography pipeline for Cateretê v0.1\n",
    " \n",
    "- #### Questions? E-mail gcc@lnls.br\n",
    "- #### Documentation about the ssc-cdi package: https://gcc.lnls.br/wiki/"
   ]
  },
  {
   "cell_type": "markdown",
   "id": "5907b5fd-c1a2-41bb-a750-f5a2752f694b",
   "metadata": {},
   "source": [
    "## Imports"
   ]
  },
  {
   "cell_type": "code",
   "execution_count": 3,
   "id": "d27ac7ad-ba2e-43b4-b22e-fd31f4301ad5",
   "metadata": {
    "tags": []
   },
   "outputs": [
    {
     "name": "stdout",
     "output_type": "stream",
     "text": [
      "sscCdi version: 0.6.20\n",
      "sscResolution version: 0.5.8\n"
     ]
    }
   ],
   "source": [
    "%matplotlib widget\n",
    "import os, json, h5py\n",
    "import numpy as np\n",
    "import matplotlib.pyplot as plt\n",
    "from matplotlib.colors import LogNorm\n",
    "import sscInstall\n",
    "import sscCdi\n",
    "import sscResolution\n",
    "\n",
    "print(f'sscCdi version: {sscCdi.__version__}')\n",
    "print(f'sscResolution version: {sscResolution.__version__}')"
   ]
  },
  {
   "cell_type": "markdown",
   "id": "9dd92c92-7003-42ae-9877-57fd9709ee52",
   "metadata": {},
   "source": [
    "## Inputs"
   ]
  },
  {
   "cell_type": "code",
   "execution_count": 6,
   "id": "661e7fa9-63e2-460f-8d62-0780550cb1cd",
   "metadata": {
    "tags": []
   },
   "outputs": [
    {
     "name": "stdout",
     "output_type": "stream",
     "text": [
      "\tProposal path:  /ibira/lnls/beamlines/caterete/proposals/20222150/data/ptycho3d/\n",
      "\tAcquisition folder:  A1_01\n",
      "\tOutput path: /ibira/lnls/beamlines/caterete/proposals/20222150/proc/recons/A1_01\n"
     ]
    }
   ],
   "source": [
    "input_dict = {\n",
    "    \n",
    "'beamline': 'CAT',\n",
    "'detector': '540D',\n",
    "'debug': False, # use False\n",
    "\n",
    "\"data_folder\": \"/ibira/lnls/beamlines/caterete/proposals/20222150/data/ptycho3d/\",\n",
    "\"acquisition_folders\": [\"A1_01\", \"A1_03\"],\n",
    "\"projections\": [195, 196, 197, 198, 199, 200, 201, 202, 203, 204, 205, 206, 207, 208, 209, 210, 211, 212, 213, 214, 215, 216, 217, 218, 219, 220, 221, 222, 223, 224, 225, 226, 227, 228, 229, 230, 231, 232, 233, 234, 235, 236, 237, 238, 239, 240, 241, 242, 243, 244, 245, 246, 247, 248, 249, 250, 251, 252, 253, 254, 255, 256, 257, 258, 259, 260, 261, 262, 263, 264, 265, 266, 267, 268, 269, 270, 271, 272, 273, 274, 275, 276, 277, 278, 279, 280, 281, 282, 283, 284, 285, 286, 287, 288, 289, 290, 291, 292, 293, 294, 295, 296, 297, 298, 299, 300, 301, 302, 303, 304, 305, 306, 307, 308, 309, 310, 311, 312, 313, 314, 315, 316, 317, 318, 319, 320, 321, 322, 323, 324, 325, 326, 327, 328, 329, 330, 331, 332, 333, 334, 335, 336, 337, 338, 339, 340, 341, 342, 343, 344, 345, 346, 347, 348, 349, 350, 351, 352, 353, 354, 355, 356, 357, 358, 359, 360, 361, 362, 363, 364, 365, 366, 367, 368, 369, 370, 371, 372, 373, 374, 375, 376, 377, 378, 379, 380, 381, 382, 383, 384, 385, 386, 387, 388, 389, 390, 391, 392, 393, 394, 395, 396, 397, 398, 399, 400, 401, 402, 403, 404, 405, 406, 407, 408, 409, 410, 411, 412, 413, 414, 415, 416, 417, 418],\n",
    "\n",
    "\"flatfield\": \"\",\n",
    "\n",
    "'CPUs': 96,\n",
    "'GPUs': [0,1,2],\n",
    "\n",
    "'binning': 1, \n",
    "'using_direct_beam': False, # if True, converts DP_center coordinates from raw to restored coordinates\n",
    "'DP_center': [1392,1405],  # [center_y, center_x]\n",
    "'fill_blanks': False, # interpolate blank lines after restoration\n",
    "'keep_original_negative_values': False, \n",
    "'suspect_border_pixels': 3, # pixels\n",
    "'detector_ROI_radius': 1350, # pixels\n",
    "\n",
    "'position_rotation': -0.003, # radians. angle between detector and probe coordinate system\n",
    "\n",
    "'object_padding': 50, # pixels\n",
    "\n",
    "'incoherent_modes': 0, \n",
    "'probe_support': [ \"circular\", 300,0,0 ], # [\"circular\",radius_pxls,center_y, center_x]; (0,0) is the center of the image\n",
    "'fresnel_number': -0.001,\n",
    "\n",
    "\"initial_obj\": [\"random\"], # path to .npy, .hdf5, [\"random\"], [\"constant\"]\n",
    "\"initial_probe\": [\"inverse\"], # path to .npy, .hdf5, [\"inverse\"], [\"random\"], [\"constant\"], [\"circular\",radius]\n",
    "\n",
    "'Algorithm1': {'Batch': 64,\n",
    "                'Beta': 0.995,\n",
    "                'Epsilon': 0.01,\n",
    "                'Iterations': 70,\n",
    "                'Name': 'RAAR',\n",
    "                'ProbeCycles': 4,\n",
    "                'TV': 0},\n",
    "\n",
    "'Algorithm2': {'Batch': 64,\n",
    "                'Epsilon': 0.01,\n",
    "                'Iterations': 50,\n",
    "                'Name': 'GL',\n",
    "                'ObjBeta': 0.97,\n",
    "                'ProbeBeta': 0.95,\n",
    "                'TV': 0.0001},\n",
    "\n",
    "'Algorithm3': {'Batch': 64,\n",
    "                'Epsilon': 0.1,\n",
    "                'Iterations': 5,\n",
    "                'Name': 'GL',\n",
    "                'ObjBeta': 0.5,\n",
    "                'ProbeBeta': 0.5,\n",
    "                'TV': 0.01},\n",
    "}\n",
    "\n",
    "input_dict = sscCdi.caterete.cat_ptycho_processing.define_paths(input_dict)"
   ]
  },
  {
   "cell_type": "code",
   "execution_count": 13,
   "id": "1a176027-b160-4758-9155-587d5c292e64",
   "metadata": {
    "tags": []
   },
   "outputs": [
    {
     "name": "stdout",
     "output_type": "stream",
     "text": [
      "['0000_A1_01_001.hdf5', '0001_A1_01_001.hdf5', '0002_A1_01_001.hdf5', '0003_A1_01_001.hdf5', '0004_A1_01_001.hdf5', '0005_A1_01_001.hdf5', '0006_A1_01_001.hdf5', '0007_A1_01_001.hdf5', '0008_A1_01_001.hdf5', '0009_A1_01_001.hdf5', '0010_A1_01_001.hdf5', '0011_A1_01_001.hdf5', '0012_A1_01_001.hdf5', '0013_A1_01_001.hdf5', '0014_A1_01_001.hdf5', '0015_A1_01_001.hdf5', '0016_A1_01_001.hdf5', '0017_A1_01_001.hdf5', '0018_A1_01_001.hdf5', '0019_A1_01_001.hdf5', '0020_A1_01_001.hdf5', '0021_A1_01_001.hdf5', '0022_A1_01_001.hdf5', '0023_A1_01_001.hdf5', '0024_A1_01_001.hdf5', '0025_A1_01_001.hdf5', '0026_A1_01_001.hdf5', '0027_A1_01_001.hdf5', '0028_A1_01_001.hdf5', '0029_A1_01_001.hdf5', '0030_A1_01_001.hdf5', '0031_A1_01_001.hdf5', '0032_A1_01_001.hdf5', '0033_A1_01_001.hdf5', '0034_A1_01_001.hdf5', '0035_A1_01_001.hdf5', '0036_A1_01_001.hdf5', '0037_A1_01_001.hdf5', '0038_A1_01_001.hdf5', '0039_A1_01_001.hdf5', '0040_A1_01_001.hdf5', '0041_A1_01_001.hdf5', '0042_A1_01_001.hdf5', '0043_A1_01_001.hdf5', '0044_A1_01_001.hdf5', '0045_A1_01_001.hdf5', '0046_A1_01_001.hdf5', '0047_A1_01_001.hdf5', '0048_A1_01_001.hdf5', '0049_A1_01_001.hdf5', '0050_A1_01_001.hdf5', '0051_A1_01_001.hdf5', '0052_A1_01_001.hdf5', '0053_A1_01_001.hdf5', '0054_A1_01_001.hdf5', '0055_A1_01_001.hdf5', '0056_A1_01_001.hdf5', '0057_A1_01_001.hdf5', '0058_A1_01_001.hdf5', '0059_A1_01_001.hdf5', '0060_A1_01_001.hdf5', '0061_A1_01_001.hdf5', '0062_A1_01_001.hdf5', '0063_A1_01_001.hdf5', '0064_A1_01_001.hdf5', '0065_A1_01_001.hdf5', '0066_A1_01_001.hdf5', '0067_A1_01_001.hdf5', '0068_A1_01_001.hdf5', '0069_A1_01_001.hdf5', '0070_A1_01_001.hdf5', '0071_A1_01_001.hdf5', '0072_A1_01_001.hdf5', '0073_A1_01_001.hdf5', '0074_A1_01_001.hdf5', '0075_A1_01_001.hdf5', '0076_A1_01_001.hdf5', '0077_A1_01_001.hdf5', '0078_A1_01_001.hdf5', '0079_A1_01_001.hdf5', '0080_A1_01_001.hdf5', '0081_A1_01_001.hdf5', '0082_A1_01_001.hdf5', '0083_A1_01_001.hdf5', '0084_A1_01_001.hdf5', '0085_A1_01_001.hdf5', '0086_A1_01_001.hdf5', '0087_A1_01_001.hdf5', '0088_A1_01_001.hdf5', '0089_A1_01_001.hdf5', '0090_A1_01_001.hdf5', '0091_A1_01_001.hdf5', '0092_A1_01_001.hdf5', '0093_A1_01_001.hdf5', '0094_A1_01_001.hdf5', '0095_A1_01_001.hdf5', '0096_A1_01_001.hdf5', '0097_A1_01_001.hdf5', '0098_A1_01_001.hdf5', '0099_A1_01_001.hdf5', '0100_A1_01_001.hdf5', '0101_A1_01_001.hdf5', '0102_A1_01_001.hdf5', '0103_A1_01_001.hdf5', '0104_A1_01_001.hdf5', '0105_A1_01_001.hdf5', '0106_A1_01_001.hdf5', '0107_A1_01_001.hdf5', '0108_A1_01_001.hdf5', '0109_A1_01_001.hdf5', '0110_A1_01_001.hdf5', '0111_A1_01_001.hdf5', '0112_A1_01_001.hdf5', '0113_A1_01_001.hdf5', '0114_A1_01_001.hdf5', '0115_A1_01_001.hdf5', '0116_A1_01_001.hdf5', '0117_A1_01_001.hdf5', '0118_A1_01_001.hdf5', '0119_A1_01_001.hdf5', '0120_A1_01_001.hdf5', '0121_A1_01_001.hdf5', '0122_A1_01_001.hdf5', '0123_A1_01_001.hdf5', '0124_A1_01_001.hdf5', '0125_A1_01_001.hdf5', '0126_A1_01_001.hdf5', '0127_A1_01_001.hdf5', '0128_A1_01_001.hdf5', '0129_A1_01_001.hdf5', '0130_A1_01_001.hdf5', '0131_A1_01_001.hdf5', '0132_A1_01_001.hdf5', '0133_A1_01_001.hdf5', '0134_A1_01_001.hdf5', '0135_A1_01_001.hdf5', '0136_A1_01_001.hdf5', '0137_A1_01_001.hdf5', '0138_A1_01_001.hdf5', '0139_A1_01_001.hdf5', '0140_A1_01_001.hdf5', '0141_A1_01_001.hdf5', '0142_A1_01_001.hdf5', '0143_A1_01_001.hdf5', '0144_A1_01_001.hdf5', '0145_A1_01_001.hdf5', '0146_A1_01_001.hdf5', '0147_A1_01_001.hdf5', '0148_A1_01_001.hdf5', '0149_A1_01_001.hdf5', '0150_A1_01_001.hdf5', '0151_A1_01_001.hdf5', '0152_A1_01_001.hdf5', '0153_A1_01_001.hdf5', '0154_A1_01_001.hdf5', '0155_A1_01_001.hdf5', '0156_A1_01_001.hdf5', '0157_A1_01_001.hdf5', '0158_A1_01_001.hdf5', '0159_A1_01_001.hdf5', '0160_A1_01_001.hdf5', '0161_A1_01_001.hdf5', '0162_A1_01_001.hdf5', '0163_A1_01_001.hdf5', '0164_A1_01_001.hdf5', '0165_A1_01_001.hdf5', '0166_A1_01_001.hdf5', '0167_A1_01_001.hdf5', '0168_A1_01_001.hdf5', '0169_A1_01_001.hdf5', '0170_A1_01_001.hdf5', '0171_A1_01_001.hdf5', '0172_A1_01_001.hdf5', '0173_A1_01_001.hdf5', '0174_A1_01_001.hdf5', '0175_A1_01_001.hdf5', '0176_A1_01_001.hdf5', '0177_A1_01_001.hdf5', '0178_A1_01_001.hdf5', '0179_A1_01_001.hdf5', '0180_A1_01_001.hdf5', '0181_A1_01_001.hdf5', '0182_A1_01_001.hdf5', '0183_A1_01_001.hdf5', '0184_A1_01_001.hdf5', '0185_A1_01_001.hdf5', '0186_A1_01_001.hdf5', '0187_A1_01_001.hdf5', '0188_A1_01_001.hdf5', '0189_A1_01_001.hdf5', '0190_A1_01_001.hdf5', '0191_A1_01_001.hdf5', '0192_A1_01_001.hdf5', '0193_A1_01_001.hdf5', '0194_A1_01_001.hdf5', '0195_A1_01_001.hdf5', '0196_A1_01_001.hdf5', '0197_A1_01_001.hdf5', '0198_A1_01_001.hdf5', '0199_A1_01_001.hdf5', '0200_A1_01_001.hdf5', '0201_A1_01_001.hdf5', '0202_A1_01_001.hdf5', '0203_A1_01_001.hdf5', '0204_A1_01_001.hdf5', '0205_A1_01_001.hdf5', '0206_A1_01_001.hdf5', '0207_A1_01_001.hdf5', '0208_A1_01_001.hdf5', '0209_A1_01_001.hdf5', '0210_A1_01_001.hdf5', '0211_A1_01_001.hdf5', '0212_A1_01_001.hdf5', '0213_A1_01_001.hdf5', '0214_A1_01_001.hdf5', '0215_A1_01_001.hdf5', '0216_A1_01_001.hdf5', '0217_A1_01_001.hdf5', '0218_A1_01_001.hdf5', '0219_A1_01_001.hdf5', '0220_A1_01_001.hdf5', '0221_A1_01_001.hdf5', '0222_A1_01_001.hdf5', '0223_A1_01_001.hdf5', '0224_A1_01_001.hdf5']\n",
      "[195, 196, 197, 198, 199, 200, 201, 202, 203, 204, 205, 206, 207, 208, 209, 210, 211, 212, 213, 214, 215, 216, 217, 218, 219, 220, 221, 222, 223, 224, 225, 226, 227, 228, 229, 230, 231, 232, 233, 234, 235, 236, 237, 238, 239, 240, 241, 242, 243, 244, 245, 246, 247, 248, 249, 250, 251, 252, 253, 254, 255, 256, 257, 258, 259, 260, 261, 262, 263, 264, 265, 266, 267, 268, 269, 270, 271, 272, 273, 274, 275, 276, 277, 278, 279, 280, 281, 282, 283, 284, 285, 286, 287, 288, 289, 290, 291, 292, 293, 294, 295, 296, 297, 298, 299, 300, 301, 302, 303, 304, 305, 306, 307, 308, 309, 310, 311, 312, 313, 314, 315, 316, 317, 318, 319, 320, 321, 322, 323, 324, 325, 326, 327, 328, 329, 330, 331, 332, 333, 334, 335, 336, 337, 338, 339, 340, 341, 342, 343, 344, 345, 346, 347, 348, 349, 350, 351, 352, 353, 354, 355, 356, 357, 358, 359, 360, 361, 362, 363, 364, 365, 366, 367, 368, 369, 370, 371, 372, 373, 374, 375, 376, 377, 378, 379, 380, 381, 382, 383, 384, 385, 386, 387, 388, 389, 390, 391, 392, 393, 394, 395, 396, 397, 398, 399, 400, 401, 402, 403, 404, 405, 406, 407, 408, 409, 410, 411, 412, 413, 414, 415, 416, 417, 418]\n",
      "['0000_A1_03_001.hdf5', '0001_A1_03_001.hdf5', '0002_A1_03_001.hdf5', '0003_A1_03_001.hdf5', '0004_A1_03_001.hdf5', '0005_A1_03_001.hdf5', '0006_A1_03_001.hdf5', '0007_A1_03_001.hdf5', '0008_A1_03_001.hdf5', '0009_A1_03_001.hdf5', '0010_A1_03_001.hdf5', '0011_A1_03_001.hdf5', '0012_A1_03_001.hdf5', '0013_A1_03_001.hdf5', '0014_A1_03_001.hdf5', '0015_A1_03_001.hdf5', '0016_A1_03_001.hdf5', '0017_A1_03_001.hdf5', '0018_A1_03_001.hdf5', '0019_A1_03_001.hdf5', '0020_A1_03_001.hdf5', '0021_A1_03_001.hdf5', '0022_A1_03_001.hdf5', '0023_A1_03_001.hdf5', '0024_A1_03_001.hdf5', '0025_A1_03_001.hdf5', '0026_A1_03_001.hdf5', '0027_A1_03_001.hdf5', '0028_A1_03_001.hdf5', '0029_A1_03_001.hdf5', '0030_A1_03_001.hdf5', '0031_A1_03_001.hdf5', '0032_A1_03_001.hdf5', '0033_A1_03_001.hdf5', '0034_A1_03_001.hdf5', '0035_A1_03_001.hdf5', '0036_A1_03_001.hdf5', '0037_A1_03_001.hdf5', '0038_A1_03_001.hdf5', '0039_A1_03_001.hdf5', '0040_A1_03_001.hdf5', '0041_A1_03_001.hdf5', '0042_A1_03_001.hdf5', '0043_A1_03_001.hdf5', '0044_A1_03_001.hdf5', '0045_A1_03_001.hdf5', '0046_A1_03_001.hdf5', '0047_A1_03_001.hdf5', '0048_A1_03_001.hdf5', '0049_A1_03_001.hdf5', '0050_A1_03_001.hdf5', '0051_A1_03_001.hdf5', '0052_A1_03_001.hdf5', '0053_A1_03_001.hdf5', '0054_A1_03_001.hdf5', '0055_A1_03_001.hdf5', '0056_A1_03_001.hdf5', '0057_A1_03_001.hdf5', '0058_A1_03_001.hdf5', '0059_A1_03_001.hdf5', '0060_A1_03_001.hdf5', '0061_A1_03_001.hdf5', '0062_A1_03_001.hdf5', '0063_A1_03_001.hdf5', '0064_A1_03_001.hdf5', '0065_A1_03_001.hdf5', '0066_A1_03_001.hdf5', '0067_A1_03_001.hdf5', '0068_A1_03_001.hdf5', '0069_A1_03_001.hdf5', '0070_A1_03_001.hdf5', '0071_A1_03_001.hdf5', '0072_A1_03_001.hdf5', '0073_A1_03_001.hdf5', '0074_A1_03_001.hdf5', '0075_A1_03_001.hdf5', '0076_A1_03_001.hdf5', '0077_A1_03_001.hdf5', '0078_A1_03_001.hdf5', '0079_A1_03_001.hdf5', '0080_A1_03_001.hdf5', '0081_A1_03_001.hdf5', '0082_A1_03_001.hdf5', '0083_A1_03_001.hdf5', '0084_A1_03_001.hdf5', '0085_A1_03_001.hdf5', '0086_A1_03_001.hdf5', '0087_A1_03_001.hdf5', '0088_A1_03_001.hdf5', '0089_A1_03_001.hdf5', '0090_A1_03_001.hdf5', '0091_A1_03_001.hdf5', '0092_A1_03_001.hdf5', '0093_A1_03_001.hdf5', '0094_A1_03_001.hdf5', '0095_A1_03_001.hdf5', '0096_A1_03_001.hdf5', '0097_A1_03_001.hdf5', '0098_A1_03_001.hdf5', '0099_A1_03_001.hdf5', '0100_A1_03_001.hdf5', '0101_A1_03_001.hdf5', '0102_A1_03_001.hdf5', '0103_A1_03_001.hdf5', '0104_A1_03_001.hdf5', '0105_A1_03_001.hdf5', '0106_A1_03_001.hdf5', '0107_A1_03_001.hdf5', '0108_A1_03_001.hdf5', '0109_A1_03_001.hdf5', '0110_A1_03_001.hdf5', '0111_A1_03_001.hdf5', '0112_A1_03_001.hdf5', '0113_A1_03_001.hdf5', '0114_A1_03_001.hdf5', '0115_A1_03_001.hdf5', '0116_A1_03_001.hdf5', '0117_A1_03_001.hdf5', '0118_A1_03_001.hdf5', '0119_A1_03_001.hdf5', '0120_A1_03_001.hdf5', '0121_A1_03_001.hdf5', '0122_A1_03_001.hdf5', '0123_A1_03_001.hdf5', '0124_A1_03_001.hdf5', '0125_A1_03_001.hdf5', '0126_A1_03_001.hdf5', '0127_A1_03_001.hdf5', '0128_A1_03_001.hdf5', '0129_A1_03_001.hdf5', '0130_A1_03_001.hdf5', '0131_A1_03_001.hdf5', '0132_A1_03_001.hdf5', '0133_A1_03_001.hdf5', '0134_A1_03_001.hdf5', '0135_A1_03_001.hdf5', '0136_A1_03_001.hdf5', '0137_A1_03_001.hdf5', '0138_A1_03_001.hdf5', '0139_A1_03_001.hdf5', '0140_A1_03_001.hdf5', '0141_A1_03_001.hdf5', '0142_A1_03_001.hdf5', '0143_A1_03_001.hdf5', '0144_A1_03_001.hdf5', '0145_A1_03_001.hdf5', '0146_A1_03_001.hdf5', '0147_A1_03_001.hdf5', '0148_A1_03_001.hdf5', '0149_A1_03_001.hdf5', '0150_A1_03_001.hdf5', '0151_A1_03_001.hdf5', '0152_A1_03_001.hdf5', '0153_A1_03_001.hdf5', '0154_A1_03_001.hdf5', '0155_A1_03_001.hdf5', '0156_A1_03_001.hdf5', '0157_A1_03_001.hdf5', '0158_A1_03_001.hdf5', '0159_A1_03_001.hdf5', '0160_A1_03_001.hdf5', '0161_A1_03_001.hdf5', '0162_A1_03_001.hdf5', '0163_A1_03_001.hdf5', '0164_A1_03_001.hdf5', '0165_A1_03_001.hdf5', '0166_A1_03_001.hdf5', '0167_A1_03_001.hdf5', '0168_A1_03_001.hdf5', '0169_A1_03_001.hdf5', '0170_A1_03_001.hdf5', '0171_A1_03_001.hdf5', '0172_A1_03_001.hdf5', '0173_A1_03_001.hdf5', '0174_A1_03_001.hdf5', '0175_A1_03_001.hdf5', '0176_A1_03_001.hdf5', '0177_A1_03_001.hdf5', '0178_A1_03_001.hdf5', '0179_A1_03_001.hdf5', '0180_A1_03_001.hdf5', '0181_A1_03_001.hdf5', '0182_A1_03_001.hdf5', '0183_A1_03_001.hdf5', '0184_A1_03_001.hdf5', '0185_A1_03_001.hdf5', '0186_A1_03_001.hdf5', '0187_A1_03_001.hdf5', '0188_A1_03_001.hdf5', '0189_A1_03_001.hdf5', '0190_A1_03_001.hdf5', '0191_A1_03_001.hdf5', '0192_A1_03_001.hdf5', '0193_A1_03_001.hdf5', '0194_A1_03_001.hdf5']\n",
      "[195, 196, 197, 198, 199, 200, 201, 202, 203, 204, 205, 206, 207, 208, 209, 210, 211, 212, 213, 214, 215, 216, 217, 218, 219, 220, 221, 222, 223, 224, 225, 226, 227, 228, 229, 230, 231, 232, 233, 234, 235, 236, 237, 238, 239, 240, 241, 242, 243, 244, 245, 246, 247, 248, 249, 250, 251, 252, 253, 254, 255, 256, 257, 258, 259, 260, 261, 262, 263, 264, 265, 266, 267, 268, 269, 270, 271, 272, 273, 274, 275, 276, 277, 278, 279, 280, 281, 282, 283, 284, 285, 286, 287, 288, 289, 290, 291, 292, 293, 294, 295, 296, 297, 298, 299, 300, 301, 302, 303, 304, 305, 306, 307, 308, 309, 310, 311, 312, 313, 314, 315, 316, 317, 318, 319, 320, 321, 322, 323, 324, 325, 326, 327, 328, 329, 330, 331, 332, 333, 334, 335, 336, 337, 338, 339, 340, 341, 342, 343, 344, 345, 346, 347, 348, 349, 350, 351, 352, 353, 354, 355, 356, 357, 358, 359, 360, 361, 362, 363, 364, 365, 366, 367, 368, 369, 370, 371, 372, 373, 374, 375, 376, 377, 378, 379, 380, 381, 382, 383, 384, 385, 386, 387, 388, 389, 390, 391, 392, 393, 394, 395, 396, 397, 398, 399, 400, 401, 402, 403, 404, 405, 406, 407, 408, 409, 410, 411, 412, 413, 414, 415, 416, 417, 418]\n"
     ]
    }
   ],
   "source": [
    "from sscCdi import list_files_in_folder, select_specific_angles\n",
    "\n",
    "for acquisitions_folder in input_dict['acquisition_folders']:\n",
    "    filepaths0, filenames0 = list_files_in_folder(os.path.join(input_dict['data_folder'], acquisitions_folder,input_dict['scans_string']), look_for_extension=\".hdf5\")\n",
    "    \n",
    "    print(filenames0)\n",
    "    print(input_dict['projections'])\n",
    "    \n",
    "    # filepaths, filenames = select_specific_angles(input_dict['projections'], filepaths0,  filenames0)\n",
    "    # print(filenames)"
   ]
  },
  {
   "cell_type": "markdown",
   "id": "ca6846c7-e1e5-41a5-9a0c-b6c20f1066f0",
   "metadata": {},
   "source": [
    "## Load diffraction data to find center"
   ]
  },
  {
   "cell_type": "code",
   "execution_count": 3,
   "id": "72108c36-1619-4f54-b41e-1f96b5e510c8",
   "metadata": {
    "tags": []
   },
   "outputs": [],
   "source": [
    "# path = \"/ibira/lnls/beamlines/caterete/apps/gcc-jupyter/00000000/data/ptycho2d/SS03112022_02/scans/0000_SS03112022_02_001.hdf5\" # enter path to raw diffractiom dataset\n",
    "\n",
    "# fig, ax = plt.subplots(dpi=100)\n",
    "# ax.imshow(np.squeeze(h5py.File(path,'r')['entry/data/data'])[0],norm=LogNorm(),cmap='jet')"
   ]
  },
  {
   "cell_type": "markdown",
   "id": "6a54b522-657f-46c9-b85b-c977edf53b4b",
   "metadata": {},
   "source": [
    "# Run new job at cluster"
   ]
  },
  {
   "cell_type": "code",
   "execution_count": 4,
   "id": "6fbcf23d-80d0-4245-b960-936aae37654c",
   "metadata": {},
   "outputs": [],
   "source": [
    "# server = sscInstall.connect_server()    "
   ]
  },
  {
   "cell_type": "code",
   "execution_count": 5,
   "id": "ebdb3847-2863-42e6-bd87-49a4557f21bf",
   "metadata": {
    "tags": []
   },
   "outputs": [],
   "source": [
    "json_filepath_path = sscCdi.cat_ptycho_processing.save_input_dictionary(input_dict)\n",
    "# sscCdi.run_at_cluster(server,json_filepath_path,queue='cat',gpus=input_dict[\"GPUs\"],cpus=input_dict[\"CPUs\"],jobName='JOB',script_path = \"/ibira/lnls/beamlines/caterete/apps/gcc-jupyter/ssc-cdi-0.6.17/bin/caterete_ptycho.py\",slurm_path = '/ibira/lnls/beamlines/caterete/apps/gcc-jupyter/inputs/')"
   ]
  },
  {
   "cell_type": "markdown",
   "id": "57cc1c56-d232-47c6-86b1-77563604424d",
   "metadata": {},
   "source": [
    "# Run Locally"
   ]
  },
  {
   "cell_type": "markdown",
   "id": "cc73407e-7278-4a93-8ab0-800a915de749",
   "metadata": {},
   "source": [
    "## Restoration"
   ]
  },
  {
   "cell_type": "code",
   "execution_count": 6,
   "id": "06b77847-6cdb-443e-84b3-bcf5f3ffb9f2",
   "metadata": {
    "tags": []
   },
   "outputs": [
    {
     "name": "stdout",
     "output_type": "stream",
     "text": [
      "\tRestoration of folder SS03112022_02\n",
      "\n",
      "\tUsing 1 of 1 angle(s)\n"
     ]
    }
   ],
   "source": [
    "restoration_dict_list, restored_data_info_list = sscCdi.caterete.cat_restoration.restoration_ptycho_CAT(input_dict) # restoration of all frames; restored DPs saved at temporary folder"
   ]
  },
  {
   "cell_type": "markdown",
   "id": "e0a8a458-5dc8-421e-ac92-ef062acc03e1",
   "metadata": {},
   "source": [
    "## Ptychography"
   ]
  },
  {
   "cell_type": "code",
   "execution_count": 7,
   "id": "832f7c8b-667d-425e-b66d-b7eb4f3bc2e1",
   "metadata": {
    "tags": []
   },
   "outputs": [
    {
     "name": "stdout",
     "output_type": "stream",
     "text": [
      "\n",
      "\n",
      "Reading diffraction data for angle: 0\n",
      "\n",
      "Binning data...\n",
      "\n",
      "\tFinished reading diffraction data! DPs shape: (625, 674, 674)\n",
      "\n",
      "Reading probe positions...\n",
      "\n",
      "\tObject pixel size = 19.51 nm\n",
      "\n",
      "\tLimit thickness for resolution of 1 pixel: 12.079 microns\n",
      "\n",
      "\tFinished reading probe positions. Shape: (625, 2)\n",
      "\n",
      "\tInitial object shape: (1, 2006, 2006)\t Initial probe shape: (1, 1, 674, 674)\n",
      "\n",
      "\tEstimated size for 1 DPs of type float32: 1.14 GBs\n",
      "\n",
      "Fresnel number: -0.001\n",
      "\n",
      "Creating initial probe...\n",
      "\n",
      "\tProbe shape (674,674) with 1 incoherent mode(s)\n",
      "\n",
      "Setting probe support...\n",
      "\n",
      "Creating initial object...\n",
      "\n",
      "Diffraction Patterns: (625, 674, 674)\n",
      "\n",
      "Initial Object: (2006, 2006)\n",
      "\n",
      "Initial Probe: (1, 674, 674)\n",
      "\n",
      "Probe Support: (1, 674, 674)\n",
      "\n",
      "Probe Positions: (625, 4)\n",
      "\n",
      "Creating datapack...\n",
      "\n",
      "Total datapack size: 1.18 GBs\n",
      "\n",
      "Starting ptychography... using 4 GPUs [0, 1, 2, 3] and 128 CPUs\n",
      "\n",
      "\tCalling 70 iterations of RAAR algorithm...\n",
      "\n",
      "\tDone in: 4.76 seconds\n",
      "\n",
      "\tCalling 50 iterations of GL algorithm...\n",
      "\n",
      "\tDone in: 1.88 seconds\n",
      "\n",
      "\tCalling 5 iterations of GL algorithm...\n",
      "\n",
      "\tDone in: 0.58 seconds\n",
      "\n",
      "Combining objects into single file...\n",
      "\n",
      "Combining probes into single file...\n",
      "\n",
      "Deleting temporary object and probe files...\n"
     ]
    }
   ],
   "source": [
    "input_dict, obj, probe, probe_positions = sscCdi.caterete.cat_ptycho_processing.cat_ptychography(input_dict,restoration_dict_list,restored_data_info_list)\n",
    "obj, probe, angles, positions, error = sscCdi.misc.save_volume_from_parts(input_dict)\n",
    "sscCdi.misc.save_variable(input_dict, obj,name='object')\n",
    "sscCdi.misc.save_variable(input_dict,probe,name='probe')\n",
    "sscCdi.misc.save_variable(input_dict,positions,name='positions')\n",
    "sscCdi.misc.save_variable(input_dict,angles,name='angles')\n",
    "sscCdi.misc.save_variable(input_dict,error,name='error',group='log')\n",
    "sscCdi.misc.save_json_logfile(input_dict) \n",
    "sscCdi.misc.delete_temporary_folders(input_dict)"
   ]
  },
  {
   "cell_type": "code",
   "execution_count": 8,
   "id": "a5456e7d-737f-4543-a21d-5cb547b96f8d",
   "metadata": {
    "tags": []
   },
   "outputs": [
    {
     "data": {
      "application/vnd.jupyter.widget-view+json": {
       "model_id": "5cce3d1ce3b944349b8a71fe421ce0fc",
       "version_major": 2,
       "version_minor": 0
      },
      "text/plain": [
       "VBox(children=(IntSlider(value=0, description='Slice', layout=Layout(width='25%'), max=0), Output()))"
      ]
     },
     "metadata": {},
     "output_type": "display_data"
    }
   ],
   "source": [
    "if 1: # phase\n",
    "    preview = np.angle(obj)\n",
    "else: # magnitude\n",
    "    preview = np.abs(obj)\n",
    "\n",
    "# sscCdi.misc.visualize_magnitude_and_phase(obj)\n",
    "sscCdi.misc.deploy_visualizer(preview,title='Sinogram',cmap='gray')"
   ]
  },
  {
   "cell_type": "markdown",
   "id": "a70075e8-606f-4aa7-9869-e9bc8c929412",
   "metadata": {},
   "source": [
    "## Crop object"
   ]
  },
  {
   "cell_type": "code",
   "execution_count": null,
   "id": "4252dea4-c65b-4370-9914-1b22bea6c0ad",
   "metadata": {
    "tags": []
   },
   "outputs": [],
   "source": [
    "input_dict['crop'] = [1400,2000,1300,1900]\n",
    "cropped_object = sscCdi.caterete.cat_ptycho_processing.crop_sinogram(input_dict,obj,probe_positions)\n",
    "if 1: # phase\n",
    "    cropped_object = np.angle(cropped_object)\n",
    "else: # magnitude\n",
    "    cropped_object = np.abs(cropped_object)"
   ]
  },
  {
   "cell_type": "code",
   "execution_count": null,
   "id": "bfa9bbf0-4122-4ac9-bb8c-c4d86717dd20",
   "metadata": {
    "tags": []
   },
   "outputs": [],
   "source": [
    "sscCdi.misc.deploy_visualizer(cropped_object,title='Cropped sinogram',cmap='gray')"
   ]
  },
  {
   "cell_type": "markdown",
   "id": "eaffe455-3a54-4541-ad45-137d731b4a82",
   "metadata": {},
   "source": [
    "## Unwrap object"
   ]
  },
  {
   "cell_type": "code",
   "execution_count": null,
   "id": "ebea1960-a3f2-4831-ade9-0ea420cdcdfd",
   "metadata": {
    "tags": []
   },
   "outputs": [],
   "source": [
    "phase = sscCdi.caterete.unwrap_in_parallel(cropped_object)\n",
    "sscCdi.misc.save_variable(input_dict,phase, name = 'object_unwrapped')"
   ]
  },
  {
   "cell_type": "code",
   "execution_count": null,
   "id": "cba63e26-0307-40c0-8e46-60415ecaf083",
   "metadata": {
    "tags": []
   },
   "outputs": [],
   "source": [
    "sscCdi.misc.deploy_visualizer(phase,title='Unwrapped',cmap='gray')"
   ]
  },
  {
   "cell_type": "markdown",
   "id": "5a4f179c-4a60-4cd6-83c3-ddd380e634d0",
   "metadata": {},
   "source": [
    "## Fourier Ring Correlation"
   ]
  },
  {
   "cell_type": "code",
   "execution_count": null,
   "id": "51d1cc29-01e6-4334-8f8f-53ed14b09b62",
   "metadata": {
    "tags": []
   },
   "outputs": [],
   "source": [
    "frame = 0\n",
    "\n",
    "if 1: # FRC on phase image\n",
    "    img = phase[frame]\n",
    "else: # else, on absorption image\n",
    "    img = np.abs(cropped_object)[frame]\n",
    "\n",
    "padding = 0\n",
    "sharpness = 10\n",
    "radius = 0.8\n",
    "\n",
    "dic = sscResolution.frc.computep( sscResolution.frc.window( img, padding, [sharpness, radius] ) , input_dict[\"CPUs\"] ) \n",
    "print(f\"\\tResolution via halfbit criterion: {1e9*input_dict['object_pixel']/dic['x']['H']:.2f} nm\")\n",
    "\n",
    "sscResolution.frc.plot(dic, {'label': \"Resolution\", 'unit': \"nm\", 'pxlsize': input_dict['object_pixel']*1e9} )"
   ]
  }
 ],
 "metadata": {
  "kernelspec": {
   "display_name": "Python 3 (ipykernel)",
   "language": "python",
   "name": "python3"
  },
  "language_info": {
   "codemirror_mode": {
    "name": "ipython",
    "version": 3
   },
   "file_extension": ".py",
   "mimetype": "text/x-python",
   "name": "python",
   "nbconvert_exporter": "python",
   "pygments_lexer": "ipython3",
   "version": "3.9.2"
  }
 },
 "nbformat": 4,
 "nbformat_minor": 5
}
