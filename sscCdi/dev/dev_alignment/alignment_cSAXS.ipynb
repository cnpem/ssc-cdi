{
 "cells": [
  {
   "cell_type": "code",
   "execution_count": 1,
   "id": "10fa77fa-6c1d-4dca-96fb-374211d44a5f",
   "metadata": {
    "tags": []
   },
   "outputs": [],
   "source": [
    "import numpy as np\n",
    "import matplotlib.pyplot as plt\n",
    "import h5py\n",
    "\n",
    "import sscCdi\n",
    "from sscCdi import unwrap_in_parallel, equalize_frames_parallel, make_bad_frame_null\n",
    "import sscRadon\n",
    "\n",
    "%matplotlib widget"
   ]
  },
  {
   "cell_type": "code",
   "execution_count": 3,
   "id": "51790dc1-61e9-4b60-b641-a2e32589070a",
   "metadata": {
    "tags": []
   },
   "outputs": [],
   "source": [
    "# path = \"/ibira/lnls/labs/tepui/home/yuri.tonin/00000000/proc/recons/glass_sphere/2023-07-28-17h04m_glass_sphere.hdf5\"\n",
    "# data = h5py.File(path,'r')['recon/object'][()]\n",
    "# angles = h5py.File(path,'r')['recon/angles'][()][:,0::2]\n",
    "# data=data[:,1350:-1300,1200:-1400]\n",
    "\n",
    "\n",
    "path = \"/ibira/lnls/beamlines/caterete/proposals/20221798/proc/recons/sorgoBMR08_mem1_FAA_YuriTest/YuriTest_sorgoBMR08_mem1_FAA.hdf5\"\n",
    "data = h5py.File(path,'r')['recon/object'][()]\n",
    "angles = h5py.File(path,'r')['recon/angles'][()][:,0::2]\n",
    "data=data[:,1345:3040,1280:2980]\n",
    "\n",
    "\n",
    "# path = \"/ibira/lnls/beamlines/caterete/proposals/20221798/proc/recons/sorgoWT05_mem2_FAA_01/2023-07-25-14h54m_sorgoWT05_mem2_FAA_01.hdf5\"\n",
    "# data = h5py.File(path,'r')['recon/object'][()]\n",
    "# angles = h5py.File(path,'r')['recon/angles'][()][:,0::2]\n",
    "# data=data[:,1300:-1500,1300:-1500]\n",
    "# data.shape\n",
    "\n"
   ]
  },
  {
   "cell_type": "code",
   "execution_count": 4,
   "id": "58637e3e-32ea-41ad-90df-e91a762a662d",
   "metadata": {
    "tags": []
   },
   "outputs": [],
   "source": [
    "from sscCdi import sort_angles\n",
    "from sscCdi import reorder_slices_low_to_high_angle\n",
    "\n",
    "sorted_angles = sort_angles(angles) # input colums with frame number and angle in rad\n",
    "data = reorder_slices_low_to_high_angle(data, sorted_angles)"
   ]
  },
  {
   "cell_type": "code",
   "execution_count": 5,
   "id": "5f2ca764-2afa-4401-b215-d613166dbd90",
   "metadata": {
    "tags": []
   },
   "outputs": [
    {
     "data": {
      "application/vnd.jupyter.widget-view+json": {
       "model_id": "42e3de387dd741bbb134223dc55675d5",
       "version_major": 2,
       "version_minor": 0
      },
      "text/plain": [
       "VBox(children=(IntSlider(value=255, description='Slice', layout=Layout(width='25%'), max=509), Output()))"
      ]
     },
     "metadata": {},
     "output_type": "display_data"
    }
   ],
   "source": [
    "sscCdi.misc.deploy_visualizer(np.angle(data),title='sample',cmap='gray',axis=0)"
   ]
  },
  {
   "cell_type": "code",
   "execution_count": 13,
   "id": "f429a7eb-f123-4946-82f5-392620604447",
   "metadata": {
    "tags": []
   },
   "outputs": [],
   "source": [
    "dic={}\n",
    "dic[\"bad_frames_before_equalization\"] = []\n",
    "\n",
    "dic[\"CPUs\"] = 64\n",
    "dic[\"equalize_invert\"] = True # invert phase shift signal from negative to positive\n",
    "dic[\"equalize_ROI\"] = [0,1550,1500,1600] # region of interest of null region around the sample used for phase ramp and offset corrections\n",
    "dic[\"equalize_remove_phase_gradient\"] = True  # if empty and equalize_ROI = [], will subtract best plane fit from whole image\n",
    "dic[\"equalize_set_min_max\"]= [] # [minimum,maximum] threshold values for whole volume\n",
    "dic[\"equalize_non_negative\"] = True # turn any remaining negative values to zero\n",
    "dic[\"equalize_local_offset\"] = False # remove offset of each frame from the mean of ROI "
   ]
  },
  {
   "cell_type": "code",
   "execution_count": 10,
   "id": "9f4b2c91-8f16-4d01-b313-98e5b4241c30",
   "metadata": {
    "tags": []
   },
   "outputs": [
    {
     "name": "stdout",
     "output_type": "stream",
     "text": [
      "Using 32 parallel processes\n"
     ]
    },
    {
     "name": "stderr",
     "output_type": "stream",
     "text": [
      "100%|██████████| 510/510 [01:07<00:00,  7.58it/s]\n"
     ]
    }
   ],
   "source": [
    "unwrapped_sinogram = unwrap_in_parallel(np.angle(data))"
   ]
  },
  {
   "cell_type": "code",
   "execution_count": 14,
   "id": "575bdcb1-bf43-422d-a719-d64443bc7544",
   "metadata": {
    "tags": []
   },
   "outputs": [
    {
     "name": "stdout",
     "output_type": "stream",
     "text": [
      "Sinogram shape to unwrap:  (510, 1695, 1700)\n",
      "Using 64 parallel processes\n"
     ]
    },
    {
     "name": "stderr",
     "output_type": "stream",
     "text": [
      "100%|██████████| 510/510 [03:21<00:00,  2.53it/s]\n"
     ]
    },
    {
     "name": "stdout",
     "output_type": "stream",
     "text": [
      "Min \t Mean-3*sigma \t Mean \t Mean+3*sigma \t Max \n",
      "Old 0.00, -20.42, 4.61, 29.63,38.05\n",
      "New: 0.00, -11.13,1.01, 13.16,128.63\n"
     ]
    },
    {
     "data": {
      "application/vnd.jupyter.widget-view+json": {
       "model_id": "c458462285c54bafac2b6156c3540aee",
       "version_major": 2,
       "version_minor": 0
      },
      "text/plain": [
       "VBox(children=(IntSlider(value=255, description='Slice', layout=Layout(width='25%'), max=509), Output()))"
      ]
     },
     "metadata": {},
     "output_type": "display_data"
    }
   ],
   "source": [
    "equalized_sinogram = equalize_frames_parallel(unwrapped_sinogram,dic)\n",
    "# equalized_sinogram = np.where(equalized_sinogram<-0.6,0,equalized_sinogram)\n",
    "sscCdi.misc.deploy_visualizer(equalized_sinogram,title='sample',cmap='gray')"
   ]
  },
  {
   "cell_type": "code",
   "execution_count": 16,
   "id": "44238632-3e36-45aa-a55d-291675f18443",
   "metadata": {
    "tags": []
   },
   "outputs": [
    {
     "data": {
      "application/vnd.jupyter.widget-view+json": {
       "model_id": "12474e9522604588a49a8ee307a0806c",
       "version_major": 2,
       "version_minor": 0
      },
      "text/plain": [
       "VBox(children=(IntSlider(value=253, description='Slice', layout=Layout(width='25%'), max=506), Output()))"
      ]
     },
     "metadata": {},
     "output_type": "display_data"
    }
   ],
   "source": [
    "sscCdi.misc.deploy_visualizer(equalized_sinogram[3::],title='sample',cmap='gray')"
   ]
  },
  {
   "cell_type": "code",
   "execution_count": 15,
   "id": "115042ea-2d33-46a0-b679-79ae3c23111d",
   "metadata": {
    "tags": []
   },
   "outputs": [
    {
     "data": {
      "application/vnd.jupyter.widget-view+json": {
       "model_id": "c606c4f401c2439e8ba13938b44870f9",
       "version_major": 2,
       "version_minor": 0
      },
      "image/png": "[encoded data removed]",
      "text/html": [
       "\n",
       "            <div style=\"display: inline-block;\">\n",
       "                <div class=\"jupyter-widgets widget-label\" style=\"text-align: center;\">\n",
       "                    Figure\n",
       "                </div>\n",
       "                <img src='data:image/png;base64,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' width=640.0/>\n",
       "            </div>\n",
       "        "
      ],
      "text/plain": [
       "Canvas(toolbar=Toolbar(toolitems=[('Home', 'Reset original view', 'home', 'home'), ('Back', 'Back to previous …"
      ]
     },
     "metadata": {},
     "output_type": "display_data"
    }
   ],
   "source": [
    "from sscCdi import plot_volume_histogram\n",
    "\n",
    "plot_volume_histogram(equalized_sinogram)"
   ]
  },
  {
   "cell_type": "code",
   "execution_count": 12,
   "id": "a77812e0-dd9e-4441-aa76-9ba9bd4d6566",
   "metadata": {
    "tags": []
   },
   "outputs": [
    {
     "name": "stdout",
     "output_type": "stream",
     "text": [
      "ssc-radon: creating 250x1695x1700 shared arrays (tomogram)\n"
     ]
    }
   ],
   "source": [
    "dic[\"CPUs\"] = 32 \n",
    "dic[\"wiggle_reference_frame\"] = 50\n",
    "\n",
    "temp_tomogram, shift_vertical = sscRadon.radon.get_wiggle( equalized_sinogram, \"vertical\", dic[\"CPUs\"], dic[\"wiggle_reference_frame\"] )\n",
    "# temp_tomogram, shift_vertical = sscRadon.radon.get_wiggle( temp_tomogram, \"vertical\", dic[\"CPUs\"], dic[\"wiggle_reference_frame\"] )"
   ]
  },
  {
   "cell_type": "code",
   "execution_count": 13,
   "id": "c6f6bc9e-a3c3-40a5-9913-ba3b738f9371",
   "metadata": {
    "tags": []
   },
   "outputs": [
    {
     "data": {
      "application/vnd.jupyter.widget-view+json": {
       "model_id": "8967a0e8629c440b97cb428f0f60d320",
       "version_major": 2,
       "version_minor": 0
      },
      "text/plain": [
       "VBox(children=(IntSlider(value=125, description='Slice', layout=Layout(width='25%'), max=249), Output()))"
      ]
     },
     "metadata": {},
     "output_type": "display_data"
    }
   ],
   "source": [
    "sscCdi.misc.deploy_visualizer(temp_tomogram,title='sample',cmap='gray',axis=0)"
   ]
  },
  {
   "cell_type": "code",
   "execution_count": 14,
   "id": "89b8aedd-74e4-4612-97e1-7c5b1f2f702f",
   "metadata": {
    "tags": []
   },
   "outputs": [
    {
     "name": "stdout",
     "output_type": "stream",
     "text": [
      "ssc-radon: creating 250x1695x1700 shared arrays (tomogram)\n"
     ]
    }
   ],
   "source": [
    "aligned_sinogram, shift_horizontal, wiggle_cmas_temp = sscRadon.radon.get_wiggle( temp_tomogram, \"horizontal\", dic[\"CPUs\"], dic[\"wiggle_reference_frame\"] )"
   ]
  },
  {
   "cell_type": "code",
   "execution_count": 15,
   "id": "493717aa-eee0-4c19-9228-06111f116d48",
   "metadata": {
    "tags": []
   },
   "outputs": [
    {
     "data": {
      "application/vnd.jupyter.widget-view+json": {
       "model_id": "c31ae8a7efec48aab2e5e2dec526d948",
       "version_major": 2,
       "version_minor": 0
      },
      "text/plain": [
       "VBox(children=(IntSlider(value=847, description='Slice', layout=Layout(width='25%'), max=1694), Output()))"
      ]
     },
     "metadata": {},
     "output_type": "display_data"
    }
   ],
   "source": [
    "sscCdi.misc.deploy_visualizer(temp_tomogram,title='sample',cmap='gray',axis=1)"
   ]
  },
  {
   "cell_type": "code",
   "execution_count": 16,
   "id": "f59888b3-6c6c-4418-89f2-4759f43f3904",
   "metadata": {
    "tags": []
   },
   "outputs": [
    {
     "data": {
      "application/vnd.jupyter.widget-view+json": {
       "model_id": "40c05cf5ac1f4e288a4012c7d86bba18",
       "version_major": 2,
       "version_minor": 0
      },
      "text/plain": [
       "VBox(children=(IntSlider(value=847, description='Slice', layout=Layout(width='25%'), max=1694), Output()))"
      ]
     },
     "metadata": {},
     "output_type": "display_data"
    }
   ],
   "source": [
    "sscCdi.misc.deploy_visualizer(aligned_sinogram,title='sample',cmap='gray',axis=1)"
   ]
  },
  {
   "cell_type": "code",
   "execution_count": 17,
   "id": "176c3eec-f946-4920-b82b-477f4819690d",
   "metadata": {
    "tags": []
   },
   "outputs": [
    {
     "data": {
      "application/vnd.jupyter.widget-view+json": {
       "model_id": "004970acf34c4c829091e63a90b5b9f2",
       "version_major": 2,
       "version_minor": 0
      },
      "text/plain": [
       "VBox(children=(IntSlider(value=850, description='Slice', layout=Layout(width='25%'), max=1699), Output()))"
      ]
     },
     "metadata": {},
     "output_type": "display_data"
    }
   ],
   "source": [
    "sscCdi.misc.deploy_visualizer(temp_tomogram,title='sample',cmap='gray',axis=2)"
   ]
  },
  {
   "cell_type": "code",
   "execution_count": 18,
   "id": "56635724-69aa-45ce-a20a-38778907a076",
   "metadata": {
    "tags": []
   },
   "outputs": [
    {
     "data": {
      "application/vnd.jupyter.widget-view+json": {
       "model_id": "34dafe444cc945eba44e4e408c488a1f",
       "version_major": 2,
       "version_minor": 0
      },
      "text/plain": [
       "VBox(children=(IntSlider(value=850, description='Slice', layout=Layout(width='25%'), max=1699), Output()))"
      ]
     },
     "metadata": {},
     "output_type": "display_data"
    }
   ],
   "source": [
    "sscCdi.misc.deploy_visualizer(aligned_sinogram,title='sample',cmap='gray',axis=2)"
   ]
  },
  {
   "cell_type": "markdown",
   "id": "f71e1e3c-0215-4b44-988a-184b5636dd95",
   "metadata": {},
   "source": [
    "## Cross Correlation of Variance Field "
   ]
  },
  {
   "cell_type": "code",
   "execution_count": 6,
   "id": "9ef89032-0746-48ec-889a-ccb773741fac",
   "metadata": {
    "tags": []
   },
   "outputs": [
    {
     "data": {
      "application/vnd.jupyter.widget-view+json": {
       "model_id": "9b57c8de04f345d2beda6524c56d062b",
       "version_major": 2,
       "version_minor": 0
      },
      "text/plain": [
       "VBox(children=(IntSlider(value=255, description='Slice', layout=Layout(width='25%'), max=509), Output()))"
      ]
     },
     "metadata": {},
     "output_type": "display_data"
    }
   ],
   "source": [
    "sscCdi.misc.deploy_visualizer(np.angle(data),title='sample',cmap='gray',axis=0)"
   ]
  },
  {
   "cell_type": "code",
   "execution_count": 13,
   "id": "3f21f2ef-075d-4ffc-b61f-106a891b1c8c",
   "metadata": {
    "tags": []
   },
   "outputs": [
    {
     "name": "stdout",
     "output_type": "stream",
     "text": [
      "Finding shift between neighboor slices...\n",
      "Shifting slice #0\n",
      "Shifting slice #10\n",
      "Shifting slice #20\n",
      "Shifting slice #30\n",
      "Shifting slice #40\n",
      "Shifting slice #50\n",
      "Shifting slice #60\n",
      "Shifting slice #70\n",
      "Shifting slice #80\n",
      "Shifting slice #90\n",
      "Shifting slice #100\n",
      "Shifting slice #110\n",
      "Shifting slice #120\n",
      "Shifting slice #130\n",
      "Shifting slice #140\n",
      "Shifting slice #150\n",
      "Shifting slice #160\n",
      "Shifting slice #170\n",
      "Shifting slice #180\n",
      "Shifting slice #190\n",
      "Shifting slice #200\n",
      "Shifting slice #210\n",
      "Shifting slice #220\n",
      "Shifting slice #230\n",
      "Shifting slice #240\n",
      "Shifting slice #250\n",
      "Shifting slice #260\n",
      "Shifting slice #270\n",
      "Shifting slice #280\n",
      "Shifting slice #290\n",
      "Shifting slice #300\n",
      "Shifting slice #310\n",
      "Shifting slice #320\n",
      "Shifting slice #330\n",
      "Shifting slice #340\n",
      "Shifting slice #350\n",
      "Shifting slice #360\n",
      "Shifting slice #370\n",
      "Shifting slice #380\n",
      "Shifting slice #390\n",
      "Shifting slice #400\n",
      "Shifting slice #410\n",
      "Shifting slice #420\n",
      "Shifting slice #430\n",
      "Shifting slice #440\n",
      "Shifting slice #450\n",
      "Shifting slice #460\n",
      "Shifting slice #470\n",
      "Shifting slice #480\n",
      "Shifting slice #490\n",
      "Shifting slice #500\n",
      "Shifting slices...\n"
     ]
    }
   ],
   "source": [
    "cropped_aligned_volume = alignment_variance_field(data, fft_upsampling=10,return_common_valid_region=True, remove_null_borders = True)\n",
    "\n",
    "# idx_to_delete = [28,30,45,49,65,66,91,113]\n",
    "# cropped_aligned_volume = np.delete(cropped_aligned_volume,idx_to_delete,axis=0)\n",
    "# sscCdi.misc.deploy_visualizer(np.angle(cropped_aligned_volume),title='sample',cmap='gray')"
   ]
  },
  {
   "cell_type": "code",
   "execution_count": 15,
   "id": "0d619d72-d9e9-4533-bc21-0f6c48e6e593",
   "metadata": {
    "tags": []
   },
   "outputs": [
    {
     "name": "stdout",
     "output_type": "stream",
     "text": [
      "Using 32 parallel processes\n"
     ]
    },
    {
     "name": "stderr",
     "output_type": "stream",
     "text": [
      "100%|██████████| 510/510 [00:53<00:00,  9.51it/s]\n"
     ]
    },
    {
     "ename": "NameError",
     "evalue": "name 'dic' is not defined",
     "output_type": "error",
     "traceback": [
      "\u001b[0;31m---------------------------------------------------------------------------\u001b[0m",
      "\u001b[0;31mNameError\u001b[0m                                 Traceback (most recent call last)",
      "\u001b[0;32m/tmp/ipykernel_2438532/800323851.py\u001b[0m in \u001b[0;36m<module>\u001b[0;34m\u001b[0m\n\u001b[1;32m      1\u001b[0m \u001b[0munwrapped_sinogram\u001b[0m \u001b[0;34m=\u001b[0m \u001b[0munwrap_in_parallel\u001b[0m\u001b[0;34m(\u001b[0m\u001b[0mnp\u001b[0m\u001b[0;34m.\u001b[0m\u001b[0mangle\u001b[0m\u001b[0;34m(\u001b[0m\u001b[0mcropped_aligned_volume\u001b[0m\u001b[0;34m)\u001b[0m\u001b[0;34m)\u001b[0m\u001b[0;34m\u001b[0m\u001b[0;34m\u001b[0m\u001b[0m\n\u001b[0;32m----> 2\u001b[0;31m \u001b[0mequalized_sinogram\u001b[0m \u001b[0;34m=\u001b[0m \u001b[0mequalize_frames_parallel\u001b[0m\u001b[0;34m(\u001b[0m\u001b[0munwrapped_sinogram\u001b[0m\u001b[0;34m,\u001b[0m\u001b[0mdic\u001b[0m\u001b[0;34m[\u001b[0m\u001b[0;34m\"equalize_invert\"\u001b[0m\u001b[0;34m]\u001b[0m\u001b[0;34m,\u001b[0m\u001b[0mdic\u001b[0m\u001b[0;34m[\u001b[0m\u001b[0;34m\"equalize_gradient\"\u001b[0m\u001b[0;34m]\u001b[0m\u001b[0;34m,\u001b[0m\u001b[0mdic\u001b[0m\u001b[0;34m[\u001b[0m\u001b[0;34m\"equalize_outliers\"\u001b[0m\u001b[0;34m]\u001b[0m\u001b[0;34m,\u001b[0m\u001b[0mdic\u001b[0m\u001b[0;34m[\u001b[0m\u001b[0;34m\"equalize_global_offset\"\u001b[0m\u001b[0;34m]\u001b[0m\u001b[0;34m,\u001b[0m \u001b[0mdic\u001b[0m\u001b[0;34m[\u001b[0m\u001b[0;34m\"equalize_local_offset\"\u001b[0m\u001b[0;34m]\u001b[0m\u001b[0;34m)\u001b[0m\u001b[0;34m\u001b[0m\u001b[0;34m\u001b[0m\u001b[0m\n\u001b[0m",
      "\u001b[0;31mNameError\u001b[0m: name 'dic' is not defined"
     ]
    }
   ],
   "source": [
    "unwrapped_sinogram = unwrap_in_parallel(np.angle(cropped_aligned_volume))"
   ]
  },
  {
   "cell_type": "code",
   "execution_count": 25,
   "id": "eea29cd5-c53e-433a-9175-13b7ce708d90",
   "metadata": {
    "tags": []
   },
   "outputs": [
    {
     "name": "stdout",
     "output_type": "stream",
     "text": [
      "Sinogram shape to unwrap:  (510, 1582, 1436)\n",
      "Using 32 parallel processes\n"
     ]
    },
    {
     "name": "stderr",
     "output_type": "stream",
     "text": [
      "100%|██████████| 510/510 [00:37<00:00, 13.68it/s]\n"
     ]
    },
    {
     "name": "stdout",
     "output_type": "stream",
     "text": [
      "Min \t Mean-3*sigma \t Mean \t Mean+3*sigma \t Max \n",
      "Old  -6.761463948045657 -11.725555189538648 1.0854881071248113 13.896531403788272 18.20038971483409\n",
      "New  -7.9520745 -2.603372097015381 1.0275024 4.658376932144165 18.50625\n"
     ]
    }
   ],
   "source": [
    "equalized_sinogram = equalize_frames_parallel(unwrapped_sinogram,dic[\"equalize_invert\"],dic[\"equalize_gradient\"],dic[\"equalize_outliers\"],dic[\"equalize_global_offset\"], dic[\"equalize_local_offset\"])"
   ]
  },
  {
   "cell_type": "code",
   "execution_count": 26,
   "id": "45858324-8174-4325-b1c3-6be5b434b6b5",
   "metadata": {
    "tags": []
   },
   "outputs": [
    {
     "data": {
      "application/vnd.jupyter.widget-view+json": {
       "model_id": "0264d2a625b840f2a17dafc08b67bb59",
       "version_major": 2,
       "version_minor": 0
      },
      "text/plain": [
       "VBox(children=(IntSlider(value=245, description='Slice', layout=Layout(width='25%'), max=489), Output()))"
      ]
     },
     "metadata": {},
     "output_type": "display_data"
    }
   ],
   "source": [
    "sscCdi.misc.deploy_visualizer(equalized_sinogram[10:500],title='sample',cmap='gray')"
   ]
  },
  {
   "cell_type": "code",
   "execution_count": 27,
   "id": "a43589bd-f64d-44d0-bbc7-c20ffb4d85c3",
   "metadata": {
    "tags": []
   },
   "outputs": [
    {
     "data": {
      "application/vnd.jupyter.widget-view+json": {
       "model_id": "1cc5654abbb042f3a70521d31e749bde",
       "version_major": 2,
       "version_minor": 0
      },
      "text/plain": [
       "VBox(children=(IntSlider(value=791, description='Slice', layout=Layout(width='25%'), max=1581), Output()))"
      ]
     },
     "metadata": {},
     "output_type": "display_data"
    }
   ],
   "source": [
    "sscCdi.misc.deploy_visualizer(equalized_sinogram,title='sample',cmap='gray',axis=1)"
   ]
  },
  {
   "cell_type": "code",
   "execution_count": 37,
   "id": "43673d43-3a20-413a-a9ef-798d7ce312f3",
   "metadata": {
    "tags": []
   },
   "outputs": [
    {
     "data": {
      "application/vnd.jupyter.widget-view+json": {
       "model_id": "ac6a0a8be584461a8d8828ebf6168cf7",
       "version_major": 2,
       "version_minor": 0
      },
      "image/png": "[encoded data removed]",
      "text/html": [
       "\n",
       "            <div style=\"display: inline-block;\">\n",
       "                <div class=\"jupyter-widgets widget-label\" style=\"text-align: center;\">\n",
       "                    Figure\n",
       "                </div>\n",
       "                <img src='data:image/png;base64,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' width=640.0/>\n",
       "            </div>\n",
       "        "
      ],
      "text/plain": [
       "Canvas(toolbar=Toolbar(toolitems=[('Home', 'Reset original view', 'home', 'home'), ('Back', 'Back to previous …"
      ]
     },
     "metadata": {},
     "output_type": "display_data"
    }
   ],
   "source": [
    "def plot_volume_histogram(volume,bins=100):\n",
    "    \n",
    "    maximum = np.max(volume)\n",
    "    minimum = np.min(volume)\n",
    "    mean    = np.mean(volume)\n",
    "    stddev  = np.std(volume)\n",
    "    \n",
    "    fig, ax = plt.subplots()\n",
    "    ax.hist(volume.flatten(),bins=bins)\n",
    "    ax.grid()\n",
    "    ax.set_title(f'Max={maximum:.2f}   Min={minimum:.2f}   Mean={mean:.2f}   StdDev={stddev:.2f}')\n",
    "    \n",
    "plot_volume_histogram(equalized_sinogram)"
   ]
  },
  {
   "cell_type": "code",
   "execution_count": 17,
   "id": "61939941-ea3d-4720-8ef1-b6577d276f7c",
   "metadata": {
    "tags": []
   },
   "outputs": [
    {
     "data": {
      "application/vnd.jupyter.widget-view+json": {
       "model_id": "24ebc48ba2a845b999521e52088fdb3e",
       "version_major": 2,
       "version_minor": 0
      },
      "text/plain": [
       "VBox(children=(IntSlider(value=739, description='Slice', layout=Layout(width='25%'), max=1478), Output()))"
      ]
     },
     "metadata": {},
     "output_type": "display_data"
    }
   ],
   "source": [
    "sscCdi.misc.deploy_visualizer(equalized_sinogram,title='sample',cmap='gray',axis=2)"
   ]
  },
  {
   "cell_type": "code",
   "execution_count": null,
   "id": "42d73ec2-a3dd-4233-8c17-da2fa9db4d0e",
   "metadata": {
    "tags": []
   },
   "outputs": [],
   "source": [
    "def plot_sinogram_slices(sinogram,cmap='gray'):\n",
    "    shape = sinogram.shape\n",
    "    fig, ax = plt.subplots(1,2,figsize=(20,5))\n",
    "    ax[0].imshow(sinogram[:,shape[1]//2,:],cmap=cmap)\n",
    "    ax[1].imshow(sinogram[:,:,shape[2]//2],cmap=cmap)    \n",
    "    \n",
    "plot_sinogram_slices(equalized_sinogram)"
   ]
  },
  {
   "cell_type": "markdown",
   "id": "0027ca2f-4e5a-42eb-8317-862c121b6cef",
   "metadata": {},
   "source": [
    "## Vertical mass fluctuation"
   ]
  },
  {
   "cell_type": "code",
   "execution_count": null,
   "id": "15bce339-3171-4110-9c02-eb9770a2774d",
   "metadata": {
    "tags": []
   },
   "outputs": [],
   "source": [
    "aligned_volume2 = alignment_vertical_mass_fluctuation(cropped_aligned_volume, use_phase_gradient = False, plot = True)"
   ]
  },
  {
   "cell_type": "code",
   "execution_count": null,
   "id": "74862f55-c09a-4e51-b008-8cac4fcac017",
   "metadata": {},
   "outputs": [],
   "source": [
    "sscCdi.misc.deploy_visualizer(np.angle(aligned_volume2),title='sample',cmap='gray')"
   ]
  },
  {
   "cell_type": "code",
   "execution_count": null,
   "id": "cea40bed-c979-4a09-961d-488f7bae1cbb",
   "metadata": {
    "tags": []
   },
   "outputs": [],
   "source": [
    "sscCdi.misc.deploy_visualizer(np.angle(aligned_volume2),title='sample',cmap='gray',axis=2)"
   ]
  },
  {
   "cell_type": "code",
   "execution_count": null,
   "id": "1db25204-561b-4bfb-b5d2-b8834b3fae1e",
   "metadata": {},
   "outputs": [],
   "source": [
    "sscCdi.misc.deploy_visualizer(np.angle(cropped_aligned_volume),title='sample',cmap='gray',axis=2)"
   ]
  },
  {
   "cell_type": "code",
   "execution_count": null,
   "id": "e84a421e-dfcb-4616-8ae3-2d6fdfd34a75",
   "metadata": {
    "tags": []
   },
   "outputs": [],
   "source": [
    "unwrapped_volume = unwrap_in_parallel(np.angle(aligned_volume2))\n",
    "unwrapped_volume = unwrapped_volume[:,100::,:]\n",
    "\n",
    "sscCdi.misc.deploy_visualizer(unwrapped_volume,title='sample',cmap='gray')"
   ]
  },
  {
   "cell_type": "code",
   "execution_count": 24,
   "id": "26455ded-28bc-4853-9c45-c3cd9e2d2953",
   "metadata": {
    "tags": []
   },
   "outputs": [],
   "source": [
    "dic = {}\n",
    "dic[\"bad_frames_before_unwrap\"] = []#[28,30,45,49,65,66,91,113]\n",
    "dic[\"equalize_gradient\"] = [True,[1400,1500,0,1500],0]\n",
    "dic[\"equalize_global_offset\"] = False\n",
    "dic[\"equalize_invert\"] = True\n",
    "dic[\"equalize_local_offset\"] = [1400,1500,0,1500]\n",
    "dic[\"equalize_outliers\"] = 0\n",
    "\n",
    "# equalized_sinogram = equalize_frames_parallel(unwrapped_volume,dic[\"equalize_invert\"],dic[\"equalize_gradient\"],dic[\"equalize_outliers\"],dic[\"equalize_global_offset\"], dic[\"equalize_local_offset\"])\n",
    "# sscCdi.misc.deploy_visualizer(equalized_sinogram,title='sample',cmap='gray')"
   ]
  },
  {
   "cell_type": "code",
   "execution_count": null,
   "id": "2a262c8a-8e0e-48b1-b84b-64269d872976",
   "metadata": {
    "tags": []
   },
   "outputs": [],
   "source": [
    "sscCdi.misc.deploy_visualizer(equalized_sinogram,title='sample',cmap='gray',axis=2)"
   ]
  },
  {
   "cell_type": "code",
   "execution_count": null,
   "id": "5cb6807a-95d6-4595-b700-268cf298604d",
   "metadata": {
    "tags": []
   },
   "outputs": [],
   "source": [
    "sscCdi.misc.deploy_visualizer(equalized_sinogram,title='sample',cmap='gray',axis=1)"
   ]
  },
  {
   "cell_type": "code",
   "execution_count": null,
   "id": "32911f20-b109-47f5-bedd-190509c9ac0e",
   "metadata": {
    "tags": []
   },
   "outputs": [],
   "source": []
  },
  {
   "cell_type": "code",
   "execution_count": null,
   "id": "050725e9-dfed-46ad-91c5-3a9eb37cce9a",
   "metadata": {},
   "outputs": [],
   "source": []
  }
 ],
 "metadata": {
  "kernelspec": {
   "display_name": "Python 3 (ipykernel)",
   "language": "python",
   "name": "python3"
  },
  "language_info": {
   "codemirror_mode": {
    "name": "ipython",
    "version": 3
   },
   "file_extension": ".py",
   "mimetype": "text/x-python",
   "name": "python",
   "nbconvert_exporter": "python",
   "pygments_lexer": "ipython3",
   "version": "3.9.2"
  }
 },
 "nbformat": 4,
 "nbformat_minor": 5
}
