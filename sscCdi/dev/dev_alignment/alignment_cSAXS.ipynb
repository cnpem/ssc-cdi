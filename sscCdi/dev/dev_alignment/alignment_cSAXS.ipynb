{
 "cells": [
  {
   "cell_type": "code",
   "execution_count": 1,
   "id": "10fa77fa-6c1d-4dca-96fb-374211d44a5f",
   "metadata": {
    "tags": []
   },
   "outputs": [],
   "source": [
    "import numpy as np\n",
    "import matplotlib.pyplot as plt\n",
    "import h5py\n",
    "import scipy\n",
    "\n",
    "from skimage.registration import phase_cross_correlation\n",
    "from skimage.registration._phase_cross_correlation import _upsampled_dft\n",
    "from skimage.transform import pyramid_gaussian\n",
    "from skimage.restoration import unwrap_phase\n",
    "from scipy.ndimage import center_of_mass\n",
    "\n",
    "import sscCdi\n",
    "from sscCdi import unwrap_in_parallel, equalize_frames_parallel, make_bad_frame_null\n",
    "import sscRadon\n",
    "\n",
    "%matplotlib widget"
   ]
  },
  {
   "cell_type": "code",
   "execution_count": 2,
   "id": "efa59bfa-4c40-40d6-96b9-c6e0d04f8e63",
   "metadata": {
    "tags": []
   },
   "outputs": [],
   "source": [
    "### CC ### \n",
    "\n",
    "def alignment_variance_field(data, pyramid_downsampling=2, fft_upsampling=10, return_common_valid_region=True, remove_null_borders = True):\n",
    "\n",
    "    _, total_shift = get_shifts_of_local_variance(data,fft_upsampling,pyramid_downsampling)\n",
    "\n",
    "    total_shift = total_shift*pyramid_downsampling # multiply by downsampling factor\n",
    "    \n",
    "    aligned_volume = shift_volume_slices(data,total_shift)\n",
    "    \n",
    "    if return_common_valid_region:\n",
    "        masked_volume = np.where(aligned_volume==0,0,1)\n",
    "        product = np.prod(np.abs(masked_volume),axis=0)\n",
    "        where_null = np.where(np.abs(product) == 0,0,1)\n",
    "        aligned_volume[:] = np.where(where_null==1,aligned_volume,0) \n",
    "    \n",
    "    if remove_null_borders:\n",
    "        aligned_volume = remove_black_borders(aligned_volume)\n",
    "        \n",
    "    return aligned_volume\n",
    "    \n",
    "def get_shifts_of_local_variance(data,fft_upsampling,pyramid_downsampling):\n",
    "\n",
    "    data = pyramid_downsample_volume(data,pyramid_downsampling) \n",
    "    \n",
    "    neighbor_shifts = np.empty((data.shape[0],2))\n",
    "    \n",
    "    print('Finding shift between neighboor slices...')\n",
    "    for i in range(0,data.shape[0]-1):\n",
    "        if print != 0:\n",
    "            if i%print==0: print(f\"Shifting slice #{i}\")\n",
    "\n",
    "        local_variance1 = calculate_local_variance_field(data[i])\n",
    "        local_variance2 = calculate_local_variance_field(data[i+1])\n",
    "        \n",
    "        shift, error, diffphase = phase_cross_correlation(local_variance1, local_variance2, upsample_factor=upsampling_factor)\n",
    "\n",
    "        neighbor_shifts[i][0] = shift[0]\n",
    "        neighbor_shifts[i][1] = shift[1]\n",
    "        \n",
    "    total_shift = np.cumsum(neighbor_shifts,axis=0)\n",
    "    \n",
    "    return neighbor_shifts, total_shift\n",
    "\n",
    "def pyramid_downsample_volume(data,downsampling):\n",
    "    \n",
    "    dummy = get_pyramid_complex_img(data[0],downsampling)\n",
    "\n",
    "    downsampled_volume = np.empty(dummy.shape)\n",
    "    \n",
    "    for i,complex_img in enumerate(data):\n",
    "        downsampled_volume[i] = get_pyramid_complex_img(complex_img,downsampling)\n",
    "        \n",
    "    return downsampled_volume\n",
    "    \n",
    "\n",
    "def get_pyramid_complex_img(complex_img,downsampling = 2):\n",
    "    frame_r = tuple(pyramid_gaussian(np.real(complex_img[i]), downscale=downsampling))[downsampling]\n",
    "    frame_i = tuple(pyramid_gaussian(np.imag(complex_img[i]), downscale=downsampling))[downsampling]\n",
    "    frame = frame_r + 1j*frame_i\n",
    "    return frame\n",
    "\n",
    "def shift_volume_slices(data,total_shift):\n",
    "\n",
    "    aligned_volume = np.zeros_like(data)\n",
    "    aligned_volume[0] = data[0]\n",
    "\n",
    "    print('Shifting slices...')\n",
    "    for i in range(0,data.shape[0]-1):\n",
    "        aligned_volume[i+1] = scipy.ndimage.shift(data[i+1],total_shift[i])\n",
    "\n",
    "    return aligned_volume\n",
    "\n",
    "def calculate_local_variance_field(matrix):\n",
    "    \n",
    "    gradient = np.gradient(matrix)\n",
    "    del_x = gradient[1]\n",
    "    del_y = gradient[0]\n",
    "        \n",
    "    return np.sqrt(np.abs(del_x)**2 + np.abs(del_y)**2)\n",
    "\n",
    "\n",
    "\n",
    "### VMF ### \n",
    "\n",
    "def alignment_vertical_mass_fluctuation(cropped_aligned_volume, use_phase_gradient = False, plot = True):\n",
    "    \n",
    "    if plot:\n",
    "        plt.figure()\n",
    "\n",
    "    curves = []\n",
    "    print(\"Calculating 1D mass distribution...\")\n",
    "    for i in range(cropped_aligned_volume.shape[0]):\n",
    "        frame = cropped_aligned_volume[i]\n",
    "        \n",
    "        if use_phase_gradient:\n",
    "            curve = vertical_phase_gradient(frame)\n",
    "        else:\n",
    "            curve = vertical_mass_distribution(frame)\n",
    "                \n",
    "        if plot:\n",
    "            plt.plot(curve)\n",
    "\n",
    "        curves.append(curve)\n",
    "\n",
    "    curves = np.asarray(curves)\n",
    "\n",
    "    print('Finding shifts...')    \n",
    "    aligned_curves, total_shift, neighbor_shifts = overlap_curves(curves)\n",
    "\n",
    "    print('Shifting slices...')\n",
    "    aligned_volume2 = np.zeros_like(cropped_aligned_volume)\n",
    "    aligned_volume2[0] = cropped_aligned_volume[0]\n",
    "    for i in range(0,cropped_aligned_volume.shape[0]-1):\n",
    "        aligned_volume2[i+1] = scipy.ndimage.shift(cropped_aligned_volume[i+1],[total_shift[i],0])\n",
    "\n",
    "    aligned_volume2 = remove_black_borders(aligned_volume2)    \n",
    "\n",
    "    return aligned_volume2\n",
    "\n",
    "\n",
    "def vertical_phase_gradient(frame):\n",
    "    gradient = np.gradient(frame)\n",
    "    phase_gradient_y = np.imag( frame.conj() * gradient[0] / np.abs(frame)**2  )\n",
    "    phase_gradient_y = np.sum(phase_gradient_y,axis=1)\n",
    "    return phase_gradient_y\n",
    "\n",
    "def vertical_mass_distribution(frame):\n",
    "    return np.sum(frame,axis=1)\n",
    "    \n",
    "\n",
    "def shift_2d_replace(data, dx, dy, constant=False):\n",
    "    \"\"\"\n",
    "    Shifts the array in two dimensions while setting rolled values to constant\n",
    "    :param data: The 2d numpy array to be shifted\n",
    "    :param dx: The shift in x\n",
    "    :param dy: The shift in y\n",
    "    :param constant: The constant to replace rolled values with\n",
    "    :return: The shifted array with \"constant\" where roll occurs\n",
    "    \"\"\"\n",
    "    shifted_data = np.roll(data, dx, axis=1)\n",
    "    if dx < 0:\n",
    "        shifted_data[:, dx:] = constant\n",
    "    elif dx > 0:\n",
    "        shifted_data[:, 0:dx] = constant\n",
    "\n",
    "    shifted_data = np.roll(shifted_data, dy, axis=0)\n",
    "    if dy < 0:\n",
    "        shifted_data[dy:, :] = constant\n",
    "    elif dy > 0:\n",
    "        shifted_data[0:dy, :] = constant\n",
    "    return shifted_data\n",
    "\n",
    "\n",
    "\n",
    "\n",
    "\n",
    "def get_gaussian_pyramid(frame,layers=2):\n",
    "\n",
    "    from skimage.transform import pyramid_gaussian\n",
    "\n",
    "    img_real = np.real(frame)\n",
    "    img_imag = np.imag(frame)\n",
    "\n",
    "    pyramid_real = tuple(pyramid_gaussian(img_real,downscale=2,max_layer=layers-1))\n",
    "    pyramid_imag = tuple(pyramid_gaussian(img_imag,downscale=2,max_layer=layers-1))\n",
    "    \n",
    "    pyramid = []\n",
    "    for R, I in zip(pyramid_real,pyramid_imag):\n",
    "        pyramid.append(R+1j*I)\n",
    "\n",
    "    return pyramid\n",
    "\n",
    "\n",
    "def remove_black_borders(volume):\n",
    "\n",
    "    not_null = np.argwhere(np.abs(volume[0]))\n",
    "\n",
    "    # Bounding box of non-black pixels.\n",
    "    x0, y0 = not_null.min(axis=0)\n",
    "    x1, y1 = not_null.max(axis=0) + 1   # slices are exclusive at the top\n",
    "\n",
    "    # Get the contents of the bounding box.\n",
    "    volume = volume[:,x0:x1, y0:y1]\n",
    "\n",
    "    return volume\n",
    "\n",
    "def calculate_curve_ctr_of_mass(curve):\n",
    "    ctr_mass = np.dot(curve,positions)/np.sum(curve)\n",
    "    return ctr_mass\n",
    "\n",
    "def get_pyramid_complex_img(complex_img,downsampling = 2):\n",
    "    frame_r = tuple(pyramid_gaussian(np.real(complex_img[i]), downscale=downsampling))[downsampling]\n",
    "    frame_i = tuple(pyramid_gaussian(np.imag(complex_img[i]), downscale=downsampling))[downsampling]\n",
    "    frame = frame_r + 1j*frame_i\n",
    "    return frame\n",
    "\n",
    "def vertical_phase_gradient(frame):\n",
    "    gradient = np.gradient(frame)\n",
    "    phase_gradient_y = np.imag( frame.conj() * gradient[0] / np.abs(frame)**2  )\n",
    "    phase_gradient_y = np.sum(phase_gradient_y,axis=1)\n",
    "    return phase_gradient_y\n",
    "\n",
    "def overlap_curves(data):\n",
    "\n",
    "    neighbor_shifts = np.empty((data.shape[0],1))\n",
    "\n",
    "    print('Finding shift between neighboor slices...')\n",
    "    for i in range(0,data.shape[0]-1):\n",
    "\n",
    "        shift, error, diffphase = phase_cross_correlation(data[i], data[i+1], upsample_factor=10)\n",
    "        neighbor_shifts[i][0] = shift[0]\n",
    "\n",
    "    total_shift = np.cumsum(neighbor_shifts,axis=0)\n",
    "    aligned_curves = np.zeros_like(data)\n",
    "    aligned_curves[0] = data[0]\n",
    "\n",
    "    print('Shifting slices...')\n",
    "    for i in range(0,data.shape[0]-1):\n",
    "        aligned_curves[i+1] = scipy.ndimage.shift(data[i+1],total_shift[i])\n",
    "\n",
    "    plt.figure()\n",
    "    for i in range(0,data.shape[0]-1):\n",
    "        plt.plot(aligned_curves[i])\n",
    "        \n",
    "    return aligned_curves, total_shift, neighbor_shifts\n"
   ]
  },
  {
   "cell_type": "code",
   "execution_count": 12,
   "id": "51790dc1-61e9-4b60-b641-a2e32589070a",
   "metadata": {
    "tags": []
   },
   "outputs": [],
   "source": [
    "# path = \"/ibira/lnls/labs/tepui/home/yuri.tonin/00000000/proc/recons/glass_sphere/2023-07-28-17h04m_glass_sphere.hdf5\"\n",
    "# data = h5py.File(path,'r')['recon/object'][()]\n",
    "# angles = h5py.File(path,'r')['recon/angles'][()][:,0::2]\n",
    "# data=data[:,1350:-1300,1200:-1400]\n",
    "\n",
    "\n",
    "path = \"/ibira/lnls/beamlines/caterete/proposals/20221798/proc/recons/sorgoBMR08_mem1_FAA_YuriTest/YuriTest_sorgoBMR08_mem1_FAA.hdf5\"\n",
    "data = h5py.File(path,'r')['recon/object'][()]\n",
    "angles = h5py.File(path,'r')['recon/angles'][()][:,0::2]\n",
    "data=data[:,1345:3040,1280:2980]\n",
    "\n",
    "\n",
    "# path = \"/ibira/lnls/beamlines/caterete/proposals/20221798/proc/recons/sorgoWT05_mem2_FAA_01/2023-07-25-14h54m_sorgoWT05_mem2_FAA_01.hdf5\"\n",
    "# data = h5py.File(path,'r')['recon/object'][()]\n",
    "# angles = h5py.File(path,'r')['recon/angles'][()][:,0::2]\n",
    "# data=data[:,1300:-1500,1300:-1500]\n",
    "# data.shape\n",
    "\n"
   ]
  },
  {
   "cell_type": "code",
   "execution_count": 13,
   "id": "58637e3e-32ea-41ad-90df-e91a762a662d",
   "metadata": {
    "tags": []
   },
   "outputs": [],
   "source": [
    "from sscCdi import sort_angles\n",
    "from sscCdi import reorder_slices_low_to_high_angle\n",
    "\n",
    "sorted_angles = sort_angles(angles) # input colums with frame number and angle in rad\n",
    "data = reorder_slices_low_to_high_angle(data, sorted_angles)"
   ]
  },
  {
   "cell_type": "code",
   "execution_count": 8,
   "id": "5f2ca764-2afa-4401-b215-d613166dbd90",
   "metadata": {
    "tags": []
   },
   "outputs": [
    {
     "data": {
      "application/vnd.jupyter.widget-view+json": {
       "model_id": "9a0f209bdbca43f39bcd45f74ebe9b93",
       "version_major": 2,
       "version_minor": 0
      },
      "text/plain": [
       "VBox(children=(IntSlider(value=107, description='Slice', layout=Layout(width='25%'), max=213), Output()))"
      ]
     },
     "metadata": {},
     "output_type": "display_data"
    }
   ],
   "source": [
    "sscCdi.misc.deploy_visualizer(np.angle(data),title='sample',cmap='gray',axis=0)"
   ]
  },
  {
   "cell_type": "code",
   "execution_count": 6,
   "id": "f429a7eb-f123-4946-82f5-392620604447",
   "metadata": {
    "tags": []
   },
   "outputs": [],
   "source": [
    "dic={}\n",
    "dic[\"bad_frames_before_unwrap\"] = [129]#[28,30,45,49,65,66,91,113]\n",
    "dic[\"bad_frames_before_equalization\"] = []\n",
    "dic[\"equalize_gradient\"] = [True,[0,1550,1500,1600],10]\n",
    "dic[\"equalize_global_offset\"] = False\n",
    "dic[\"equalize_invert\"] = True\n",
    "dic[\"equalize_local_offset\"] = []\n",
    "dic[\"equalize_outliers\"] = 0\n"
   ]
  },
  {
   "cell_type": "code",
   "execution_count": 7,
   "id": "9f4b2c91-8f16-4d01-b313-98e5b4241c30",
   "metadata": {
    "tags": []
   },
   "outputs": [
    {
     "name": "stdout",
     "output_type": "stream",
     "text": [
      "Using 32 parallel processes\n"
     ]
    },
    {
     "name": "stderr",
     "output_type": "stream",
     "text": [
      "100%|██████████| 214/214 [00:05<00:00, 41.84it/s]\n"
     ]
    },
    {
     "name": "stdout",
     "output_type": "stream",
     "text": [
      "Sinogram shape to unwrap:  (214, 766, 816)\n",
      "Using 32 parallel processes\n"
     ]
    },
    {
     "name": "stderr",
     "output_type": "stream",
     "text": [
      "100%|██████████| 214/214 [00:03<00:00, 57.55it/s]\n"
     ]
    },
    {
     "name": "stdout",
     "output_type": "stream",
     "text": [
      "Min \t Mean-3*sigma \t Mean \t Mean+3*sigma \t Max \n",
      "Old  -1.2634947299957275 -4.4061623121588696 -0.18987572889172957 4.02641085437541 5.714977741241455\n",
      "New  -39.735752 -8.051325261592865 0.41215998 8.875645220279694 63.00353\n"
     ]
    },
    {
     "data": {
      "application/vnd.jupyter.widget-view+json": {
       "model_id": "b305bd761780409b8eb1a70efaf3572b",
       "version_major": 2,
       "version_minor": 0
      },
      "text/plain": [
       "VBox(children=(IntSlider(value=107, description='Slice', layout=Layout(width='25%'), max=213), Output()))"
      ]
     },
     "metadata": {},
     "output_type": "display_data"
    }
   ],
   "source": [
    "unwrapped_sinogram = unwrap_in_parallel(np.angle(data))\n",
    "equalized_sinogram = equalize_frames_parallel(unwrapped_sinogram,dic[\"equalize_invert\"],dic[\"equalize_gradient\"],dic[\"equalize_outliers\"],dic[\"equalize_global_offset\"], dic[\"equalize_local_offset\"])\n",
    "# equalized_sinogram = np.where(equalized_sinogram<-0.6,0,equalized_sinogram)\n",
    "sscCdi.misc.deploy_visualizer(equalized_sinogram,title='sample',cmap='gray',limits=(np.min(equalized_sinogram),2))"
   ]
  },
  {
   "cell_type": "code",
   "execution_count": 12,
   "id": "a77812e0-dd9e-4441-aa76-9ba9bd4d6566",
   "metadata": {
    "tags": []
   },
   "outputs": [
    {
     "name": "stdout",
     "output_type": "stream",
     "text": [
      "ssc-radon: creating 250x1695x1700 shared arrays (tomogram)\n"
     ]
    }
   ],
   "source": [
    "dic[\"CPUs\"] = 32 \n",
    "dic[\"wiggle_reference_frame\"] = 50\n",
    "\n",
    "temp_tomogram, shift_vertical = sscRadon.radon.get_wiggle( equalized_sinogram, \"vertical\", dic[\"CPUs\"], dic[\"wiggle_reference_frame\"] )\n",
    "# temp_tomogram, shift_vertical = sscRadon.radon.get_wiggle( temp_tomogram, \"vertical\", dic[\"CPUs\"], dic[\"wiggle_reference_frame\"] )"
   ]
  },
  {
   "cell_type": "code",
   "execution_count": 13,
   "id": "c6f6bc9e-a3c3-40a5-9913-ba3b738f9371",
   "metadata": {
    "tags": []
   },
   "outputs": [
    {
     "data": {
      "application/vnd.jupyter.widget-view+json": {
       "model_id": "8967a0e8629c440b97cb428f0f60d320",
       "version_major": 2,
       "version_minor": 0
      },
      "text/plain": [
       "VBox(children=(IntSlider(value=125, description='Slice', layout=Layout(width='25%'), max=249), Output()))"
      ]
     },
     "metadata": {},
     "output_type": "display_data"
    }
   ],
   "source": [
    "sscCdi.misc.deploy_visualizer(temp_tomogram,title='sample',cmap='gray',axis=0)"
   ]
  },
  {
   "cell_type": "code",
   "execution_count": 14,
   "id": "89b8aedd-74e4-4612-97e1-7c5b1f2f702f",
   "metadata": {
    "tags": []
   },
   "outputs": [
    {
     "name": "stdout",
     "output_type": "stream",
     "text": [
      "ssc-radon: creating 250x1695x1700 shared arrays (tomogram)\n"
     ]
    }
   ],
   "source": [
    "aligned_sinogram, shift_horizontal, wiggle_cmas_temp = sscRadon.radon.get_wiggle( temp_tomogram, \"horizontal\", dic[\"CPUs\"], dic[\"wiggle_reference_frame\"] )"
   ]
  },
  {
   "cell_type": "code",
   "execution_count": 15,
   "id": "493717aa-eee0-4c19-9228-06111f116d48",
   "metadata": {
    "tags": []
   },
   "outputs": [
    {
     "data": {
      "application/vnd.jupyter.widget-view+json": {
       "model_id": "c31ae8a7efec48aab2e5e2dec526d948",
       "version_major": 2,
       "version_minor": 0
      },
      "text/plain": [
       "VBox(children=(IntSlider(value=847, description='Slice', layout=Layout(width='25%'), max=1694), Output()))"
      ]
     },
     "metadata": {},
     "output_type": "display_data"
    }
   ],
   "source": [
    "sscCdi.misc.deploy_visualizer(temp_tomogram,title='sample',cmap='gray',axis=1)"
   ]
  },
  {
   "cell_type": "code",
   "execution_count": 16,
   "id": "f59888b3-6c6c-4418-89f2-4759f43f3904",
   "metadata": {
    "tags": []
   },
   "outputs": [
    {
     "data": {
      "application/vnd.jupyter.widget-view+json": {
       "model_id": "40c05cf5ac1f4e288a4012c7d86bba18",
       "version_major": 2,
       "version_minor": 0
      },
      "text/plain": [
       "VBox(children=(IntSlider(value=847, description='Slice', layout=Layout(width='25%'), max=1694), Output()))"
      ]
     },
     "metadata": {},
     "output_type": "display_data"
    }
   ],
   "source": [
    "sscCdi.misc.deploy_visualizer(aligned_sinogram,title='sample',cmap='gray',axis=1)"
   ]
  },
  {
   "cell_type": "code",
   "execution_count": 17,
   "id": "176c3eec-f946-4920-b82b-477f4819690d",
   "metadata": {
    "tags": []
   },
   "outputs": [
    {
     "data": {
      "application/vnd.jupyter.widget-view+json": {
       "model_id": "004970acf34c4c829091e63a90b5b9f2",
       "version_major": 2,
       "version_minor": 0
      },
      "text/plain": [
       "VBox(children=(IntSlider(value=850, description='Slice', layout=Layout(width='25%'), max=1699), Output()))"
      ]
     },
     "metadata": {},
     "output_type": "display_data"
    }
   ],
   "source": [
    "sscCdi.misc.deploy_visualizer(temp_tomogram,title='sample',cmap='gray',axis=2)"
   ]
  },
  {
   "cell_type": "code",
   "execution_count": 18,
   "id": "56635724-69aa-45ce-a20a-38778907a076",
   "metadata": {
    "tags": []
   },
   "outputs": [
    {
     "data": {
      "application/vnd.jupyter.widget-view+json": {
       "model_id": "34dafe444cc945eba44e4e408c488a1f",
       "version_major": 2,
       "version_minor": 0
      },
      "text/plain": [
       "VBox(children=(IntSlider(value=850, description='Slice', layout=Layout(width='25%'), max=1699), Output()))"
      ]
     },
     "metadata": {},
     "output_type": "display_data"
    }
   ],
   "source": [
    "sscCdi.misc.deploy_visualizer(aligned_sinogram,title='sample',cmap='gray',axis=2)"
   ]
  },
  {
   "cell_type": "markdown",
   "id": "f71e1e3c-0215-4b44-988a-184b5636dd95",
   "metadata": {},
   "source": [
    "## Cross Correlation of Variance Field "
   ]
  },
  {
   "cell_type": "code",
   "execution_count": 5,
   "id": "9ef89032-0746-48ec-889a-ccb773741fac",
   "metadata": {
    "tags": []
   },
   "outputs": [
    {
     "data": {
      "application/vnd.jupyter.widget-view+json": {
       "model_id": "6b0560c0fca24db58392ed3d56972c3c",
       "version_major": 2,
       "version_minor": 0
      },
      "text/plain": [
       "VBox(children=(IntSlider(value=255, description='Slice', layout=Layout(width='25%'), max=509), Output()))"
      ]
     },
     "metadata": {},
     "output_type": "display_data"
    }
   ],
   "source": [
    "sscCdi.misc.deploy_visualizer(np.angle(data),title='sample',cmap='gray',axis=0)"
   ]
  },
  {
   "cell_type": "code",
   "execution_count": 18,
   "id": "3f21f2ef-075d-4ffc-b61f-106a891b1c8c",
   "metadata": {
    "tags": []
   },
   "outputs": [
    {
     "name": "stdout",
     "output_type": "stream",
     "text": [
      "Finding shift between neighboor slices...\n",
      "Shifting slices...\n",
      "Finding common useful region for whole volume...\n",
      "Done\n"
     ]
    }
   ],
   "source": [
    "cropped_aligned_volume = alignment_variance_field(data, upsampling_factor=10,return_common_valid_region=True, remove_null_borders = True, print=10)\n",
    "\n",
    "# idx_to_delete = [28,30,45,49,65,66,91,113]\n",
    "# cropped_aligned_volume = np.delete(cropped_aligned_volume,idx_to_delete,axis=0)\n",
    "\n",
    "# sscCdi.misc.deploy_visualizer(np.angle(cropped_aligned_volume),title='sample',cmap='gray')"
   ]
  },
  {
   "cell_type": "code",
   "execution_count": 19,
   "id": "0d619d72-d9e9-4533-bc21-0f6c48e6e593",
   "metadata": {
    "tags": []
   },
   "outputs": [
    {
     "name": "stdout",
     "output_type": "stream",
     "text": [
      "Using 32 parallel processes\n"
     ]
    },
    {
     "name": "stderr",
     "output_type": "stream",
     "text": [
      "100%|██████████| 250/250 [00:28<00:00,  8.71it/s]\n"
     ]
    },
    {
     "name": "stdout",
     "output_type": "stream",
     "text": [
      "Sinogram shape to unwrap:  (250, 1606, 1479)\n",
      "Using 32 parallel processes\n"
     ]
    },
    {
     "name": "stderr",
     "output_type": "stream",
     "text": [
      "100%|██████████| 250/250 [00:23<00:00, 10.57it/s]\n"
     ]
    },
    {
     "name": "stdout",
     "output_type": "stream",
     "text": [
      "Min \t Mean-3*sigma \t Mean \t Mean+3*sigma \t Max \n",
      "Old  -0.8758360743522644 -2.834218870661039 0.4722928001176911 3.7788044708964215 5.295405387878418\n",
      "New  -4.1110115 -2.903220921754837 0.46529564 3.8338122069835663 9.131673\n"
     ]
    }
   ],
   "source": [
    "unwrapped_sinogram = unwrap_in_parallel(np.angle(cropped_aligned_volume))\n",
    "equalized_sinogram = equalize_frames_parallel(unwrapped_sinogram,dic[\"equalize_invert\"],dic[\"equalize_gradient\"],dic[\"equalize_outliers\"],dic[\"equalize_global_offset\"], dic[\"equalize_local_offset\"])"
   ]
  },
  {
   "cell_type": "code",
   "execution_count": 26,
   "id": "4b4cd717-161a-49b1-84de-64432bc3b81d",
   "metadata": {
    "tags": []
   },
   "outputs": [],
   "source": [
    "equalized_sinogram = np.where(equalized_sinogram<-0.6,0,equalized_sinogram)"
   ]
  },
  {
   "cell_type": "code",
   "execution_count": 22,
   "id": "45858324-8174-4325-b1c3-6be5b434b6b5",
   "metadata": {
    "tags": []
   },
   "outputs": [
    {
     "data": {
      "application/vnd.jupyter.widget-view+json": {
       "model_id": "e83205ebd38241e0bed49b38e63e2dcc",
       "version_major": 2,
       "version_minor": 0
      },
      "text/plain": [
       "VBox(children=(IntSlider(value=125, description='Slice', layout=Layout(width='25%'), max=249), Output()))"
      ]
     },
     "metadata": {},
     "output_type": "display_data"
    }
   ],
   "source": [
    "sscCdi.misc.deploy_visualizer(equalized_sinogram,title='sample',cmap='gray')"
   ]
  },
  {
   "cell_type": "code",
   "execution_count": 16,
   "id": "a43589bd-f64d-44d0-bbc7-c20ffb4d85c3",
   "metadata": {
    "tags": []
   },
   "outputs": [
    {
     "data": {
      "application/vnd.jupyter.widget-view+json": {
       "model_id": "a09b9e42b96c4178aba0e8e0c3421502",
       "version_major": 2,
       "version_minor": 0
      },
      "text/plain": [
       "VBox(children=(IntSlider(value=803, description='Slice', layout=Layout(width='25%'), max=1605), Output()))"
      ]
     },
     "metadata": {},
     "output_type": "display_data"
    }
   ],
   "source": [
    "sscCdi.misc.deploy_visualizer(equalized_sinogram,title='sample',cmap='gray',axis=1)"
   ]
  },
  {
   "cell_type": "code",
   "execution_count": 17,
   "id": "61939941-ea3d-4720-8ef1-b6577d276f7c",
   "metadata": {
    "tags": []
   },
   "outputs": [
    {
     "data": {
      "application/vnd.jupyter.widget-view+json": {
       "model_id": "24ebc48ba2a845b999521e52088fdb3e",
       "version_major": 2,
       "version_minor": 0
      },
      "text/plain": [
       "VBox(children=(IntSlider(value=739, description='Slice', layout=Layout(width='25%'), max=1478), Output()))"
      ]
     },
     "metadata": {},
     "output_type": "display_data"
    }
   ],
   "source": [
    "sscCdi.misc.deploy_visualizer(equalized_sinogram,title='sample',cmap='gray',axis=2)"
   ]
  },
  {
   "cell_type": "code",
   "execution_count": null,
   "id": "42d73ec2-a3dd-4233-8c17-da2fa9db4d0e",
   "metadata": {
    "tags": []
   },
   "outputs": [],
   "source": [
    "def plot_sinogram_slices(sinogram,cmap='gray'):\n",
    "    shape = sinogram.shape\n",
    "    fig, ax = plt.subplots(1,2,figsize=(20,5))\n",
    "    ax[0].imshow(sinogram[:,shape[1]//2,:],cmap=cmap)\n",
    "    ax[1].imshow(sinogram[:,:,shape[2]//2],cmap=cmap)    \n",
    "    \n",
    "plot_sinogram_slices(equalized_sinogram)"
   ]
  },
  {
   "cell_type": "markdown",
   "id": "0027ca2f-4e5a-42eb-8317-862c121b6cef",
   "metadata": {},
   "source": [
    "## Vertical mass fluctuation"
   ]
  },
  {
   "cell_type": "code",
   "execution_count": null,
   "id": "15bce339-3171-4110-9c02-eb9770a2774d",
   "metadata": {
    "tags": []
   },
   "outputs": [],
   "source": [
    "aligned_volume2 = alignment_vertical_mass_fluctuation(cropped_aligned_volume, use_phase_gradient = False, plot = True)"
   ]
  },
  {
   "cell_type": "code",
   "execution_count": null,
   "id": "74862f55-c09a-4e51-b008-8cac4fcac017",
   "metadata": {},
   "outputs": [],
   "source": [
    "sscCdi.misc.deploy_visualizer(np.angle(aligned_volume2),title='sample',cmap='gray')"
   ]
  },
  {
   "cell_type": "code",
   "execution_count": null,
   "id": "cea40bed-c979-4a09-961d-488f7bae1cbb",
   "metadata": {
    "tags": []
   },
   "outputs": [],
   "source": [
    "sscCdi.misc.deploy_visualizer(np.angle(aligned_volume2),title='sample',cmap='gray',axis=2)"
   ]
  },
  {
   "cell_type": "code",
   "execution_count": null,
   "id": "1db25204-561b-4bfb-b5d2-b8834b3fae1e",
   "metadata": {},
   "outputs": [],
   "source": [
    "sscCdi.misc.deploy_visualizer(np.angle(cropped_aligned_volume),title='sample',cmap='gray',axis=2)"
   ]
  },
  {
   "cell_type": "code",
   "execution_count": null,
   "id": "e84a421e-dfcb-4616-8ae3-2d6fdfd34a75",
   "metadata": {
    "tags": []
   },
   "outputs": [],
   "source": [
    "unwrapped_volume = unwrap_in_parallel(np.angle(aligned_volume2))\n",
    "unwrapped_volume = unwrapped_volume[:,100::,:]\n",
    "\n",
    "sscCdi.misc.deploy_visualizer(unwrapped_volume,title='sample',cmap='gray')"
   ]
  },
  {
   "cell_type": "code",
   "execution_count": null,
   "id": "26455ded-28bc-4853-9c45-c3cd9e2d2953",
   "metadata": {
    "tags": []
   },
   "outputs": [],
   "source": [
    "dic = {}\n",
    "dic[\"bad_frames_before_unwrap\"] = [28,30,45,49,65,66,91,113]\n",
    "dic[\"equalize_gradient\"] = [True,[0,500,0,50]]\n",
    "dic[\"equalize_global_offset\"] = False\n",
    "dic[\"equalize_invert\"] = True\n",
    "dic[\"equalize_local_offset\"] = [0,500,0,50]\n",
    "dic[\"equalize_outliers\"] = 0\n",
    "\n",
    "equalized_sinogram = equalize_frames_parallel(unwrapped_volume,dic[\"equalize_invert\"],dic[\"equalize_gradient\"],dic[\"equalize_outliers\"],dic[\"equalize_global_offset\"], dic[\"equalize_local_offset\"])\n",
    "sscCdi.misc.deploy_visualizer(equalized_sinogram,title='sample',cmap='gray')"
   ]
  },
  {
   "cell_type": "code",
   "execution_count": null,
   "id": "2a262c8a-8e0e-48b1-b84b-64269d872976",
   "metadata": {
    "tags": []
   },
   "outputs": [],
   "source": [
    "sscCdi.misc.deploy_visualizer(equalized_sinogram,title='sample',cmap='gray',axis=2)"
   ]
  },
  {
   "cell_type": "code",
   "execution_count": null,
   "id": "5cb6807a-95d6-4595-b700-268cf298604d",
   "metadata": {
    "tags": []
   },
   "outputs": [],
   "source": [
    "sscCdi.misc.deploy_visualizer(equalized_sinogram,title='sample',cmap='gray',axis=1)"
   ]
  },
  {
   "cell_type": "code",
   "execution_count": null,
   "id": "32911f20-b109-47f5-bedd-190509c9ac0e",
   "metadata": {
    "tags": []
   },
   "outputs": [],
   "source": []
  },
  {
   "cell_type": "code",
   "execution_count": null,
   "id": "050725e9-dfed-46ad-91c5-3a9eb37cce9a",
   "metadata": {},
   "outputs": [],
   "source": []
  }
 ],
 "metadata": {
  "kernelspec": {
   "display_name": "Python 3 (ipykernel)",
   "language": "python",
   "name": "python3"
  },
  "language_info": {
   "codemirror_mode": {
    "name": "ipython",
    "version": 3
   },
   "file_extension": ".py",
   "mimetype": "text/x-python",
   "name": "python",
   "nbconvert_exporter": "python",
   "pygments_lexer": "ipython3",
   "version": "3.9.2"
  }
 },
 "nbformat": 4,
 "nbformat_minor": 5
}
