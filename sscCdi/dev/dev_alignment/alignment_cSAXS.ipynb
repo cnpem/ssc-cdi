{
 "cells": [
  {
   "cell_type": "code",
   "execution_count": null,
   "id": "10fa77fa-6c1d-4dca-96fb-374211d44a5f",
   "metadata": {
    "tags": []
   },
   "outputs": [],
   "source": [
    "import numpy as np\n",
    "import matplotlib.pyplot as plt\n",
    "import h5py\n",
    "\n",
    "import sscCdi\n",
    "from sscCdi import unwrap_in_parallel, equalize_frames_parallel, make_bad_frame_null\n",
    "import sscRadon\n",
    "\n",
    "%matplotlib widget"
   ]
  },
  {
   "cell_type": "code",
   "execution_count": null,
   "id": "51790dc1-61e9-4b60-b641-a2e32589070a",
   "metadata": {
    "tags": []
   },
   "outputs": [],
   "source": [
    "# path = \"/ibira/lnls/labs/tepui/home/yuri.tonin/00000000/proc/recons/glass_sphere/2023-07-28-17h04m_glass_sphere.hdf5\" \n",
    "path = \"/ibira/lnls/labs/tepui/home/yuri.tonin/00000000/proc/recons/glass_sphere/2023-05-16-15h38m_glass_sphere.hdf5\" \n",
    "data = h5py.File(path,'r')['recon/object'][()]\n",
    "angles = h5py.File(path,'r')['recon/angles'][()][:,0::2]\n",
    "data=data[:,1350:-1300,1200:-1400]\n",
    "\n",
    "\n",
    "# path = \"/ibira/lnls/beamlines/caterete/proposals/20221798/proc/recons/sorgoBMR08_mem1_FAA_YuriTest/YuriTest_sorgoBMR08_mem1_FAA.hdf5\"\n",
    "# data = h5py.File(path,'r')['recon/object'][()]\n",
    "# angles = h5py.File(path,'r')['recon/angles'][()][:,0::2]\n",
    "# data=data[:,1345:3040,1280:2980]\n",
    "\n",
    "\n",
    "# path = \"/ibira/lnls/beamlines/caterete/proposals/20221798/proc/recons/sorgoWT05_mem2_FAA_01/2023-07-25-14h54m_sorgoWT05_mem2_FAA_01.hdf5\"\n",
    "# data = h5py.File(path,'r')['recon/object'][()]\n",
    "# angles = h5py.File(path,'r')['recon/angles'][()][:,0::2]\n",
    "# data=data[:,1300:-1500,1300:-1500]\n",
    "# data.shape\n",
    "\n"
   ]
  },
  {
   "cell_type": "code",
   "execution_count": null,
   "id": "58637e3e-32ea-41ad-90df-e91a762a662d",
   "metadata": {
    "tags": []
   },
   "outputs": [],
   "source": [
    "from sscCdi import sort_angles\n",
    "from sscCdi import reorder_slices_low_to_high_angle\n",
    "\n",
    "sorted_angles = sort_angles(angles) # input colums with frame number and angle in rad\n",
    "data = reorder_slices_low_to_high_angle(data, sorted_angles)"
   ]
  },
  {
   "cell_type": "code",
   "execution_count": null,
   "id": "5f2ca764-2afa-4401-b215-d613166dbd90",
   "metadata": {
    "tags": []
   },
   "outputs": [],
   "source": [
    "sscCdi.misc.deploy_visualizer(np.angle(data),title='sample',cmap='gray',axis=0)"
   ]
  },
  {
   "cell_type": "code",
   "execution_count": null,
   "id": "f429a7eb-f123-4946-82f5-392620604447",
   "metadata": {
    "tags": []
   },
   "outputs": [],
   "source": [
    "dic={}\n",
    "dic[\"bad_frames_before_equalization\"] = []\n",
    "\n",
    "dic[\"CPUs\"] = 64\n",
    "dic[\"equalize_invert\"] = True # invert phase shift signal from negative to positive\n",
    "dic[\"equalize_ROI\"] = [0,1550,1500,1600] # region of interest of null region around the sample used for phase ramp and offset corrections\n",
    "dic[\"equalize_remove_phase_gradient\"] = True  # if empty and equalize_ROI = [], will subtract best plane fit from whole image\n",
    "dic[\"equalize_set_min_max\"]= [] # [minimum,maximum] threshold values for whole volume\n",
    "dic[\"equalize_non_negative\"] = True # turn any remaining negative values to zero\n",
    "dic[\"equalize_local_offset\"] = False # remove offset of each frame from the mean of ROI "
   ]
  },
  {
   "cell_type": "code",
   "execution_count": null,
   "id": "9f4b2c91-8f16-4d01-b313-98e5b4241c30",
   "metadata": {
    "tags": []
   },
   "outputs": [],
   "source": [
    "unwrapped_sinogram = unwrap_in_parallel(np.angle(data))"
   ]
  },
  {
   "cell_type": "code",
   "execution_count": null,
   "id": "575bdcb1-bf43-422d-a719-d64443bc7544",
   "metadata": {
    "tags": []
   },
   "outputs": [],
   "source": [
    "equalized_sinogram = equalize_frames_parallel(unwrapped_sinogram,dic)\n",
    "# equalized_sinogram = np.where(equalized_sinogram<-0.6,0,equalized_sinogram)\n",
    "sscCdi.misc.deploy_visualizer(equalized_sinogram,title='sample',cmap='gray')"
   ]
  },
  {
   "cell_type": "code",
   "execution_count": null,
   "id": "44238632-3e36-45aa-a55d-291675f18443",
   "metadata": {
    "tags": []
   },
   "outputs": [],
   "source": [
    "sscCdi.misc.deploy_visualizer(equalized_sinogram[3::],title='sample',cmap='gray')"
   ]
  },
  {
   "cell_type": "code",
   "execution_count": null,
   "id": "115042ea-2d33-46a0-b679-79ae3c23111d",
   "metadata": {
    "tags": []
   },
   "outputs": [],
   "source": [
    "from sscCdi import plot_volume_histogram\n",
    "\n",
    "plot_volume_histogram(equalized_sinogram)"
   ]
  },
  {
   "cell_type": "code",
   "execution_count": null,
   "id": "a77812e0-dd9e-4441-aa76-9ba9bd4d6566",
   "metadata": {
    "tags": []
   },
   "outputs": [],
   "source": [
    "dic[\"CPUs\"] = 32 \n",
    "dic[\"wiggle_reference_frame\"] = 50\n",
    "\n",
    "temp_tomogram, shift_vertical = sscRadon.radon.get_wiggle( equalized_sinogram, \"vertical\", dic[\"CPUs\"], dic[\"wiggle_reference_frame\"] )\n",
    "# temp_tomogram, shift_vertical = sscRadon.radon.get_wiggle( temp_tomogram, \"vertical\", dic[\"CPUs\"], dic[\"wiggle_reference_frame\"] )"
   ]
  },
  {
   "cell_type": "code",
   "execution_count": null,
   "id": "c6f6bc9e-a3c3-40a5-9913-ba3b738f9371",
   "metadata": {
    "tags": []
   },
   "outputs": [],
   "source": [
    "sscCdi.misc.deploy_visualizer(temp_tomogram,title='sample',cmap='gray',axis=0)"
   ]
  },
  {
   "cell_type": "code",
   "execution_count": null,
   "id": "89b8aedd-74e4-4612-97e1-7c5b1f2f702f",
   "metadata": {
    "tags": []
   },
   "outputs": [],
   "source": [
    "aligned_sinogram, shift_horizontal, wiggle_cmas_temp = sscRadon.radon.get_wiggle( temp_tomogram, \"horizontal\", dic[\"CPUs\"], dic[\"wiggle_reference_frame\"] )"
   ]
  },
  {
   "cell_type": "code",
   "execution_count": null,
   "id": "493717aa-eee0-4c19-9228-06111f116d48",
   "metadata": {
    "tags": []
   },
   "outputs": [],
   "source": [
    "sscCdi.misc.deploy_visualizer(temp_tomogram,title='sample',cmap='gray',axis=1)"
   ]
  },
  {
   "cell_type": "code",
   "execution_count": null,
   "id": "f59888b3-6c6c-4418-89f2-4759f43f3904",
   "metadata": {
    "tags": []
   },
   "outputs": [],
   "source": [
    "sscCdi.misc.deploy_visualizer(aligned_sinogram,title='sample',cmap='gray',axis=1)"
   ]
  },
  {
   "cell_type": "code",
   "execution_count": null,
   "id": "176c3eec-f946-4920-b82b-477f4819690d",
   "metadata": {
    "tags": []
   },
   "outputs": [],
   "source": [
    "sscCdi.misc.deploy_visualizer(temp_tomogram,title='sample',cmap='gray',axis=2)"
   ]
  },
  {
   "cell_type": "code",
   "execution_count": null,
   "id": "56635724-69aa-45ce-a20a-38778907a076",
   "metadata": {
    "tags": []
   },
   "outputs": [],
   "source": [
    "sscCdi.misc.deploy_visualizer(aligned_sinogram,title='sample',cmap='gray',axis=2)"
   ]
  },
  {
   "cell_type": "markdown",
   "id": "f71e1e3c-0215-4b44-988a-184b5636dd95",
   "metadata": {},
   "source": [
    "## Cross Correlation of Variance Field "
   ]
  },
  {
   "cell_type": "code",
   "execution_count": null,
   "id": "9ef89032-0746-48ec-889a-ccb773741fac",
   "metadata": {
    "tags": []
   },
   "outputs": [],
   "source": [
    "sscCdi.misc.deploy_visualizer(np.angle(data),title='sample',cmap='gray',axis=0)"
   ]
  },
  {
   "cell_type": "code",
   "execution_count": null,
   "id": "3f21f2ef-075d-4ffc-b61f-106a891b1c8c",
   "metadata": {
    "tags": []
   },
   "outputs": [],
   "source": [
    "cropped_aligned_volume = alignment_variance_field(data, fft_upsampling=10,return_common_valid_region=True, remove_null_borders = True)\n",
    "\n",
    "# idx_to_delete = [28,30,45,49,65,66,91,113]\n",
    "# cropped_aligned_volume = np.delete(cropped_aligned_volume,idx_to_delete,axis=0)\n",
    "# sscCdi.misc.deploy_visualizer(np.angle(cropped_aligned_volume),title='sample',cmap='gray')"
   ]
  },
  {
   "cell_type": "code",
   "execution_count": null,
   "id": "0d619d72-d9e9-4533-bc21-0f6c48e6e593",
   "metadata": {
    "tags": []
   },
   "outputs": [],
   "source": [
    "unwrapped_sinogram = unwrap_in_parallel(np.angle(cropped_aligned_volume))"
   ]
  },
  {
   "cell_type": "code",
   "execution_count": null,
   "id": "eea29cd5-c53e-433a-9175-13b7ce708d90",
   "metadata": {
    "tags": []
   },
   "outputs": [],
   "source": [
    "equalized_sinogram = equalize_frames_parallel(unwrapped_sinogram,dic[\"equalize_invert\"],dic[\"equalize_gradient\"],dic[\"equalize_outliers\"],dic[\"equalize_global_offset\"], dic[\"equalize_local_offset\"])"
   ]
  },
  {
   "cell_type": "code",
   "execution_count": null,
   "id": "45858324-8174-4325-b1c3-6be5b434b6b5",
   "metadata": {
    "tags": []
   },
   "outputs": [],
   "source": [
    "sscCdi.misc.deploy_visualizer(equalized_sinogram[10:500],title='sample',cmap='gray')"
   ]
  },
  {
   "cell_type": "code",
   "execution_count": null,
   "id": "a43589bd-f64d-44d0-bbc7-c20ffb4d85c3",
   "metadata": {
    "tags": []
   },
   "outputs": [],
   "source": [
    "sscCdi.misc.deploy_visualizer(equalized_sinogram,title='sample',cmap='gray',axis=1)"
   ]
  },
  {
   "cell_type": "code",
   "execution_count": null,
   "id": "43673d43-3a20-413a-a9ef-798d7ce312f3",
   "metadata": {
    "tags": []
   },
   "outputs": [],
   "source": [
    "def plot_volume_histogram(volume,bins=100):\n",
    "    \n",
    "    maximum = np.max(volume)\n",
    "    minimum = np.min(volume)\n",
    "    mean    = np.mean(volume)\n",
    "    stddev  = np.std(volume)\n",
    "    \n",
    "    fig, ax = plt.subplots()\n",
    "    ax.hist(volume.flatten(),bins=bins)\n",
    "    ax.grid()\n",
    "    ax.set_title(f'Max={maximum:.2f}   Min={minimum:.2f}   Mean={mean:.2f}   StdDev={stddev:.2f}')\n",
    "    \n",
    "plot_volume_histogram(equalized_sinogram)"
   ]
  },
  {
   "cell_type": "code",
   "execution_count": null,
   "id": "61939941-ea3d-4720-8ef1-b6577d276f7c",
   "metadata": {
    "tags": []
   },
   "outputs": [],
   "source": [
    "sscCdi.misc.deploy_visualizer(equalized_sinogram,title='sample',cmap='gray',axis=2)"
   ]
  },
  {
   "cell_type": "code",
   "execution_count": null,
   "id": "42d73ec2-a3dd-4233-8c17-da2fa9db4d0e",
   "metadata": {
    "tags": []
   },
   "outputs": [],
   "source": [
    "def plot_sinogram_slices(sinogram,cmap='gray'):\n",
    "    shape = sinogram.shape\n",
    "    fig, ax = plt.subplots(1,2,figsize=(20,5))\n",
    "    ax[0].imshow(sinogram[:,shape[1]//2,:],cmap=cmap)\n",
    "    ax[1].imshow(sinogram[:,:,shape[2]//2],cmap=cmap)    \n",
    "    \n",
    "plot_sinogram_slices(equalized_sinogram)"
   ]
  },
  {
   "cell_type": "markdown",
   "id": "0027ca2f-4e5a-42eb-8317-862c121b6cef",
   "metadata": {},
   "source": [
    "## Vertical mass fluctuation"
   ]
  },
  {
   "cell_type": "code",
   "execution_count": null,
   "id": "15bce339-3171-4110-9c02-eb9770a2774d",
   "metadata": {
    "tags": []
   },
   "outputs": [],
   "source": [
    "aligned_volume2 = alignment_vertical_mass_fluctuation(cropped_aligned_volume, use_phase_gradient = False, plot = True)"
   ]
  },
  {
   "cell_type": "code",
   "execution_count": null,
   "id": "74862f55-c09a-4e51-b008-8cac4fcac017",
   "metadata": {},
   "outputs": [],
   "source": [
    "sscCdi.misc.deploy_visualizer(np.angle(aligned_volume2),title='sample',cmap='gray')"
   ]
  },
  {
   "cell_type": "code",
   "execution_count": null,
   "id": "cea40bed-c979-4a09-961d-488f7bae1cbb",
   "metadata": {
    "tags": []
   },
   "outputs": [],
   "source": [
    "sscCdi.misc.deploy_visualizer(np.angle(aligned_volume2),title='sample',cmap='gray',axis=2)"
   ]
  },
  {
   "cell_type": "code",
   "execution_count": null,
   "id": "1db25204-561b-4bfb-b5d2-b8834b3fae1e",
   "metadata": {},
   "outputs": [],
   "source": [
    "sscCdi.misc.deploy_visualizer(np.angle(cropped_aligned_volume),title='sample',cmap='gray',axis=2)"
   ]
  },
  {
   "cell_type": "code",
   "execution_count": null,
   "id": "e84a421e-dfcb-4616-8ae3-2d6fdfd34a75",
   "metadata": {
    "tags": []
   },
   "outputs": [],
   "source": [
    "unwrapped_volume = unwrap_in_parallel(np.angle(aligned_volume2))\n",
    "unwrapped_volume = unwrapped_volume[:,100::,:]\n",
    "\n",
    "sscCdi.misc.deploy_visualizer(unwrapped_volume,title='sample',cmap='gray')"
   ]
  },
  {
   "cell_type": "code",
   "execution_count": null,
   "id": "26455ded-28bc-4853-9c45-c3cd9e2d2953",
   "metadata": {
    "tags": []
   },
   "outputs": [],
   "source": [
    "dic = {}\n",
    "dic[\"bad_frames_before_unwrap\"] = []#[28,30,45,49,65,66,91,113]\n",
    "dic[\"equalize_gradient\"] = [True,[1400,1500,0,1500],0]\n",
    "dic[\"equalize_global_offset\"] = False\n",
    "dic[\"equalize_invert\"] = True\n",
    "dic[\"equalize_local_offset\"] = [1400,1500,0,1500]\n",
    "dic[\"equalize_outliers\"] = 0\n",
    "\n",
    "# equalized_sinogram = equalize_frames_parallel(unwrapped_volume,dic[\"equalize_invert\"],dic[\"equalize_gradient\"],dic[\"equalize_outliers\"],dic[\"equalize_global_offset\"], dic[\"equalize_local_offset\"])\n",
    "# sscCdi.misc.deploy_visualizer(equalized_sinogram,title='sample',cmap='gray')"
   ]
  },
  {
   "cell_type": "code",
   "execution_count": null,
   "id": "2a262c8a-8e0e-48b1-b84b-64269d872976",
   "metadata": {
    "tags": []
   },
   "outputs": [],
   "source": [
    "sscCdi.misc.deploy_visualizer(equalized_sinogram,title='sample',cmap='gray',axis=2)"
   ]
  },
  {
   "cell_type": "code",
   "execution_count": null,
   "id": "5cb6807a-95d6-4595-b700-268cf298604d",
   "metadata": {
    "tags": []
   },
   "outputs": [],
   "source": [
    "sscCdi.misc.deploy_visualizer(equalized_sinogram,title='sample',cmap='gray',axis=1)"
   ]
  },
  {
   "cell_type": "code",
   "execution_count": null,
   "id": "32911f20-b109-47f5-bedd-190509c9ac0e",
   "metadata": {
    "tags": []
   },
   "outputs": [],
   "source": []
  },
  {
   "cell_type": "code",
   "execution_count": null,
   "id": "050725e9-dfed-46ad-91c5-3a9eb37cce9a",
   "metadata": {},
   "outputs": [],
   "source": []
  }
 ],
 "metadata": {
  "kernelspec": {
   "display_name": "Python 3 (ipykernel)",
   "language": "python",
   "name": "python3"
  },
  "language_info": {
   "codemirror_mode": {
    "name": "ipython",
    "version": 3
   },
   "file_extension": ".py",
   "mimetype": "text/x-python",
   "name": "python",
   "nbconvert_exporter": "python",
   "pygments_lexer": "ipython3",
   "version": "3.9.2"
  }
 },
 "nbformat": 4,
 "nbformat_minor": 5
}
