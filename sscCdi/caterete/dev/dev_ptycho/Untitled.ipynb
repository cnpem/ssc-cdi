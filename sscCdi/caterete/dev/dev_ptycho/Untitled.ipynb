{
 "cells": [
  {
   "cell_type": "code",
   "execution_count": 50,
   "id": "f9b31a06-f5cc-47be-804d-76d8fc026ac1",
   "metadata": {
    "tags": []
   },
   "outputs": [
    {
     "data": {
      "text/plain": [
       "(1, 2561, 2561)"
      ]
     },
     "execution_count": 50,
     "metadata": {},
     "output_type": "execute_result"
    }
   ],
   "source": [
    "np.load(\"/ibira/lnls/beamlines/caterete/apps/gcc-jupyter/00000000/proc/recons/SS03112022_02/used_init_probe.npy\").shape"
   ]
  },
  {
   "cell_type": "code",
   "execution_count": null,
   "id": "0cd702d1-2661-4005-85e1-f1b436721b47",
   "metadata": {
    "tags": []
   },
   "outputs": [
    {
     "name": "stdout",
     "output_type": "stream",
     "text": [
      "{'path': ['/ibira/lnls/beamlines/caterete/apps/gcc-jupyter/00000000/data/ptycho2d/SS03112022_02/scans/0000_SS03112022_02_001.hdf5'], 'outpath': '/ibira/lnls/beamlines/caterete/apps/gcc-jupyter/00000000/proc/recons/SS03112022_02/temp', 'order': 'yx', 'rank': 'ztyx', 'dataset': 'entry/data/data', 'gpus': [0, 1], 'init': 0, 'final': -1, 'saving': 1, 'timing': 0, 'blocksize': 10, 'center': (1383, 1418), 'roi': 1280}\n"
     ]
    }
   ],
   "source": [
    "import numpy as np\n",
    "from sscPimega import pi540D\n",
    "from sscCdi import read_hdf5, Geometry\n",
    "\n",
    "input_dict = {}\n",
    "input_dict[\"temporary_output\"] = \"/ibira/lnls/beamlines/caterete/apps/gcc-jupyter/00000000/proc/recons/SS03112022_02/temp\"\n",
    "input_dict[\"GPUs\"] = [0,1,2]\n",
    "input_dict[\"DP_center\"] = [1418,1383]\n",
    "input_dict[\"detector_ROI_radius\"] = 1280\n",
    "input_dict[\"flatfield\"] = \"/ibira/lnls/beamlines/caterete/apps/gcc-jupyter/00000000/data/ptycho2d/SS03112022_02/images/flat.hdf5\"\n",
    "input_dict[\"mask\"] = \"/ibira/lnls/beamlines/caterete/apps/gcc-jupyter/00000000/data/ptycho2d/SS03112022_02/images/mask.hdf5\"\n",
    "input_dict[\"detector_distance\"] = 14.000035595703125\n",
    "input_dict[\"suspect_border_pixels\"] = 3 \n",
    "input_dict[\"fill_blanks\"] = False\n",
    "\n",
    "geometry, params = Geometry(input_dict[\"detector_distance\"]*1000,susp=input_dict[\"suspect_border_pixels\"],fill=input_dict[\"fill_blanks\"]) # distance in milimeters\n",
    "\n",
    "dic = {}\n",
    "# dic['path']     = [\"/ibira/lnls/beamlines/caterete/apps/gcc-jupyter/00000000/data/ptycho2d/SS03112022_02/scans/0000_SS03112022_02_001.hdf5\"]\n",
    "dic['path'] = [\"/home/ABTLUS/yuri.tonin/test/ex.py\"]\n",
    "dic['outpath']  = \"/home/ABTLUS/yuri.tonin/test/\" #input_dict[\"temporary_output\"]\n",
    "dic['order']    = \"yx\" \n",
    "dic['rank']     = \"ztyx\" # order of axis\n",
    "dic['dataset']  = \"entry/data/data\"\n",
    "dic['gpus']     = input_dict[\"GPUs\"]\n",
    "dic['init']     = 0\n",
    "dic['final']    = -1 # -1 to use all DPs\n",
    "dic['saving']   = 1  # save or not\n",
    "dic['timing']   = 0  # print timers \n",
    "dic['blocksize']= 10\n",
    "dic['center']   = (input_dict[\"DP_center\"][1],input_dict[\"DP_center\"][0]) # [1400,1400]\n",
    "dic['roi'] = input_dict[\"detector_ROI_radius\"] # integer\n",
    "if 1: \n",
    "    print(dic)\n",
    "    dic['flat'] = np.ones([3072, 3072]) \n",
    "    dic['mask'] = np.zeros([3072, 3072])\n",
    "else:\n",
    "    dic['flat'] = read_hdf5(input_dict[\"flatfield\"])[()][0, 0, :, :] # np.ones([3072, 3072]) #\n",
    "    dic['mask'] = read_hdf5(input_dict[\"mask\"])[()][0, 0, :, :] # np.zeros([3072, 3072])\n",
    "dic['empty']    = np.zeros_like(dic['flat']) # OBSOLETE! empty is not used anymore;        dic['daxpy']    = [0,np.zeros([3072,3072])] \n",
    "dic['daxpy']    = [0,np.zeros([3072,3072])] \n",
    "dic['geometry'] = geometry\n",
    "\n",
    "dic['path'] = dic['path'][0]\n",
    "restored_data_info = pi540D.ioSet_Backward540D( dic )\n",
    "    \n",
    "DPs = pi540D.ioGetM_Backward540D( dic, restored_data_info, 0)\n"
   ]
  },
  {
   "cell_type": "code",
   "execution_count": 3,
   "id": "80043d6a-8c66-4e21-a025-cc0e9ba22645",
   "metadata": {
    "tags": []
   },
   "outputs": [],
   "source": [
    "import h5py\n",
    "path = \"/ibira/lnls/beamlines/caterete/apps/gcc-jupyter/00000000/data/ptycho2d/SS03112022_02/images/mask.hdf5\"\n",
    "file = h5py.File(path,'r')\n",
    "mask = file['entry/data/data'][0][0]"
   ]
  },
  {
   "cell_type": "code",
   "execution_count": null,
   "id": "8871c44a-ba13-4582-8e90-60d702e40753",
   "metadata": {},
   "outputs": [
    {
     "data": {
      "text/plain": [
       "(3072, 3072)"
      ]
     },
     "execution_count": 24,
     "metadata": {},
     "output_type": "execute_result"
    }
   ],
   "source": [
    "path_empty = \"/ibira/lnls/beamlines/caterete/apps/gcc-jupyter/00000000/data/ptycho2d/SS03112022_02/images/empty.hdf5\"\n",
    "file = h5py.File(path_empty,'r')\n",
    "empty = np.asarray(file['entry/data/data'])[0][0]\n",
    "empty.shape"
   ]
  },
  {
   "cell_type": "code",
   "execution_count": 42,
   "id": "ef90b5aa-262d-4b5b-bfc3-42131e7f1b1b",
   "metadata": {},
   "outputs": [
    {
     "data": {
      "text/plain": [
       "False"
      ]
     },
     "execution_count": 42,
     "metadata": {},
     "output_type": "execute_result"
    }
   ],
   "source": [
    "path_flat = \"/ibira/lnls/beamlines/caterete/apps/gcc-jupyter/00000000/data/ptycho2d/SS03112022_02/images/flat.hdf5\"\n",
    "file = h5py.File(path_flat,'r')\n",
    "flat = np.asarray(file['entry/data/data'])[0][0]\n",
    "flat.shape"
   ]
  },
  {
   "cell_type": "code",
   "execution_count": 4,
   "id": "5157542a-cc4d-4de5-ab92-54090b5bd054",
   "metadata": {},
   "outputs": [
    {
     "name": "stdout",
     "output_type": "stream",
     "text": [
      "(3072, 3072)\n"
     ]
    }
   ],
   "source": [
    "path = \"/ibira/lnls/beamlines/caterete/apps/gcc-jupyter/00000000/proc/recons/SS03112022_02/2023-04-12-11h31m_SS03112022_02.hdf5\"\n",
    "file = h5py.File(path,'r')\n",
    "DP = np.asarray(file['log/raw_DP_avg'])\n",
    "print(DP.shape)\n",
    "DP2 = DP.copy()"
   ]
  },
  {
   "cell_type": "code",
   "execution_count": null,
   "id": "745151d2-7291-4032-8d7b-e90429e884a5",
   "metadata": {},
   "outputs": [
    {
     "name": "stdout",
     "output_type": "stream",
     "text": [
      "(1, 3072, 3072)\n"
     ]
    }
   ],
   "source": [
    "path_data = \"/ibira/lnls/beamlines/caterete/apps/gcc-jupyter/00000000/data/ptycho2d/SS03112022_02/scans/0000_SS03112022_02_001.hdf5\"\n",
    "file = h5py.File(path_data,'r')\n",
    "data = np.asarray(file['entry/data/data'])[0]\n",
    "print(data.shape)"
   ]
  },
  {
   "cell_type": "code",
   "execution_count": null,
   "id": "363a631e-b307-4925-a8f2-4480212f2758",
   "metadata": {
    "tags": []
   },
   "outputs": [],
   "source": [
    "path1 = \"/ibira/lnls/beamlines/caterete/apps/gcc-jupyter/00000000/proc/recons/SS03112022_02/used_DPs.npy\"\n",
    "path2 = \"/ibira/lnls/beamlines/caterete/apps/gcc-jupyter/00000000/proc/recons/SS03112022_02/best/used_DPs.npy\"\n",
    "\n",
    "import numpy as np\n",
    "import matplotlib.pyplot as plt\n",
    "%matplotlib widget\n",
    "from matplotlib.colors import LogNorm\n",
    "from sscPimega import opt540D, pi540D\n",
    "new = np.load(path1)\n",
    "old = np.load(path2)\n",
    "print(new.shape, old.shape)\n",
    "N = 622\n",
    "for i in range(new.shape[0]):\n",
    "    # print(i, np.max(new[i]),np.min(new[i]),np.mean(new[i]), new.shape)\n",
    "    if np.max(new[i]) == 0: print(i)\n",
    "\n",
    "new = new[N]\n",
    "old = old[N]\n",
    "print(new.shape,old.shape)\n",
    "fig, ax = plt.subplots(1,2,dpi=300)\n",
    "ax0, ax1= ax.ravel()\n",
    "# ax0.imshow(new,norm=LogNorm())\n",
    "\n",
    "new2 = new.copy()\n",
    "diff = new2 - old\n",
    "center = 1280\n",
    "L = 50\n",
    "# diff = diff[center-L:center+L,center-L:center+L]\n",
    "new = new[center-L:center+L,center-L:center+L]\n",
    "old = old[center-L:center+L,center-L:center+L]\n",
    "# ax0.imshow(diff)\n",
    "ax0.imshow(new)#,norm=LogNorm())\n",
    "ax1.imshow(old)#,norm=LogNorm())\n",
    "# ax2.imshow(new_mean,norm=LogNorm())\n",
    "# ax3.imshow(old_mean,norm=LogNorm())"
   ]
  },
  {
   "cell_type": "code",
   "execution_count": 48,
   "id": "b972673d-3b8f-445a-b2b0-e854c47d9b6b",
   "metadata": {
    "tags": []
   },
   "outputs": [],
   "source": [
    "l = [8,18,28,38,48,58,68,78,88,98,108,118,128,138,148,158,168,178,188,198,208,218,228,238,248,258,268,278,288,298,308,318,328,338,348,358,368,378,388,398,408,418,428,438,448,458,468,478,488,498,508,518,528,538,548,558,568,578,588,598,608,618,619,620,621,622,623]"
   ]
  },
  {
   "cell_type": "code",
   "execution_count": 50,
   "id": "d02fa74e-f261-4a6d-a6eb-d7bf62c4e6ab",
   "metadata": {
    "tags": []
   },
   "outputs": [
    {
     "data": {
      "text/plain": [
       "(1689, 1654)"
      ]
     },
     "execution_count": 50,
     "metadata": {},
     "output_type": "execute_result"
    }
   ],
   "source": [
    "3072-1383, 3072-1418"
   ]
  },
  {
   "cell_type": "code",
   "execution_count": null,
   "id": "d8d80467-c182-4935-add6-187a2ce23760",
   "metadata": {},
   "outputs": [],
   "source": []
  }
 ],
 "metadata": {
  "kernelspec": {
   "display_name": "Python 3 (ipykernel)",
   "language": "python",
   "name": "python3"
  },
  "language_info": {
   "codemirror_mode": {
    "name": "ipython",
    "version": 3
   },
   "file_extension": ".py",
   "mimetype": "text/x-python",
   "name": "python",
   "nbconvert_exporter": "python",
   "pygments_lexer": "ipython3",
   "version": "3.9.2"
  }
 },
 "nbformat": 4,
 "nbformat_minor": 5
}
