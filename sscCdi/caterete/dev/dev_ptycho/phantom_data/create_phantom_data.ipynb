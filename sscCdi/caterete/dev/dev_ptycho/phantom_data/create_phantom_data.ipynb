{
 "cells": [
  {
   "cell_type": "code",
   "execution_count": 2,
   "id": "85aa7d33-1e8f-4319-adc4-744ed95c75d2",
   "metadata": {
    "tags": []
   },
   "outputs": [],
   "source": [
    "import matplotlib.pyplot as plt\n",
    "import matplotlib\n",
    "import numpy as np\n",
    "\n",
    "from skimage import data\n",
    "\n",
    "caller = getattr(data, 'camera')\n",
    "magnitude = caller()\n",
    "\n",
    "caller = getattr(data, 'gravel')\n",
    "phase = caller()"
   ]
  },
  {
   "cell_type": "code",
   "execution_count": null,
   "id": "588e173b-9635-47a1-8cc6-c47e78dadf8d",
   "metadata": {},
   "outputs": [],
   "source": []
  }
 ],
 "metadata": {
  "kernelspec": {
   "display_name": "Python 3 (ipykernel)",
   "language": "python",
   "name": "python3"
  },
  "language_info": {
   "codemirror_mode": {
    "name": "ipython",
    "version": 3
   },
   "file_extension": ".py",
   "mimetype": "text/x-python",
   "name": "python",
   "nbconvert_exporter": "python",
   "pygments_lexer": "ipython3",
   "version": "3.9.2"
  }
 },
 "nbformat": 4,
 "nbformat_minor": 5
}
