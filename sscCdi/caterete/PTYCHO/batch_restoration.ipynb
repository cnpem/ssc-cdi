{
 "cells": [
  {
   "cell_type": "markdown",
   "metadata": {},
   "source": [
    "# Restoration\n",
    "\n",
    " - Goal: Restore raw detector data, process it and save it for users that want to take home the data!"
   ]
  },
  {
   "cell_type": "markdown",
   "metadata": {},
   "source": [
    "## Read data batch with sscIO, apply corrections (empty, flatfield, mask) and restore data"
   ]
  },
  {
   "cell_type": "code",
   "execution_count": 9,
   "metadata": {},
   "outputs": [],
   "source": [
    "from sscCdi.caterete.ptycho_restauration import restauration_processing_binning\n",
    "import json\n",
    "import numpy as np\n",
    "\n",
    "def read_diffraction_patterns(path,jason):\n",
    "\n",
    "    os.system(f\"h5clear -s {path}\") # gambiarra because file is not closed at the backend!\n",
    "    os.system(f\"h5clear -s {jason['EmptyFrame']}\") # gambiarra because file is not closed at the backend!\n",
    "\n",
    "    \"\"\" Read raw data \"\"\"\n",
    "    raw_difpads,_ = io.read_volume(path, 'numpy', use_MPI=True, nprocs=jason[\"Threads\"])\n",
    "\n",
    "    \"\"\" Get inputs from json file \"\"\"\n",
    "    z1 = float(jason[\"DetDistance\"]) * 1000  # Here comes the distance Geometry(Z1):\n",
    "\n",
    "    empty = np.asarray(h5py.File(jason['EmptyFrame'], 'r')['/entry/data/data']).squeeze().astype(np.float32)\n",
    "\n",
    "    flat = np.array(h5py.File(jason[\"FlatField\"], 'r')['entry/data/data'][()][0, 0, :, :])\n",
    "    flat[np.isnan(flat)] = -1\n",
    "    flat[flat == 0] = 1\n",
    "\n",
    "    mask = h5py.File(jason[\"Mask\"], 'r')['entry/data/data'][()][0, 0, :, :]\n",
    "\n",
    "    centerx, centery = center\n",
    "    hsize = jason['DetectorROI']   \n",
    "    Binning = int(jason['Binning'])\n",
    "\n",
    "    \"\"\" Get detector geometry from distance \"\"\"\n",
    "    geometry = Geometry(z1)\n",
    "\n",
    "    \"\"\" Call corrections and restoration \"\"\"\n",
    "    r_params = (Binning, empty, flat, centerx, centery, hsize, geometry, mask, jason)\n",
    "    output, _ = pi540D.backward540D_nonplanar_batch(raw_difpads, z1, jason['Threads'], [ hsize//2 , hsize//2 ], restauration_processing_binning,  r_params, 'only') # Apply empty, flatfield, mask and restore!\n",
    "\n",
    "    \"\"\" How the correction are made prior to restoration:\n",
    "    \n",
    "        img[empty > 1] = -1 # Apply empty \n",
    "        img = img * np.squeeze(flat) # Apply flatfield\n",
    "        img[np.abs(mask) ==1] = -1   # Apply Mask\n",
    "        img = img[cy - hsize:cy + hsize, cx - hsize:cx + hsize] # Center data\n",
    "\n",
    "    \"\"\"\n",
    "    return output\n"
   ]
  },
  {
   "cell_type": "markdown",
   "metadata": {},
   "source": [
    "### Inputs"
   ]
  },
  {
   "cell_type": "code",
   "execution_count": null,
   "metadata": {},
   "outputs": [],
   "source": [
    "jason = json.load(open(\"ptycho_input_json_example.json\"))\n",
    "path = \"path/to/diffraction_pattern/file.hdf5\"\n",
    "path_to_save = \"path/to/output/savefile.hdf5\""
   ]
  },
  {
   "cell_type": "markdown",
   "metadata": {},
   "source": [
    "### Call function"
   ]
  },
  {
   "cell_type": "code",
   "execution_count": null,
   "metadata": {},
   "outputs": [],
   "source": [
    "processed_data = read_diffraction_patterns(path,jason)"
   ]
  },
  {
   "cell_type": "markdown",
   "metadata": {},
   "source": [
    "## Save corrected+restored data in hdf5 for the user"
   ]
  },
  {
   "cell_type": "code",
   "execution_count": 10,
   "metadata": {},
   "outputs": [],
   "source": [
    "#TODO: implement save function"
   ]
  }
 ],
 "metadata": {
  "kernelspec": {
   "display_name": "Python 3",
   "language": "python",
   "name": "python3"
  },
  "language_info": {
   "codemirror_mode": {
    "name": "ipython",
    "version": 3
   },
   "file_extension": ".py",
   "mimetype": "text/x-python",
   "name": "python",
   "nbconvert_exporter": "python",
   "pygments_lexer": "ipython3",
   "version": "3.6.9"
  }
 },
 "nbformat": 4,
 "nbformat_minor": 4
}
