{
 "cells": [
  {
   "cell_type": "markdown",
   "metadata": {},
   "source": [
    "# GCC's ssc-cdi : Ptychography Interface for Cateretê, v2.1.1\n",
    " \n",
    "- #### ATTENTION: if you are running this for the first time, packages can be installed by setting install_packages = True\n",
    "- #### To visualize outputs in real time, open the log console at: View > Show Log Console\n",
    "- #### Questions? E-mail gcc@lnls.br\n",
    "- #### Installation and User guide [available here](https://10.10.10.141/ssc/wiki/). \n",
    "- #### Documentation about the ssc-cdi package: https://gcc.lnls.br/ssc/ssc-cdi/index.html\n",
    "- #### For a test sample use:\n",
    "    - Proposal path = /ibira/lnls/beamlines/caterete/apps/jupyter/00000000/data/ptycho2d/\n",
    "    - Data Folders = ['SS61']\n",
    "    - Projections = [0]\n",
    "- #### About sscPimega:\n",
    "    - Measurements done up to July 1st, 2022: use version sscPimega = '0.0.4'\n",
    "    - Measurements made between July 2nd and October 23rd, 2022: use version sscPimega = '0.0.6'\n",
    "    - Measurements made from October 24th, 2022: use version sscPimega = '0.1.1'"
   ]
  },
  {
   "cell_type": "code",
   "execution_count": 1,
   "metadata": {},
   "outputs": [
    {
     "name": "stdin",
     "output_type": "stream",
     "text": [
      "Username: yuri.tonin\n"
     ]
    },
    {
     "name": "stdout",
     "output_type": "stream",
     "text": [
      "Password:\n"
     ]
    },
    {
     "name": "stdin",
     "output_type": "stream",
     "text": [
      " ············\n"
     ]
    },
    {
     "name": "stdout",
     "output_type": "stream",
     "text": [
      "/home/ABTLUS/yuri.tonin/.local/lib/python3.6/site-packages/sscCdi-0.3.4-py3.6-linux-ppc64le.egg/sscCdi\n",
      "to be done!\n",
      "/home/ABTLUS/yuri.tonin/.local/lib/python3.6/site-packages/sscRaft/lib/libraft.cpython-36m-powerpc64le-linux-gnu.so\n"
     ]
    },
    {
     "data": {
      "application/vnd.jupyter.widget-view+json": {
       "model_id": "1318b8c776af41fbaf4fde34ce362ba1",
       "version_major": 2,
       "version_minor": 0
      },
      "text/plain": [
       "VBox(children=(HBox(children=(RadioButtons(description='Machine', index=1, layout=Layout(width='10%'), options…"
      ]
     },
     "metadata": {},
     "output_type": "display_data"
    },
    {
     "data": {
      "application/vnd.jupyter.widget-view+json": {
       "model_id": "23d8424caf564d25bc348b7c2f16eb59",
       "version_major": 2,
       "version_minor": 0
      },
      "text/plain": [
       "Tab(children=(Box(children=(Box(children=(HTML(value=\"<b style='color:#00008B;font-size:18px;'>Data Selection<…"
      ]
     },
     "metadata": {},
     "output_type": "display_data"
    }
   ],
   "source": [
    "install_packages = False\n",
    "%matplotlib widget\n",
    "import sscInstall, os\n",
    "server = sscInstall.connect_server()\n",
    "if install_packages:\n",
    "    print(\"The kernel will restart after installation. Please run the cell again using install_packages = False\")\n",
    "    sscInstall.install_jupyter(server,beamline='caterete',sscCdi='0.3.3',sscPtycho='1.0.2',sscPimega='0.1.1',sscRaft='1.0.3',sscRadon='1.0.0',sscResolution='1.2.3')\n",
    "    os._exit(00) # shutdown kernel. Required to import new installed packages\n",
    "from sscCdi import jupyter, ptycho_jupyter\n",
    "header,tabs, input_variables_dict = ptycho_jupyter.deploy_tabs(server)\n",
    "display(header,tabs)\n",
    "\n",
    "# /ibira/lnls/beamlines/caterete/proposals/20210160/data/ptycho3d/\n",
    "# 'glass21'"
   ]
  },
  {
   "cell_type": "code",
   "execution_count": 2,
   "metadata": {},
   "outputs": [
    {
     "data": {
      "text/plain": [
       "{'ProposalPath': '/ibira/lnls/beamlines/caterete/proposals/20210160/data/ptycho3d/',\n",
       " 'Acquisition_Folders': ['glass21'],\n",
       " 'Projections': [1],\n",
       " 'beamline': 'CAT',\n",
       " 'GPUs': [0],\n",
       " 'Threads': 32,\n",
       " 'SerialRestauration': True,\n",
       " 'OldRestauration': True,\n",
       " 'DifpadCenter': [1345, 1375],\n",
       " 'DetectorROI': 1280,\n",
       " 'Binning': 4,\n",
       " 'ChipBorderRemoval': 5,\n",
       " 'AutoCrop': False,\n",
       " 'DetectorExposure': [False, 10.0],\n",
       " 'CentralMask': [False, 3],\n",
       " 'ProbeSupport': [300, 0, 0],\n",
       " 'f1': -0.001,\n",
       " 'Modes': 0,\n",
       " 'Phaseunwrap': [False, 3, [], []],\n",
       " 'FRC': False,\n",
       " 'Preview': True,\n",
       " 'SaveDifpads': 1,\n",
       " 'ReadRestauredDifpads': 0,\n",
       " 'SaveComplexObject': True,\n",
       " 'SaveObj': True,\n",
       " 'SaveProbe': True,\n",
       " 'InitialObj': '',\n",
       " 'InitialProbe': '',\n",
       " 'Algorithm1': {'Name': 'RAAR',\n",
       "  'Iterations': 100,\n",
       "  'TV': 0,\n",
       "  'Epsilon': 0.01,\n",
       "  'Beta': 0.995,\n",
       "  'ProbeCycles': 4,\n",
       "  'Batch': 64},\n",
       " 'Algorithm2': {'Name': 'GL',\n",
       "  'Iterations': 150,\n",
       "  'TV': 0.0001,\n",
       "  'Epsilon': 0.01,\n",
       "  'ObjBeta': 0.97,\n",
       "  'ProbeBeta': 0.95,\n",
       "  'Batch': 64},\n",
       " 'Algorithm3': {'Name': 'GL',\n",
       "  'Iterations': 10,\n",
       "  'TV': 0.001,\n",
       "  'Epsilon': 0.1,\n",
       "  'ProbeBeta': 0.5,\n",
       "  'ObjBeta': 0.5,\n",
       "  'Batch': 64},\n",
       " 'PreviewGCC': [False, ''],\n",
       " 'Seed': 10,\n",
       " '00_versions': 'sscCdi=0.3.4,sscPimega=0.1.1,sscResolution=1.2.3,sscRaft=1.0.3,sscRadon=1.0.0'}"
      ]
     },
     "execution_count": 2,
     "metadata": {},
     "output_type": "execute_result"
    }
   ],
   "source": [
    "input_variables_dict"
   ]
  }
 ],
 "metadata": {
  "kernelspec": {
   "display_name": "Python 3",
   "language": "python",
   "name": "python3"
  },
  "language_info": {
   "codemirror_mode": {
    "name": "ipython",
    "version": 3
   },
   "file_extension": ".py",
   "mimetype": "text/x-python",
   "name": "python",
   "nbconvert_exporter": "python",
   "pygments_lexer": "ipython3",
   "version": "3.6.9"
  }
 },
 "nbformat": 4,
 "nbformat_minor": 4
}
