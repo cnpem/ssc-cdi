{
 "cells": [
  {
   "cell_type": "markdown",
   "metadata": {},
   "source": [
    "# GCC's ssc-cdi : Ptychography Interface for Cateretê, v2.1.1\n",
    " \n",
    "- #### ATTENTION: if you are running this for the first time, packages can be installed by setting install_packages = True\n",
    "- #### To visualize outputs in real time, open the log console at: View > Show Log Console\n",
    "- #### Questions? E-mail gcc@lnls.br\n",
    "- #### Installation and User guide [available here](https://10.10.10.141/ssc/wiki/). \n",
    "- #### Documentation about the ssc-cdi package: https://gcc.lnls.br/ssc/ssc-cdi/index.html\n",
    "- #### For a test sample use:\n",
    "    - Proposal path = /ibira/lnls/beamlines/caterete/apps/jupyter/00000000/data/ptycho2d/\n",
    "    - Data Folders = ['SS61']\n",
    "    - Projections = [0]\n",
    "- #### About sscPimega:\n",
    "    - Measurements done up to July 1st, 2022: use version sscPimega = '0.0.4'\n",
    "    - Measurements made between July 2nd and October 23rd, 2022: use version sscPimega = '0.0.6'\n",
    "    - Measurements made from October 24th, 2022: use version sscPimega = '0.1.1'"
   ]
  },
  {
   "cell_type": "code",
   "execution_count": 1,
   "metadata": {},
   "outputs": [
    {
     "name": "stdin",
     "output_type": "stream",
     "text": [
      "Username: yuri.tonin\n"
     ]
    },
    {
     "name": "stdout",
     "output_type": "stream",
     "text": [
      "Password:\n"
     ]
    },
    {
     "name": "stdin",
     "output_type": "stream",
     "text": [
      " ············\n"
     ]
    },
    {
     "name": "stdout",
     "output_type": "stream",
     "text": [
      "/home/ABTLUS/yuri.tonin/.local/lib/python3.6/site-packages/sscCdi-0.3.4-py3.6-linux-ppc64le.egg/sscCdi\n",
      "to be done!\n",
      "/home/ABTLUS/yuri.tonin/.local/lib/python3.6/site-packages/sscRaft/lib/libraft.cpython-36m-powerpc64le-linux-gnu.so\n"
     ]
    },
    {
     "data": {
      "application/vnd.jupyter.widget-view+json": {
       "model_id": "935cae5b8bc543e9b2c451a0a2d47526",
       "version_major": 2,
       "version_minor": 0
      },
      "text/plain": [
       "VBox(children=(HBox(children=(RadioButtons(description='Machine', index=1, layout=Layout(width='10%'), options…"
      ]
     },
     "metadata": {},
     "output_type": "display_data"
    },
    {
     "data": {
      "application/vnd.jupyter.widget-view+json": {
       "model_id": "86a7fe12b7f9461ca7aeaff3f68e561c",
       "version_major": 2,
       "version_minor": 0
      },
      "text/plain": [
       "Tab(children=(Box(children=(Box(children=(HTML(value=\"<b style='color:#00008B;font-size:18px;'>Data Selection<…"
      ]
     },
     "metadata": {},
     "output_type": "display_data"
    }
   ],
   "source": [
    "install_packages = False\n",
    "%matplotlib widget\n",
    "import sscInstall, os\n",
    "server = sscInstall.connect_server()\n",
    "if install_packages:\n",
    "    print(\"The kernel will restart after installation. Please run the cell again using install_packages = False\")\n",
    "    sscInstall.install_jupyter(server,beamline='caterete',sscCdi='0.3.3',sscPtycho='1.0.2',sscPimega='0.1.1',sscRaft='1.0.3',sscRadon='1.0.0',sscResolution='1.2.3')\n",
    "    os._exit(00) # shutdown kernel. Required to import new installed packages\n",
    "from sscCdi import jupyter, ptycho_jupyter\n",
    "header,tabs, input_variables_dict = ptycho_jupyter.deploy_tabs(server)\n",
    "display(header,tabs)\n",
    "\n",
    "# /ibira/lnls/beamlines/caterete/proposals/20210160/data/ptycho3d/\n",
    "# 'glass21'\n",
    "\n",
    "# /ibira/lnls/beamlines/caterete/proposals/20221482/data/ptycho3d/\n",
    "# m1_wet_01\n"
   ]
  },
  {
   "cell_type": "code",
   "execution_count": 2,
   "metadata": {},
   "outputs": [],
   "source": [
    "# import numpy as np\n",
    "# import matplotlib.pyplot as plt\n",
    "# from matplotlib.colors import LogNorm\n",
    "# path = \"/ibira/lnls/beamlines/caterete/proposals/20210160/proc/recons/glass21/03_difpad_restaured_flipped_cropped.npy\"\n",
    "# dp = np.load(path)\n",
    "# plt.imshow(dp,norm=LogNorm())\n",
    "# plt.show()"
   ]
  },
  {
   "cell_type": "code",
   "execution_count": null,
   "metadata": {},
   "outputs": [],
   "source": []
  }
 ],
 "metadata": {
  "kernelspec": {
   "display_name": "Python 3",
   "language": "python",
   "name": "python3"
  },
  "language_info": {
   "codemirror_mode": {
    "name": "ipython",
    "version": 3
   },
   "file_extension": ".py",
   "mimetype": "text/x-python",
   "name": "python",
   "nbconvert_exporter": "python",
   "pygments_lexer": "ipython3",
   "version": "3.6.9"
  }
 },
 "nbformat": 4,
 "nbformat_minor": 4
}
