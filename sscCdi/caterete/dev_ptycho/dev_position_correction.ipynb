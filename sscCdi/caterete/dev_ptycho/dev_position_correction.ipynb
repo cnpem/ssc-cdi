{
 "cells": [
  {
   "cell_type": "markdown",
   "metadata": {},
   "source": [
    "## Image Registration"
   ]
  },
  {
   "cell_type": "code",
   "execution_count": 4,
   "metadata": {},
   "outputs": [],
   "source": [
    "import skimage\n",
    "import numpy as np\n",
    "import matplotlib.pyplot as plt\n",
    "from skimage.registration import phase_cross_correlation\n",
    "from scipy.signal import correlate\n",
    "from concurrent.futures import ProcessPoolExecutor, ThreadPoolExecutor\n",
    "from functools import partial\n",
    "\n",
    "def update_beta(positions1,positions2, beta):\n",
    "        \n",
    "    k = correlate(positions1,positions2)\n",
    "    \n",
    "    threshold1 = +0.3\n",
    "    threshold2 = -0.3\n",
    "    \n",
    "    if k > threshold1:\n",
    "        beta = beta*1.1 # increase by 10%\n",
    "    elif k < threshold2:\n",
    "        beta = beta*0.9 #reduce by 10%\n",
    "    else:\n",
    "        pass # keep same value\n",
    "    \n",
    "    return beta\n",
    "\n",
    "def get_illuminated_mask(probe,probe_threshold):\n",
    "    mask = np.where(probe > np.max(probe)*probe_threhsold, 1, 0)\n",
    "    return mask\n",
    "\n",
    "def correct_position(probe, probe_threshold, upsampling, beta, data):\n",
    "    \n",
    "    obj,previous_obj, position, posiiton, index = data # unpack inputs that vary\n",
    "    \n",
    "    illumination_mask = get_binary_mask(probe,probe_threshold)\n",
    "    \n",
    "    obj = obj*illumination_mask\n",
    "    previous_obj = previous_obj*illumination_mask\n",
    "                         \n",
    "    relative_shift, error, diffphase = phase_cross_correlation(obj, previous_obj, upsample_factor=upsampling)\n",
    "    \n",
    "    new_position = position + beta*relative_shift\n",
    "    \n",
    "    return new_position, index\n",
    "\n",
    "def position_correction(obj,previous_obj,positions, beta, probe_threshold=0.1, upsampling=100):\n",
    "\n",
    "    indexes = np.linspace(0,obj.shape[0]-1,obj.shape[0])\n",
    "    list_of_inputs = list(zip(obj,previous_obj,positions,indexes))\n",
    "    \n",
    "    correct_position_partial = partial(correct_position,probe, probe_threshold, upsampling, beta)\n",
    "    \n",
    "    new_positions = np.zeros_like(positions)\n",
    "    with ProcessPoolExecutor() as executor:\n",
    "        results = list(tqdm(executor.map(correct_position,list_of_inputs),total=positions.shape[0]))\n",
    "        for result in results:\n",
    "            position, index = result\n",
    "            new_positions[index] = position\n",
    "            \n",
    "    return new_positions\n",
    "    \n",
    "    \n",
    "    \n",
    "    \n",
    "    \n",
    "    \n",
    "    "
   ]
  },
  {
   "cell_type": "code",
   "execution_count": null,
   "metadata": {},
   "outputs": [],
   "source": [
    "\n",
    "\n"
   ]
  }
 ],
 "metadata": {
  "kernelspec": {
   "display_name": "Python 3",
   "language": "python",
   "name": "python3"
  },
  "language_info": {
   "codemirror_mode": {
    "name": "ipython",
    "version": 3
   },
   "file_extension": ".py",
   "mimetype": "text/x-python",
   "name": "python",
   "nbconvert_exporter": "python",
   "pygments_lexer": "ipython3",
   "version": "3.6.9"
  }
 },
 "nbformat": 4,
 "nbformat_minor": 4
}
