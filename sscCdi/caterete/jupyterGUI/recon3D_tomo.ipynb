{
 "cells": [
  {
   "cell_type": "markdown",
   "metadata": {
    "tags": []
   },
   "source": [
    "# GCC's ssc-cdi : Tomography Interface for Cateretê\n",
    " \n",
    "- #### Run first cell to connect to server and install requirements. Run second cell to deploy interface.\n",
    "- #### To visualize outputs in real time, open the log console at: View > Show Log Console\n",
    "- #### Questions? E-mail yuri.tonin@lnls.br\n",
    "- #### User guide [available here](https://10.10.10.141/ssc/wiki/). "
   ]
  },
  {
   "cell_type": "code",
   "execution_count": 1,
   "metadata": {},
   "outputs": [
    {
     "name": "stdout",
     "output_type": "stream",
     "text": [
      "/home/ABTLUS/yuri.tonin/.local/lib/python3.6/site-packages/sscCdi-0.0.5-py3.6-linux-ppc64le.egg/sscCdi\n",
      "to be done!\n"
     ]
    },
    {
     "name": "stdin",
     "output_type": "stream",
     "text": [
      "Username: yuri.tonin\n"
     ]
    },
    {
     "name": "stdout",
     "output_type": "stream",
     "text": [
      "Password:\n"
     ]
    },
    {
     "name": "stdin",
     "output_type": "stream",
     "text": [
      " ············\n"
     ]
    },
    {
     "name": "stdout",
     "output_type": "stream",
     "text": [
      "Installing packages @ Mafalda (cluster)...\n",
      "Output:  b''\n",
      "Error:   b'bash: module: command not found\\n'\n",
      "\t Done!\n",
      "Output:  b''\n",
      "Error:   b'bash: module: command not found\\n'\n",
      "\t Done!\n",
      "Output:  b''\n",
      "Error:   b'bash: module: command not found\\n'\n",
      "\t Done!\n",
      "Output:  b''\n",
      "Error:   b'ERROR: unknown command \"config\"\\n'\n",
      "\t Done!\n",
      "Output:  b''\n",
      "Error:   b'ERROR: unknown command \"config\"\\n'\n",
      "\t Done!\n",
      "Output:  b'Collecting sscCdi==0.0.5\\n'\n",
      "Error:   b'  Could not find a version that satisfies the requirement sscCdi==0.0.5 (from versions: )\\nNo matching distribution found for sscCdi==0.0.5\\n'\n",
      "\t Done!\n",
      "Output:  b'Collecting sscPimega==0.0.4\\n'\n",
      "Error:   b'  Could not find a version that satisfies the requirement sscPimega==0.0.4 (from versions: )\\nNo matching distribution found for sscPimega==0.0.4\\n'\n",
      "\t Done!\n",
      "Output:  b'Collecting sscRaft==1.0.2\\n'\n",
      "Error:   b'  Could not find a version that satisfies the requirement sscRaft==1.0.2 (from versions: )\\nNo matching distribution found for sscRaft==1.0.2\\n'\n",
      "\t Done!\n",
      "Output:  b'Collecting sscResolution==1.2.3\\n'\n",
      "Error:   b'  Could not find a version that satisfies the requirement sscResolution==1.2.3 (from versions: )\\nNo matching distribution found for sscResolution==1.2.3\\n'\n",
      "\t Done!\n"
     ]
    }
   ],
   "source": [
    "%matplotlib widget\n",
    "from sscCdi import jupyter_recon2D, jupyter_recon3D, jupyter_general\n",
    "server = jupyter_recon2D.connect_server()\n",
    "jupyter_general.install_packages(server)"
   ]
  },
  {
   "cell_type": "code",
   "execution_count": 2,
   "metadata": {},
   "outputs": [
    {
     "data": {
      "application/vnd.jupyter.widget-view+json": {
       "model_id": "fa46b23bb2c64fccbca5c69171927f80",
       "version_major": 2,
       "version_minor": 0
      },
      "text/plain": [
       "HBox(children=(RadioButtons(description='Machine', layout=Layout(width='30%'), options=('Local', 'Cluster'), v…"
      ]
     },
     "metadata": {},
     "output_type": "display_data"
    },
    {
     "data": {
      "application/vnd.jupyter.widget-view+json": {
       "model_id": "caac8bbf324e431197fc1483eb7a69ee",
       "version_major": 2,
       "version_minor": 0
      },
      "text/plain": [
       "Tab(children=(VBox(children=(VBox(children=(Text(value='/ibira/lnls/beamlines/caterete/proposals/20210177/data…"
      ]
     },
     "metadata": {},
     "output_type": "display_data"
    }
   ],
   "source": [
    "tabs, global_dict = jupyter_recon3D.deploy_tabs(server)\n",
    "tabs"
   ]
  }
 ],
 "metadata": {
  "kernelspec": {
   "display_name": "Python 3",
   "language": "python",
   "name": "python3"
  },
  "language_info": {
   "codemirror_mode": {
    "name": "ipython",
    "version": 3
   },
   "file_extension": ".py",
   "mimetype": "text/x-python",
   "name": "python",
   "nbconvert_exporter": "python",
   "pygments_lexer": "ipython3",
   "version": "3.6.9"
  }
 },
 "nbformat": 4,
 "nbformat_minor": 4
}
