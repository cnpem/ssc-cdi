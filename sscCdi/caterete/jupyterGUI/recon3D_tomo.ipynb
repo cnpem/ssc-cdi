{
 "cells": [
  {
   "cell_type": "markdown",
   "metadata": {
    "tags": []
   },
   "source": [
    "# GCC's ssc-cdi : Tomography Interface for Cateretê\n",
    " \n",
    "- #### Run first cell to connect to server and install requirements. Run second cell to deploy interface.\n",
    "- #### Questions? E-mail yuri.tonin@lnls.br\n",
    "- #### User guide [available here](https://10.10.10.141/ssc/wiki/). "
   ]
  },
  {
   "cell_type": "code",
   "execution_count": 1,
   "metadata": {},
   "outputs": [
    {
     "name": "stdout",
     "output_type": "stream",
     "text": [
      "/home/ABTLUS/yuri.tonin/.local/lib/python3.6/site-packages/sscCdi-0.0.5-py3.6-linux-ppc64le.egg/sscCdi\n",
      "to be done!\n",
      "Output folder:  /ibira/lnls/beamlines/caterete/apps/jupyter-dev/00000000/proc/recons/microagg_P2_01\n"
     ]
    },
    {
     "name": "stdin",
     "output_type": "stream",
     "text": [
      "Username: yuri.tonin\n"
     ]
    },
    {
     "name": "stdout",
     "output_type": "stream",
     "text": [
      "Password:\n"
     ]
    },
    {
     "name": "stdin",
     "output_type": "stream",
     "text": [
      " ············\n"
     ]
    }
   ],
   "source": [
    "%matplotlib widget\n",
    "from sscCdi import jupyter_recon2D, jupyter_recon3D\n",
    "server = jupyter_recon2D.connect_server()"
   ]
  },
  {
   "cell_type": "code",
   "execution_count": 2,
   "metadata": {},
   "outputs": [
    {
     "data": {
      "application/vnd.jupyter.widget-view+json": {
       "model_id": "00f491382cfa43ae8d7cb3af06b3bbfb",
       "version_major": 2,
       "version_minor": 0
      },
      "text/plain": [
       "HBox(children=(RadioButtons(description='Machine', layout=Layout(width='30%'), options=('Local', 'Cluster'), v…"
      ]
     },
     "metadata": {},
     "output_type": "display_data"
    },
    {
     "data": {
      "application/vnd.jupyter.widget-view+json": {
       "model_id": "62b8bae158664b36a0d798dee5d5c2be",
       "version_major": 2,
       "version_minor": 0
      },
      "text/plain": [
       "Tab(children=(VBox(children=(VBox(children=(Text(value='/ibira/lnls/beamlines/caterete/proposals/20210177/data…"
      ]
     },
     "metadata": {},
     "output_type": "display_data"
    }
   ],
   "source": [
    "tabs, global_dict = jupyter_recon3D.deploy_tabs(server)\n",
    "tabs"
   ]
  }
 ],
 "metadata": {
  "kernelspec": {
   "display_name": "Python 3",
   "language": "python",
   "name": "python3"
  },
  "language_info": {
   "codemirror_mode": {
    "name": "ipython",
    "version": 3
   },
   "file_extension": ".py",
   "mimetype": "text/x-python",
   "name": "python",
   "nbconvert_exporter": "python",
   "pygments_lexer": "ipython3",
   "version": "3.6.9"
  }
 },
 "nbformat": 4,
 "nbformat_minor": 4
}
