{
 "cells": [
  {
   "cell_type": "markdown",
   "metadata": {},
   "source": [
    "# GCC's ssc-cdi : Ptychography Interface for Cateretê, v0.0.1\n",
    " \n",
    "- #### Run first cell to connect to server and install requirements. Run the other cells to deploy interface.\n",
    "- #### To visualize outputs in real time, open the log console at: View > Show Log Console\n",
    "- #### Questions? E-mail yuri.tonin@lnls.br\n",
    "- #### Installation and User guide [available here](https://10.10.10.141/ssc/wiki/). "
   ]
  },
  {
   "cell_type": "code",
   "execution_count": 1,
   "metadata": {},
   "outputs": [
    {
     "name": "stdout",
     "output_type": "stream",
     "text": [
      "/home/ABTLUS/yuri.tonin/.local/lib/python3.6/site-packages/sscCdi-0.0.5-py3.6-linux-ppc64le.egg/sscCdi\n",
      "to be done!\n"
     ]
    },
    {
     "name": "stdin",
     "output_type": "stream",
     "text": [
      "Username: yuri.tonin\n"
     ]
    },
    {
     "name": "stdout",
     "output_type": "stream",
     "text": [
      "Password:\n"
     ]
    },
    {
     "name": "stdin",
     "output_type": "stream",
     "text": [
      " ············\n"
     ]
    },
    {
     "name": "stdout",
     "output_type": "stream",
     "text": [
      "Installing packages @ Bertha (local)...\n",
      "\t pip config --user set global.extra-index-url http://gcc.lnls.br:3128/simple/\n",
      "\t pip config --user set global.trusted-host gcc.lnls.br\n",
      "\t pip install sscCdi==0.0.5\n",
      "\t pip install sscPimega==0.0.4\n",
      "\t pip install sscRaft==1.0.2\n",
      "\t pip install sscResolution==1.2.3\n",
      "\t Done!\n"
     ]
    }
   ],
   "source": [
    "# from IPython.core.display import display, HTML\n",
    "# display(HTML(\"<style>.container { width:90% !important; }</style>\")) # make notebook larger!\n",
    "\n",
    "%matplotlib widget\n",
    "import ipywidgets as widgets \n",
    "from sscCdi import jupyter_recon2D, jupyter_recon3D, jupyter_general, functions, fresnel, misc\n",
    "import json, ast\n",
    "server = jupyter_recon2D.connect_server()\n",
    "jupyter_general.install_packages(server)\n",
    "dictionary, auxiliary_dict = {}, {}"
   ]
  },
  {
   "cell_type": "code",
   "execution_count": 12,
   "metadata": {},
   "outputs": [
    {
     "name": "stdout",
     "output_type": "stream",
     "text": [
      "Installing packages @ Mafalda (cluster)...\n",
      "module load python3/3.9.2\n",
      "Output:  b''\n",
      "Error:   b'bash: module: command not found\\n'\n",
      "module load cuda/11.2\n",
      "Output:  b''\n",
      "Error:   b'bash: module: command not found\\n'\n",
      "module load hdf5/1.12.0_parallel\n",
      "Output:  b''\n",
      "Error:   b'bash: module: command not found\\n'\n",
      "pip config --user set global.extra-index-url http://gcc.lnls.br:3128/simple/\n",
      "Output:  b''\n",
      "Error:   b'ERROR: unknown command \"config\"\\n'\n",
      "pip config --user set global.trusted-host gcc.lnls.br\n",
      "Output:  b''\n",
      "Error:   b'ERROR: unknown command \"config\"\\n'\n",
      "pip install sscCdi==0.0.5\n",
      "Output:  b'Collecting sscCdi==0.0.5\\n'\n",
      "Error:   b'  Could not find a version that satisfies the requirement sscCdi==0.0.5 (from versions: )\\nNo matching distribution found for sscCdi==0.0.5\\n'\n",
      "pip install sscPimega==0.0.4\n",
      "Output:  b'Collecting sscPimega==0.0.4\\n'\n",
      "Error:   b'  Could not find a version that satisfies the requirement sscPimega==0.0.4 (from versions: )\\nNo matching distribution found for sscPimega==0.0.4\\n'\n",
      "pip install sscRaft==1.0.2\n",
      "Output:  b'Collecting sscRaft==1.0.2\\n'\n",
      "Error:   b'  Could not find a version that satisfies the requirement sscRaft==1.0.2 (from versions: )\\nNo matching distribution found for sscRaft==1.0.2\\n'\n",
      "pip install sscResolution==1.2.3\n",
      "Output:  b'Collecting sscResolution==1.2.3\\n'\n",
      "Error:   b'  Could not find a version that satisfies the requirement sscResolution==1.2.3 (from versions: )\\nNo matching distribution found for sscResolution==1.2.3\\n'\n",
      "\t Done!\n"
     ]
    }
   ],
   "source": [
    "print('Installing packages @ Mafalda (cluster)...')\n",
    "cmd = \"\"\"module load python3/3.9.2\n",
    "module load cuda/11.2\n",
    "module load hdf5/1.12.0_parallel\n",
    "pip config --user set global.extra-index-url http://gcc.lnls.br:3128/simple/\n",
    "pip config --user set global.trusted-host gcc.lnls.br\n",
    "pip install sscCdi==0.0.5\n",
    "pip install sscPimega==0.0.4\n",
    "pip install sscRaft==1.0.2\n",
    "pip install sscResolution==1.2.3\"\"\"\n",
    "for line in cmd.split('\\n'):\n",
    "    print(line)\n",
    "    stdin, stdout, stderr = server.exec_command(line)\n",
    "    print('Output: ',stdout.read())\n",
    "    print('Error:  ',stderr.read())   \n",
    "print('\\t Done!')"
   ]
  },
  {
   "cell_type": "code",
   "execution_count": 2,
   "metadata": {},
   "outputs": [
    {
     "data": {
      "application/vnd.jupyter.widget-view+json": {
       "model_id": "a6ef7e463272480182941715d14099c1",
       "version_major": 2,
       "version_minor": 0
      },
      "text/plain": [
       "Button(description='Load json template', icon='play', layout=Layout(height='100px', max_height='50px', width='…"
      ]
     },
     "metadata": {},
     "output_type": "display_data"
    }
   ],
   "source": [
    "jupyter_recon2D.deploy_input_fields(dictionary,auxiliary_dict)[0]"
   ]
  },
  {
   "cell_type": "code",
   "execution_count": 7,
   "metadata": {},
   "outputs": [
    {
     "data": {
      "application/vnd.jupyter.widget-view+json": {
       "model_id": "82bd28dc67a84320acd1cf6d150ee4fa",
       "version_major": 2,
       "version_minor": 0
      },
      "text/plain": [
       "VBox(children=(Text(value='/ibira/lnls/beamlines/caterete/apps/jupyter/00000000/data/ptycho2d/', description='…"
      ]
     },
     "metadata": {},
     "output_type": "display_data"
    }
   ],
   "source": [
    "jupyter_recon2D.deploy_input_fields(dictionary,auxiliary_dict)[1]"
   ]
  },
  {
   "cell_type": "code",
   "execution_count": 8,
   "metadata": {},
   "outputs": [
    {
     "data": {
      "application/vnd.jupyter.widget-view+json": {
       "model_id": "6a10e1e01d5b4ead9e1cb4bd5f839c1a",
       "version_major": 2,
       "version_minor": 0
      },
      "text/plain": [
       "Button(description='Save Dictinary to json', layout=Layout(align_items='flex-end', height='50px', width='30%')…"
      ]
     },
     "metadata": {},
     "output_type": "display_data"
    },
    {
     "data": {
      "application/vnd.jupyter.widget-view+json": {
       "model_id": "c77b99156f9e4e6ea376b2155c20cb52",
       "version_major": 2,
       "version_minor": 0
      },
      "text/plain": [
       "VBox(children=(VBox(children=(VBox(children=(VBox(children=(VBox(children=(VBox(children=(VBox(children=(VBox(…"
      ]
     },
     "metadata": {},
     "output_type": "display_data"
    },
    {
     "data": {
      "application/vnd.jupyter.widget-view+json": {
       "model_id": "daa4cae5a1fa47cba56c0c7a6829826b",
       "version_major": 2,
       "version_minor": 0
      },
      "text/plain": [
       "Button(description='RUN PTYCHO', icon='play', layout=Layout(align_items='flex-end', height='50px', width='30%'…"
      ]
     },
     "metadata": {},
     "output_type": "display_data"
    }
   ],
   "source": [
    "jupyter_recon2D.inputs_deploy(dictionary,server,auxiliary_dict)"
   ]
  },
  {
   "cell_type": "code",
   "execution_count": 5,
   "metadata": {},
   "outputs": [
    {
     "data": {
      "application/vnd.jupyter.widget-view+json": {
       "model_id": "b70d6c3cb0c142c08fb5cc472846902d",
       "version_major": 2,
       "version_minor": 0
      },
      "text/plain": [
       "HBox(children=(Output(), VBox(children=(VBox(children=(IntText(value=1400, description='Center Row pixel:', la…"
      ]
     },
     "metadata": {},
     "output_type": "display_data"
    },
    {
     "data": {
      "application/vnd.jupyter.widget-view+json": {
       "model_id": "ce0533b6fd304f1d9d09b7be235d200c",
       "version_major": 2,
       "version_minor": 0
      },
      "text/plain": [
       "HBox(children=(VBox(children=(VBox(children=(FloatText(value=20.0, description='#Frames', layout=Layout(align_…"
      ]
     },
     "metadata": {},
     "output_type": "display_data"
    },
    {
     "data": {
      "application/vnd.jupyter.widget-view+json": {
       "model_id": "801c9bf324b2475eb092cb4b09f277e1",
       "version_major": 2,
       "version_minor": 0
      },
      "text/plain": [
       "VBox(children=(Button(description='Load Object Preview', layout=Layout(height='50px', width='50%'), style=Butt…"
      ]
     },
     "metadata": {},
     "output_type": "display_data"
    }
   ],
   "source": [
    "jupyter_recon2D.global_deploy(dictionary,server,auxiliary_dict)"
   ]
  },
  {
   "cell_type": "code",
   "execution_count": null,
   "metadata": {},
   "outputs": [],
   "source": []
  }
 ],
 "metadata": {
  "kernelspec": {
   "display_name": "Python 3",
   "language": "python",
   "name": "python3"
  },
  "language_info": {
   "codemirror_mode": {
    "name": "ipython",
    "version": 3
   },
   "file_extension": ".py",
   "mimetype": "text/x-python",
   "name": "python",
   "nbconvert_exporter": "python",
   "pygments_lexer": "ipython3",
   "version": "3.6.9"
  }
 },
 "nbformat": 4,
 "nbformat_minor": 4
}
