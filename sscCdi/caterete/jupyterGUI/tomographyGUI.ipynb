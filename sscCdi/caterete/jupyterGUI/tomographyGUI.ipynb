{
 "cells": [
  {
   "cell_type": "markdown",
   "metadata": {
    "tags": []
   },
   "source": [
    "# Tomo steps:\n",
    "\n",
    "- Wiggle\n",
    "    - Reference frame\n",
    "    - Number of processes\n",
    "- Regularization\n",
    "    - Do or not do\n",
    "    - Reg parameter\n",
    "- Tomo\n",
    "    - Iterations\n",
    "    - Tomo algorithm\n",
    "    - GPUs\n",
    "    - threshold to final data\n",
    "    "
   ]
  },
  {
   "cell_type": "code",
   "execution_count": 1,
   "metadata": {},
   "outputs": [],
   "source": [
    "# from IPython.display import display, Markdown, Latex\n",
    "# display(Markdown('*some markdown* $\\phi$'))\n",
    "# # If you particularly want to display maths, this is more direct:\n",
    "# display(Latex('$\\phi$'))"
   ]
  },
  {
   "cell_type": "code",
   "execution_count": 2,
   "metadata": {},
   "outputs": [
    {
     "name": "stdout",
     "output_type": "stream",
     "text": [
      "/home/ABTLUS/yuri.tonin/.local/lib/python3.6/site-packages/sscCdi-0.0.5-py3.6-linux-ppc64le.egg/sscCdi\n",
      "to be done!\n"
     ]
    },
    {
     "data": {
      "application/vnd.jupyter.widget-view+json": {
       "model_id": "245e49c8c1e4407e9b81df72a850cc2d",
       "version_major": 2,
       "version_minor": 0
      },
      "text/plain": [
       "HBox(children=(Button(description='Load JSON template', icon='folder-open-o', layout=Layout(height='50px', wid…"
      ]
     },
     "metadata": {},
     "output_type": "display_data"
    },
    {
     "data": {
      "application/vnd.jupyter.widget-view+json": {
       "model_id": "47fa84765ffa4f468dad9d5f53ba18a0",
       "version_major": 2,
       "version_minor": 0
      },
      "text/plain": [
       "Tab(children=(VBox(children=(Text(value='path/to/ibira/difpads', description=\"ibira_data_path<class 'str'>\", l…"
      ]
     },
     "metadata": {},
     "output_type": "display_data"
    }
   ],
   "source": [
    "%matplotlib widget\n",
    "\n",
    "import ipywidgets as widgets\n",
    "import os\n",
    "import jupyterTomography\n",
    "from jupyterTomography import folders_tab\n",
    "tabs, global_dict = jupyterTomography.deploy_tabs()\n",
    "tabs"
   ]
  },
  {
   "cell_type": "code",
   "execution_count": 3,
   "metadata": {},
   "outputs": [],
   "source": [
    "import numpy as np\n",
    "import matplotlib.pyplot as plt\n",
    "path = '/ibira/lnls/beamlines/caterete/apps/jupyter-dev/00000000/proc/recons/SS61/microagg_P2_01_recon_EEM_phase.npy'\n",
    "# a = np.load(path)[0:-1]\n",
    "# plt.figure()\n",
    "# # plt.imshow(a[a.shape[0]//2,0:None,0:None])\n",
    "# plt.imshow(a[-1,0:None,0:None])\n",
    "# np.save(path,a)"
   ]
  },
  {
   "cell_type": "code",
   "execution_count": 4,
   "metadata": {},
   "outputs": [],
   "source": [
    "# path = '/ibira/lnls/beamlines/caterete/apps/jupyter-dev/00000000/proc/recons/SS61/unwrapped_sinogram.npy'\n",
    "# phase = np.load(path)\n",
    "# print(phase.shape)\n",
    "# a = 5\n",
    "# sinogram = phase[phase.shape[0]//2-a:phase.shape[0]//2+a,:,:]\n",
    "\n"
   ]
  }
 ],
 "metadata": {
  "kernelspec": {
   "display_name": "Python 3",
   "language": "python",
   "name": "python3"
  },
  "language_info": {
   "codemirror_mode": {
    "name": "ipython",
    "version": 3
   },
   "file_extension": ".py",
   "mimetype": "text/x-python",
   "name": "python",
   "nbconvert_exporter": "python",
   "pygments_lexer": "ipython3",
   "version": "3.6.9"
  }
 },
 "nbformat": 4,
 "nbformat_minor": 4
}
