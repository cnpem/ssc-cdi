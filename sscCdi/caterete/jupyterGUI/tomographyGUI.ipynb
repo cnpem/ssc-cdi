{
 "cells": [
  {
   "cell_type": "markdown",
   "metadata": {
    "tags": []
   },
   "source": [
    "# Tomography Interface"
   ]
  },
  {
   "cell_type": "code",
   "execution_count": 1,
   "metadata": {},
   "outputs": [],
   "source": [
    "# from IPython.display import display, Markdown, Latex\n",
    "# display(Markdown('*some markdown* $\\phi$'))\n",
    "# # If you particularly want to display maths, this is more direct:\n",
    "# display(Latex('$\\phi$'))"
   ]
  },
  {
   "cell_type": "code",
   "execution_count": 2,
   "metadata": {},
   "outputs": [
    {
     "name": "stdout",
     "output_type": "stream",
     "text": [
      "/home/ABTLUS/yuri.tonin/.local/lib/python3.6/site-packages/sscCdi-0.0.5-py3.6-linux-ppc64le.egg/sscCdi\n",
      "to be done!\n",
      "Output folder:  /ibira/lnls/beamlines/caterete/apps/jupyter-dev/00000000/proc/recons/microagg_P2_01\n"
     ]
    },
    {
     "name": "stdin",
     "output_type": "stream",
     "text": [
      "Username: yuri.tonin\n"
     ]
    },
    {
     "name": "stdout",
     "output_type": "stream",
     "text": [
      "Password:\n"
     ]
    },
    {
     "name": "stdin",
     "output_type": "stream",
     "text": [
      " ············\n"
     ]
    }
   ],
   "source": [
    "%matplotlib widget\n",
    "from sscCdi import jupyter, jupyterTomography\n",
    "mafalda = jupyter.connect_mafalda()"
   ]
  },
  {
   "cell_type": "code",
   "execution_count": 3,
   "metadata": {},
   "outputs": [
    {
     "data": {
      "application/vnd.jupyter.widget-view+json": {
       "model_id": "75ca5e7ed15a4c888a1562f444df54e1",
       "version_major": 2,
       "version_minor": 0
      },
      "text/plain": [
       "HBox(children=(RadioButtons(description='Visualize', index=1, layout=Layout(width='30%'), options=('Magnitude'…"
      ]
     },
     "metadata": {},
     "output_type": "display_data"
    },
    {
     "data": {
      "application/vnd.jupyter.widget-view+json": {
       "model_id": "baedddaf06d347be90b1baca5902b7a0",
       "version_major": 2,
       "version_minor": 0
      },
      "text/plain": [
       "Tab(children=(HBox(children=(Output(), VBox(children=(Text(value='/ibira/lnls/beamlines/caterete/proposals/202…"
      ]
     },
     "metadata": {},
     "output_type": "display_data"
    }
   ],
   "source": [
    "tabs, global_dict = jupyterTomography.deploy_tabs(mafalda)\n",
    "tabs"
   ]
  },
  {
   "cell_type": "code",
   "execution_count": 4,
   "metadata": {},
   "outputs": [
    {
     "data": {
      "text/plain": [
       "{'ibira_data_path': '/ibira/lnls/beamlines/caterete/proposals/20210177/data/ptycho3d/',\n",
       " 'folders_list': \"['microagg_P2_01']\",\n",
       " 'sinogram_path': '/ibira/lnls/beamlines/caterete/apps/jupyter-dev/00000000/proc/recons/microagg_P2_01/object_microagg_P2_01.npy',\n",
       " 'jupyter_folder': '/ibira/lnls/beamlines/caterete/apps/jupyter-dev/',\n",
       " 'top_crop': 0,\n",
       " 'bottom_crop': 1,\n",
       " 'left_crop': 0,\n",
       " 'right_crop': 1,\n",
       " 'bad_frames_list': [],\n",
       " 'unwrap_iterations': 0,\n",
       " 'unwrap_non_negativity': False,\n",
       " 'unwrap_gradient_removal': False,\n",
       " 'bad_frames_list2': [],\n",
       " 'chull_invert': False,\n",
       " 'chull_tolerance': 1e-05,\n",
       " 'chull_opening': 10,\n",
       " 'chull_erosion': 10,\n",
       " 'chull_param': 10,\n",
       " 'wiggle_reference_frame': 0,\n",
       " 'wiggle_cpus': 32,\n",
       " 'tomo_regularization': True,\n",
       " 'tomo_regularization_param': 0.001,\n",
       " 'tomo_iterations': 25,\n",
       " 'tomo_algorithm': 'EEM',\n",
       " 'tomo_n_of_gpus': [0],\n",
       " 'tomo_threshold': 0.0,\n",
       " 'run_all_tomo_steps': False}"
      ]
     },
     "execution_count": 4,
     "metadata": {},
     "output_type": "execute_result"
    }
   ],
   "source": [
    "global_dict\n",
    "# from sscCdi import unwrap\n",
    "# import numpy as np\n",
    "# import matplotlib.pyplot as plt\n",
    "# path = '/ibira/lnls/beamlines/caterete/apps/jupyter-dev/00000000/proc/recons/microagg_P2_01/cropped_sinogram.npy'\n",
    "\n",
    "\n",
    "\n",
    "# a = np.load(path)\n",
    "\n",
    "# print(a.shape,np.max(a),np.min(a),np.mean(a))\n",
    "# print(np.where(np.isnan(a)))\n",
    "# np.isnan(a[0]).shape\n",
    "\n",
    "# plt.figure()\n",
    "# plt.imshow(a[19])\n",
    "\n",
    "# # unwrapped = unwrap.unwrap_in_parallel(a,iterations=1,non_negativity=False,remove_gradient = False)\n",
    "# # print('Done')"
   ]
  },
  {
   "cell_type": "code",
   "execution_count": null,
   "metadata": {},
   "outputs": [],
   "source": []
  }
 ],
 "metadata": {
  "kernelspec": {
   "display_name": "Python 3",
   "language": "python",
   "name": "python3"
  },
  "language_info": {
   "codemirror_mode": {
    "name": "ipython",
    "version": 3
   },
   "file_extension": ".py",
   "mimetype": "text/x-python",
   "name": "python",
   "nbconvert_exporter": "python",
   "pygments_lexer": "ipython3",
   "version": "3.6.9"
  }
 },
 "nbformat": 4,
 "nbformat_minor": 4
}
