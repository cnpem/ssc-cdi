{
 "cells": [
  {
   "cell_type": "markdown",
   "metadata": {
    "tags": []
   },
   "source": [
    "# Tomo steps:\n",
    "\n",
    "- Wiggle\n",
    "    - Reference frame\n",
    "    - Number of processes\n",
    "- Regularization\n",
    "    - Do or not do\n",
    "    - Reg parameter\n",
    "- Tomo\n",
    "    - Iterations\n",
    "    - Tomo algorithm\n",
    "    - GPUs\n",
    "    - threshold to final data\n",
    "    "
   ]
  },
  {
   "cell_type": "code",
   "execution_count": 1,
   "metadata": {},
   "outputs": [],
   "source": [
    "# from IPython.display import display, Markdown, Latex\n",
    "# display(Markdown('*some markdown* $\\phi$'))\n",
    "# # If you particularly want to display maths, this is more direct:\n",
    "# display(Latex('$\\phi$'))"
   ]
  },
  {
   "cell_type": "code",
   "execution_count": 2,
   "metadata": {},
   "outputs": [
    {
     "name": "stdout",
     "output_type": "stream",
     "text": [
      "/home/ABTLUS/yuri.tonin/.local/lib/python3.6/site-packages/sscCdi-0.0.5-py3.6-linux-ppc64le.egg/sscCdi\n",
      "to be done!\n"
     ]
    },
    {
     "name": "stdin",
     "output_type": "stream",
     "text": [
      "Username: yuri.tonin\n"
     ]
    },
    {
     "name": "stdout",
     "output_type": "stream",
     "text": [
      "Password:\n"
     ]
    },
    {
     "name": "stdin",
     "output_type": "stream",
     "text": [
      " ············\n"
     ]
    }
   ],
   "source": [
    "from sscCdi import jupyter\n",
    "mafalda = jupyter.connect_mafalda()\n",
    "# mafalda = 0"
   ]
  },
  {
   "cell_type": "code",
   "execution_count": 3,
   "metadata": {},
   "outputs": [
    {
     "data": {
      "application/vnd.jupyter.widget-view+json": {
       "model_id": "4fc1562816024e0b8801d2861b3d6ab3",
       "version_major": 2,
       "version_minor": 0
      },
      "text/plain": [
       "HBox(children=(Button(description='Load JSON template', icon='folder-open-o', layout=Layout(height='50px', wid…"
      ]
     },
     "metadata": {},
     "output_type": "display_data"
    },
    {
     "data": {
      "application/vnd.jupyter.widget-view+json": {
       "model_id": "87c550a727cf4c7d8a13344d36d371a2",
       "version_major": 2,
       "version_minor": 0
      },
      "text/plain": [
       "Tab(children=(VBox(children=(Text(value='/ibira/lnls/beamlines/caterete/apps/jupyter-dev/00000000/data/ptycho2…"
      ]
     },
     "metadata": {},
     "output_type": "display_data"
    }
   ],
   "source": [
    "%matplotlib widget\n",
    "from sscCdi import jupyterTomography\n",
    "\n",
    "tabs, global_dict = jupyterTomography.deploy_tabs(mafalda)\n",
    "tabs"
   ]
  },
  {
   "cell_type": "code",
   "execution_count": 4,
   "metadata": {},
   "outputs": [
    {
     "data": {
      "text/plain": [
       "{'ibira_data_path': '/ibira/lnls/beamlines/caterete/apps/jupyter-dev/00000000/data/ptycho2d/',\n",
       " 'folders_list': ['SS61'],\n",
       " 'sinogram_path': '/ibira/lnls/beamlines/caterete/apps/jupyter-dev/00000000/proc/recons/SS61/phase_microagg_P2_01.npy',\n",
       " 'top_crop': 0,\n",
       " 'bottom_crop': 1,\n",
       " 'left_crop': 0,\n",
       " 'right_crop': 1,\n",
       " 'bad_frames_list': [],\n",
       " 'unwrap_iterations': 0,\n",
       " 'unwrap_non_negativity': False,\n",
       " 'unwrap_gradient_removal': False,\n",
       " 'bad_frames_list2': [],\n",
       " 'chull_invert': False,\n",
       " 'chull_tolerance': 1e-05,\n",
       " 'chull_opening': 10,\n",
       " 'chull_erosion': 10,\n",
       " 'chull_param': 10,\n",
       " 'wiggle_reference_frame': 0,\n",
       " 'wiggle_cpus': 32,\n",
       " 'tomo_regularization': True,\n",
       " 'tomo_regularization_param': 0.001,\n",
       " 'tomo_iterations': 25,\n",
       " 'tomo_algorithm': 'EEM',\n",
       " 'tomo_n_of_gpus': [0],\n",
       " 'tomo_threshold': 0.0,\n",
       " 'run_all_tomo_steps': False}"
      ]
     },
     "execution_count": 4,
     "metadata": {},
     "output_type": "execute_result"
    }
   ],
   "source": [
    "# import numpy as np\n",
    "# import matplotlib.pyplot as plt\n",
    "global_dict"
   ]
  },
  {
   "cell_type": "code",
   "execution_count": null,
   "metadata": {},
   "outputs": [],
   "source": []
  }
 ],
 "metadata": {
  "kernelspec": {
   "display_name": "Python 3",
   "language": "python",
   "name": "python3"
  },
  "language_info": {
   "codemirror_mode": {
    "name": "ipython",
    "version": 3
   },
   "file_extension": ".py",
   "mimetype": "text/x-python",
   "name": "python",
   "nbconvert_exporter": "python",
   "pygments_lexer": "ipython3",
   "version": "3.6.9"
  }
 },
 "nbformat": 4,
 "nbformat_minor": 4
}
