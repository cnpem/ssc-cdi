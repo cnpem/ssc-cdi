{
 "cells": [
  {
   "cell_type": "markdown",
   "metadata": {
    "tags": []
   },
   "source": [
    "# GCC's ssc-cdi : Tomography Interface for Cateretê, v0.0.1\n",
    " \n",
    "- #### Run first cell to connect to server and install requirements. Run second cell to deploy interface.\n",
    "- #### To visualize outputs in real time, open the log console at: View > Show Log Console\n",
    "- #### Questions? E-mail yuri.tonin@lnls.br\n",
    "- #### Installation and User guide [available here](https://10.10.10.141/ssc/wiki/). "
   ]
  },
  {
   "cell_type": "markdown",
   "metadata": {},
   "source": [
    "# Installation Guide:\n",
    "\n",
    "For using the ssc-cdi interfaces for the first time, you need to install the ssc-cdi package on the machine of interest. To do that, following the following steps:\n",
    "\n",
    "1. Open up the terminal and log in to one of the machines of interest using ssh:\n",
    "    - ssh user.name@bertha.lnls.br\n",
    "    or\n",
    "    - ssh user.name@mafalda.lnls.br\n",
    "    \n",
    "2. Go to the folder containg the installation script with the following command:\n",
    "    - cd /ibira/lnls/beamlines/caterete/apps/jupyter/\n",
    "\n",
    "3. Run the script:\n",
    "    - bash install.bash\n",
    "\n",
    "If succesful, you can now run the interface as explained below.\n",
    "\n",
    "# User Guide for ssc-cdi Jupyter Interfaces:\n",
    "\n",
    "To access JupyterLab, open the following address in the browser: [http://10.31.31.16/](http://10.31.31.16/).\n",
    "\n",
    "This interface runs at Bertha. There a few templates that can be accessed  in Template > gcc > /gcc/template_name.ipynb.\n",
    "\n",
    "### 1. Unwrap Interface:\n",
    "\n",
    "Under construction.\n",
    "\n",
    "### 2. Ptychography Interface:\n",
    "\n",
    "Running the first Jupyter cell will prompt you to connect using your credentials and then install all the required packages for running the interface.\n",
    "\n",
    "Under construction.\n",
    "\n",
    "### 3. Tomography Interface:\n",
    "\n",
    "Running the first Jupyter cell will prompt you to connect using your credentials and then install all the required packages for running the interface.\n",
    "\n",
    "Then, the second cell will deploy the graphical interface.\n",
    "\n",
    "Currently, a 3D reconstruction requires the following processing steps, each corresponding to a different tab of the interface:\n",
    "1. Selecting and Sorting data by rotation angle\n",
    "2. Cropping undesired borders of the dataset\n",
    "    - This is required to perform adequate phase unwrapping, since the noisy border interfere with the unwrapping algorithm\n",
    "3. Phase Unwrapping\n",
    "4. Convex Hull\n",
    "    - Approach to select region around the object and null any noise around it\n",
    "5. Wiggle\n",
    "    - Alignment of the shifted frames of the sinogram, with respect to a reference frame\n",
    "6. Tomography\n",
    "    - "
   ]
  },
  {
   "cell_type": "code",
   "execution_count": 1,
   "metadata": {},
   "outputs": [
    {
     "name": "stdout",
     "output_type": "stream",
     "text": [
      "/home/ABTLUS/yuri.tonin/.local/lib/python3.6/site-packages/sscCdi-0.0.5-py3.6-linux-ppc64le.egg/sscCdi\n",
      "to be done!\n"
     ]
    }
   ],
   "source": [
    "%matplotlib widget\n",
    "from sscCdi import jupyter_recon2D, jupyter_recon3D, jupyter_general\n",
    "# server = jupyter_recon2D.connect_server()\n",
    "# jupyter_general.install_packages(server)"
   ]
  },
  {
   "cell_type": "code",
   "execution_count": 2,
   "metadata": {},
   "outputs": [
    {
     "data": {
      "application/vnd.jupyter.widget-view+json": {
       "model_id": "d8a83aed654e4920b25b0db1a5cc95ee",
       "version_major": 2,
       "version_minor": 0
      },
      "text/plain": [
       "HBox(children=(RadioButtons(description='Machine', layout=Layout(width='30%'), options=('Local', 'Cluster'), v…"
      ]
     },
     "metadata": {},
     "output_type": "display_data"
    },
    {
     "data": {
      "application/vnd.jupyter.widget-view+json": {
       "model_id": "5c2112b489be4141a0ad7e91f04e3141",
       "version_major": 2,
       "version_minor": 0
      },
      "text/plain": [
       "Tab(children=(VBox(children=(VBox(children=(Text(value='/ibira/lnls/beamlines/caterete/proposals/20210177/data…"
      ]
     },
     "metadata": {},
     "output_type": "display_data"
    }
   ],
   "source": [
    "tabs, global_dict = jupyter_recon3D.deploy_tabs(0)\n",
    "tabs"
   ]
  }
 ],
 "metadata": {
  "kernelspec": {
   "display_name": "Python 3",
   "language": "python",
   "name": "python3"
  },
  "language_info": {
   "codemirror_mode": {
    "name": "ipython",
    "version": 3
   },
   "file_extension": ".py",
   "mimetype": "text/x-python",
   "name": "python",
   "nbconvert_exporter": "python",
   "pygments_lexer": "ipython3",
   "version": "3.6.9"
  }
 },
 "nbformat": 4,
 "nbformat_minor": 4
}
