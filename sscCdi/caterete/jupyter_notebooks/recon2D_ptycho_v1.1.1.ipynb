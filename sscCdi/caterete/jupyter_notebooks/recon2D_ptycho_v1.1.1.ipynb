{
 "cells": [
  {
   "cell_type": "markdown",
   "metadata": {},
   "source": [
    "# GCC's ssc-cdi : Ptychography Interface for Cateretê, v1.1.0\n",
    " \n",
    "- #### Run first cell to connect to server and install requirements. Run the other cells to deploy interface.\n",
    "- #### To visualize outputs in real time, open the log console at: View > Show Log Console\n",
    "- #### Questions? E-mail gcc@lnls.br\n",
    "- #### Installation and User guide [available here](https://10.10.10.141/ssc/wiki/). "
   ]
  },
  {
   "cell_type": "code",
   "execution_count": 1,
   "metadata": {},
   "outputs": [
    {
     "name": "stdin",
     "output_type": "stream",
     "text": [
      "Username: yuri.tonin\n"
     ]
    },
    {
     "name": "stdout",
     "output_type": "stream",
     "text": [
      "Password:\n"
     ]
    },
    {
     "name": "stdin",
     "output_type": "stream",
     "text": [
      " ············\n"
     ]
    },
    {
     "name": "stdout",
     "output_type": "stream",
     "text": [
      "Installing packages @ Mafalda...\n",
      "Installing packages @ Bertha...\n",
      "\t pip config --user set global.extra-index-url http://gcc.lnls.br:3128/simple/\n",
      "\t pip config --user set global.trusted-host gcc.lnls.br\n",
      "\t pip install --upgrade  \"sscCdi\"==0.1.8\n",
      "\t pip install --upgrade  \"sscPtycho\"==1.0.2\n",
      "\t pip install --upgrade  \"sscPimega\"==0.0.6\n",
      "\t pip install --upgrade  \"sscRaft\"==1.0.3\n",
      "\t pip install --upgrade  \"sscRadon\"==1.0.0\n",
      "\t pip install --upgrade  \"sscResolution\"==1.2.3\n",
      "\t Done!\n"
     ]
    }
   ],
   "source": [
    "%matplotlib widget\n",
    "import sscInstall\n",
    "server = sscInstall.connect_server()\n",
    "sscInstall.install_jupyter(server,beamline='caterete',force_install=False,vCdi='0.1.8',vPtycho='1.0.2',vPimega='0.0.6',vRaft='1.0.3',vRadon='1.0.0',vResolution='1.2.3')\n",
    "from sscCdi import jupyter, ptycho_jupyter"
   ]
  },
  {
   "cell_type": "code",
   "execution_count": 4,
   "metadata": {},
   "outputs": [
    {
     "data": {
      "application/vnd.jupyter.widget-view+json": {
       "model_id": "3998f5df05c64772b7c5a2f56b5c6379",
       "version_major": 2,
       "version_minor": 0
      },
      "text/plain": [
       "VBox(children=(HBox(children=(RadioButtons(description='Machine', index=1, layout=Layout(width='70%'), options…"
      ]
     },
     "metadata": {},
     "output_type": "display_data"
    },
    {
     "data": {
      "application/vnd.jupyter.widget-view+json": {
       "model_id": "2587248355e84bbaae981b1223b43f58",
       "version_major": 2,
       "version_minor": 0
      },
      "text/plain": [
       "Tab(children=(Box(children=(Box(children=(Button(description='Save Inputs', layout=Layout(height='40px', width…"
      ]
     },
     "metadata": {},
     "output_type": "display_data"
    }
   ],
   "source": [
    "box,tabs, global_dict = ptycho_jupyter.deploy_tabs(server)\n",
    "display(box)\n",
    "tabs"
   ]
  }
 ],
 "metadata": {
  "kernelspec": {
   "display_name": "Python 3",
   "language": "python",
   "name": "python3"
  },
  "language_info": {
   "codemirror_mode": {
    "name": "ipython",
    "version": 3
   },
   "file_extension": ".py",
   "mimetype": "text/x-python",
   "name": "python",
   "nbconvert_exporter": "python",
   "pygments_lexer": "ipython3",
   "version": "3.6.9"
  }
 },
 "nbformat": 4,
 "nbformat_minor": 4
}
