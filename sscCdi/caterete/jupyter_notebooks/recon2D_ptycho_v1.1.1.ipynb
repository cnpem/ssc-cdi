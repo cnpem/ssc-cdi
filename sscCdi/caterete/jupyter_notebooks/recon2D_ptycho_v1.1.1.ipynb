{
 "cells": [
  {
   "cell_type": "markdown",
   "metadata": {},
   "source": [
    "# GCC's ssc-cdi : Ptychography Interface for Cateretê, v1.1.1\n",
    " \n",
    "- #### Run first cell to connect to server and install requirements. Run the other cells to deploy interface.\n",
    "- #### To visualize outputs in real time, open the log console at: View > Show Log Console\n",
    "- #### Questions? E-mail gcc@lnls.br\n",
    "- #### Installation and User guide [available here](https://10.10.10.141/ssc/wiki/). "
   ]
  },
  {
   "cell_type": "code",
   "execution_count": 1,
   "metadata": {},
   "outputs": [
    {
     "name": "stdin",
     "output_type": "stream",
     "text": [
      "Username: yuri.tonin\n"
     ]
    },
    {
     "name": "stdout",
     "output_type": "stream",
     "text": [
      "Password:\n"
     ]
    },
    {
     "name": "stdin",
     "output_type": "stream",
     "text": [
      " ············\n"
     ]
    },
    {
     "name": "stdout",
     "output_type": "stream",
     "text": [
      "/home/ABTLUS/yuri.tonin/.local/lib/python3.6/site-packages/sscCdi-0.1.5-py3.6-linux-ppc64le.egg/sscCdi\n",
      "to be done!\n",
      "/home/ABTLUS/yuri.tonin/.local/lib/python3.6/site-packages/sscRaft/lib/libraft.cpython-36m-powerpc64le-linux-gnu.so\n"
     ]
    }
   ],
   "source": [
    "%matplotlib widget\n",
    "import sscInstall\n",
    "server = sscInstall.connect_server()\n",
    "# sscInstall.install_jupyter(server,beamline='caterete',force_install=False,vCdi='0.1.12',vPtycho='1.0.2',vPimega='0.0.6',vRaft='1.0.3',vRadon='1.0.1',vResolution='1.2.3')\n",
    "from sscCdi import jupyter, ptycho_jupyter"
   ]
  },
  {
   "cell_type": "code",
   "execution_count": 2,
   "metadata": {},
   "outputs": [
    {
     "data": {
      "application/vnd.jupyter.widget-view+json": {
       "model_id": "1e6bfd3eec61419397b1a39fc3ee1c03",
       "version_major": 2,
       "version_minor": 0
      },
      "text/plain": [
       "VBox(children=(HBox(children=(RadioButtons(description='Machine', index=1, layout=Layout(width='70%'), options…"
      ]
     },
     "metadata": {},
     "output_type": "display_data"
    },
    {
     "data": {
      "application/vnd.jupyter.widget-view+json": {
       "model_id": "90d8865215744f7fb4044412a2af6fb9",
       "version_major": 2,
       "version_minor": 0
      },
      "text/plain": [
       "Tab(children=(Box(children=(Box(children=(Button(description='Save Inputs', layout=Layout(height='40px', width…"
      ]
     },
     "metadata": {},
     "output_type": "display_data"
    }
   ],
   "source": [
    "box,tabs, global_dict = ptycho_jupyter.deploy_tabs(server)\n",
    "display(box)\n",
    "tabs"
   ]
  },
  {
   "cell_type": "code",
   "execution_count": 3,
   "metadata": {},
   "outputs": [
    {
     "data": {
      "text/plain": [
       "{'ProposalPath': '/ibira/lnls/beamlines/caterete/apps/jupyter/00000000/data/ptycho2d/',\n",
       " 'Acquisition_Folders': ['SS61'],\n",
       " 'Projections': [0],\n",
       " 'beamline': 'CAT',\n",
       " 'GPUs': [0],\n",
       " 'Threads': 32,\n",
       " 'SerialRestauration': True,\n",
       " 'OldRestauration': True,\n",
       " 'DifpadCenter': [1345, 1375],\n",
       " 'DetectorROI': 1280,\n",
       " 'Binning': 4,\n",
       " 'ChipBorderRemoval': 5,\n",
       " 'AutoCrop': False,\n",
       " 'DetectorExposure': [False, 0.15],\n",
       " 'CentralMask': [False, 3],\n",
       " 'ProbeSupport': [300, 0, 0],\n",
       " 'f1': -0.001,\n",
       " 'Modes': 0,\n",
       " 'Phaseunwrap': [False, 3, [], []],\n",
       " 'FRC': False,\n",
       " 'Preview': True,\n",
       " 'SaveDifpads': 1,\n",
       " 'ReadRestauredDifpads': 0,\n",
       " 'SaveComplexObject': True,\n",
       " 'SaveObj': True,\n",
       " 'SaveProbe': True,\n",
       " 'InitialObj': '',\n",
       " 'InitialProbe': '',\n",
       " 'Algorithm1': {'Name': 'RAAR',\n",
       "  'Iterations': 100,\n",
       "  'TV': 0,\n",
       "  'Epsilon': 0.01,\n",
       "  'Beta': 0.995,\n",
       "  'ProbeCycles': 4,\n",
       "  'Batch': 64},\n",
       " 'Algorithm2': {'Name': 'GL',\n",
       "  'Iterations': 150,\n",
       "  'TV': 0.0001,\n",
       "  'Epsilon': 0.01,\n",
       "  'ObjBeta': 0.97,\n",
       "  'ProbeBeta': 0.95,\n",
       "  'Batch': 64},\n",
       " 'Algorithm3': {'Name': 'GL',\n",
       "  'Iterations': 10,\n",
       "  'TV': 0.001,\n",
       "  'Epsilon': 0.1,\n",
       "  'ProbeBeta': 0.5,\n",
       "  'ObjBeta': 0.5,\n",
       "  'Batch': 64},\n",
       " 'PreviewGCC': [False, ''],\n",
       " 'Seed': 10}"
      ]
     },
     "execution_count": 3,
     "metadata": {},
     "output_type": "execute_result"
    }
   ],
   "source": [
    "global_dict"
   ]
  }
 ],
 "metadata": {
  "kernelspec": {
   "display_name": "Python 3",
   "language": "python",
   "name": "python3"
  },
  "language_info": {
   "codemirror_mode": {
    "name": "ipython",
    "version": 3
   },
   "file_extension": ".py",
   "mimetype": "text/x-python",
   "name": "python",
   "nbconvert_exporter": "python",
   "pygments_lexer": "ipython3",
   "version": "3.6.9"
  }
 },
 "nbformat": 4,
 "nbformat_minor": 4
}
