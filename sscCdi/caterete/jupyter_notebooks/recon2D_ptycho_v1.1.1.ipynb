{
 "cells": [
  {
   "cell_type": "markdown",
   "metadata": {},
   "source": [
    "# GCC's ssc-cdi : Ptychography Interface for Cateretê, v1.1.1\n",
    " \n",
    "- #### Run first cell to connect to server and install requirements. Run the other cells to deploy interface.\n",
    "- #### To visualize outputs in real time, open the log console at: View > Show Log Console\n",
    "- #### Questions? E-mail gcc@lnls.br\n",
    "- #### Installation and User guide [available here](https://10.10.10.141/ssc/wiki/). "
   ]
  },
  {
   "cell_type": "code",
   "execution_count": 1,
   "metadata": {},
   "outputs": [
    {
     "name": "stdin",
     "output_type": "stream",
     "text": [
      "Username: yuri.tonin\n"
     ]
    },
    {
     "name": "stdout",
     "output_type": "stream",
     "text": [
      "Password:\n"
     ]
    },
    {
     "name": "stdin",
     "output_type": "stream",
     "text": [
      " ············\n"
     ]
    },
    {
     "name": "stdout",
     "output_type": "stream",
     "text": [
      "Installing packages @ Mafalda...\n",
      "Installing packages @ Bertha...\n",
      "\t pip config --user set global.extra-index-url http://gcc.lnls.br:3128/simple/\n",
      "\t pip config --user set global.trusted-host gcc.lnls.br\n",
      "\t pip install --upgrade  \"sscCdi\"==0.1.8\n",
      "\t pip install --upgrade  \"sscPtycho\"==1.0.2\n",
      "\t pip install --upgrade  \"sscPimega\"==0.0.6\n",
      "\t pip install --upgrade  \"sscRaft\"==1.0.3\n",
      "\t pip install --upgrade  \"sscRadon\"==1.0.0\n",
      "\t pip install --upgrade  \"sscResolution\"==1.2.3\n",
      "\t Done!\n",
      "/home/ABTLUS/yuri.tonin/.local/lib/python3.6/site-packages/sscCdi\n",
      "to be done!\n",
      "/home/ABTLUS/yuri.tonin/.local/lib/python3.6/site-packages/sscRaft/lib/libraft.cpython-36m-powerpc64le-linux-gnu.so\n"
     ]
    }
   ],
   "source": [
    "import os, sys\n",
    "sys.path.append(os.path.join(os.path.expanduser('~'),'.local','lib','python3.6'))\n",
    "%matplotlib widget\n",
    "import sscInstall\n",
    "server = sscInstall.connect_server()\n",
    "sscInstall.install_jupyter(server,beamline='caterete',force_install=False,vCdi='0.1.8',vPtycho='1.0.2',vPimega='0.0.6',vRaft='1.0.3',vRadon='1.0.0',vResolution='1.2.3')\n",
    "from sscCdi import jupyter, ptycho_jupyter"
   ]
  },
  {
   "cell_type": "code",
   "execution_count": 2,
   "metadata": {},
   "outputs": [
    {
     "data": {
      "application/vnd.jupyter.widget-view+json": {
       "model_id": "576cdf79b16e44b48451565b8f6fd5ad",
       "version_major": 2,
       "version_minor": 0
      },
      "text/plain": [
       "VBox(children=(HBox(children=(RadioButtons(description='Machine', index=1, layout=Layout(width='70%'), options…"
      ]
     },
     "metadata": {},
     "output_type": "display_data"
    },
    {
     "data": {
      "application/vnd.jupyter.widget-view+json": {
       "model_id": "6b51e6cd398f4837a6a6ca02ee212c05",
       "version_major": 2,
       "version_minor": 0
      },
      "text/plain": [
       "Tab(children=(Box(children=(Box(children=(Button(description='Save Inputs', layout=Layout(height='40px', width…"
      ]
     },
     "metadata": {},
     "output_type": "display_data"
    }
   ],
   "source": [
    "box,tabs, global_dict = ptycho_jupyter.deploy_tabs(server)\n",
    "display(box)\n",
    "tabs"
   ]
  },
  {
   "cell_type": "code",
   "execution_count": 5,
   "metadata": {},
   "outputs": [
    {
     "data": {
      "text/plain": [
       "{'ProposalPath': '/ibira/lnls/labs/tepui/proposals/20210062/yuri/yuri_ssc-cdi/00000000/data/ptycho3d/',\n",
       " 'Acquisition_Folders': ['complex_phantom'],\n",
       " 'Projections': [0],\n",
       " 'beamline': 'CAT',\n",
       " 'GPUs': [0],\n",
       " 'Threads': 32,\n",
       " 'SerialRestauration': True,\n",
       " 'OldRestauration': True,\n",
       " 'DifpadCenter': [1345, 1375],\n",
       " 'DetectorROI': 1280,\n",
       " 'Binning': 4,\n",
       " 'ChipBorderRemoval': 5,\n",
       " 'AutoCrop': False,\n",
       " 'DetectorExposure': [False, 0.15],\n",
       " 'CentralMask': [False, 3],\n",
       " 'ProbeSupport': [300, 0, 0],\n",
       " 'f1': -0.001,\n",
       " 'Modes': 0,\n",
       " 'Phaseunwrap': [False, 3, [], []],\n",
       " 'FRC': False,\n",
       " 'Preview': True,\n",
       " 'SaveDifpads': 0,\n",
       " 'ReadRestauredDifpads': 1,\n",
       " 'SaveComplexObject': True,\n",
       " 'SaveObj': True,\n",
       " 'SaveProbe': True,\n",
       " 'InitialObj': '',\n",
       " 'InitialProbe': '',\n",
       " 'Algorithm1': {'Name': 'RAAR',\n",
       "  'Iterations': 100,\n",
       "  'TV': 0,\n",
       "  'Epsilon': 0.01,\n",
       "  'Beta': 0.995,\n",
       "  'ProbeCycles': 4,\n",
       "  'Batch': 64},\n",
       " 'Algorithm2': {'Name': 'GL',\n",
       "  'Iterations': 150,\n",
       "  'TV': 0.0001,\n",
       "  'Epsilon': 0.01,\n",
       "  'ObjBeta': 0.97,\n",
       "  'ProbeBeta': 0.95,\n",
       "  'Batch': 64},\n",
       " 'Algorithm3': {'Name': 'GL',\n",
       "  'Iterations': 10,\n",
       "  'TV': 0.001,\n",
       "  'Epsilon': 0.1,\n",
       "  'ProbeBeta': 0.5,\n",
       "  'ObjBeta': 0.5,\n",
       "  'Batch': 64},\n",
       " 'PreviewGCC': [True,\n",
       "  '/ibira/lnls/labs/tepui/proposals/20210062/yuri/yuri_ssc-cdi/00000000/data/ptycho3d/'],\n",
       " 'Seed': 10}"
      ]
     },
     "execution_count": 5,
     "metadata": {},
     "output_type": "execute_result"
    }
   ],
   "source": [
    "# /ibira/lnls/labs/tepui/proposals/20210062/yuri/yuri_ssc-cdi/00000000/data/ptycho3d/\n",
    "global_dict[\"PreviewGCC\"]=[True,\"/ibira/lnls/labs/tepui/proposals/20210062/yuri/yuri_ssc-cdi/00000000/data/ptycho3d/\"]\n",
    "global_dict"
   ]
  }
 ],
 "metadata": {
  "kernelspec": {
   "display_name": "Python 3",
   "language": "python",
   "name": "python3"
  },
  "language_info": {
   "codemirror_mode": {
    "name": "ipython",
    "version": 3
   },
   "file_extension": ".py",
   "mimetype": "text/x-python",
   "name": "python",
   "nbconvert_exporter": "python",
   "pygments_lexer": "ipython3",
   "version": "3.6.9"
  }
 },
 "nbformat": 4,
 "nbformat_minor": 4
}
