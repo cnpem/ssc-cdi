{
 "cells": [
  {
   "cell_type": "markdown",
   "metadata": {
    "tags": []
   },
   "source": [
    "# GCC's ssc-cdi : Tomography Interface for Cateretê, v1.0.0\n",
    " \n",
    "- #### Run first cell to connect to server and install requirements. Run second cell to deploy interface.\n",
    "- #### To visualize outputs in real time, open the log console at: View > Show Log Console\n",
    "- #### Questions? E-mail gcc@lnls.br\n",
    "- #### Installation and User guide [available here](https://10.10.10.141/ssc/wiki/). \n",
    "- #### About sscPimega:\n",
    "    - Measurements done up to July 1st, 2022: use version sscPimega = '0.0.4'\n",
    "    - Measurements made between July 2nd and October 23rd, 2022: use version sscPimega = '0.0.6'\n",
    "    - Measurements made from October 24th, 2022: use version sscPimega = '0.1.1'\n",
    "<!-- - #### <center>Remember to restart the kernel every time you install a new version of a package! :) </center> -->\n"
   ]
  },
  {
   "cell_type": "code",
   "execution_count": 1,
   "metadata": {},
   "outputs": [
    {
     "name": "stdin",
     "output_type": "stream",
     "text": [
      "Username: yuri.tonin\n"
     ]
    },
    {
     "name": "stdout",
     "output_type": "stream",
     "text": [
      "Password:\n"
     ]
    },
    {
     "name": "stdin",
     "output_type": "stream",
     "text": [
      " ············\n"
     ]
    },
    {
     "name": "stdout",
     "output_type": "stream",
     "text": [
      "/home/ABTLUS/yuri.tonin/.local/lib/python3.6/site-packages/sscCdi\n",
      "to be done!\n",
      "/home/ABTLUS/yuri.tonin/.local/lib/python3.6/site-packages/sscRaft/lib/libraft.cpython-36m-powerpc64le-linux-gnu.so\n"
     ]
    },
    {
     "data": {
      "application/vnd.jupyter.widget-view+json": {
       "model_id": "e21f05ffa64e4775af2b202549eb4e57",
       "version_major": 2,
       "version_minor": 0
      },
      "text/plain": [
       "VBox(children=(HTML(value='<hr class=\"solid\" 2px #000>'), HBox(children=(RadioButtons(description='Contrast', …"
      ]
     },
     "metadata": {},
     "output_type": "display_data"
    },
    {
     "data": {
      "application/vnd.jupyter.widget-view+json": {
       "model_id": "f58403eadc9c46178503a10714963d5f",
       "version_major": 2,
       "version_minor": 0
      },
      "text/plain": [
       "Tab(children=(VBox(children=(VBox(children=(Text(value='/ibira/lnls/beamlines/caterete/apps/gcc-jupyter/000000…"
      ]
     },
     "metadata": {},
     "output_type": "display_data"
    }
   ],
   "source": [
    "install_packages = False\n",
    "%matplotlib widget\n",
    "import sscInstall, os\n",
    "server = sscInstall.connect_server()\n",
    "if install_packages:\n",
    "    print(\"The kernel will restart after installation. Please run the cell again using install_packages = False\")\n",
    "    sscInstall.install_jupyter(server,beamline='caterete',sscCdi='0.3.3',sscPtycho='1.0.2',sscPimega='0.1.1',sscRaft='1.0.3',sscRadon='1.0.0',sscResolution='1.2.3')\n",
    "    os._exit(00)\n",
    "from sscCdi import jupyter, tomo_jupyter\n",
    "header,tabs, input_variables_dict = tomo_jupyter.deploy_tabs(server)\n",
    "display(header,tabs)"
   ]
  },
  {
   "cell_type": "code",
   "execution_count": null,
   "metadata": {},
   "outputs": [],
   "source": []
  },
  {
   "cell_type": "code",
   "execution_count": null,
   "metadata": {},
   "outputs": [],
   "source": []
  },
  {
   "cell_type": "code",
   "execution_count": 3,
   "metadata": {},
   "outputs": [],
   "source": [
    "path = \"/ibira/lnls/labs/tepui/proposals/20210062/yuri/yuri_ssc-cdi/00000000/proc/recons/svwt_candb_mem2_01/svwt_candb_mem2_01_ordered_object.npy\"\n",
    "path2 = \"/ibira/lnls/labs/tepui/proposals/20210062/yuri/yuri_ssc-cdi/00000000/proc/recons/svwt_candb_mem2_01/Phase_cropped_sinogram.npy\"\n",
    "import numpy as np\n",
    "left = 234\n",
    "right = 236\n",
    "delta_y = 700\n",
    "top1 = 90\n",
    "top2 = 233\n",
    "\n",
    "data = np.load(path)\n",
    "\n",
    "frame = data[0,0:delta_y,left:-right]\n",
    "\n",
    "data1 = np.zeros((data.shape[0],frame.shape[0],frame.shape[1]))\n",
    "for i in range(data.shape[0]):\n",
    "    if i <= 100:\n",
    "        data1[i] = data[i,top1:top1+delta_y,left:-right]\n",
    "    else:\n",
    "        data1[i] = data[i,top2:top2+delta_y,left:-right]\n",
    "\n",
    "np.save(path2,data1)"
   ]
  },
  {
   "cell_type": "code",
   "execution_count": 6,
   "metadata": {},
   "outputs": [
    {
     "name": "stdout",
     "output_type": "stream",
     "text": [
      "Old shape:  (400, 700, 1136)\n",
      "New shape:  (400, 1000, 1436)\n"
     ]
    }
   ],
   "source": [
    "import numpy as np\n",
    "import matplotlib.pyplot as plt\n",
    "\n",
    "def pad_sinogram_frames(padding,sinogram):\n",
    "    # sinogram = np.load(path)\n",
    "    print(\"Old shape: \",sinogram.shape)\n",
    "    sinogram = np.pad(sinogram,((0,0),(padding,padding),(padding,padding)),mode='constant')\n",
    "    print(\"New shape: \",sinogram.shape)\n",
    "    return sinogram\n",
    "\n",
    "path2 = \"/ibira/lnls/labs/tepui/proposals/20210062/yuri/yuri_ssc-cdi/00000000/proc/recons/svwt_candb_mem2_01/Phase_equalized_sinogram.npy\"\n",
    "data = np.load(path2)\n",
    "data = pad_sinogram_frames(150,data)\n",
    "np.save(path2,data)"
   ]
  },
  {
   "cell_type": "code",
   "execution_count": null,
   "metadata": {},
   "outputs": [],
   "source": []
  },
  {
   "cell_type": "code",
   "execution_count": null,
   "metadata": {},
   "outputs": [],
   "source": []
  },
  {
   "cell_type": "code",
   "execution_count": null,
   "metadata": {},
   "outputs": [],
   "source": []
  },
  {
   "cell_type": "code",
   "execution_count": null,
   "metadata": {},
   "outputs": [],
   "source": []
  },
  {
   "cell_type": "code",
   "execution_count": 10,
   "metadata": {},
   "outputs": [
    {
     "name": "stdout",
     "output_type": "stream",
     "text": [
      "Old shape:  (400, 700, 1136)\n",
      "New shape:  (400, 1000, 1436)\n"
     ]
    }
   ],
   "source": [
    "\n",
    "import numpy as np\n",
    "import matplotlib.pyplot as plt\n",
    "\n",
    "def pad_sinogram_frames(padding,path):\n",
    "    sinogram = np.load(path)\n",
    "    print(\"Old shape: \",sinogram.shape)\n",
    "    sinogram = np.pad(sinogram,((0,0),(padding,padding),(padding,padding)))\n",
    "    print(\"New shape: \",sinogram.shape)\n",
    "    np.save(path,sinogram)\n",
    "    return sinogram\n",
    "\n",
    "def pad_sinogram_frames(padding,sinogram):\n",
    "    # sinogram = np.load(path)\n",
    "    print(\"Old shape: \",sinogram.shape)\n",
    "    sinogram = np.pad(sinogram,((0,0),(padding,padding),(padding,padding)),mode='edge')\n",
    "    print(\"New shape: \",sinogram.shape)\n",
    "    return sinogram\n",
    "\n",
    "def func_old(x,alpha):\n",
    "    func = 1 - np.exp(alpha*x)\n",
    "    func = func / np.max(np.abs(func)) + 1\n",
    "    return func\n",
    "\n",
    "def func(x,alpha,cut=8):\n",
    "    maximum = np.max(np.where(np.abs(x)<cut,0,1 - np.exp(alpha*x)))\n",
    "    print(maximum)\n",
    "    func = np.where(np.abs(x) < cut,maximum,1 - np.exp(alpha*x))\n",
    "    func = func / np.max(np.abs(func)) + 1\n",
    "    return func\n",
    "\n",
    "def makeGaussian(size, fwhm = 3, center=None):\n",
    "    \"\"\" Make a square gaussian kernel.\n",
    "\n",
    "    size is the length of a side of the square\n",
    "    fwhm is full-width-half-maximum, which\n",
    "    can be thought of as an effective radius.\n",
    "    \"\"\"\n",
    "\n",
    "    x = np.arange(0, size, 1, float)\n",
    "    y = x[:,np.newaxis]\n",
    "\n",
    "    if center is None:\n",
    "        x0 = y0 = size // 2\n",
    "    else:\n",
    "        x0 = center[0]\n",
    "        y0 = center[1]\n",
    "\n",
    "    return np.exp(-4*np.log(2) * ((x-x0)**2 + (y-y0)**2) / fwhm**2)\n",
    "\n",
    "# define normalized 2D gaussian\n",
    "\n",
    "# path2 = \"/ibira/lnls/labs/tepui/proposals/20210062/yuri/yuri_ssc-cdi/00000000/proc/recons/svwt_candb_mem2_01/Phase_cropped_sinogram.npy\"\n",
    "path2 = \"/ibira/lnls/labs/tepui/proposals/20210062/yuri/yuri_ssc-cdi/00000000/proc/recons/svwt_candb_mem2_01/Phase_unwrapped_sinogram.npy\"\n",
    "\n",
    "data3d = np.load(path2)\n",
    "data = data3d[0]\n",
    "\n",
    "if 0:\n",
    "    N = 10\n",
    "    alpha = 0.5\n",
    "    a = 0\n",
    "    b = a\n",
    "    x = np.linspace(-N,N,data.shape[1])\n",
    "    func_x = np.where(x>=0,func(x,alpha,cut=a) , func(x,-alpha,cut=a))\n",
    "    y = np.linspace(-N,N,data.shape[0])\n",
    "    func_y = np.where(y>=0,func(y,alpha,cut=b) , func(y,-alpha,cut=b))\n",
    "    \n",
    "    meshY, meshX = np.meshgrid(func_x,func_y)\n",
    "    \n",
    "    border_attenuation_matrix = meshY*meshX\n",
    "    # border_attenuation_matrix = border_attenuation_matrix/np.max(border_attenuation_matrix)\n",
    "else:\n",
    "    sigma = 2\n",
    "    \n",
    "    def gaus2d(x=0, y=0, mx=0, my=0, sx=1, sy=1):\n",
    "        return 1. / (2. * np.pi * sx * sy) * np.exp(-((x - mx)**2. / (2. * sx**2.) + (y - my)**2. / (2. * sy**2.)))\n",
    "    \n",
    "    x = np.linspace(-5, 5,data.shape[1])\n",
    "    y = np.linspace(-5, 5,data.shape[0])\n",
    "    x, y = np.meshgrid(x, y) # get 2D variables instead of 1D\n",
    "    border_attenuation_matrix = gaus2d(x, y,sx=sigma,sy=sigma)\n",
    "\n",
    "filter_matrix = np.zeros_like(data)    \n",
    "filter_matrix[:] = border_attenuation_matrix\n",
    "data3d = data3d*border_attenuation_matrix\n",
    "\n",
    "data3d = pad_sinogram_frames(150,data3d)\n",
    "\n",
    "np.save(path2,data3d)\n"
   ]
  },
  {
   "cell_type": "code",
   "execution_count": null,
   "metadata": {},
   "outputs": [],
   "source": []
  },
  {
   "cell_type": "code",
   "execution_count": null,
   "metadata": {},
   "outputs": [],
   "source": []
  },
  {
   "cell_type": "code",
   "execution_count": null,
   "metadata": {},
   "outputs": [],
   "source": []
  },
  {
   "cell_type": "code",
   "execution_count": null,
   "metadata": {},
   "outputs": [],
   "source": []
  },
  {
   "cell_type": "code",
   "execution_count": null,
   "metadata": {},
   "outputs": [],
   "source": []
  },
  {
   "cell_type": "code",
   "execution_count": null,
   "metadata": {},
   "outputs": [],
   "source": [
    "import numpy\n",
    "def get_extrapolated_sinogram(sino, pad, L, R):\n",
    "    if pad==0:\n",
    "        return sino\n",
    "    else:\n",
    "        nrays = sino.shape[0]\n",
    "        nangles = sino.shape[1]\n",
    "        n = nrays + 2*pad\n",
    "        s = numpy.vstack((numpy.zeros([pad,nangles]),sino,numpy.zeros([pad,nangles])) )\n",
    "        t = numpy.linspace(-1,1,n)\n",
    "        left = (1.0*(( t < t[pad] ) )) \n",
    "        right =  1.0 * (t > t[nrays+pad-1])\n",
    "        L_ = 1\n",
    "        R_ = 1\n",
    "        p = numpy.array( [ s[:,j] + L_*s[pad,j]*numpy.exp(L*(t-t[pad]))*left + R_*s[nrays+pad-1,j]*right*numpy.exp(-R*(t-t[nrays+pad-1])) for j in range(nangles)] ).T\n",
    "        return p\n",
    "    \n",
    "size_rays = data.shape[1]*data.shape[2]\n",
    "n_angles = data.shape[0]\n",
    "\n",
    "print(data.shape[1],data.shape[2])\n",
    "\n",
    "sino = np.zeros((size_rays,n_angles))\n",
    "    \n",
    "for i in range(data.shape[0]):\n",
    "    if i+1%10==0: print(i)\n",
    "    sino[:,i] = data[i,:,:].flatten()\n",
    "\n",
    "L    = 10\n",
    "R    = 10\n",
    "pad  = 150\n",
    "sino_ext = get_extrapolated_sinogram( sino, pad, L, R)\n",
    "\n",
    "print(sino.shape,sino_ext.shape,sino.shape[0]-sino_ext.shape[0])\n",
    "\n",
    "print(sino_ext.shape[0]/(data.shape[1]-pad))\n",
    "\n",
    "new_shape = (int(sino_ext.shape[0]/(data.shape[1]-pad)),int(sino_ext.shape[0]/(data.shape[2]-pad)),sino_ext.shape[1])\n",
    "print(\"New shape\", new_shape)\n",
    "sino_reshaped = np.reshape(sino_ext, new_shape)\n",
    "\n",
    "print(sino_reshaped.shape)\n",
    "\n",
    "# import matplotlib.pyplot as plt\n",
    "# fig, ax = plt.subplots(1,2)\n",
    "# ax1,ax2 = ax.ravel()\n",
    "# ax1.imshow(sino)\n",
    "# ax2.imshow(sino_ext)"
   ]
  },
  {
   "cell_type": "code",
   "execution_count": null,
   "metadata": {},
   "outputs": [],
   "source": []
  },
  {
   "cell_type": "code",
   "execution_count": 3,
   "metadata": {},
   "outputs": [
    {
     "name": "stdout",
     "output_type": "stream",
     "text": [
      "0\n",
      "10\n",
      "20\n",
      "30\n",
      "40\n",
      "50\n",
      "60\n",
      "70\n",
      "80\n",
      "90\n",
      "100\n",
      "110\n",
      "120\n",
      "130\n",
      "140\n",
      "150\n",
      "160\n",
      "170\n",
      "180\n",
      "190\n",
      "200\n",
      "210\n",
      "220\n",
      "230\n",
      "240\n",
      "250\n",
      "260\n",
      "270\n",
      "280\n",
      "290\n",
      "300\n",
      "310\n",
      "320\n",
      "330\n",
      "340\n",
      "350\n",
      "360\n",
      "370\n",
      "380\n",
      "390\n"
     ]
    }
   ],
   "source": [
    "import matplotlib.pyplot as plt\n",
    "import numpy as np\n",
    "def auto_crop_noise_borders(complex_array):\n",
    "    \"\"\" Crop noisy borders of the reconstructed object using a local entropy map of the phase\n",
    "\n",
    "    Args:\n",
    "        complex_array : reconstructed object\n",
    "\n",
    "    Returns:\n",
    "        cropped_array : object without noisy borders\n",
    "    \"\"\"    \n",
    "    import skimage.filters\n",
    "    from skimage.morphology import disk\n",
    "\n",
    "    img = np.angle(complex_array)  # get phase to perform cropping analysis\n",
    "\n",
    "    img_gradient = skimage.filters.scharr(img)\n",
    "    img_gradient = skimage.util.img_as_ubyte(img_gradient / img_gradient.max())\n",
    "    local_entropy_map = skimage.filters.rank.entropy(img_gradient, disk(5)) # disk gives size of the region used to calculate local entropy\n",
    "\n",
    "    smallest_img_dimension = 200\n",
    "    max_crop = img.shape[0] // 2 - smallest_img_dimension // 2  # smallest image after cropping will have 2*100 pixels in each direction\n",
    "\n",
    "    crop_sizes = range(1, max_crop, 10)\n",
    "\n",
    "    mean_list = []\n",
    "    for c in (crop_sizes):\n",
    "        \"\"\"\n",
    "        mean is a good metric since we expect it to decrease as high entropy border\n",
    "        gets cropped, and increase again as the low entropy smooth background gets cropped.\n",
    "        it may become an issue if the sample is displaced from the center, though\n",
    "        \"\"\"\n",
    "        mean = (local_entropy_map[c:-c, c:-c].ravel()).mean()\n",
    "        mean_list.append(mean)\n",
    "\n",
    "    best_crop = crop_sizes[np.where(mean_list == min(mean_list))[0][0]]\n",
    "\n",
    "    cropped_array = complex_array[best_crop:-best_crop, best_crop:-best_crop]  # crop original complex image\n",
    "\n",
    "    if 0:  # debug / see results\n",
    "        figure, subplot = plt.subplots(1, 3, figsize=(10, 10), dpi=200)\n",
    "        subplot[0].imshow(img)\n",
    "        subplot[1].imshow(local_entropy_map)\n",
    "        subplot[2].imshow(np.angle(cropped_array))\n",
    "        subplot[0].set_title('Original')\n",
    "        subplot[1].set_title('Local entropy')\n",
    "\n",
    "        subplot[2].set_title('Cropped')\n",
    "\n",
    "        figure, subplot = plt.subplots()\n",
    "        subplot.plot(crop_sizes, mean_list)\n",
    "        subplot.set_xlabel('Crop size')\n",
    "        subplot.set_ylabel('Mean')\n",
    "        subplot.grid()\n",
    "\n",
    "    # if cropped_array.shape[0] % 2 != 0:  # object array must have even number of pixels to avoid bug during the phase unwrapping later on\n",
    "    #     cropped_array = cropped_array[0:-1, :]\n",
    "    # if cropped_array.shape[1] % 2 != 0:\n",
    "    #     cropped_array = cropped_array[:, 0:-1]\n",
    "\n",
    "    return best_crop\n",
    "\n",
    "# sinogram = np.ones((15,100,100))\n",
    "path = \"/ibira/lnls/labs/tepui/proposals/20210062/yuri/yuri_ssc-cdi/00000000/proc/recons/svwt_candb_mem2_01/Phase_cropped_sinogram.npy\"\n",
    "sinogram = np.load(path)\n",
    "\n",
    "for frame in range(sinogram.shape[0]):\n",
    "    if frame%10==0: print(frame)\n",
    "    min_crop_value = []\n",
    "    best_crop = auto_crop_noise_borders(sinogram[frame,:,:])\n",
    "    min_crop_value.append(best_crop)\n",
    "    # print(best_crop)\n",
    "min_crop = min(min_crop_value)\n",
    "\n",
    "cropped_sinogram = sinogram[:, min_crop:-min_crop-1, min_crop:-min_crop-1]\n",
    "\n",
    "if cropped_sinogram.shape[1] % 2 != 0:  # object array must have even number of pixels to avoid bug during the phase unwrapping later on\n",
    "    cropped_sinogram = cropped_sinogram[:,0:-1, :]\n",
    "if cropped_sinogram.shape[2] % 2 != 0:\n",
    "    cropped_sinogram = cropped_sinogram[:,:, 0:-1]"
   ]
  }
 ],
 "metadata": {
  "kernelspec": {
   "display_name": "Python 3",
   "language": "python",
   "name": "python3"
  },
  "language_info": {
   "codemirror_mode": {
    "name": "ipython",
    "version": 3
   },
   "file_extension": ".py",
   "mimetype": "text/x-python",
   "name": "python",
   "nbconvert_exporter": "python",
   "pygments_lexer": "ipython3",
   "version": "3.6.9"
  }
 },
 "nbformat": 4,
 "nbformat_minor": 4
}
