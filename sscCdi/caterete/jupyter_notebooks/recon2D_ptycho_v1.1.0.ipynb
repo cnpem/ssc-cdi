{
 "cells": [
  {
   "cell_type": "markdown",
   "metadata": {},
   "source": [
    "# GCC's ssc-cdi : Ptychography Interface for Cateretê, v1.1.0\n",
    " \n",
    "- #### Run first cell to connect to server and install requirements. Run the other cells to deploy interface.\n",
    "- #### To visualize outputs in real time, open the log console at: View > Show Log Console\n",
    "- #### Questions? E-mail gcc@lnls.br\n",
    "- #### Installation and User guide [available here](https://10.10.10.141/ssc/wiki/). "
   ]
  },
  {
   "cell_type": "code",
   "execution_count": 1,
   "metadata": {},
   "outputs": [
    {
     "name": "stdin",
     "output_type": "stream",
     "text": [
      "Username: yuri.tonin\n"
     ]
    },
    {
     "name": "stdout",
     "output_type": "stream",
     "text": [
      "Password:\n"
     ]
    },
    {
     "name": "stdin",
     "output_type": "stream",
     "text": [
      " ············\n"
     ]
    },
    {
     "name": "stdout",
     "output_type": "stream",
     "text": [
      "/home/ABTLUS/yuri.tonin/.local/lib/python3.6/site-packages/sscCdi\n",
      "to be done!\n",
      "/home/ABTLUS/yuri.tonin/.local/lib/python3.6/site-packages/sscRaft/lib/libraft.cpython-36m-powerpc64le-linux-gnu.so\n"
     ]
    }
   ],
   "source": [
    "%matplotlib widget\n",
    "import sscInstall\n",
    "server = sscInstall.connect_server()\n",
    "# sscInstall.install_jupyter(server,beamline='caterete',force_install=False,vCdi='0.1.4',vPtycho='1.0.2',vPimega='0.0.4',vRaft='1.0.3',vRadon='1.0.0',vResolution='1.2.3')\n",
    "from sscCdi import jupyter, ptycho_jupyter"
   ]
  },
  {
   "cell_type": "code",
   "execution_count": 2,
   "metadata": {},
   "outputs": [
    {
     "data": {
      "application/vnd.jupyter.widget-view+json": {
       "model_id": "2716935b941542cc9f42744c1414a8e7",
       "version_major": 2,
       "version_minor": 0
      },
      "text/plain": [
       "VBox(children=(HBox(children=(RadioButtons(description='Machine', index=1, layout=Layout(width='70%'), options…"
      ]
     },
     "metadata": {},
     "output_type": "display_data"
    },
    {
     "data": {
      "application/vnd.jupyter.widget-view+json": {
       "model_id": "38f8ff6eb32244498da29f752b70ce34",
       "version_major": 2,
       "version_minor": 0
      },
      "text/plain": [
       "Tab(children=(Box(children=(Box(children=(Button(description='Save Inputs', layout=Layout(height='40px', width…"
      ]
     },
     "metadata": {},
     "output_type": "display_data"
    }
   ],
   "source": [
    "box,tabs, global_dict = ptycho_jupyter.deploy_tabs(server)\n",
    "display(box)\n",
    "tabs"
   ]
  },
  {
   "cell_type": "code",
   "execution_count": 5,
   "metadata": {},
   "outputs": [
    {
     "data": {
      "text/plain": [
       "{'ProposalPath': '/ibira/lnls/beamlines/caterete/proposals/20210127/data/ptycho2d/',\n",
       " 'Acquisition_Folders': ['tissuewt_113'],\n",
       " 'Projections': [0],\n",
       " 'beamline': 'CAT',\n",
       " 'GPUs': [0],\n",
       " 'Threads': 32,\n",
       " 'SerialRestauration': True,\n",
       " 'OldRestauration': True,\n",
       " 'DifpadCenter': [1456, 1423],\n",
       " 'DetectorROI': 1280,\n",
       " 'Binning': 4,\n",
       " 'ChipBorderRemoval': 5,\n",
       " 'AutoCrop': False,\n",
       " 'DetectorExposure': [False, 0.15],\n",
       " 'CentralMask': [False, 3],\n",
       " 'ProbeSupport': [300, 0, 0],\n",
       " 'f1': -0.001,\n",
       " 'Modes': 0,\n",
       " 'Phaseunwrap': [True, 3, [611, 1316], [764, 581]],\n",
       " 'FRC': False,\n",
       " 'Preview': True,\n",
       " 'SaveDifpads': 1,\n",
       " 'ReadRestauredDifpads': 0,\n",
       " 'SaveComplexObject': True,\n",
       " 'SaveObj': True,\n",
       " 'SaveProbe': True,\n",
       " 'InitialObj': '',\n",
       " 'InitialProbe': '',\n",
       " 'Algorithm1': {'Name': 'RAAR',\n",
       "  'Iterations': 100,\n",
       "  'TV': 0,\n",
       "  'Epsilon': 0.01,\n",
       "  'Beta': 0.995,\n",
       "  'ProbeCycles': 4,\n",
       "  'Batch': 64},\n",
       " 'Algorithm2': {'Name': 'GL',\n",
       "  'Iterations': 150,\n",
       "  'TV': 0.0001,\n",
       "  'Epsilon': 0.01,\n",
       "  'ObjBeta': 0.97,\n",
       "  'ProbeBeta': 0.95,\n",
       "  'Batch': 64},\n",
       " 'Algorithm3': {'Name': 'GL',\n",
       "  'Iterations': 10,\n",
       "  'TV': 0.001,\n",
       "  'Epsilon': 0.1,\n",
       "  'ProbeBeta': 0.5,\n",
       "  'ObjBeta': 0.5,\n",
       "  'Batch': 64},\n",
       " 'PreviewGCC': [False, ''],\n",
       " 'Seed': 10}"
      ]
     },
     "execution_count": 5,
     "metadata": {},
     "output_type": "execute_result"
    }
   ],
   "source": [
    "global_dict"
   ]
  },
  {
   "cell_type": "code",
   "execution_count": null,
   "metadata": {},
   "outputs": [],
   "source": []
  },
  {
   "cell_type": "code",
   "execution_count": null,
   "metadata": {},
   "outputs": [],
   "source": []
  }
 ],
 "metadata": {
  "kernelspec": {
   "display_name": "Python 3",
   "language": "python",
   "name": "python3"
  },
  "language_info": {
   "codemirror_mode": {
    "name": "ipython",
    "version": 3
   },
   "file_extension": ".py",
   "mimetype": "text/x-python",
   "name": "python",
   "nbconvert_exporter": "python",
   "pygments_lexer": "ipython3",
   "version": "3.6.9"
  }
 },
 "nbformat": 4,
 "nbformat_minor": 4
}
