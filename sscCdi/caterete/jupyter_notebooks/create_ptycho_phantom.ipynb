{
 "cells": [
  {
   "cell_type": "markdown",
   "metadata": {},
   "source": [
    "## Create Donut"
   ]
  },
  {
   "cell_type": "code",
   "execution_count": 1,
   "metadata": {},
   "outputs": [
    {
     "name": "stderr",
     "output_type": "stream",
     "text": [
      "/home/ABTLUS/yuri.tonin/.local/lib/python3.6/site-packages/pkg_resources/__init__.py:119: PkgResourcesDeprecationWarning: 1.0.0. is an invalid version and will not be supported in a future release\n",
      "  PkgResourcesDeprecationWarning,\n"
     ]
    },
    {
     "name": "stdout",
     "output_type": "stream",
     "text": [
      "--> ssc-phantom: particles generated / elapsed: 43.36485028266907\n",
      "sscPhantom: creating 2 128x128x128 shared arrays (Phantom)\n",
      "Done: 128 images within 0.7463972568511963 sec\n",
      "--> ssc-phantom: donuts created / elapsed: 0.7465329170227051\n",
      "Type:  <class 'numpy.ndarray'>\n"
     ]
    }
   ],
   "source": [
    "import numpy as np\n",
    "from matplotlib import pyplot as plt\n",
    "from skimage import data, img_as_float, color, exposure\n",
    "from skimage.restoration import unwrap_phase\n",
    "import sscPhantom\n",
    "import numpy\n",
    "\n",
    "def match_colorbar(ax):\n",
    "    from mpl_toolkits.axes_grid1 import make_axes_locatable\n",
    "    return make_axes_locatable(ax).append_axes(\"right\", size=\"5%\", pad=0.1)\n",
    "\n",
    "def RemoveGrad_new( img, mask ):\n",
    "    xy = numpy.argwhere( mask > 0)\n",
    "    n = len(xy)\n",
    "    y = xy[:,0].reshape([n,1])\n",
    "    x = xy[:,1].reshape([n,1])\n",
    "    F = numpy.array([ img[y[k],x[k]] for k in range(n) ]).reshape([n,1])\n",
    "    mat = numpy.zeros([3,3])\n",
    "    vec = numpy.zeros([3,1])\n",
    "    mat[0,0] = (x*x).sum()\n",
    "    mat[0,1] = (x*y).sum()\n",
    "    mat[0,2] = (x).sum()\n",
    "    mat[1,0] = mat[0,1]\n",
    "    mat[1,1] = (y*y).sum()\n",
    "    mat[1,2] = (y).sum()\n",
    "    mat[2,0] = mat[0,2]\n",
    "    mat[2,1] = mat[1,2]\n",
    "    mat[2,2] = n\n",
    "    vec[0,0] = (x*F).sum()\n",
    "    vec[1,0] = (y*F).sum()\n",
    "    vec[2,0] = (F).sum()\n",
    "    eye = numpy.eye(mat.shape[0])\n",
    "    eps = 1e-5 # valor tirado do *\n",
    "    if 1: # com regularização\n",
    "        abc = numpy.dot( numpy.linalg.inv(mat + eps * eye), vec).flatten() \n",
    "    else: # sem regularização\n",
    "        abc = numpy.dot( numpy.linalg.inv(mat), vec).flatten()\n",
    "    a = abc[0]\n",
    "    b = abc[1]\n",
    "    c = abc[2]\n",
    "    new   = numpy.zeros(img.shape)\n",
    "    row   = new.shape[0]\n",
    "    col   = new.shape[1]\n",
    "    XX,YY = numpy.meshgrid(numpy.arange(col),numpy.arange(row))\n",
    "    new[y, x] = img[ y, x] - ( a*XX[y,x] + b*YY[y,x] + c )\n",
    "    print('Fitted',a,b,c)\n",
    "    #for k in range(n):\n",
    "    #    new[y[k], x[k]] = img[ y[k], x[k]] - ( a*x[k] + b*y[k] + c )\n",
    "    return new, a,b,c\n",
    "\n",
    "N=256\n",
    "\n",
    "# img = sscPhantom.mario.createMario(shape=N, noise=False, zoom=0.5)\n",
    "\n",
    "params = { 'HowMany': 10,\n",
    "           'radius': 0.07,\n",
    "           'Rtorus': 0.5,\n",
    "           'rtorus': 0.1}\n",
    "\n",
    "nproc  = 16\n",
    "energy = 7  #Kev\n",
    "phantom1, phantom2 = sscPhantom.donuts.createDonuts( 128, nproc, energy, params )\n",
    "phantom = phantom1 + phantom2\n",
    "\n",
    "print('Type: ',type(phantom))"
   ]
  },
  {
   "cell_type": "markdown",
   "metadata": {},
   "source": [
    "## Get projections"
   ]
  },
  {
   "cell_type": "code",
   "execution_count": null,
   "metadata": {},
   "outputs": [],
   "source": [
    "# Define probe\n",
    "\n",
    "# Define probe positions\n",
    "\n",
    "# Rotate phantom\n",
    "\n",
    "# Get projection \n",
    "\n",
    "# Rescale frame (real and imag parts)\n",
    "\n",
    "\n",
    "\n",
    "# Load an image as a floating-point grayscale\n",
    "image0 = img_as_float(img)\n",
    "image0 = exposure.rescale_intensity(image0, out_range=(0, 4 * np.pi))\n",
    "\n",
    "# Wrap frame\n",
    "\"\"\" Unwrap \"\"\"\n",
    "# x = np.linspace(0,image0.shape[0]-1,image0.shape[0])\n",
    "# X, Y = np.meshgrid(x,x)\n",
    "# a=0.1\n",
    "# b=0.2\n",
    "# c=2\n",
    "# plane = a*X+b*Y +c\n",
    "# image = image0 + plane\n",
    "\n",
    "# Get ptycho projection \"box\"\n",
    "\n",
    "# Get difpad\n",
    "\n",
    "# Store difpad"
   ]
  }
 ],
 "metadata": {
  "kernelspec": {
   "display_name": "Python 3",
   "language": "python",
   "name": "python3"
  },
  "language_info": {
   "codemirror_mode": {
    "name": "ipython",
    "version": 3
   },
   "file_extension": ".py",
   "mimetype": "text/x-python",
   "name": "python",
   "nbconvert_exporter": "python",
   "pygments_lexer": "ipython3",
   "version": "3.6.9"
  }
 },
 "nbformat": 4,
 "nbformat_minor": 4
}
