{
 "cells": [
  {
   "cell_type": "markdown",
   "metadata": {
    "tags": []
   },
   "source": [
    "# GCC's ssc-cdi : Tomography Interface for Cateretê, v0.2.3\n",
    " \n",
    "- #### Run first cell to connect to server and install requirements. Run second cell to deploy interface.\n",
    "- #### To visualize outputs in real time, open the log console at: View > Show Log Console\n",
    "- #### Questions? E-mail gcc@lnls.br\n",
    "- #### Installation and User guide [available here](https://10.10.10.141/ssc/wiki/). \n",
    "- #### About sscPimega:\n",
    "    - Measurements done up to July 1st, 2022: use version sscPimega = '0.0.4'\n",
    "    - Measurements made between July 2nd and October 23rd, 2022: use version sscPimega = '0.0.6'\n",
    "    - Measurements made from October 24th, 2022: use version sscPimega = '0.1.1'"
   ]
  },
  {
   "cell_type": "code",
   "execution_count": 1,
   "metadata": {},
   "outputs": [
    {
     "name": "stdin",
     "output_type": "stream",
     "text": [
      "Username: yuri.tonin\n"
     ]
    },
    {
     "name": "stdout",
     "output_type": "stream",
     "text": [
      "Password:\n"
     ]
    },
    {
     "name": "stdin",
     "output_type": "stream",
     "text": [
      " ············\n"
     ]
    },
    {
     "name": "stdout",
     "output_type": "stream",
     "text": [
      "/home/ABTLUS/yuri.tonin/.local/lib/python3.6/site-packages/sscCdi-0.1.14-py3.6-linux-ppc64le.egg/sscCdi\n",
      "to be done!\n",
      "/home/ABTLUS/yuri.tonin/.local/lib/python3.6/site-packages/sscRaft/lib/libraft.cpython-36m-powerpc64le-linux-gnu.so\n"
     ]
    },
    {
     "data": {
      "application/vnd.jupyter.widget-view+json": {
       "model_id": "aa048f9b7f704378bbfb71b49284ed6e",
       "version_major": 2,
       "version_minor": 0
      },
      "text/plain": [
       "VBox(children=(HTML(value='<hr class=\"solid\" 2px #000>'), HBox(children=(RadioButtons(description='Contrast', …"
      ]
     },
     "metadata": {},
     "output_type": "display_data"
    },
    {
     "data": {
      "application/vnd.jupyter.widget-view+json": {
       "model_id": "ff1006a88d1646968a7c74344fce4d7e",
       "version_major": 2,
       "version_minor": 0
      },
      "text/plain": [
       "Tab(children=(VBox(children=(VBox(children=(Text(value='/ibira/lnls/beamlines/caterete/apps/gcc-jupyter/000000…"
      ]
     },
     "metadata": {},
     "output_type": "display_data"
    }
   ],
   "source": [
    "%matplotlib widget\n",
    "import sscInstall\n",
    "server = sscInstall.connect_server()\n",
    "# sscInstall.install_jupyter(server,beamline='caterete',vCdi='0.1.14',vPtycho='1.0.2',vPimega='0.1.1',vRaft='1.0.3',vRadon='1.0.0',vResolution='1.2.3')\n",
    "from sscCdi import jupyter, tomo_jupyter\n",
    "header,tabs, input_variables_dict = tomo_jupyter.deploy_tabs(server)\n",
    "display(header,tabs)"
   ]
  },
  {
   "cell_type": "code",
   "execution_count": 2,
   "metadata": {},
   "outputs": [
    {
     "data": {
      "text/plain": [
       "{'00_versions': 'sscCdi=0.1.14,sscPimega=0.1.1,sscResolution=1.2.3,sscRaft=1.0.3,sscRadon=1.0.0',\n",
       " 'jupyter_folder': '/ibira/lnls/beamlines/caterete/apps/gcc-jupyter/',\n",
       " 'ibira_data_path': '/ibira/lnls/beamlines/caterete/apps/gcc-jupyter/00000000/data/ptycho3d/',\n",
       " 'folders_list': ['phantom_complex'],\n",
       " 'sinogram_path': '/ibira/lnls/beamlines/caterete/apps/gcc-jupyter/00000000/proc/recons/phantom_complex/object_phantom_complex.npy',\n",
       " 'processing_steps': {'Sort': False,\n",
       "  'Crop': False,\n",
       "  'Unwrap': False,\n",
       "  'Wiggle': False,\n",
       "  'Tomo': False,\n",
       "  'Equalize Frames': False,\n",
       "  'Equalize Recon': False},\n",
       " 'contrast_type': 'Phase',\n",
       " 'top_crop': 0,\n",
       " 'bottom_crop': 1,\n",
       " 'left_crop': 0,\n",
       " 'right_crop': 1,\n",
       " 'bad_frames_before_unwrap': [],\n",
       " 'unwrap_iterations': 0,\n",
       " 'unwrap_non_negativity': False,\n",
       " 'unwrap_gradient_removal': False,\n",
       " 'bad_frames_before_equalization': [],\n",
       " 'equalize_invert': False,\n",
       " 'equalize_gradient': 0,\n",
       " 'equalize_outliers': 0,\n",
       " 'equalize_global_offset': False,\n",
       " 'equalize_local_offset': [0, None, 0, None],\n",
       " 'bad_frames_before_cHull': [],\n",
       " 'chull_invert': False,\n",
       " 'chull_tolerance': 1e-05,\n",
       " 'chull_opening': 10,\n",
       " 'chull_erosion': 10,\n",
       " 'chull_param': 10,\n",
       " 'wiggle_sinogram_selection': 'cropped',\n",
       " 'bad_frames_before_wiggle': [],\n",
       " 'wiggle_reference_frame': 1,\n",
       " 'wiggle_ctr_of_mas': [[], []],\n",
       " 'CPUs': 32,\n",
       " 'tomo_regularization': False,\n",
       " 'tomo_regularization_param': 0.001,\n",
       " 'tomo_iterations': 10,\n",
       " 'tomo_algorithm': 'EEM',\n",
       " 'GPUs': [],\n",
       " 'tomo_threshold': 0.0,\n",
       " 'tomo_remove_outliers': 0,\n",
       " 'tomo_local_offset': [],\n",
       " 'output_folder': '/ibira/lnls/beamlines/caterete/apps/gcc-jupyter/00000000/proc/recons/phantom_complex',\n",
       " 'complex_object_filepath': '/ibira/lnls/beamlines/caterete/apps/gcc-jupyter/00000000/proc/recons/phantom_complex/phantom_complex_object.npy',\n",
       " 'ordered_angles_filepath': '/ibira/lnls/beamlines/caterete/apps/gcc-jupyter/00000000/proc/recons/phantom_complex/phantom_complex_ordered_angles.npy',\n",
       " 'ordered_object_filepath': '/ibira/lnls/beamlines/caterete/apps/gcc-jupyter/00000000/proc/recons/phantom_complex/phantom_complex_ordered_object.npy',\n",
       " 'reconstruction_equalized_filepath': '/ibira/lnls/beamlines/caterete/apps/gcc-jupyter/00000000/proc/recons/phantom_complex/Phase_phantom_complex_reconstruction3D_EEM_equalized.npy',\n",
       " 'reconstruction_filepath': '/ibira/lnls/beamlines/caterete/apps/gcc-jupyter/00000000/proc/recons/phantom_complex/Phase_phantom_complex_reconstruction3D_EEM.npy',\n",
       " 'cropped_sinogram_filepath': '/ibira/lnls/beamlines/caterete/apps/gcc-jupyter/00000000/proc/recons/phantom_complex/Phase_cropped_sinogram.npy',\n",
       " 'unwrapped_sinogram_filepath': '/ibira/lnls/beamlines/caterete/apps/gcc-jupyter/00000000/proc/recons/phantom_complex/Phase_unwrapped_sinogram.npy',\n",
       " 'equalized_sinogram_filepath': '/ibira/lnls/beamlines/caterete/apps/gcc-jupyter/00000000/proc/recons/phantom_complex/Phase_equalized_sinogram.npy',\n",
       " 'chull_sinogram_filepath': '/ibira/lnls/beamlines/caterete/apps/gcc-jupyter/00000000/proc/recons/phantom_complex/Phase_chull_sinogram.npy',\n",
       " 'wiggle_sinogram_filepath': '/ibira/lnls/beamlines/caterete/apps/gcc-jupyter/00000000/proc/recons/phantom_complex/Phase_wiggle_sinogram.npy',\n",
       " 'projected_angles_filepath': '/ibira/lnls/beamlines/caterete/apps/gcc-jupyter/00000000/proc/recons/phantom_complex/phantom_complex_ordered_angles_projected.npy',\n",
       " 'wiggle_ctr_mass_filepath': '/ibira/lnls/beamlines/caterete/apps/gcc-jupyter/00000000/proc/recons/phantom_complex/Phase_wiggle_ctr_mass.npy',\n",
       " 'machine_selection': 'Local'}"
      ]
     },
     "execution_count": 2,
     "metadata": {},
     "output_type": "execute_result"
    }
   ],
   "source": [
    "input_variables_dict"
   ]
  }
 ],
 "metadata": {
  "kernelspec": {
   "display_name": "Python 3",
   "language": "python",
   "name": "python3"
  },
  "language_info": {
   "codemirror_mode": {
    "name": "ipython",
    "version": 3
   },
   "file_extension": ".py",
   "mimetype": "text/x-python",
   "name": "python",
   "nbconvert_exporter": "python",
   "pygments_lexer": "ipython3",
   "version": "3.6.9"
  }
 },
 "nbformat": 4,
 "nbformat_minor": 4
}
