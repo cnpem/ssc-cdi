{
 "cells": [
  {
   "cell_type": "markdown",
   "metadata": {},
   "source": [
    "# GCC's ssc-cdi : Ptychography Interface for Cateretê, v1.2.0\n",
    " \n",
    "- #### Run first cell to connect to server and install requirements. Run the other cells to deploy interface.\n",
    "- #### To visualize outputs in real time, open the log console at: View > Show Log Console\n",
    "- #### Questions? E-mail gcc@lnls.br\n",
    "- #### Installation and User guide [available here](https://10.10.10.141/ssc/wiki/). \n",
    "- #### About sscPimega:\n",
    "    - Measurements done up to July 1st, 2022: use version sscPimega = '0.0.4'\n",
    "    - Measurements made between July 2nd and October 23rd, 2022: use version sscPimega = '0.0.6'\n",
    "    - Measurements made from October 24th, 2022: use version sscPimega = '0.1.1'"
   ]
  },
  {
   "cell_type": "code",
   "execution_count": 1,
   "metadata": {},
   "outputs": [
    {
     "name": "stdin",
     "output_type": "stream",
     "text": [
      "Username: yuri.tonin\n"
     ]
    },
    {
     "name": "stdout",
     "output_type": "stream",
     "text": [
      "Password:\n"
     ]
    },
    {
     "name": "stdin",
     "output_type": "stream",
     "text": [
      " ············\n"
     ]
    },
    {
     "name": "stdout",
     "output_type": "stream",
     "text": [
      "/home/ABTLUS/yuri.tonin/.local/lib/python3.6/site-packages/sscCdi-0.1.14-py3.6-linux-ppc64le.egg/sscCdi\n",
      "to be done!\n",
      "/home/ABTLUS/yuri.tonin/.local/lib/python3.6/site-packages/sscRaft/lib/libraft.cpython-36m-powerpc64le-linux-gnu.so\n"
     ]
    },
    {
     "data": {
      "application/vnd.jupyter.widget-view+json": {
       "model_id": "81d9fdb838e44af0a0fc7001b3d9dbc9",
       "version_major": 2,
       "version_minor": 0
      },
      "text/plain": [
       "VBox(children=(HBox(children=(RadioButtons(description='Machine', index=1, layout=Layout(width='70%'), options…"
      ]
     },
     "metadata": {},
     "output_type": "display_data"
    },
    {
     "data": {
      "application/vnd.jupyter.widget-view+json": {
       "model_id": "1ec9c2aa0b5b4e46867833befc345425",
       "version_major": 2,
       "version_minor": 0
      },
      "text/plain": [
       "Tab(children=(Box(children=(Box(children=(Button(description='Save Inputs', layout=Layout(height='40px', width…"
      ]
     },
     "metadata": {},
     "output_type": "display_data"
    }
   ],
   "source": [
    "%matplotlib widget\n",
    "import sscInstall\n",
    "server = sscInstall.connect_server()\n",
    "# sscInstall.install_jupyter(server,beamline='caterete',vCdi='0.1.14',vPtycho='1.0.2',vPimega='0.1.1',vRaft='1.0.3',vRadon='1.0.0',vResolution='1.2.3')\n",
    "from sscCdi import jupyter, ptycho_jupyter\n",
    "header,tabs, input_variables_dict = ptycho_jupyter.deploy_tabs(server)\n",
    "display(header,tabs)"
   ]
  },
  {
   "cell_type": "code",
   "execution_count": null,
   "metadata": {},
   "outputs": [],
   "source": []
  },
  {
   "cell_type": "code",
   "execution_count": null,
   "metadata": {},
   "outputs": [],
   "source": []
  }
 ],
 "metadata": {
  "kernelspec": {
   "display_name": "Python 3",
   "language": "python",
   "name": "python3"
  },
  "language_info": {
   "codemirror_mode": {
    "name": "ipython",
    "version": 3
   },
   "file_extension": ".py",
   "mimetype": "text/x-python",
   "name": "python",
   "nbconvert_exporter": "python",
   "pygments_lexer": "ipython3",
   "version": "3.6.9"
  }
 },
 "nbformat": 4,
 "nbformat_minor": 4
}
