{
 "cells": [
  {
   "cell_type": "code",
   "execution_count": 1,
   "metadata": {},
   "outputs": [
    {
     "name": "stdout",
     "output_type": "stream",
     "text": [
      "/home/ABTLUS/yuri.tonin/.local/lib/python3.6/site-packages/sscCdi\n",
      "to be done!\n",
      "/home/ABTLUS/yuri.tonin/.local/lib/python3.6/site-packages/sscRaft/lib/libraft.cpython-36m-powerpc64le-linux-gnu.so\n"
     ]
    },
    {
     "data": {
      "application/vnd.jupyter.widget-view+json": {
       "model_id": "1a69ff2e3e5a425bbaf373e7ce388682",
       "version_major": 2,
       "version_minor": 0
      },
      "text/plain": [
       "VBox(children=(VBox(children=(HTML(value='<b><font size=4.9px>Frame Selector</b>'), HBox(children=(IntSlider(v…"
      ]
     },
     "metadata": {},
     "output_type": "display_data"
    }
   ],
   "source": [
    "%matplotlib widget\n",
    "import ipywidgets as widgets\n",
    "from ipywidgets import fixed\n",
    "import numpy as np\n",
    "import matplotlib.pyplot as plt\n",
    "import matplotlib.colors as colors\n",
    "import matplotlib.cm\n",
    "from sscCdi import jupyter\n",
    "\n",
    "\n",
    "def deploy_frame_viewer(path='/ibira/lnls/labs/tepui/proposals/20210062/yuri/yuri_ssc-cdi/other_scripts/mario.npy'):\n",
    "\n",
    "    data = np.load(path)\n",
    "    \n",
    "    colornorm=colors.Normalize(vmin=data.min(), vmax=data.max())\n",
    "    \n",
    "    def update_imshow(sinogram,figure,subplot,frame_number,top=0, bottom=None,left=0,right=None,title=False,clear_axis=False,cmap='gray',norm=colors.Normalize()):\n",
    "        subplot[0].clear()\n",
    "        subplot[1].clear()\n",
    "        subplot[2].clear()\n",
    "\n",
    "        if bottom == None or right == None:\n",
    "                subplot[0].imshow(sinogram[frame_number,top:bottom,left:right],cmap=cmap,norm=norm)\n",
    "                subplot[1].imshow(sinogram[top:bottom,frame_number,left:right],cmap=cmap,norm=norm)\n",
    "                subplot[2].imshow(sinogram[top:bottom,left:right,frame_number],cmap=cmap,norm=norm)\n",
    "        else:\n",
    "                subplot[0].imshow(sinogram[frame_number,top:-bottom,left:-right],cmap=cmap,norm=norm)\n",
    "                subplot[1].imshow(sinogram[top:-bottom,frame_number,left:-right],cmap=cmap,norm=norm)\n",
    "                subplot[2].imshow(sinogram[top:-bottom,left:-right,frame_number],cmap=cmap,norm=norm)\n",
    "        if title == True:\n",
    "            subplot[1].set_title(f'Frame #{frame_number}')\n",
    "        if clear_axis == True:\n",
    "            for ax in subplot.reshape(-1):\n",
    "                ax.set_xticks([])\n",
    "                ax.set_yticks([])    \n",
    "        figure.canvas.draw_idle\n",
    "\n",
    "    output = widgets.Output()\n",
    "    with output:\n",
    "        figure, ax = plt.subplots(1,3,figsize=(15,5),dpi=100)\n",
    "        ax[0].imshow(np.random.random((4,4)),cmap='gray')\n",
    "        ax[1].imshow(np.random.random((4,4)),cmap='gray')\n",
    "        ax[2].imshow(np.random.random((4,4)),cmap='gray')\n",
    "        ax[1].set_title('Cropped image')\n",
    "        figure.canvas.draw_idle()\n",
    "        figure.canvas.header_visible = False\n",
    "        figure.colorbar(matplotlib.cm.ScalarMappable(norm=colornorm, cmap='gray'),ax=ax.ravel().tolist(),shrink=0.6)\n",
    "        plt.show()   \n",
    "\n",
    "    play_box, selection_slider,play_control = jupyter.slide_and_play(label=\"Frame Selector\",frame_time_milisec=300)\n",
    "\n",
    "    selection_slider.widget.max, selection_slider.widget.value = data.shape[0] - 1, data.shape[0]//2\n",
    "    play_control.widget.max =  selection_slider.widget.max\n",
    "    widgets.interactive_output(update_imshow, {'sinogram':fixed(data),'figure':fixed(figure),'title':fixed(True),'subplot':fixed(ax), 'norm':fixed(colornorm),'frame_number': selection_slider.widget})    \n",
    "    box = widgets.VBox([play_box,output])\n",
    "    return box\n",
    "\n",
    "deploy_frame_viewer()"
   ]
  }
 ],
 "metadata": {
  "kernelspec": {
   "display_name": "Python 3",
   "language": "python",
   "name": "python3"
  },
  "language_info": {
   "codemirror_mode": {
    "name": "ipython",
    "version": 3
   },
   "file_extension": ".py",
   "mimetype": "text/x-python",
   "name": "python",
   "nbconvert_exporter": "python",
   "pygments_lexer": "ipython3",
   "version": "3.6.9"
  }
 },
 "nbformat": 4,
 "nbformat_minor": 4
}
