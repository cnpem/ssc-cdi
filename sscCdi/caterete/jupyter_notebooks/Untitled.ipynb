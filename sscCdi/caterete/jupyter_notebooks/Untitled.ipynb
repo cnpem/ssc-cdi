{
 "cells": [
  {
   "cell_type": "code",
   "execution_count": 4,
   "metadata": {},
   "outputs": [
    {
     "data": {
      "application/vnd.jupyter.widget-view+json": {
       "model_id": "d61a9360e11d4a1e8210307d1018842e",
       "version_major": 2,
       "version_minor": 0
      },
      "text/plain": [
       "VBox(children=(VBox(children=(HTML(value='<b><font size=4.9px>Frame Selector</b>'), HBox(children=(IntSlider(v…"
      ]
     },
     "metadata": {},
     "output_type": "display_data"
    }
   ],
   "source": [
    "%matplotlib widget\n",
    "import ipywidgets as widgets\n",
    "from ipywidgets import fixed\n",
    "import numpy as np\n",
    "import matplotlib.pyplot as plt\n",
    "import matplotlib.colors as colors\n",
    "import matplotlib.cm\n",
    "from sscCdi import jupyter\n",
    "from matplotlib.colors import LogNorm\n",
    "\n",
    "def deploy_frame_viewer(path='/ibira/lnls/labs/tepui/proposals/20210062/yuri/yuri_ssc-cdi/00000000/proc/recons/complex_phantom/0000_complex_phantom_001.hdf5.npy',axis=0):\n",
    "\n",
    "    data = np.load(path)\n",
    "    \n",
    "    colornorm=colors.Normalize(vmin=data.min(), vmax=data.max())\n",
    "    \n",
    "    def update_imshow(sinogram,figure,subplot,frame_number,top=0, bottom=None,left=0,right=None,axis=0,title=False,clear_axis=True,cmap='gray',norm=colors.Normalize()):\n",
    "        subplot.clear()\n",
    "        if bottom == None or right == None:\n",
    "            if axis == 0:\n",
    "                subplot.imshow(sinogram[frame_number,top:bottom,left:right],cmap=cmap,norm=norm)\n",
    "            elif axis == 1:\n",
    "                subplot.imshow(sinogram[top:bottom,frame_number,left:right],cmap=cmap,norm=norm)\n",
    "            elif axis == 2:\n",
    "                subplot.imshow(sinogram[top:bottom,left:right,frame_number],cmap=cmap,norm=norm)\n",
    "        else:\n",
    "            if axis == 0:\n",
    "                subplot.imshow(sinogram[frame_number,top:-bottom,left:-right],cmap=cmap,norm=norm)\n",
    "            elif axis == 1:\n",
    "                subplot.imshow(sinogram[top:-bottom,frame_number,left:-right],cmap=cmap,norm=norm)\n",
    "            elif axis == 2:\n",
    "                subplot.imshow(sinogram[top:-bottom,left:-right,frame_number],cmap=cmap,norm=norm)\n",
    "        if title == True:\n",
    "            subplot.set_title(f'Frame #{frame_number}')\n",
    "        if clear_axis == True:\n",
    "            subplot.set_xticks([])\n",
    "            subplot.set_yticks([])    \n",
    "        figure.canvas.draw_idle()\n",
    "    \n",
    "    output = widgets.Output()\n",
    "    \n",
    "    with output:\n",
    "        figure, ax = plt.subplots(dpi=100)\n",
    "        ax.imshow(np.random.random((4,4)),cmap='gray')\n",
    "        figure.canvas.draw_idle()\n",
    "        figure.canvas.header_visible = False\n",
    "        figure.colorbar(matplotlib.cm.ScalarMappable(norm=colornorm, cmap='gray'))\n",
    "        plt.show()   \n",
    "\n",
    "    play_box, selection_slider,play_control = jupyter.slide_and_play(label=\"Frame Selector\",frame_time_milisec=300)\n",
    "\n",
    "    selection_slider.widget.max, selection_slider.widget.value = data.shape[0] - 1, data.shape[0]//2\n",
    "    play_control.widget.max =  selection_slider.widget.max\n",
    "    widgets.interactive_output(update_imshow, {'sinogram':fixed(data),'figure':fixed(figure),'title':fixed(True),'subplot':fixed(ax),'axis':fixed(axis), 'norm':fixed(LogNorm()),'frame_number': selection_slider.widget})    \n",
    "    box = widgets.VBox([play_box,output])\n",
    "    return box\n",
    "\n",
    "deploy_frame_viewer(axis=0)"
   ]
  }
 ],
 "metadata": {
  "kernelspec": {
   "display_name": "Python 3",
   "language": "python",
   "name": "python3"
  },
  "language_info": {
   "codemirror_mode": {
    "name": "ipython",
    "version": 3
   },
   "file_extension": ".py",
   "mimetype": "text/x-python",
   "name": "python",
   "nbconvert_exporter": "python",
   "pygments_lexer": "ipython3",
   "version": "3.6.9"
  }
 },
 "nbformat": 4,
 "nbformat_minor": 4
}
