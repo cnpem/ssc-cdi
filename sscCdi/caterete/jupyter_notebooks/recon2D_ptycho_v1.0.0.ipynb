{
 "cells": [
  {
   "cell_type": "markdown",
   "metadata": {},
   "source": [
    "# GCC's ssc-cdi : Ptychography Interface for Cateretê, v1.0.0\n",
    " \n",
    "- #### Run first cell to connect to server and install requirements. Run the other cells to deploy interface.\n",
    "- #### To visualize outputs in real time, open the log console at: View > Show Log Console\n",
    "- #### Questions? E-mail gcc@lnls.br\n",
    "- #### Installation and User guide [available here](https://10.10.10.141/ssc/wiki/). "
   ]
  },
  {
   "cell_type": "code",
   "execution_count": 1,
   "metadata": {},
   "outputs": [
    {
     "name": "stdout",
     "output_type": "stream",
     "text": [
      "/home/ABTLUS/yuri.tonin/.local/lib/python3.6/site-packages/sscCdi-0.0.5-py3.6-linux-ppc64le.egg/sscCdi\n",
      "to be done!\n"
     ]
    }
   ],
   "source": [
    "%matplotlib widget\n",
    "import ipywidgets as widgets \n",
    "from sscCdi import jupyter, ptycho_jupyter, tomo_jupyter\n",
    "# server = jupyter.connect_server()\n",
    "# jupyter.install_packages(server)"
   ]
  },
  {
   "cell_type": "code",
   "execution_count": 2,
   "metadata": {},
   "outputs": [
    {
     "data": {
      "application/vnd.jupyter.widget-view+json": {
       "model_id": "15ffac4b0850457da43a3dbaf7831fae",
       "version_major": 2,
       "version_minor": 0
      },
      "text/plain": [
       "VBox(children=(HBox(children=(RadioButtons(description='Machine', layout=Layout(width='70%'), options=('Local'…"
      ]
     },
     "metadata": {},
     "output_type": "display_data"
    },
    {
     "data": {
      "application/vnd.jupyter.widget-view+json": {
       "model_id": "b4442c3b835d4c70937f31586fcfce5a",
       "version_major": 2,
       "version_minor": 0
      },
      "text/plain": [
       "Tab(children=(VBox(children=(VBox(children=(VBox(children=(VBox(children=(VBox(children=(VBox(children=(VBox(c…"
      ]
     },
     "metadata": {},
     "output_type": "display_data"
    }
   ],
   "source": [
    "box,tabs, global_dict = ptycho_jupyter.deploy_tabs(0)\n",
    "display(box)\n",
    "tabs\n",
    "\n",
    "# TODOs:\n",
    "\n",
    "# CHANGE CODE TO ONLY SAVE COMPLEX OBJECT!\n",
    "# JOB AND INPUTS TABS:\n",
    "    # unify GPUs and CPUs field\n",
    "# PTYCHO TAB\n",
    "    # use recons as initial guess\n",
    "    # serial or parallel option\n",
    "    # select batch\n",
    "    # sinogram suffix name indicating frames\n",
    "    # option: save or read difpads\n",
    "# MERGE TABS:\n",
    "    # merge sinograms\n",
    "# RECONSTRUCTION TAB:\n",
    "    # Load probe preview\n"
   ]
  }
 ],
 "metadata": {
  "kernelspec": {
   "display_name": "Python 3",
   "language": "python",
   "name": "python3"
  },
  "language_info": {
   "codemirror_mode": {
    "name": "ipython",
    "version": 3
   },
   "file_extension": ".py",
   "mimetype": "text/x-python",
   "name": "python",
   "nbconvert_exporter": "python",
   "pygments_lexer": "ipython3",
   "version": "3.6.9"
  }
 },
 "nbformat": 4,
 "nbformat_minor": 4
}
