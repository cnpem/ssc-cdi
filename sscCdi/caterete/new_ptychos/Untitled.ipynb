{
 "cells": [
  {
   "cell_type": "markdown",
   "metadata": {},
   "source": [
    "# GCC's ssc-cdi : Ptychography Interface for Cateretê, v1.1.1\n",
    " \n",
    "- #### Run first cell to connect to server and install requirements. Run the other cells to deploy interface.\n",
    "- #### To visualize outputs in real time, open the log console at: View > Show Log Console\n",
    "- #### Questions? E-mail gcc@lnls.br\n",
    "- #### Installation and User guide [available here](https://10.10.10.141/ssc/wiki/). "
   ]
  },
  {
   "cell_type": "code",
   "execution_count": 1,
   "metadata": {},
   "outputs": [
    {
     "name": "stdin",
     "output_type": "stream",
     "text": [
      "Username: yuri.tonin\n"
     ]
    },
    {
     "name": "stdout",
     "output_type": "stream",
     "text": [
      "Password:\n"
     ]
    },
    {
     "name": "stdin",
     "output_type": "stream",
     "text": [
      " ············\n"
     ]
    },
    {
     "name": "stdout",
     "output_type": "stream",
     "text": [
      "/home/ABTLUS/yuri.tonin/.local/lib/python3.6/site-packages/sscCdi-0.1.5-py3.6-linux-ppc64le.egg/sscCdi\n",
      "to be done!\n",
      "/home/ABTLUS/yuri.tonin/.local/lib/python3.6/site-packages/sscRaft/lib/libraft.cpython-36m-powerpc64le-linux-gnu.so\n"
     ]
    }
   ],
   "source": [
    "%matplotlib widget\n",
    "import sscInstall\n",
    "server = sscInstall.connect_server()\n",
    "# sscInstall.install_jupyter(server,beamline='caterete',force_install=False,vCdi='0.1.12',vPtycho='1.0.2',vPimega='0.0.6',vRaft='1.0.3',vRadon='1.0.1',vResolution='1.2.3')\n",
    "from sscCdi import jupyter, ptycho_jupyter"
   ]
  },
  {
   "cell_type": "code",
   "execution_count": 2,
   "metadata": {},
   "outputs": [
    {
     "data": {
      "application/vnd.jupyter.widget-view+json": {
       "model_id": "ad2143ed0fde4226a5b687d47c762aeb",
       "version_major": 2,
       "version_minor": 0
      },
      "text/plain": [
       "VBox(children=(HBox(children=(RadioButtons(description='Machine', index=1, layout=Layout(width='70%'), options…"
      ]
     },
     "metadata": {},
     "output_type": "display_data"
    },
    {
     "data": {
      "application/vnd.jupyter.widget-view+json": {
       "model_id": "820fcf652b8e48ca9872e2f0630260b8",
       "version_major": 2,
       "version_minor": 0
      },
      "text/plain": [
       "Tab(children=(Box(children=(Box(children=(Button(description='Save Inputs', layout=Layout(height='40px', width…"
      ]
     },
     "metadata": {},
     "output_type": "display_data"
    }
   ],
   "source": [
    "box,tabs, global_dict = ptycho_jupyter.deploy_tabs(server)\n",
    "display(box)\n",
    "tabs"
   ]
  },
  {
   "cell_type": "code",
   "execution_count": 3,
   "metadata": {},
   "outputs": [],
   "source": [
    "global_dict[\"Binning\"]=1"
   ]
  },
  {
   "cell_type": "code",
   "execution_count": 4,
   "metadata": {},
   "outputs": [],
   "source": [
    "# path = \"/ibira/lnls/labs/tepui/proposals/20210062/yuri/yuri_ssc-cdi/00000000/proc/recons/complex_phantom/complex_phantom_object.npy\"\n",
    "# import numpy as np\n",
    "# import matplotlib.pyplot as plt\n",
    "# data = np.load(path)\n",
    "# data = np.squeeze(data)\n",
    "# data = data[100:454,115:470]\n",
    "\n",
    "# if 1:\n",
    "#     data = np.abs(data)\n",
    "#     data = -np.log(data)\n",
    "# else:\n",
    "#     data = np.angle(data)\n",
    "    \n",
    "# figure, ax = plt.subplots(dpi=150)\n",
    "# ax.imshow(data,cmap='gray')"
   ]
  }
 ],
 "metadata": {
  "kernelspec": {
   "display_name": "Python 3",
   "language": "python",
   "name": "python3"
  },
  "language_info": {
   "codemirror_mode": {
    "name": "ipython",
    "version": 3
   },
   "file_extension": ".py",
   "mimetype": "text/x-python",
   "name": "python",
   "nbconvert_exporter": "python",
   "pygments_lexer": "ipython3",
   "version": "3.6.9"
  }
 },
 "nbformat": 4,
 "nbformat_minor": 4
}
