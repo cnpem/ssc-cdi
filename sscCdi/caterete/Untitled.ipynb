{
 "cells": [
  {
   "cell_type": "markdown",
   "metadata": {
    "tags": []
   },
   "source": [
    "# GCC's ssc-cdi : Tomography Interface for Cateretê, v0.2.1\n",
    " \n",
    "- #### Run first cell to connect to server and install requirements. Run second cell to deploy interface.\n",
    "- #### To visualize outputs in real time, open the log console at: View > Show Log Console\n",
    "- #### Questions? E-mail gcc@lnls.br\n",
    "- #### Installation and User guide [available here](https://10.10.10.141/ssc/wiki/). "
   ]
  },
  {
   "cell_type": "code",
   "execution_count": 1,
   "metadata": {},
   "outputs": [
    {
     "name": "stdin",
     "output_type": "stream",
     "text": [
      "Username: yuri.tonin\n"
     ]
    },
    {
     "name": "stdout",
     "output_type": "stream",
     "text": [
      "Password:\n"
     ]
    },
    {
     "name": "stdin",
     "output_type": "stream",
     "text": [
      " ············\n"
     ]
    },
    {
     "name": "stdout",
     "output_type": "stream",
     "text": [
      "/home/ABTLUS/yuri.tonin/.local/lib/python3.6/site-packages/sscCdi\n",
      "to be done!\n",
      "/home/ABTLUS/yuri.tonin/.local/lib/python3.6/site-packages/sscRaft/lib/libraft.cpython-36m-powerpc64le-linux-gnu.so\n"
     ]
    }
   ],
   "source": [
    "%matplotlib widget\n",
    "import sscInstall\n",
    "server = sscInstall.connect_server()\n",
    "# sscInstall.install_jupyter(server,beamline='caterete',force_install=False,vCdi='0.1.13',vPtycho='1.0.2',vPimega='0.0.6',vRaft='1.0.3',vRadon='1.0.1',vResolution='1.2.3')\n",
    "from sscCdi import jupyter, tomo_jupyter"
   ]
  },
  {
   "cell_type": "code",
   "execution_count": 2,
   "metadata": {},
   "outputs": [
    {
     "data": {
      "application/vnd.jupyter.widget-view+json": {
       "model_id": "f4a3a9c2706045afa0fc6b2ef2cb7ea5",
       "version_major": 2,
       "version_minor": 0
      },
      "text/plain": [
       "HBox(children=(RadioButtons(description='Machine', layout=Layout(width='30%'), options=('Local', 'Cluster'), v…"
      ]
     },
     "metadata": {},
     "output_type": "display_data"
    },
    {
     "data": {
      "application/vnd.jupyter.widget-view+json": {
       "model_id": "c86778439c78432a8f775e9be55d74db",
       "version_major": 2,
       "version_minor": 0
      },
      "text/plain": [
       "Tab(children=(VBox(children=(VBox(children=(Text(value='/ibira/lnls/beamlines/caterete/apps/jupyter/00000000/d…"
      ]
     },
     "metadata": {},
     "output_type": "display_data"
    }
   ],
   "source": [
    "box,tabs, global_dict = tomo_jupyter.deploy_tabs(server)\n",
    "display(box)\n",
    "tabs"
   ]
  },
  {
   "cell_type": "code",
   "execution_count": 3,
   "metadata": {},
   "outputs": [
    {
     "name": "stdout",
     "output_type": "stream",
     "text": [
      "Old shape:  (400, 662, 1054)\n",
      "New shape:  (400, 862, 1254)\n",
      "0 400\n",
      "50 400\n",
      "100 400\n",
      "150 400\n",
      "200 400\n",
      "250 400\n",
      "300 400\n",
      "350 400\n",
      "Done\n"
     ]
    }
   ],
   "source": [
    "import numpy as np\n",
    "import matplotlib.pyplot as plt\n",
    "\n",
    "def pad_sinogram_frames(padding,path):\n",
    "    sinogram = np.load(path)\n",
    "    print(\"Old shape: \",sinogram.shape)\n",
    "    sinogram = np.pad(sinogram,((0,0),(padding,padding),(padding,padding)))\n",
    "    print(\"New shape: \",sinogram.shape)\n",
    "    # np.save(path,sinogram)\n",
    "    return sinogram\n",
    "\n",
    "path = \"/ibira/lnls/beamlines/caterete/proposals/20210127/proc/recons/svwt_candb_mem2_01/Phase_equalized_sinogram.npy\"\n",
    "data = pad_sinogram_frames(100,path)\n",
    "\n",
    "def gaus2d(x=0, y=0, mx=0, my=0, sx=1, sy=1):\n",
    "    return 1. / (2. * np.pi * sx * sy) * np.exp(-((x - mx)**2. / (2. * sx**2.) + (y - my)**2. / (2. * sy**2.)))\n",
    "\n",
    "# path = \"/ibira/lnls/beamlines/caterete/proposals/20210127/proc/recons/svwt_candb_mem2_01/Phase_equalized_sinogram.npy\"\n",
    "# data = np.load(path)\n",
    "\n",
    "sigma = 1.5\n",
    "\n",
    "x = np.linspace(-5, 5,data.shape[2])\n",
    "y = np.linspace(-5, 5,data.shape[1])\n",
    "x, y = np.meshgrid(x, y) # get 2D variables instead of 1D\n",
    "border_attenuation_matrix = gaus2d(x, y,sx=sigma,sy=sigma)\n",
    "for i in range(data.shape[0]):\n",
    "    if i%50==0: print(i,data.shape[0])\n",
    "    data[i] = border_attenuation_matrix*data[i]\n",
    "\n",
    "# path = \"/ibira/lnls/beamlines/caterete/proposals/20210127/proc/recons/svwt_candb_mem2_01/Phase_equalized_sinogram_filtered.npy\"\n",
    "np.save(path,data)\n",
    "print(\"Done\")"
   ]
  },
  {
   "cell_type": "code",
   "execution_count": null,
   "metadata": {},
   "outputs": [],
   "source": [
    "path = \"/ibira/lnls/beamlines/caterete/proposals/20210127/proc/recons/svwt_candb_mem2_01/Phase_equalized_sinogram.npy\""
   ]
  },
  {
   "cell_type": "code",
   "execution_count": 10,
   "metadata": {},
   "outputs": [
    {
     "name": "stdout",
     "output_type": "stream",
     "text": [
      "(2087348, 400)\n",
      "0\n",
      "100\n",
      "200\n",
      "300\n"
     ]
    }
   ],
   "source": [
    "import numpy\n",
    "def get_extrapolated_sinogram(sino, pad, L, R):\n",
    "    if pad==0:\n",
    "        return sino\n",
    "    else:\n",
    "        nrays = sino.shape[0]\n",
    "        nangles = sino.shape[1]\n",
    "        n = nrays + 2*pad\n",
    "        s = numpy.vstack((numpy.zeros([pad,nangles]),sino,numpy.zeros([pad,nangles])) )\n",
    "        t = numpy.linspace(-1,1,n)\n",
    "        left = (1.0*(( t < t[pad] ) )) \n",
    "        right =  1.0 * (t > t[nrays+pad-1])\n",
    "        L_ = 1\n",
    "        R_ = 1\n",
    "        p = numpy.array( [ s[:,j] + L_*s[pad,j]*numpy.exp(L*(t-t[pad]))*left + R_*s[nrays+pad-1,j]*right*numpy.exp(-R*(t-t[nrays+pad-1])) for j in range(nangles)] ).T\n",
    "        return p\n",
    "    \n",
    "path = \"/ibira/lnls/beamlines/caterete/proposals/20210127/proc/recons/svwt_candb_mem2_01/Phase_equalized_sinogram.npy\"\n",
    "data = np.load(path)\n",
    "\n",
    "size_rays = data.shape[1]*data.shape[2]\n",
    "n_angles = data.shape[0]\n",
    "\n",
    "sino = np.zeros((size_rays,n_angles))\n",
    "print(sino.shape)\n",
    "    \n",
    "for i in range(data.shape[0]):\n",
    "    if i%100==0: print(i)\n",
    "    sino[:,i] = data[i,:,:].flatten()\n",
    "\n",
    "\n",
    "    \n",
    "L    = 10\n",
    "R    = 10\n",
    "pad  = 150\n",
    "sext = get_extrapolated_sinogram( sino, pad, L, R)"
   ]
  },
  {
   "cell_type": "code",
   "execution_count": 3,
   "metadata": {},
   "outputs": [],
   "source": [
    "import numpy as np\n",
    "data = np.ones((15,100,100))\n",
    "\n",
    "path = \"/ibira/lnls/beamlines/caterete/proposals/20210127/proc/recons/svwt_candb_mem2_01/Phase_svwt_candb_mem2_01_reconstruction3D_EEM_original.npy\"\n",
    "# path = \"/ibira/lnls/beamlines/caterete/proposals/20210127/proc/recons/svwt_candb_mem2_01/Phase_svwt_candb_mem2_01_reconstruction3D_EEM.npy\"\n",
    "\n",
    "data = np.load(path)\n",
    "\n",
    "data = data[::4,::4,::4]\n",
    "# data = data[:,::2,::2]\n",
    "    \n",
    "path = \"/ibira/lnls/beamlines/caterete/proposals/20210127/proc/recons/svwt_candb_mem2_01/Phase_svwt_candb_mem2_01_reconstruction3D_EEM.npy\"\n",
    "\n",
    "np.save(path,data)"
   ]
  }
 ],
 "metadata": {
  "kernelspec": {
   "display_name": "Python 3",
   "language": "python",
   "name": "python3"
  },
  "language_info": {
   "codemirror_mode": {
    "name": "ipython",
    "version": 3
   },
   "file_extension": ".py",
   "mimetype": "text/x-python",
   "name": "python",
   "nbconvert_exporter": "python",
   "pygments_lexer": "ipython3",
   "version": "3.6.9"
  }
 },
 "nbformat": 4,
 "nbformat_minor": 4
}
