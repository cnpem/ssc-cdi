{
 "cells": [
  {
   "cell_type": "markdown",
   "metadata": {
    "tags": []
   },
   "source": [
    "# GCC's ssc-cdi : Tomography Interface for Cateretê, v0.2.1\n",
    " \n",
    "- #### Run first cell to connect to server and install requirements. Run second cell to deploy interface.\n",
    "- #### To visualize outputs in real time, open the log console at: View > Show Log Console\n",
    "- #### Questions? E-mail gcc@lnls.br\n",
    "- #### Installation and User guide [available here](https://10.10.10.141/ssc/wiki/). "
   ]
  },
  {
   "cell_type": "code",
   "execution_count": 1,
   "metadata": {},
   "outputs": [
    {
     "name": "stdin",
     "output_type": "stream",
     "text": [
      "Username: yuri.tonin\n"
     ]
    },
    {
     "name": "stdout",
     "output_type": "stream",
     "text": [
      "Password:\n"
     ]
    },
    {
     "name": "stdin",
     "output_type": "stream",
     "text": [
      " ············\n"
     ]
    },
    {
     "name": "stdout",
     "output_type": "stream",
     "text": [
      "/home/ABTLUS/yuri.tonin/.local/lib/python3.6/site-packages/sscCdi-0.1.14-py3.6-linux-ppc64le.egg/sscCdi\n",
      "to be done!\n",
      "/home/ABTLUS/yuri.tonin/.local/lib/python3.6/site-packages/sscRaft/lib/libraft.cpython-36m-powerpc64le-linux-gnu.so\n"
     ]
    }
   ],
   "source": [
    "%matplotlib widget\n",
    "import sscInstall\n",
    "server = sscInstall.connect_server()\n",
    "# sscInstall.install_jupyter(server,beamline='caterete',force_install=False,vCdi='0.1.13',vPtycho='1.0.2',vPimega='0.0.6',vRaft='1.0.3',vRadon='1.0.1',vResolution='1.2.3')\n",
    "from sscCdi import jupyter, tomo_jupyter"
   ]
  },
  {
   "cell_type": "code",
   "execution_count": 2,
   "metadata": {},
   "outputs": [
    {
     "data": {
      "application/vnd.jupyter.widget-view+json": {
       "model_id": "e4eaa077e2084a69b96b7a1e6ade6ac7",
       "version_major": 2,
       "version_minor": 0
      },
      "text/plain": [
       "VBox(children=(HTML(value='<hr class=\"solid\" 2px #000>'), HBox(children=(RadioButtons(description='Contrast', …"
      ]
     },
     "metadata": {},
     "output_type": "display_data"
    },
    {
     "data": {
      "application/vnd.jupyter.widget-view+json": {
       "model_id": "c1df9f8ccb5541899f0b8a4a38b239a1",
       "version_major": 2,
       "version_minor": 0
      },
      "text/plain": [
       "Tab(children=(VBox(children=(VBox(children=(Text(value='/ibira/lnls/beamlines/caterete/apps/gcc-jupyter/000000…"
      ]
     },
     "metadata": {},
     "output_type": "display_data"
    }
   ],
   "source": [
    "box,tabs, global_dict = tomo_jupyter.deploy_tabs(server)\n",
    "display(box)\n",
    "tabs"
   ]
  },
  {
   "cell_type": "code",
   "execution_count": null,
   "metadata": {},
   "outputs": [],
   "source": []
  },
  {
   "cell_type": "code",
   "execution_count": 3,
   "metadata": {},
   "outputs": [
    {
     "name": "stdout",
     "output_type": "stream",
     "text": [
      "Old shape:  (400, 662, 1054)\n",
      "New shape:  (400, 862, 1254)\n",
      "0 400\n",
      "50 400\n",
      "100 400\n",
      "150 400\n",
      "200 400\n",
      "250 400\n",
      "300 400\n",
      "350 400\n",
      "Done\n"
     ]
    }
   ],
   "source": [
    "import numpy as np\n",
    "import matplotlib.pyplot as plt\n",
    "\n",
    "def pad_sinogram_frames(padding,path):\n",
    "    sinogram = np.load(path)\n",
    "    print(\"Old shape: \",sinogram.shape)\n",
    "    sinogram = np.pad(sinogram,((0,0),(padding,padding),(padding,padding)))\n",
    "    print(\"New shape: \",sinogram.shape)\n",
    "    # np.save(path,sinogram)\n",
    "    return sinogram\n",
    "\n",
    "path = \"/ibira/lnls/beamlines/caterete/proposals/20210127/proc/recons/svwt_candb_mem2_01/Phase_equalized_sinogram.npy\"\n",
    "data = pad_sinogram_frames(100,path)\n",
    "\n",
    "def gaus2d(x=0, y=0, mx=0, my=0, sx=1, sy=1):\n",
    "    return 1. / (2. * np.pi * sx * sy) * np.exp(-((x - mx)**2. / (2. * sx**2.) + (y - my)**2. / (2. * sy**2.)))\n",
    "\n",
    "# path = \"/ibira/lnls/beamlines/caterete/proposals/20210127/proc/recons/svwt_candb_mem2_01/Phase_equalized_sinogram.npy\"\n",
    "# data = np.load(path)\n",
    "\n",
    "sigma = 1.5\n",
    "\n",
    "x = np.linspace(-5, 5,data.shape[2])\n",
    "y = np.linspace(-5, 5,data.shape[1])\n",
    "x, y = np.meshgrid(x, y) # get 2D variables instead of 1D\n",
    "border_attenuation_matrix = gaus2d(x, y,sx=sigma,sy=sigma)\n",
    "for i in range(data.shape[0]):\n",
    "    if i%50==0: print(i,data.shape[0])\n",
    "    data[i] = border_attenuation_matrix*data[i]\n",
    "\n",
    "# path = \"/ibira/lnls/beamlines/caterete/proposals/20210127/proc/recons/svwt_candb_mem2_01/Phase_equalized_sinogram_filtered.npy\"\n",
    "np.save(path,data)\n",
    "print(\"Done\")"
   ]
  },
  {
   "cell_type": "code",
   "execution_count": 6,
   "metadata": {},
   "outputs": [
    {
     "data": {
      "text/plain": [
       "(813, 862, 1254)"
      ]
     },
     "execution_count": 6,
     "metadata": {},
     "output_type": "execute_result"
    }
   ],
   "source": [
    "path = \"/ibira/lnls/beamlines/caterete/proposals/20210127/proc/recons/svwt_candb_mem2_01/Phase_svwt_candb_mem2_01_reconstruction3D_EEM.npy\"\n",
    "path = \"/ibira/lnls/beamlines/caterete/proposals/20210127/proc/recons/svwt_candb_mem2_01/Phase_wiggle_sinogram.npy\"\n",
    "\n",
    "data = np.load(path)\n",
    "\n",
    "data.shape"
   ]
  },
  {
   "cell_type": "code",
   "execution_count": 3,
   "metadata": {},
   "outputs": [],
   "source": [
    "import numpy as np\n",
    "path = \"/ibira/lnls/beamlines/caterete/proposals/20210127/proc/recons/svwt_candb_mem2_01/Phase_equalized_sinogram.npy\"\n",
    "data = np.load(path)[0:50]"
   ]
  },
  {
   "cell_type": "code",
   "execution_count": 17,
   "metadata": {},
   "outputs": [
    {
     "name": "stdout",
     "output_type": "stream",
     "text": [
      "862 1254\n",
      "(1080948, 50) (1081248, 50) -300\n",
      "1518.6067415730338\n",
      "New shape (1518, 979, 50)\n"
     ]
    },
    {
     "ename": "ValueError",
     "evalue": "cannot reshape array of size 54062400 into shape (1518,979,50)",
     "output_type": "error",
     "traceback": [
      "\u001b[0;31m---------------------------------------------------------------------------\u001b[0m",
      "\u001b[0;31mValueError\u001b[0m                                Traceback (most recent call last)",
      "\u001b[0;32m<ipython-input-17-bd6774cf2e81>\u001b[0m in \u001b[0;36m<module>\u001b[0;34m\u001b[0m\n\u001b[1;32m     38\u001b[0m \u001b[0mnew_shape\u001b[0m \u001b[0;34m=\u001b[0m \u001b[0;34m(\u001b[0m\u001b[0mint\u001b[0m\u001b[0;34m(\u001b[0m\u001b[0msino_ext\u001b[0m\u001b[0;34m.\u001b[0m\u001b[0mshape\u001b[0m\u001b[0;34m[\u001b[0m\u001b[0;36m0\u001b[0m\u001b[0;34m]\u001b[0m\u001b[0;34m/\u001b[0m\u001b[0;34m(\u001b[0m\u001b[0mdata\u001b[0m\u001b[0;34m.\u001b[0m\u001b[0mshape\u001b[0m\u001b[0;34m[\u001b[0m\u001b[0;36m1\u001b[0m\u001b[0;34m]\u001b[0m\u001b[0;34m-\u001b[0m\u001b[0mpad\u001b[0m\u001b[0;34m)\u001b[0m\u001b[0;34m)\u001b[0m\u001b[0;34m,\u001b[0m\u001b[0mint\u001b[0m\u001b[0;34m(\u001b[0m\u001b[0msino_ext\u001b[0m\u001b[0;34m.\u001b[0m\u001b[0mshape\u001b[0m\u001b[0;34m[\u001b[0m\u001b[0;36m0\u001b[0m\u001b[0;34m]\u001b[0m\u001b[0;34m/\u001b[0m\u001b[0;34m(\u001b[0m\u001b[0mdata\u001b[0m\u001b[0;34m.\u001b[0m\u001b[0mshape\u001b[0m\u001b[0;34m[\u001b[0m\u001b[0;36m2\u001b[0m\u001b[0;34m]\u001b[0m\u001b[0;34m-\u001b[0m\u001b[0mpad\u001b[0m\u001b[0;34m)\u001b[0m\u001b[0;34m)\u001b[0m\u001b[0;34m,\u001b[0m\u001b[0msino_ext\u001b[0m\u001b[0;34m.\u001b[0m\u001b[0mshape\u001b[0m\u001b[0;34m[\u001b[0m\u001b[0;36m1\u001b[0m\u001b[0;34m]\u001b[0m\u001b[0;34m)\u001b[0m\u001b[0;34m\u001b[0m\u001b[0;34m\u001b[0m\u001b[0m\n\u001b[1;32m     39\u001b[0m \u001b[0mprint\u001b[0m\u001b[0;34m(\u001b[0m\u001b[0;34m\"New shape\"\u001b[0m\u001b[0;34m,\u001b[0m \u001b[0mnew_shape\u001b[0m\u001b[0;34m)\u001b[0m\u001b[0;34m\u001b[0m\u001b[0;34m\u001b[0m\u001b[0m\n\u001b[0;32m---> 40\u001b[0;31m \u001b[0msino_reshaped\u001b[0m \u001b[0;34m=\u001b[0m \u001b[0mnp\u001b[0m\u001b[0;34m.\u001b[0m\u001b[0mreshape\u001b[0m\u001b[0;34m(\u001b[0m\u001b[0msino_ext\u001b[0m\u001b[0;34m,\u001b[0m \u001b[0mnew_shape\u001b[0m\u001b[0;34m)\u001b[0m\u001b[0;34m\u001b[0m\u001b[0;34m\u001b[0m\u001b[0m\n\u001b[0m\u001b[1;32m     41\u001b[0m \u001b[0;34m\u001b[0m\u001b[0m\n\u001b[1;32m     42\u001b[0m \u001b[0mprint\u001b[0m\u001b[0;34m(\u001b[0m\u001b[0msino_reshaped\u001b[0m\u001b[0;34m.\u001b[0m\u001b[0mshape\u001b[0m\u001b[0;34m)\u001b[0m\u001b[0;34m\u001b[0m\u001b[0;34m\u001b[0m\u001b[0m\n",
      "\u001b[0;32m<__array_function__ internals>\u001b[0m in \u001b[0;36mreshape\u001b[0;34m(*args, **kwargs)\u001b[0m\n",
      "\u001b[0;32m/usr/local/lib/python3.6/site-packages/numpy/core/fromnumeric.py\u001b[0m in \u001b[0;36mreshape\u001b[0;34m(a, newshape, order)\u001b[0m\n\u001b[1;32m    297\u001b[0m            [5, 6]])\n\u001b[1;32m    298\u001b[0m     \"\"\"\n\u001b[0;32m--> 299\u001b[0;31m     \u001b[0;32mreturn\u001b[0m \u001b[0m_wrapfunc\u001b[0m\u001b[0;34m(\u001b[0m\u001b[0ma\u001b[0m\u001b[0;34m,\u001b[0m \u001b[0;34m'reshape'\u001b[0m\u001b[0;34m,\u001b[0m \u001b[0mnewshape\u001b[0m\u001b[0;34m,\u001b[0m \u001b[0morder\u001b[0m\u001b[0;34m=\u001b[0m\u001b[0morder\u001b[0m\u001b[0;34m)\u001b[0m\u001b[0;34m\u001b[0m\u001b[0;34m\u001b[0m\u001b[0m\n\u001b[0m\u001b[1;32m    300\u001b[0m \u001b[0;34m\u001b[0m\u001b[0m\n\u001b[1;32m    301\u001b[0m \u001b[0;34m\u001b[0m\u001b[0m\n",
      "\u001b[0;32m/usr/local/lib/python3.6/site-packages/numpy/core/fromnumeric.py\u001b[0m in \u001b[0;36m_wrapfunc\u001b[0;34m(obj, method, *args, **kwds)\u001b[0m\n\u001b[1;32m     56\u001b[0m \u001b[0;34m\u001b[0m\u001b[0m\n\u001b[1;32m     57\u001b[0m     \u001b[0;32mtry\u001b[0m\u001b[0;34m:\u001b[0m\u001b[0;34m\u001b[0m\u001b[0;34m\u001b[0m\u001b[0m\n\u001b[0;32m---> 58\u001b[0;31m         \u001b[0;32mreturn\u001b[0m \u001b[0mbound\u001b[0m\u001b[0;34m(\u001b[0m\u001b[0;34m*\u001b[0m\u001b[0margs\u001b[0m\u001b[0;34m,\u001b[0m \u001b[0;34m**\u001b[0m\u001b[0mkwds\u001b[0m\u001b[0;34m)\u001b[0m\u001b[0;34m\u001b[0m\u001b[0;34m\u001b[0m\u001b[0m\n\u001b[0m\u001b[1;32m     59\u001b[0m     \u001b[0;32mexcept\u001b[0m \u001b[0mTypeError\u001b[0m\u001b[0;34m:\u001b[0m\u001b[0;34m\u001b[0m\u001b[0;34m\u001b[0m\u001b[0m\n\u001b[1;32m     60\u001b[0m         \u001b[0;31m# A TypeError occurs if the object does have such a method in its\u001b[0m\u001b[0;34m\u001b[0m\u001b[0;34m\u001b[0m\u001b[0;34m\u001b[0m\u001b[0m\n",
      "\u001b[0;31mValueError\u001b[0m: cannot reshape array of size 54062400 into shape (1518,979,50)"
     ]
    }
   ],
   "source": [
    "import numpy\n",
    "def get_extrapolated_sinogram(sino, pad, L, R):\n",
    "    if pad==0:\n",
    "        return sino\n",
    "    else:\n",
    "        nrays = sino.shape[0]\n",
    "        nangles = sino.shape[1]\n",
    "        n = nrays + 2*pad\n",
    "        s = numpy.vstack((numpy.zeros([pad,nangles]),sino,numpy.zeros([pad,nangles])) )\n",
    "        t = numpy.linspace(-1,1,n)\n",
    "        left = (1.0*(( t < t[pad] ) )) \n",
    "        right =  1.0 * (t > t[nrays+pad-1])\n",
    "        L_ = 1\n",
    "        R_ = 1\n",
    "        p = numpy.array( [ s[:,j] + L_*s[pad,j]*numpy.exp(L*(t-t[pad]))*left + R_*s[nrays+pad-1,j]*right*numpy.exp(-R*(t-t[nrays+pad-1])) for j in range(nangles)] ).T\n",
    "        return p\n",
    "    \n",
    "size_rays = data.shape[1]*data.shape[2]\n",
    "n_angles = data.shape[0]\n",
    "\n",
    "print(data.shape[1],data.shape[2])\n",
    "\n",
    "sino = np.zeros((size_rays,n_angles))\n",
    "    \n",
    "for i in range(data.shape[0]):\n",
    "    if i+1%10==0: print(i)\n",
    "    sino[:,i] = data[i,:,:].flatten()\n",
    "\n",
    "L    = 10\n",
    "R    = 10\n",
    "pad  = 150\n",
    "sino_ext = get_extrapolated_sinogram( sino, pad, L, R)\n",
    "\n",
    "print(sino.shape,sino_ext.shape,sino.shape[0]-sino_ext.shape[0])\n",
    "\n",
    "print(sino_ext.shape[0]/(data.shape[1]-pad))\n",
    "\n",
    "new_shape = (int(sino_ext.shape[0]/(data.shape[1]-pad)),int(sino_ext.shape[0]/(data.shape[2]-pad)),sino_ext.shape[1])\n",
    "print(\"New shape\", new_shape)\n",
    "sino_reshaped = np.reshape(sino_ext, new_shape)\n",
    "\n",
    "print(sino_reshaped.shape)\n",
    "\n",
    "# import matplotlib.pyplot as plt\n",
    "# fig, ax = plt.subplots(1,2)\n",
    "# ax1,ax2 = ax.ravel()\n",
    "# ax1.imshow(sino)\n",
    "# ax2.imshow(sino_ext)"
   ]
  },
  {
   "cell_type": "code",
   "execution_count": 3,
   "metadata": {},
   "outputs": [],
   "source": [
    "import numpy as np\n",
    "data = np.ones((15,100,100))\n",
    "\n",
    "path = \"/ibira/lnls/beamlines/caterete/proposals/20210127/proc/recons/svwt_candb_mem2_01/Phase_svwt_candb_mem2_01_reconstruction3D_EEM_original.npy\"\n",
    "# path = \"/ibira/lnls/beamlines/caterete/proposals/20210127/proc/recons/svwt_candb_mem2_01/Phase_svwt_candb_mem2_01_reconstruction3D_EEM.npy\"\n",
    "\n",
    "data = np.load(path)\n",
    "\n",
    "data = data[::4,::4,::4]\n",
    "# data = data[:,::2,::2]\n",
    "    \n",
    "path = \"/ibira/lnls/beamlines/caterete/proposals/20210127/proc/recons/svwt_candb_mem2_01/Phase_svwt_candb_mem2_01_reconstruction3D_EEM.npy\"\n",
    "\n",
    "np.save(path,data)"
   ]
  }
 ],
 "metadata": {
  "kernelspec": {
   "display_name": "Python 3",
   "language": "python",
   "name": "python3"
  },
  "language_info": {
   "codemirror_mode": {
    "name": "ipython",
    "version": 3
   },
   "file_extension": ".py",
   "mimetype": "text/x-python",
   "name": "python",
   "nbconvert_exporter": "python",
   "pygments_lexer": "ipython3",
   "version": "3.6.9"
  }
 },
 "nbformat": 4,
 "nbformat_minor": 4
}
