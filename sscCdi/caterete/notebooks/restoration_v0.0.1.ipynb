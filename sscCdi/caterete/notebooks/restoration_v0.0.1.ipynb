{
 "cells": [
  {
   "cell_type": "markdown",
   "metadata": {},
   "source": [
    "# GCC's ssc-cdi : Restoration Interface for Cateretê, v0.0.1\n",
    " \n",
    "- #### To visualize outputs in real time, open the log console at: View > Show Log Console\n",
    "- #### The processed data will be saved in the corresponding folder at .../proc/recons/...\n",
    "- #### Questions? E-mail gcc@lnls.br"
   ]
  },
  {
   "cell_type": "code",
   "execution_count": 9,
   "metadata": {},
   "outputs": [],
   "source": [
    "install_packages = False\n",
    "\n",
    "%matplotlib widget\n",
    "import matplotlib.pyplot as plt\n",
    "import sscInstall, os, sys\n",
    "from sscCdi import restoration_jupyter\n",
    "# server = sscInstall.connect_server()\n",
    "if install_packages:\n",
    "    print(\"The kernel will restart after installation. Please run the cell again using install_packages = False\")\n",
    "    sscInstall.install_jupyter(server,beamline='caterete',sscCdi='0.3.5',sscPtycho='1.0.2',sscPimega='0.1.1',sscRaft='1.0.3',sscRadon='1.0.0',sscResolution='1.2.3')\n",
    "    os._exit(00) # shutdown kernel. Required to import new installed packages"
   ]
  },
  {
   "cell_type": "markdown",
   "metadata": {},
   "source": [
    "## Inputs"
   ]
  },
  {
   "cell_type": "code",
   "execution_count": 2,
   "metadata": {
    "tags": []
   },
   "outputs": [],
   "source": [
    "n_of_threads = 32 # use 32 as standard value\n",
    "\n",
    "data_path = \"/ibira/lnls/beamlines/caterete/apps/gcc-jupyter/00000000/data/ptycho2d/SS03112022_02/scans/0000_SS03112022_02_001.hdf5\"\n",
    "distance = 20 # meters\n",
    "\n",
    "center_x = 1340 # pixels\n",
    "center_y = 1380 # pixels\n",
    "\n",
    "apply_crop = False\n",
    "apply_binning = False"
   ]
  },
  {
   "cell_type": "markdown",
   "metadata": {},
   "source": [
    "## Process Data"
   ]
  },
  {
   "cell_type": "code",
   "execution_count": 3,
   "metadata": {},
   "outputs": [
    {
     "name": "stdout",
     "output_type": "stream",
     "text": [
      "-- Calling MPI code to read /ibira/lnls/beamlines/caterete/apps/gcc-jupyter/00000000/data/ptycho2d/SS03112022_02/scans/0000_SS03112022_02_001.hdf5\n",
      "\tRaw data shape:  (625, 3072, 3072)\n",
      "Correcting and restoring diffraction patterns... \n",
      "sscPimega: creating 625x3072x3072 shared array (SharedArray)\n",
      "Done: 625 Images corrected within 10.605501174926758 sec\n",
      "    :    Shared Array creation 0.0008022785186767578 sec\n",
      "\tRestored data shape:  (625, 3072, 3072)\n",
      "Saving data at:  /ibira/lnls/beamlines/caterete/apps/gcc-jupyter/00000000/proc/recons/SS03112022_02/restoration/0000_SS03112022_02_001.hdf5\n",
      "Done!\n"
     ]
    }
   ],
   "source": [
    "processed_data, restored_full_DP = restoration_jupyter.restoration_via_interface(data_path,[n_of_threads,center_x,center_y,distance,apply_crop,apply_binning], preview=False, save_data=True)\n",
    "print(f\"Dataset size: {sys.getsizeof(processed_data)/(1e6):.2f} MBs\")"
   ]
  },
  {
   "cell_type": "markdown",
   "metadata": {},
   "source": [
    "## Find center: \n",
    "    - Plot with average of data to find the center of the DP. Re-run \"Process Data\" after this is done!"
   ]
  },
  {
   "cell_type": "code",
   "execution_count": 4,
   "metadata": {},
   "outputs": [],
   "source": [
    "# restoration_jupyter.plot_flipped_full_DP(restored_full_DP)"
   ]
  },
  {
   "cell_type": "markdown",
   "metadata": {},
   "source": [
    "## View processed data\n",
    "    - Plot containing the processed data. Use slider to scan through slices and visualize each diffraction pattern"
   ]
  },
  {
   "cell_type": "code",
   "execution_count": 6,
   "metadata": {},
   "outputs": [
    {
     "data": {
      "application/vnd.jupyter.widget-view+json": {
       "model_id": "b52656de22ea4e36b6c3fde0fb4e1800",
       "version_major": 2,
       "version_minor": 0
      },
      "text/plain": [
       "VBox(children=(VBox(children=(HTML(value='<b><font size=4.9px>Frame Selector</b>'), HBox(children=(IntSlider(v…"
      ]
     },
     "metadata": {},
     "output_type": "display_data"
    }
   ],
   "source": [
    "restoration_jupyter.plot_DPs_with_slider(processed_data)"
   ]
  }
 ],
 "metadata": {
  "kernelspec": {
   "display_name": "Python 3",
   "language": "python",
   "name": "python3"
  },
  "language_info": {
   "codemirror_mode": {
    "name": "ipython",
    "version": 3
   },
   "file_extension": ".py",
   "mimetype": "text/x-python",
   "name": "python",
   "nbconvert_exporter": "python",
   "pygments_lexer": "ipython3",
   "version": "3.6.9"
  }
 },
 "nbformat": 4,
 "nbformat_minor": 4
}
