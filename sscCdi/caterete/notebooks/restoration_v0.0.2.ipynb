{
 "cells": [
  {
   "cell_type": "markdown",
   "metadata": {},
   "source": [
    "# GCC's ssc-cdi : Restoration Interface for Cateretê, v0.0.2\n",
    " \n",
    "- #### To visualize outputs in real time, open the log console at: View > Show Log Console\n",
    "- #### The processed data will be saved in the corresponding folder at .../proc/recons/...\n",
    "- #### Questions? E-mail gcc@lnls.br"
   ]
  },
  {
   "cell_type": "code",
   "execution_count": null,
   "metadata": {},
   "outputs": [],
   "source": [
    "install_packages = False\n",
    "\n",
    "%matplotlib widget\n",
    "import matplotlib.pyplot as plt\n",
    "import sscInstall, os\n",
    "from sscCdi import restoration_jupyter\n",
    "# server = sscInstall.connect_server()\n",
    "if install_packages:\n",
    "    print(\"The kernel will restart after installation. Please run the cell again using install_packages = False\")\n",
    "    sscInstall.install_jupyter(server,beamline='caterete',sscCdi='0.4.0',sscPtycho='1.0.2',sscPimega='0.1.1',sscRaft='1.0.3',sscRadon='1.0.0',sscResolution='1.2.3')\n",
    "    os._exit(00) # shutdown kernel. Required to import new installed packages"
   ]
  },
  {
   "cell_type": "markdown",
   "metadata": {},
   "source": [
    "## Inputs"
   ]
  },
  {
   "cell_type": "code",
   "execution_count": null,
   "metadata": {
    "tags": []
   },
   "outputs": [],
   "source": [
    "n_of_threads = 32 # use 32 as standard value; should be fast enough\n",
    "\n",
    "data_path = \"/ibira/lnls/beamlines/caterete/apps/gcc-jupyter/00000000/data/ptycho2d/SS61/scans/0000_SS61_001.hdf5\"\n",
    "distance = 20 # meters\n",
    "\n",
    "center_x = 1340 # pixels\n",
    "center_y = 1380 # pixels\n",
    "\n",
    "apply_crop = False\n",
    "apply_binning = False"
   ]
  },
  {
   "cell_type": "markdown",
   "metadata": {},
   "source": [
    "## Process Data"
   ]
  },
  {
   "cell_type": "code",
   "execution_count": null,
   "metadata": {},
   "outputs": [],
   "source": [
    "processed_data, restored_full_DP = restoration_jupyter.restoration_via_interface(data_path,[n_of_threads,center_x,center_y,distance,apply_crop,apply_binning], preview=False, save_data=True)"
   ]
  },
  {
   "cell_type": "markdown",
   "metadata": {},
   "source": [
    "## Find center: \n",
    "    - Plot with average of data to find the center of the DP. Re-run \"Process Data\" after this is done!"
   ]
  },
  {
   "cell_type": "code",
   "execution_count": null,
   "metadata": {},
   "outputs": [],
   "source": [
    "restoration_jupyter.plot_flipped_full_DP(restored_full_DP)"
   ]
  },
  {
   "cell_type": "markdown",
   "metadata": {},
   "source": [
    "## View processed data\n",
    "    - Plot containing the processed data. Use slider to scan through slices and visualize each diffraction pattern\n",
    "    - ATTENTION: since \"processed_data\" may have up to GBs of size, plots can take a long time to load (up to a few minutes) \n",
    "    If you want to have a quick preview of the data only, select a small portion of the data using a slice, for instance, by changing \"processed_data\" to \"processed_data[25:50]\" to preview only slices 25 to 50"
   ]
  },
  {
   "cell_type": "code",
   "execution_count": null,
   "metadata": {},
   "outputs": [],
   "source": [
    "restoration_jupyter.plot_DPs_with_slider(processed_data)"
   ]
  }
 ],
 "metadata": {
  "kernelspec": {
   "display_name": "Python 3",
   "language": "python",
   "name": "python3"
  },
  "language_info": {
   "codemirror_mode": {
    "name": "ipython",
    "version": 3
   },
   "file_extension": ".py",
   "mimetype": "text/x-python",
   "name": "python",
   "nbconvert_exporter": "python",
   "pygments_lexer": "ipython3",
   "version": "3.6.9"
  }
 },
 "nbformat": 4,
 "nbformat_minor": 4
}
