{
 "cells": [
  {
   "cell_type": "markdown",
   "metadata": {},
   "source": [
    "# GCC's ssc-cdi : Ptychography Interface for Cateretê, v3\n",
    "\n",
    "- #### ATTENTION: if you are running this for the first time, packages can be installed by setting install_packages = True\n",
    "- #### To visualize outputs in real time, open the log console at: View > Show Log Console\n",
    "- #### Questions? E-mail gcc@lnls.br\n",
    "- #### Installation and User guide [available here](https://10.10.10.141/ssc/wiki/). \n",
    "- #### Documentation about the ssc-cdi package: https://gcc.lnls.br/ssc/ssc-cdi/index.html\n",
    "- #### To use a test sample:\n",
    "    - Proposal path = /ibira/lnls/beamlines/caterete/apps/gcc-jupyter/00000000/data/ptycho2d/\n",
    "    - Data Folders = ['SS03112022_02']\n",
    "    - projections = [0]\n",
    "- #### About sscPimega:\n",
    "    - Measurements done up to July 1st, 2022: use version sscPimega = '0.0.4'\n",
    "    - Measurements made between July 2nd and October 23rd, 2022: use version sscPimega = '0.0.6'\n",
    "    - Measurements made from October 24th, 2022: use version sscPimega = '0.5.3'"
   ]
  },
  {
   "cell_type": "code",
   "execution_count": 1,
   "metadata": {
    "tags": []
   },
   "outputs": [
    {
     "ename": "ImportError",
     "evalue": "cannot import name 'jupyter_ptycho'",
     "output_type": "error",
     "traceback": [
      "\u001b[0;31m---------------------------------------------------------------------------\u001b[0m",
      "\u001b[0;31mImportError\u001b[0m                               Traceback (most recent call last)",
      "\u001b[0;32m<ipython-input-1-f8fd0a043a75>\u001b[0m in \u001b[0;36m<module>\u001b[0;34m\u001b[0m\n\u001b[1;32m      7\u001b[0m     \u001b[0mprint\u001b[0m\u001b[0;34m(\u001b[0m\u001b[0;34m\"\\nThe kernel will restart after installation. Please run the cell again using install_packages = False\"\u001b[0m\u001b[0;34m)\u001b[0m\u001b[0;34m\u001b[0m\u001b[0;34m\u001b[0m\u001b[0m\n\u001b[1;32m      8\u001b[0m     \u001b[0msscInstall\u001b[0m\u001b[0;34m.\u001b[0m\u001b[0minstall_jupyter\u001b[0m\u001b[0;34m(\u001b[0m\u001b[0mserver\u001b[0m\u001b[0;34m,\u001b[0m\u001b[0mbeamline\u001b[0m\u001b[0;34m=\u001b[0m\u001b[0;34m'caterete'\u001b[0m\u001b[0;34m,\u001b[0m\u001b[0msscCdi\u001b[0m\u001b[0;34m=\u001b[0m\u001b[0;34m'0.4.20'\u001b[0m\u001b[0;34m,\u001b[0m\u001b[0msscPtycho\u001b[0m\u001b[0;34m=\u001b[0m\u001b[0;34m'2.1.1'\u001b[0m\u001b[0;34m,\u001b[0m\u001b[0msscPimega\u001b[0m\u001b[0;34m=\u001b[0m\u001b[0;34m'0.5.3'\u001b[0m\u001b[0;34m,\u001b[0m\u001b[0msscRaft\u001b[0m\u001b[0;34m=\u001b[0m\u001b[0;34m'2.0.1'\u001b[0m\u001b[0;34m,\u001b[0m\u001b[0msscRadon\u001b[0m\u001b[0;34m=\u001b[0m\u001b[0;34m'1.0.0'\u001b[0m\u001b[0;34m,\u001b[0m\u001b[0msscResolution\u001b[0m\u001b[0;34m=\u001b[0m\u001b[0;34m'1.2.3'\u001b[0m\u001b[0;34m)\u001b[0m\u001b[0;34m,\u001b[0m \u001b[0mos\u001b[0m\u001b[0;34m.\u001b[0m\u001b[0m_exit\u001b[0m\u001b[0;34m(\u001b[0m\u001b[0;36m00\u001b[0m\u001b[0;34m)\u001b[0m \u001b[0;31m# shutdown kernel. Required to import new installed packages\u001b[0m\u001b[0;34m\u001b[0m\u001b[0;34m\u001b[0m\u001b[0m\n\u001b[0;32m----> 9\u001b[0;31m \u001b[0;32mfrom\u001b[0m \u001b[0msscCdi\u001b[0m \u001b[0;32mimport\u001b[0m \u001b[0mjupyter\u001b[0m\u001b[0;34m,\u001b[0m \u001b[0mjupyter_ptycho\u001b[0m\u001b[0;34m\u001b[0m\u001b[0;34m\u001b[0m\u001b[0m\n\u001b[0m\u001b[1;32m     10\u001b[0m \u001b[0mheader\u001b[0m\u001b[0;34m,\u001b[0m\u001b[0mtabs\u001b[0m\u001b[0;34m,\u001b[0m \u001b[0minput_variables_dict\u001b[0m \u001b[0;34m=\u001b[0m \u001b[0mjupyter_ptycho\u001b[0m\u001b[0;34m.\u001b[0m\u001b[0mdeploy_tabs\u001b[0m\u001b[0;34m(\u001b[0m\u001b[0;36m0\u001b[0m\u001b[0;34m)\u001b[0m\u001b[0;34m\u001b[0m\u001b[0;34m\u001b[0m\u001b[0m\n\u001b[1;32m     11\u001b[0m \u001b[0mdisplay\u001b[0m\u001b[0;34m(\u001b[0m\u001b[0mheader\u001b[0m\u001b[0;34m,\u001b[0m\u001b[0mtabs\u001b[0m\u001b[0;34m)\u001b[0m\u001b[0;34m\u001b[0m\u001b[0;34m\u001b[0m\u001b[0m\n",
      "\u001b[0;31mImportError\u001b[0m: cannot import name 'jupyter_ptycho'"
     ]
    }
   ],
   "source": [
    "install_packages = False\n",
    "\n",
    "%matplotlib widget\n",
    "import sscInstall, os\n",
    "# server = sscInstall.connect_server()\n",
    "if install_packages:\n",
    "    print(\"\\nThe kernel will restart after installation. Please run the cell again using install_packages = False\")\n",
    "    sscInstall.install_jupyter(server,beamline='caterete',sscCdi='0.4.20',sscPtycho='2.1.1',sscPimega='0.5.3',sscRaft='2.0.1',sscRadon='1.0.0',sscResolution='1.2.3'), os._exit(00) # shutdown kernel. Required to import new installed packages\n",
    "from sscCdi import jupyter, jupyter_ptycho\n",
    "header,tabs, input_variables_dict = jupyter_ptycho.deploy_tabs(0)\n",
    "display(header,tabs)"
   ]
  },
  {
   "cell_type": "code",
   "execution_count": 8,
   "metadata": {},
   "outputs": [
    {
     "data": {
      "text/plain": [
       "'SS03112022_02'"
      ]
     },
     "execution_count": 8,
     "metadata": {},
     "output_type": "execute_result"
    }
   ],
   "source": [
    "a = \"/ibira/lnls/beamlines/caterete/apps/gcc-jupyter/00000000/proc/recons/SS03112022_02/\"\n",
    "a.rsplit('/',2)[1]"
   ]
  },
  {
   "cell_type": "code",
   "execution_count": null,
   "metadata": {},
   "outputs": [],
   "source": []
  }
 ],
 "metadata": {
  "kernelspec": {
   "display_name": "Python 3",
   "language": "python",
   "name": "python3"
  },
  "language_info": {
   "codemirror_mode": {
    "name": "ipython",
    "version": 3
   },
   "file_extension": ".py",
   "mimetype": "text/x-python",
   "name": "python",
   "nbconvert_exporter": "python",
   "pygments_lexer": "ipython3",
   "version": "3.6.9"
  }
 },
 "nbformat": 4,
 "nbformat_minor": 4
}
