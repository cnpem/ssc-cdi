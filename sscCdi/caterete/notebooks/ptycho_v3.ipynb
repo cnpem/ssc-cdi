{
 "cells": [
  {
   "cell_type": "markdown",
   "metadata": {},
   "source": [
    "# GCC's ssc-cdi : Ptychography Interface for Cateretê, v3\n",
    "\n",
    "- #### ATTENTION: if you are running this for the first time, packages can be installed by setting install_packages = True\n",
    "- #### To visualize outputs in real time, open the log console at: View > Show Log Console\n",
    "- #### Questions? E-mail gcc@lnls.br\n",
    "- #### Installation and User guide [available here](https://10.10.10.141/ssc/wiki/). \n",
    "- #### Documentation about the ssc-cdi package: https://gcc.lnls.br/ssc/ssc-cdi/index.html\n",
    "- #### To use a test sample:\n",
    "    - Proposal path = /ibira/lnls/beamlines/caterete/apps/gcc-jupyter/00000000/data/ptycho2d/\n",
    "    - Data Folders = ['SS03112022_02']\n",
    "    - projections = [0]\n",
    "- #### About sscPimega:\n",
    "    - Measurements done up to July 1st, 2022: use version sscPimega = '0.0.4'\n",
    "    - Measurements made between July 2nd and October 23rd, 2022: use version sscPimega = '0.0.6'\n",
    "    - Measurements made from October 24th, 2022: use version sscPimega = '0.5.3'"
   ]
  },
  {
   "cell_type": "code",
   "execution_count": 1,
   "metadata": {
    "tags": []
   },
   "outputs": [
    {
     "data": {
      "application/vnd.jupyter.widget-view+json": {
       "model_id": "1ff98ad07d424b23b6d50bc8616ec3ba",
       "version_major": 2,
       "version_minor": 0
      },
      "text/plain": [
       "VBox(children=(HBox(children=(RadioButtons(description='Machine', index=1, layout=Layout(width='10%'), options…"
      ]
     },
     "metadata": {},
     "output_type": "display_data"
    },
    {
     "data": {
      "application/vnd.jupyter.widget-view+json": {
       "model_id": "dc8367a2a22f4a9a87fffacfd8e3c557",
       "version_major": 2,
       "version_minor": 0
      },
      "text/plain": [
       "Tab(children=(Box(children=(Box(children=(HTML(value=\"<b style='color:#00008B;font-size:18px;'>Data Selection<…"
      ]
     },
     "metadata": {},
     "output_type": "display_data"
    }
   ],
   "source": [
    "install_packages = False\n",
    "\n",
    "%matplotlib widget\n",
    "import sscInstall, os\n",
    "# server = sscInstall.connect_server()\n",
    "if install_packages:\n",
    "    print(\"\\nThe kernel will restart after installation. Please run the cell again using install_packages = False\")\n",
    "    sscInstall.install_jupyter(server,beamline='caterete',sscCdi='0.4.20',sscPtycho='2.1.1',sscPimega='0.5.3',sscRaft='2.0.1',sscRadon='1.0.0',sscResolution='1.2.3'), os._exit(00) # shutdown kernel. Required to import new installed packages\n",
    "from sscCdi import jupyter, jupyter_ptycho\n",
    "header,tabs, input_variables_dict = jupyter_ptycho.deploy_tabs(0)\n",
    "display(header,tabs)"
   ]
  },
  {
   "cell_type": "code",
   "execution_count": 4,
   "metadata": {},
   "outputs": [
    {
     "name": "stdout",
     "output_type": "stream",
     "text": [
      "Figure(500x500)\n",
      "Figure(400x400)\n",
      "Figure(400x400)\n",
      "Figure(400x400)\n",
      "Figure(400x400)\n",
      "Figure(300x300)\n",
      "Figure(300x300)\n",
      "Figure(400x400)\n",
      "Figure(400x400)\n",
      "Figure(400x400)\n",
      "Figure(500x500)\n",
      "Figure(500x500)\n",
      "Figure(500x500)\n",
      "Figure(640x480)\n",
      "Figure(1000x500)\n",
      "Figure(1000x600)\n",
      "Figure(1300x200)\n",
      "Figure(500x500)\n",
      "Creating folders...\n",
      "Proposal path:  /ibira/lnls/beamlines/caterete/apps/gcc-jupyter/00000000/data/ptycho2d/\n",
      "Acquisition folder:  SS61\n",
      "Output path: /ibira/lnls/beamlines/caterete/apps/gcc-jupyter/00000000/proc/recons/SS61\n",
      "Reading files of interest...\n",
      "Starting restoration...\n",
      "Starting restoration for acquisition:  SS61\n",
      "\tSelected a total of 1 projections\n",
      "{'path': ['/ibira/lnls/beamlines/caterete/apps/gcc-jupyter/00000000/data/ptycho2d/SS61/scans/0000_SS61_001.hdf5'], 'outpath': '/ibira/lnls/labs/tepui/home/yuri.tonin/test/', 'order': 'yx', 'rank': 'ztyx', 'dataset': 'entry/data/data', 'gpus': [5], 'init': 0, 'final': -1, 'saving': 1, 'timing': 0, 'blocksize': 10, 'roi': 256, 'center': [1400, 1400]}\n",
      "Restoration of single file\n",
      "/ibira/lnls/beamlines/caterete/apps/gcc-jupyter/00000000/data/ptycho2d/SS61/scans/0000_SS61_001.hdf5\n",
      "Traceback (most recent call last):\n",
      "  File \"/ibira/lnls/labs/tepui/home/yuri.tonin/ssc-cdi/bin/caterete_ptycho.py\", line 32, in <module>\n",
      "    restoration_dict_list, restored_data_info_list = sscCdi.caterete.cat_restoration.restoration_CAT(input_dict) # restoration of all frames; restored DPs saved at output temporary folder\n",
      "  File \"/ibira/lnls/labs/tepui/home/yuri.tonin/.local/lib/python3.9/site-packages/sscCdi/caterete/cat_restoration.py\", line 66, in restoration_CAT\n",
      "    print(restored_data_info)\n",
      "UnboundLocalError: local variable 'restored_data_info' referenced before assignment\n"
     ]
    }
   ],
   "source": [
    "!python3 /ibira/lnls/labs/tepui/home/yuri.tonin/ssc-cdi/bin/caterete_ptycho.py /ibira/lnls/beamlines/caterete/apps/gcc-jupyter/inputs/yuri.tonin_ptycho_input.json"
   ]
  },
  {
   "cell_type": "code",
   "execution_count": null,
   "metadata": {},
   "outputs": [],
   "source": []
  }
 ],
 "metadata": {
  "kernelspec": {
   "display_name": "Python 3 (ipykernel)",
   "language": "python",
   "name": "python3"
  },
  "language_info": {
   "codemirror_mode": {
    "name": "ipython",
    "version": 3
   },
   "file_extension": ".py",
   "mimetype": "text/x-python",
   "name": "python",
   "nbconvert_exporter": "python",
   "pygments_lexer": "ipython3",
   "version": "3.9.2"
  }
 },
 "nbformat": 4,
 "nbformat_minor": 4
}
