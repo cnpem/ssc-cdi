{
 "cells": [
  {
   "cell_type": "markdown",
   "metadata": {},
   "source": [
    "# GCC's ssc-cdi : Ptychography Interface for Cateretê, v2.1.04\n",
    "\n",
    "- #### ATTENTION: if you are running this for the first time, packages can be installed by setting install_packages = True\n",
    "- #### To visualize outputs in real time, open the log console at: View > Show Log Console\n",
    "- #### Questions? E-mail gcc@lnls.br\n",
    "- #### Installation and User guide [available here](https://10.10.10.141/ssc/wiki/). \n",
    "- #### Documentation about the ssc-cdi package: https://gcc.lnls.br/ssc/ssc-cdi/index.html\n",
    "- #### To use a test sample:\n",
    "    - Proposal path = /ibira/lnls/beamlines/caterete/apps/gcc-jupyter/00000000/data/ptycho2d/\n",
    "    - Data Folders = ['SS03112022_02']\n",
    "    - projections = [0]\n",
    "- #### About sscPimega:\n",
    "    - Measurements done up to July 1st, 2022: use version sscPimega = '0.0.4'\n",
    "    - Measurements made between July 2nd and October 23rd, 2022: use version sscPimega = '0.0.6'\n",
    "    - Measurements made from October 24th, 2022: use version sscPimega = '0.4.0'"
   ]
  },
  {
   "cell_type": "code",
   "execution_count": 1,
   "metadata": {
    "tags": []
   },
   "outputs": [
    {
     "name": "stdin",
     "output_type": "stream",
     "text": [
      "Username: yuri.tonin\n"
     ]
    },
    {
     "name": "stdout",
     "output_type": "stream",
     "text": [
      "Password:\n"
     ]
    },
    {
     "name": "stdin",
     "output_type": "stream",
     "text": [
      " ········\n"
     ]
    },
    {
     "ename": "AttributeError",
     "evalue": "module 'sscPimega' has no attribute '__version__'",
     "output_type": "error",
     "traceback": [
      "\u001b[0;31m---------------------------------------------------------------------------\u001b[0m",
      "\u001b[0;31mAttributeError\u001b[0m                            Traceback (most recent call last)",
      "\u001b[0;32m/tmp/ipykernel_3676535/3061659285.py\u001b[0m in \u001b[0;36m<module>\u001b[0;34m\u001b[0m\n\u001b[1;32m      8\u001b[0m     \u001b[0msscInstall\u001b[0m\u001b[0;34m.\u001b[0m\u001b[0minstall_jupyter\u001b[0m\u001b[0;34m(\u001b[0m\u001b[0mserver\u001b[0m\u001b[0;34m,\u001b[0m\u001b[0mbeamline\u001b[0m\u001b[0;34m=\u001b[0m\u001b[0;34m'caterete'\u001b[0m\u001b[0;34m,\u001b[0m\u001b[0msscCdi\u001b[0m\u001b[0;34m=\u001b[0m\u001b[0;34m'0.4.15'\u001b[0m\u001b[0;34m,\u001b[0m\u001b[0msscPtycho\u001b[0m\u001b[0;34m=\u001b[0m\u001b[0;34m'2.1.1'\u001b[0m\u001b[0;34m,\u001b[0m\u001b[0msscPimega\u001b[0m\u001b[0;34m=\u001b[0m\u001b[0;34m'0.5.3'\u001b[0m\u001b[0;34m,\u001b[0m\u001b[0msscRaft\u001b[0m\u001b[0;34m=\u001b[0m\u001b[0;34m'2.0.1'\u001b[0m\u001b[0;34m,\u001b[0m\u001b[0msscRadon\u001b[0m\u001b[0;34m=\u001b[0m\u001b[0;34m'1.0.0'\u001b[0m\u001b[0;34m,\u001b[0m\u001b[0msscResolution\u001b[0m\u001b[0;34m=\u001b[0m\u001b[0;34m'1.2.3'\u001b[0m\u001b[0;34m)\u001b[0m\u001b[0;34m\u001b[0m\u001b[0;34m\u001b[0m\u001b[0m\n\u001b[1;32m      9\u001b[0m     \u001b[0mos\u001b[0m\u001b[0;34m.\u001b[0m\u001b[0m_exit\u001b[0m\u001b[0;34m(\u001b[0m\u001b[0;36m00\u001b[0m\u001b[0;34m)\u001b[0m \u001b[0;31m# shutdown kernel. Required to import new installed packages\u001b[0m\u001b[0;34m\u001b[0m\u001b[0;34m\u001b[0m\u001b[0m\n\u001b[0;32m---> 10\u001b[0;31m \u001b[0;32mfrom\u001b[0m \u001b[0msscCdi\u001b[0m \u001b[0;32mimport\u001b[0m \u001b[0mjupyter\u001b[0m\u001b[0;34m,\u001b[0m \u001b[0mptycho_jupyter\u001b[0m\u001b[0;34m\u001b[0m\u001b[0;34m\u001b[0m\u001b[0m\n\u001b[0m\u001b[1;32m     11\u001b[0m \u001b[0mheader\u001b[0m\u001b[0;34m,\u001b[0m\u001b[0mtabs\u001b[0m\u001b[0;34m,\u001b[0m \u001b[0minput_variables_dict\u001b[0m \u001b[0;34m=\u001b[0m \u001b[0mptycho_jupyter\u001b[0m\u001b[0;34m.\u001b[0m\u001b[0mdeploy_tabs\u001b[0m\u001b[0;34m(\u001b[0m\u001b[0mserver\u001b[0m\u001b[0;34m)\u001b[0m\u001b[0;34m\u001b[0m\u001b[0;34m\u001b[0m\u001b[0m\n\u001b[1;32m     12\u001b[0m \u001b[0mdisplay\u001b[0m\u001b[0;34m(\u001b[0m\u001b[0mheader\u001b[0m\u001b[0;34m,\u001b[0m\u001b[0mtabs\u001b[0m\u001b[0;34m)\u001b[0m\u001b[0;34m\u001b[0m\u001b[0;34m\u001b[0m\u001b[0m\n",
      "\u001b[0;32m/ibira/lnls/labs/tepui/home/yuri.tonin/.local/lib/python3.9/site-packages/sscCdi/__init__.py\u001b[0m in \u001b[0;36m<module>\u001b[0;34m\u001b[0m\n\u001b[1;32m      8\u001b[0m \u001b[0;34m\u001b[0m\u001b[0m\n\u001b[1;32m      9\u001b[0m \u001b[0;32mfrom\u001b[0m \u001b[0;34m.\u001b[0m\u001b[0mcditypes\u001b[0m \u001b[0;32mimport\u001b[0m \u001b[0;34m*\u001b[0m\u001b[0;34m\u001b[0m\u001b[0;34m\u001b[0m\u001b[0m\n\u001b[0;32m---> 10\u001b[0;31m \u001b[0;32mfrom\u001b[0m \u001b[0;34m.\u001b[0m\u001b[0mcaterete\u001b[0m \u001b[0;32mimport\u001b[0m \u001b[0;34m*\u001b[0m\u001b[0;34m\u001b[0m\u001b[0;34m\u001b[0m\u001b[0m\n\u001b[0m\u001b[1;32m     11\u001b[0m \u001b[0;32mfrom\u001b[0m \u001b[0;34m.\u001b[0m\u001b[0mcarnauba\u001b[0m \u001b[0;32mimport\u001b[0m \u001b[0;34m*\u001b[0m\u001b[0;34m\u001b[0m\u001b[0;34m\u001b[0m\u001b[0m\n",
      "\u001b[0;32m/ibira/lnls/labs/tepui/home/yuri.tonin/.local/lib/python3.9/site-packages/sscCdi/caterete/__init__.py\u001b[0m in \u001b[0;36m<module>\u001b[0;34m\u001b[0m\n\u001b[1;32m      5\u001b[0m \u001b[0;32mfrom\u001b[0m \u001b[0;34m.\u001b[0m\u001b[0mptycho_processing\u001b[0m \u001b[0;32mimport\u001b[0m \u001b[0;34m*\u001b[0m\u001b[0;34m\u001b[0m\u001b[0;34m\u001b[0m\u001b[0m\n\u001b[1;32m      6\u001b[0m \u001b[0;32mfrom\u001b[0m \u001b[0;34m.\u001b[0m\u001b[0mtomo_processing\u001b[0m \u001b[0;32mimport\u001b[0m \u001b[0;34m*\u001b[0m\u001b[0;34m\u001b[0m\u001b[0;34m\u001b[0m\u001b[0m\n\u001b[0;32m----> 7\u001b[0;31m \u001b[0;32mfrom\u001b[0m \u001b[0;34m.\u001b[0m\u001b[0mptycho_jupyter\u001b[0m \u001b[0;32mimport\u001b[0m \u001b[0;34m*\u001b[0m\u001b[0;34m\u001b[0m\u001b[0;34m\u001b[0m\u001b[0m\n\u001b[0m\u001b[1;32m      8\u001b[0m \u001b[0;32mfrom\u001b[0m \u001b[0;34m.\u001b[0m\u001b[0mtomo_jupyter\u001b[0m \u001b[0;32mimport\u001b[0m \u001b[0;34m*\u001b[0m\u001b[0;34m\u001b[0m\u001b[0;34m\u001b[0m\u001b[0m\n\u001b[1;32m      9\u001b[0m \u001b[0;32mfrom\u001b[0m \u001b[0;34m.\u001b[0m\u001b[0mjupyter\u001b[0m \u001b[0;32mimport\u001b[0m \u001b[0;34m*\u001b[0m\u001b[0;34m\u001b[0m\u001b[0;34m\u001b[0m\u001b[0m\n",
      "\u001b[0;32m/ibira/lnls/labs/tepui/home/yuri.tonin/.local/lib/python3.9/site-packages/sscCdi/caterete/ptycho_jupyter.py\u001b[0m in \u001b[0;36m<module>\u001b[0;34m\u001b[0m\n\u001b[1;32m     52\u001b[0m         \u001b[0mglobal_dict\u001b[0m \u001b[0;34m=\u001b[0m \u001b[0mjson\u001b[0m\u001b[0;34m.\u001b[0m\u001b[0mload\u001b[0m\u001b[0;34m(\u001b[0m\u001b[0mjson_file\u001b[0m\u001b[0;34m)\u001b[0m\u001b[0;34m\u001b[0m\u001b[0;34m\u001b[0m\u001b[0m\n\u001b[1;32m     53\u001b[0m \u001b[0;34m\u001b[0m\u001b[0m\n\u001b[0;32m---> 54\u001b[0;31m \u001b[0mglobal_dict\u001b[0m\u001b[0;34m[\u001b[0m\u001b[0;34m\"00_versions\"\u001b[0m\u001b[0;34m]\u001b[0m \u001b[0;34m=\u001b[0m \u001b[0;34mf\"sscCdi={sscCdi.__version__},sscPimega={sscPimega.__version__},sscResolution={sscResolution.__version__},sscRaft={sscRaft.__version__},sscRadon={sscRadon.__version__}\"\u001b[0m\u001b[0;34m\u001b[0m\u001b[0;34m\u001b[0m\u001b[0m\n\u001b[0m\u001b[1;32m     55\u001b[0m \u001b[0;34m\u001b[0m\u001b[0m\n\u001b[1;32m     56\u001b[0m \u001b[0;31m############################################ Global Layout ###########################################################################\u001b[0m\u001b[0;34m\u001b[0m\u001b[0;34m\u001b[0m\u001b[0;34m\u001b[0m\u001b[0m\n",
      "\u001b[0;31mAttributeError\u001b[0m: module 'sscPimega' has no attribute '__version__'"
     ]
    }
   ],
   "source": [
    "install_packages = False\n",
    "\n",
    "%matplotlib widget\n",
    "import sscInstall, os\n",
    "server = sscInstall.connect_server()\n",
    "if install_packages:\n",
    "    print(\"\\nThe kernel will restart after installation. Please run the cell again using install_packages = False\")\n",
    "    sscInstall.install_jupyter(server,beamline='caterete',sscCdi='0.4.15',sscPtycho='2.1.1',sscPimega='0.5.3',sscRaft='2.0.1',sscRadon='1.0.0',sscResolution='1.2.3')\n",
    "    os._exit(00) # shutdown kernel. Required to import new installed packages\n",
    "from sscCdi import jupyter, ptycho_jupyter\n",
    "header,tabs, input_variables_dict = ptycho_jupyter.deploy_tabs(server)\n",
    "display(header,tabs)\n",
    "\n",
    "# /ibira/lnls/beamlines/caterete/proposals/20221519/data/ptycho2d/\n",
    "# ['c002-02_01']"
   ]
  },
  {
   "cell_type": "code",
   "execution_count": 4,
   "metadata": {},
   "outputs": [
    {
     "data": {
      "text/plain": [
       "['/ibira/lnls/labs/tepui/apps/modules/python/3.9.2/lib/python3.9/site-packages/sscPimega']"
      ]
     },
     "execution_count": 4,
     "metadata": {},
     "output_type": "execute_result"
    }
   ],
   "source": [
    "import sscPimega\n",
    "sscPimega.__path__"
   ]
  },
  {
   "cell_type": "code",
   "execution_count": null,
   "metadata": {},
   "outputs": [],
   "source": []
  }
 ],
 "metadata": {
  "kernelspec": {
   "display_name": "Python 3 (ipykernel)",
   "language": "python",
   "name": "python3"
  },
  "language_info": {
   "codemirror_mode": {
    "name": "ipython",
    "version": 3
   },
   "file_extension": ".py",
   "mimetype": "text/x-python",
   "name": "python",
   "nbconvert_exporter": "python",
   "pygments_lexer": "ipython3",
   "version": "3.9.2"
  }
 },
 "nbformat": 4,
 "nbformat_minor": 4
}
