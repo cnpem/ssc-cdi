{
 "cells": [
  {
   "cell_type": "code",
   "execution_count": 27,
   "metadata": {},
   "outputs": [
    {
     "name": "stdout",
     "output_type": "stream",
     "text": [
      "(298, 2)\n"
     ]
    }
   ],
   "source": [
    "import numpy as np\n",
    "import json\n",
    "\n",
    "path = \"/ibira/lnls/beamlines/caterete/proposals/20220257/proc/recons/HF2_004/ReconYuri_004+005/HF2_004/2022-07-12-09h12m_HF2_004.json\"\n",
    "# path2 = \"/ibira/lnls/beamlines/caterete/proposals/20220257/proc/recons/HF2_004/ReconYuri_004+005/HF2_004/HF2_004_ordered_angles_projected.npy\"\n",
    "path2 = \"/ibira/lnls/beamlines/caterete/proposals/20220257/proc/recons/HF2_004/ReconYuri_004+005/HF2_004/HF2_004_ordered_angles.npy\"\n",
    "\n",
    "angles = np.load(path2)\n",
    "print(angles.shape)\n",
    "dtheta = angles - np.roll(angles,1,axis=0)\n",
    "\n",
    "\n",
    "log = json.load(open(path))\n",
    "\n",
    "n_original  = log[\"NumberOriginalAngles\"]\n",
    "n_projected = log[\"NumberUsedAngles\"]\n",
    "not_unwrap  = log[\"bad_frames_before_unwrap\"]\n",
    "not_wiggle  = log[\"bad_frames_before_wiggle\"]"
   ]
  },
  {
   "cell_type": "code",
   "execution_count": 35,
   "metadata": {},
   "outputs": [
    {
     "data": {
      "text/plain": [
       "array([297.        , 152.66873708])"
      ]
     },
     "execution_count": 35,
     "metadata": {},
     "output_type": "execute_result"
    }
   ],
   "source": [
    "angles.sort(0)\n",
    "angles[-1]-angles[0]\n"
   ]
  },
  {
   "cell_type": "code",
   "execution_count": null,
   "metadata": {},
   "outputs": [],
   "source": []
  },
  {
   "cell_type": "code",
   "execution_count": null,
   "metadata": {},
   "outputs": [],
   "source": []
  },
  {
   "cell_type": "code",
   "execution_count": null,
   "metadata": {},
   "outputs": [],
   "source": []
  },
  {
   "cell_type": "code",
   "execution_count": null,
   "metadata": {},
   "outputs": [],
   "source": []
  },
  {
   "cell_type": "code",
   "execution_count": null,
   "metadata": {},
   "outputs": [],
   "source": []
  },
  {
   "cell_type": "code",
   "execution_count": null,
   "metadata": {},
   "outputs": [],
   "source": []
  },
  {
   "cell_type": "code",
   "execution_count": null,
   "metadata": {},
   "outputs": [],
   "source": []
  },
  {
   "cell_type": "code",
   "execution_count": 29,
   "metadata": {},
   "outputs": [
    {
     "name": "stdout",
     "output_type": "stream",
     "text": [
      "298\n",
      "308\n",
      "139\n",
      "169\n"
     ]
    }
   ],
   "source": [
    "print(log[\"NumberOriginalAngles\"][0])\n",
    "print(log[\"NumberUsedAngles\"][0])\n",
    "print(len(log[\"bad_frames_before_unwrap\"])+len(log[\"bad_frames_before_wiggle\"]))\n",
    "print(log[\"NumberUsedAngles\"][0]-(len(log[\"bad_frames_before_unwrap\"])+len(log[\"bad_frames_before_wiggle\"])))"
   ]
  }
 ],
 "metadata": {
  "kernelspec": {
   "display_name": "Python 3",
   "language": "python",
   "name": "python3"
  },
  "language_info": {
   "codemirror_mode": {
    "name": "ipython",
    "version": 3
   },
   "file_extension": ".py",
   "mimetype": "text/x-python",
   "name": "python",
   "nbconvert_exporter": "python",
   "pygments_lexer": "ipython3",
   "version": "3.6.9"
  }
 },
 "nbformat": 4,
 "nbformat_minor": 4
}
