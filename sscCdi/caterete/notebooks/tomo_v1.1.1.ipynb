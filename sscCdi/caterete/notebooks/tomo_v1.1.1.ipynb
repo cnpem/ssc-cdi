{
 "cells": [
  {
   "cell_type": "markdown",
   "metadata": {
    "tags": []
   },
   "source": [
    "# GCC's ssc-cdi : Tomography Interface for Cateretê, v1.1.1\n",
    " \n",
    "- #### Run first cell to connect to server and install requirements. Run second cell to deploy interface.\n",
    "- #### To visualize outputs in real time, open the log console at: View > Show Log Console\n",
    "- #### Questions? E-mail gcc@lnls.br\n",
    "- #### Installation and User guide [available here](https://10.10.10.141/ssc/wiki/). \n",
    "- #### Documentation about the ssc-cdi package: https://gcc.lnls.br/ssc/ssc-cdi/index.html\n",
    "- #### To use a test sample:\n",
    "    - Ibira Datapath (str) = /ibira/lnls/beamlines/caterete/apps/gcc-jupyter/00000000/data/ptycho3d/\n",
    "    - Ibira Datafolders (list) = ['phantom_complex']\n",
    "    - Ptycho sinogram path (str) = /ibira/lnls/beamlines/caterete/apps/gcc-jupyter/00000000/proc/recons/phantom_complex/object_phantom_complex.npy\n",
    "- #### About sscPimega:\n",
    "    - Measurements done up to July 1st, 2022: use version sscPimega = '0.0.4'\n",
    "    - Measurements made between July 2nd and October 23rd, 2022: use version sscPimega = '0.0.6'\n",
    "    - Measurements made from October 24th, 2022: use version sscPimega = '0.1.1'"
   ]
  },
  {
   "cell_type": "code",
   "execution_count": null,
   "metadata": {
    "collapsed": true,
    "jupyter": {
     "outputs_hidden": true
    }
   },
   "outputs": [
    {
     "name": "stdin",
     "output_type": "stream",
     "text": [
      "Username: yuri.tonin\n"
     ]
    },
    {
     "name": "stdout",
     "output_type": "stream",
     "text": [
      "Password:\n"
     ]
    },
    {
     "name": "stdin",
     "output_type": "stream",
     "text": [
      " ············\n"
     ]
    },
    {
     "name": "stdout",
     "output_type": "stream",
     "text": [
      "/home/ABTLUS/yuri.tonin/.local/lib/python3.6/site-packages/sscCdi-0.3.4-py3.6-linux-ppc64le.egg/sscCdi\n",
      "to be done!\n",
      "/home/ABTLUS/yuri.tonin/.local/lib/python3.6/site-packages/sscRaft/lib/libraft.cpython-36m-powerpc64le-linux-gnu.so\n"
     ]
    },
    {
     "data": {
      "application/vnd.jupyter.widget-view+json": {
       "model_id": "85807500dd0449c3a0c307ae547a6800",
       "version_major": 2,
       "version_minor": 0
      },
      "text/plain": [
       "VBox(children=(HTML(value='<hr class=\"solid\" 2px #000>'), HBox(children=(RadioButtons(description='Contrast', …"
      ]
     },
     "metadata": {},
     "output_type": "display_data"
    },
    {
     "data": {
      "application/vnd.jupyter.widget-view+json": {
       "model_id": "dcb1ec57f6cf43a296f3ccb558a56fbe",
       "version_major": 2,
       "version_minor": 0
      },
      "text/plain": [
       "Tab(children=(VBox(children=(VBox(children=(Text(value='/ibira/lnls/beamlines/caterete/proposals/20210160/data…"
      ]
     },
     "metadata": {},
     "output_type": "display_data"
    }
   ],
   "source": [
    "install_packages = False\n",
    "%matplotlib widget\n",
    "import sscInstall, os\n",
    "server = sscInstall.connect_server()\n",
    "if install_packages:\n",
    "    print(\"The kernel will restart after installation. Please run the cell again using install_packages = False\")\n",
    "    sscInstall.install_jupyter(server,beamline='caterete',sscCdi='0.3.5',sscPtycho='1.0.2',sscPimega='0.1.1',sscRaft='1.0.3',sscRadon='1.0.0',sscResolution='1.2.3')\n",
    "    os._exit(00) # shutdown kernel. Required to import new installed packages\n",
    "from sscCdi import jupyter, tomo_jupyter\n",
    "header,tabs, input_variables_dict = tomo_jupyter.deploy_tabs(server)\n",
    "display(header,tabs)\n"
   ]
  }
 ],
 "metadata": {
  "kernelspec": {
   "display_name": "Python 3",
   "language": "python",
   "name": "python3"
  },
  "language_info": {
   "codemirror_mode": {
    "name": "ipython",
    "version": 3
   },
   "file_extension": ".py",
   "mimetype": "text/x-python",
   "name": "python",
   "nbconvert_exporter": "python",
   "pygments_lexer": "ipython3",
   "version": "3.6.9"
  }
 },
 "nbformat": 4,
 "nbformat_minor": 4
}
