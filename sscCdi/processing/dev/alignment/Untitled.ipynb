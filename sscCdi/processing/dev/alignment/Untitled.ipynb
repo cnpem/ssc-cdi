{
 "cells": [
  {
   "cell_type": "markdown",
   "id": "7064ab3c-e983-4802-92be-4abfdb34397f",
   "metadata": {},
   "source": [
    "# GCC's ssc-cdi : tomography pipeline for Cateretê\n",
    " \n",
    "- #### Questions? E-mail gcc@lnls.br\n",
    "- #### Documentation about the ssc-cdi package: https://gcc.lnls.br/wiki/"
   ]
  },
  {
   "cell_type": "markdown",
   "id": "e6a6ae0d-1e74-4ce8-811b-d325d1dec033",
   "metadata": {},
   "source": [
    "## Imports"
   ]
  },
  {
   "cell_type": "code",
   "execution_count": null,
   "id": "e5c1f553-619a-44a5-a2a6-8375d800512c",
   "metadata": {
    "tags": []
   },
   "outputs": [],
   "source": [
    "%matplotlib widget\n",
    "import numpy as np\n",
    "import matplotlib.pyplot as plt\n",
    "import json\n",
    "import sscCdi\n",
    "import sscRaft\n",
    "\n",
    "print(f'sscCdi version: {sscCdi.__version__}')\n",
    "print(f'sscRaft version: {sscRaft.__version__}')"
   ]
  },
  {
   "cell_type": "markdown",
   "id": "1dba28bf-7b8c-4698-8402-8371c2ac5fad",
   "metadata": {},
   "source": [
    "## Load dictionary"
   ]
  },
  {
   "cell_type": "code",
   "execution_count": null,
   "id": "4bd08a4b-0b64-45a8-ac11-d4e94c5b9ae4",
   "metadata": {
    "tags": []
   },
   "outputs": [],
   "source": [
    "dic = {}"
   ]
  },
  {
   "cell_type": "markdown",
   "id": "4235f590-bfb4-4d0e-96d3-38e503aa9d46",
   "metadata": {},
   "source": [
    "## Load data"
   ]
  },
  {
   "cell_type": "code",
   "execution_count": null,
   "id": "0427d2e1-39cc-4db3-9cdb-3822394111c3",
   "metadata": {
    "tags": []
   },
   "outputs": [],
   "source": [
    "dic[\"recon_method\"]  = \"ptycho\" # ptycho or pwcdi\n",
    "dic[\"contrast_type\"] = \"complex\" # phase, magnitude or complex\n",
    "dic[\"sinogram_path\"] = \"ibira/lnls/beamlines/caterete/apps/gcc-jupyter/00000000/proc/recons/glass_sphere/2023-08-17-10h52m_glass_sphere.hdf5\""
   ]
  },
  {
   "cell_type": "code",
   "execution_count": null,
   "id": "cf005891-c511-4cf3-a8ca-a8a4359b960d",
   "metadata": {
    "tags": []
   },
   "outputs": [],
   "source": [
    "dic = sscCdi.define_paths(dic)"
   ]
  },
  {
   "cell_type": "code",
   "execution_count": null,
   "id": "f42ae0db-799b-40ff-8c93-e4c1dc1aee55",
   "metadata": {
    "tags": []
   },
   "outputs": [],
   "source": [
    "obj, angles = sscCdi.read_data(dic)\n",
    "print(f\"Object shape = {obj.shape} \\t Number of angles: {angles.shape}\")"
   ]
  },
  {
   "cell_type": "code",
   "execution_count": null,
   "id": "87ceedd1-79e9-48c0-839a-b9f7a1b02b15",
   "metadata": {
    "tags": []
   },
   "outputs": [],
   "source": [
    "projection = np.sum(obj,axis=0)\n",
    "print(obj.shape,projection.shape)"
   ]
  },
  {
   "cell_type": "code",
   "execution_count": null,
   "id": "fcc29fb5-f023-4bc1-95ac-f0607b677082",
   "metadata": {
    "tags": []
   },
   "outputs": [],
   "source": [
    "plt.figure()\n",
    "plt.imshow(np.angle(projection[1500:-1400,1400:-1500]))"
   ]
  },
  {
   "cell_type": "code",
   "execution_count": null,
   "id": "3f733ad1-223e-418e-a140-2e3a57ed6963",
   "metadata": {
    "tags": []
   },
   "outputs": [],
   "source": [
    "# sscCdi.deploy_visualizer(np.angle(obj),title='Original sinogram',cmap='gray')"
   ]
  },
  {
   "cell_type": "markdown",
   "id": "8ba60afe-e85e-4b00-a3a8-eddce0dde97e",
   "metadata": {},
   "source": [
    "## Crop data"
   ]
  },
  {
   "cell_type": "code",
   "execution_count": null,
   "id": "5f1a36e4-ce27-4354-b29f-51f5a6c2542f",
   "metadata": {
    "tags": []
   },
   "outputs": [],
   "source": [
    "dic[\"top_crop\"]    = 1500\n",
    "dic[\"bottom_crop\"] = 1400\n",
    "dic[\"left_crop\"]   = 1400\n",
    "dic[\"right_crop\"]  = 1500"
   ]
  },
  {
   "cell_type": "code",
   "execution_count": null,
   "id": "4ae4e81a-60cc-4607-b8d0-9b360f394262",
   "metadata": {
    "tags": []
   },
   "outputs": [],
   "source": [
    "sscCdi.tomo_crop(dic,obj)"
   ]
  },
  {
   "cell_type": "code",
   "execution_count": null,
   "id": "8d43b739-4bbe-4c88-a4d0-be5776ca496b",
   "metadata": {
    "tags": []
   },
   "outputs": [],
   "source": [
    "cropped_data = np.load(dic[\"cropped_sinogram_filepath\"])"
   ]
  },
  {
   "cell_type": "code",
   "execution_count": null,
   "id": "f803373c-2f61-49cc-8367-8781c46f0b0d",
   "metadata": {
    "tags": []
   },
   "outputs": [],
   "source": [
    "sscCdi.deploy_visualizer(cropped_data,type='phase',title=\"Cropped sinogram\",cmap='gray')"
   ]
  },
  {
   "cell_type": "markdown",
   "id": "60d3285f-8511-4e54-9538-6687c9c62a1e",
   "metadata": {},
   "source": [
    "## Remove bad frames before sorting"
   ]
  },
  {
   "cell_type": "code",
   "execution_count": null,
   "id": "74430c9f-60ed-4d23-b6e1-97965ff68c6d",
   "metadata": {
    "tags": []
   },
   "outputs": [],
   "source": [
    "dic[\"bad_frames_before_sorting\"] = [133]\n",
    "dic = sscCdi.remove_frames(dic, dic[\"cropped_sinogram_filepath\"], angles, dic[\"bad_frames_before_sorting\"])\n",
    "\n",
    "# loading data after removing bad frames\n",
    "cropped_data = np.load(dic[\"object_after_remove_frames_path\"])\n",
    "\n",
    "# backing up angles array before removing bad frames\n",
    "angles_before_remove = angles\n",
    "\n",
    "# loading angles after removing bad frames\n",
    "angles = np.load(dic[\"angles_after_remove_frames_path\"])\n",
    "print('Cropped data shape: ', cropped_data.shape)"
   ]
  },
  {
   "cell_type": "markdown",
   "id": "313af51e-3b3a-437e-8d35-2921b8c148f7",
   "metadata": {},
   "source": [
    "## Sort data"
   ]
  },
  {
   "cell_type": "code",
   "execution_count": null,
   "id": "a0237899-1c0b-4071-9e59-7a6a034e36c4",
   "metadata": {
    "tags": []
   },
   "outputs": [],
   "source": [
    "sscCdi.tomo_sort(dic,cropped_data, angles)"
   ]
  },
  {
   "cell_type": "code",
   "execution_count": null,
   "id": "a321be80-1b27-4dd0-8d26-b60eca7d3eef",
   "metadata": {
    "tags": []
   },
   "outputs": [],
   "source": [
    "sorted_data = np.load(dic[\"ordered_object_filepath\"])\n",
    "sscCdi.deploy_visualizer(sorted_data,type='phase',title=\"Ordered sinogram\",cmap='gray')"
   ]
  },
  {
   "cell_type": "markdown",
   "id": "a38e049f-2f9f-450c-b872-b70f6a05dbfb",
   "metadata": {},
   "source": [
    "## Alignment: Cross Correlation (CC) and Vertical Mass Fluctuation (VMF)"
   ]
  },
  {
   "cell_type": "code",
   "execution_count": null,
   "id": "8c58cf8b-504d-4da9-8d45-7b847eb965f1",
   "metadata": {
    "tags": []
   },
   "outputs": [],
   "source": [
    "aligned_data_CC = sscCdi.alignment_variance_field(sorted_data, fft_upsampling=10,return_common_valid_region=True, remove_null_borders = True)"
   ]
  },
  {
   "cell_type": "code",
   "execution_count": null,
   "id": "82c2d223-f508-4e94-8552-a2cff2634cc9",
   "metadata": {
    "tags": []
   },
   "outputs": [],
   "source": [
    "sscCdi.misc.deploy_visualizer(aligned_data_CC,type='phase',title='CC',cmap='gray',axis=0) # select axis"
   ]
  },
  {
   "cell_type": "code",
   "execution_count": null,
   "id": "9249f60a-3ad8-4ab2-aa91-2ca2d4264dfe",
   "metadata": {
    "tags": []
   },
   "outputs": [],
   "source": [
    "aligned_data_VMF = sscCdi.alignment_vertical_mass_fluctuation(aligned_data_CC, use_phase_gradient = True, return_common_valid_region=True, remove_null_borders = True, plot = False) # if data is not equalized, phase gradient should be used"
   ]
  },
  {
   "cell_type": "code",
   "execution_count": null,
   "id": "6f9bf4be-f697-4e95-ae08-fe70b4100c84",
   "metadata": {
    "tags": []
   },
   "outputs": [],
   "source": [
    "sscCdi.misc.deploy_visualizer(np.angle(aligned_data_VMF),title='VMF',cmap='gray',axis=0) # select axis"
   ]
  },
  {
   "cell_type": "code",
   "execution_count": null,
   "id": "72499fc4-4016-401d-9f0a-0762581a6ce9",
   "metadata": {
    "tags": []
   },
   "outputs": [],
   "source": [
    "np.save(dic[\"pre_aligned_sinogram_filepath\"],aligned_data_VMF) # select which prealigned dataset to save"
   ]
  },
  {
   "cell_type": "markdown",
   "id": "be51fc09-8a80-40c4-bc14-884df2dc131a",
   "metadata": {},
   "source": [
    "## Unwrap"
   ]
  },
  {
   "cell_type": "code",
   "execution_count": null,
   "id": "12a332e5-d1da-46b9-a81e-8d21a5fe2f5c",
   "metadata": {
    "tags": []
   },
   "outputs": [],
   "source": [
    "cropped_data = np.load(dic[\"cropped_sinogram_filepath\"])"
   ]
  },
  {
   "cell_type": "code",
   "execution_count": null,
   "id": "25f2f10c-6d60-4e48-b66d-7597c92b678e",
   "metadata": {
    "tags": []
   },
   "outputs": [],
   "source": [
    "dic[\"bad_frames_before_unwrap\"] = [28,30,45,49,65,66,91,113]\n",
    "\n",
    "\"\"\" Select data to be unwrapped \"\"\"\n",
    "# data_to_unwrap = np.angle(sorted_data)\n",
    "# data_to_unwrap = np.angle(cropped_data)\n",
    "data_to_unwrap = np.angle(aligned_data_CC)\n",
    "# data_to_unwrap = np.angle(aligned_data_VMF)"
   ]
  },
  {
   "cell_type": "code",
   "execution_count": null,
   "id": "8dc03942-a961-4bf7-bb84-c9823429fc13",
   "metadata": {
    "tags": []
   },
   "outputs": [],
   "source": [
    "sscCdi.tomo_unwrap(dic, data_to_unwrap)"
   ]
  },
  {
   "cell_type": "code",
   "execution_count": null,
   "id": "de1862c6-5d2e-4fc5-83da-01fa06ad21c0",
   "metadata": {
    "tags": []
   },
   "outputs": [],
   "source": [
    "sscCdi.deploy_visualizer(np.load(dic[\"unwrapped_sinogram_filepath\"]),title=\"Unwrapped sinogram\",cmap='gray')"
   ]
  },
  {
   "cell_type": "markdown",
   "id": "4766d187-201a-4e04-84bb-87aeafd7ab00",
   "metadata": {},
   "source": [
    "## 2D Equalization"
   ]
  },
  {
   "cell_type": "code",
   "execution_count": null,
   "id": "670f16b5-9ea6-4fee-aba2-ad39f75db613",
   "metadata": {
    "tags": []
   },
   "outputs": [],
   "source": [
    "dic[\"bad_frames_before_equalization\"] = []\n",
    "\n",
    "dic[\"CPUs\"] = 32\n",
    "\n",
    "dic[\"equalize_invert\"] = True # invert phase shift signal from negative to positive\n",
    "dic[\"equalize_ROI\"] = [0,100,0,100] # region of interest of null region around the sample used for phase ramp and offset corrections\n",
    "dic[\"equalize_remove_phase_gradient\"] = True  # if empty and equalize_ROI = [], will subtract best plane fit from whole image\n",
    "dic[\"equalize_remove_phase_gradient_iterations\"] = 5\n",
    "dic[\"equalize_local_offset\"] = False # remove offset of each frame from the mean of ROI \n",
    "dic[\"equalize_set_min_max\"]= [-5,8] # [minimum,maximum] threshold values for whole volume\n",
    "dic[\"equalize_non_negative\"] = True # turn any remaining negative values to zero\n"
   ]
  },
  {
   "cell_type": "code",
   "execution_count": null,
   "id": "623b6caf-2bbf-4cc1-8857-8b8dc204ecf1",
   "metadata": {
    "tags": []
   },
   "outputs": [],
   "source": [
    "sinogram_to_equalize = np.load(dic[\"unwrapped_sinogram_filepath\"])\n",
    "sscCdi.tomo_equalize(dic,sinogram_to_equalize)"
   ]
  },
  {
   "cell_type": "code",
   "execution_count": null,
   "id": "4bca04ef-d5ec-415f-ace8-7ebe02192f4c",
   "metadata": {
    "tags": []
   },
   "outputs": [],
   "source": [
    "sscCdi.misc.plot_volume_histogram(np.load(dic[\"equalized_sinogram_filepath\"]))"
   ]
  },
  {
   "cell_type": "code",
   "execution_count": null,
   "id": "953159cd-1658-49cc-8996-33ca98dfa5e9",
   "metadata": {
    "tags": []
   },
   "outputs": [],
   "source": [
    "sscCdi.deploy_visualizer(np.load(dic[\"equalized_sinogram_filepath\"]),title=\"Equalized sinogram\",cmap='gray')"
   ]
  },
  {
   "cell_type": "code",
   "execution_count": null,
   "id": "9705fd7a-4f55-45cd-9375-a16a2f990f22",
   "metadata": {
    "tags": []
   },
   "outputs": [],
   "source": [
    "sscCdi.deploy_visualizer(np.load(dic[\"equalized_sinogram_filepath\"]),title=\"Equalized sinogram\",cmap='gray',axis=1,aspect_ratio='auto')"
   ]
  },
  {
   "cell_type": "code",
   "execution_count": null,
   "id": "6d8c330c-1a9f-4745-a362-ac142288d699",
   "metadata": {
    "tags": []
   },
   "outputs": [],
   "source": [
    "sscCdi.deploy_visualizer(np.load(dic[\"equalized_sinogram_filepath\"]),title=\"Equalized sinogram\",cmap='gray',axis=2,aspect_ratio='auto')#,limits=(0,0.5))"
   ]
  },
  {
   "cell_type": "markdown",
   "id": "ad74754f-54f2-4d34-b1ce-9d683d49a5c4",
   "metadata": {},
   "source": [
    "## Alignment (wiggle) "
   ]
  },
  {
   "cell_type": "code",
   "execution_count": null,
   "id": "f31698e0-9d53-48a2-b754-2ccef15da697",
   "metadata": {
    "tags": []
   },
   "outputs": [],
   "source": [
    "dic[\"wiggle_sinogram_selection\"] = dic[\"equalized_sinogram_filepath\"]\n",
    "dic[\"step_percentage\"] = 0 # need to project irregular angle steps to a regular grid?"
   ]
  },
  {
   "cell_type": "code",
   "execution_count": null,
   "id": "9929518d-5dad-4a83-9571-3af502e1d550",
   "metadata": {
    "tags": []
   },
   "outputs": [],
   "source": [
    "sscCdi.preview_angle_projection(dic)"
   ]
  },
  {
   "cell_type": "code",
   "execution_count": null,
   "id": "dc7c3f89-2ad6-46d1-b07d-a3b122f0eee8",
   "metadata": {},
   "outputs": [],
   "source": [
    "dic[\"project_angles_to_regular_grid\"] = True \n",
    "dic[\"bad_frames_before_wiggle\"] = [] \n",
    "dic[\"wiggle_reference_frame\"] = 0 "
   ]
  },
  {
   "cell_type": "code",
   "execution_count": null,
   "id": "e8e9ba53-128c-4623-ae8e-dc40e508caa7",
   "metadata": {
    "tags": []
   },
   "outputs": [],
   "source": [
    "dic = sscCdi.tomo_alignment(dic)"
   ]
  },
  {
   "cell_type": "code",
   "execution_count": null,
   "id": "13606d7f-04bb-40f1-ba8f-db003e6d130c",
   "metadata": {},
   "outputs": [],
   "source": [
    "sscCdi.deploy_visualizer(np.load(dic[\"wiggle_sinogram_filepath\"]),title=\"Aligned sinogram\",cmap='gray',axis=1)"
   ]
  },
  {
   "cell_type": "markdown",
   "id": "8918241b-492b-4e75-adc7-a37c2bf36bf1",
   "metadata": {},
   "source": [
    "## Tomography: select dictionary according to tomographic method\n",
    "- for details on the tomography algorithm inputs, see documentation at https://gcc.lnls.br/wiki/docs/ssc-raft/reconstructions/"
   ]
  },
  {
   "cell_type": "code",
   "execution_count": null,
   "id": "6eb132f6-ca40-4804-8a45-2b42688d60ef",
   "metadata": {
    "tags": []
   },
   "outputs": [],
   "source": [
    "dic['using_wiggle'] = True\n",
    "\n",
    "dic['automatic_regularization'] = 0 # skip if 0; regularization between 0 and 1 to enhance borders prior to recon (https://www.sciencedirect.com/science/article/pii/S2590037419300883?via%3Dihub)\n",
    "\n",
    "# dic[\"algorithm_dic\"] = { # if FBP: filtered back-projection\n",
    "#     'algorithm': \"FBP\",\n",
    "#     'gpu': [0,1],\n",
    "#     'filter': 'lorentz', # 'gaussian','lorentz','cosine','rectangle'\n",
    "#     'regularization': 0.1, # 0 <= regularization <= 1; use for smoothening\n",
    "# }\n",
    "\n",
    "dic[\"algorithm_dic\"] = { # if eEM: emission expectation maximization\n",
    "    'algorithm': \"EM\",\n",
    "    'gpu': [0,1],\n",
    "    'regularization': 0.0001,\n",
    "    'method': 'eEM', \n",
    "    'niterations': [20,0,0,0], # [global iterations, iterations EMTV, iterations2 EMTV, Cone-beam integration points]\n",
    "    'epsilon': 1e-15, #for EMTV only\n",
    "    'blocksize': 20, # blocks for parallelization\n",
    "}"
   ]
  },
  {
   "cell_type": "code",
   "execution_count": null,
   "id": "0f1cf150-bbc8-44cc-a75a-ec908c148b22",
   "metadata": {},
   "outputs": [],
   "source": [
    "# sinogram = np.load(dic[\"equalized_sinogram_filepath\"])\n",
    "sinogram = np.load(dic[\"wiggle_sinogram_filepath\"])\n",
    "recon3D = sscCdi.tomo_recon(dic,sinogram)"
   ]
  },
  {
   "cell_type": "code",
   "execution_count": null,
   "id": "bd2c2829-93c2-4c92-a46c-05e9a5bc2b54",
   "metadata": {
    "tags": []
   },
   "outputs": [],
   "source": [
    "sscCdi.deploy_visualizer(np.load(dic[\"reconstruction_filepath\"]),title=\"Recon\",cmap='gray',axis=0)#,limits=(-1,1))"
   ]
  },
  {
   "cell_type": "markdown",
   "id": "cb396c3e-04c5-4a9c-9567-8597800a1c37",
   "metadata": {},
   "source": [
    "## 3D Equalization"
   ]
  },
  {
   "cell_type": "code",
   "execution_count": null,
   "id": "b2e85eae-3393-4e31-b999-7e943888a65f",
   "metadata": {
    "tags": []
   },
   "outputs": [],
   "source": [
    "dic[\"tomo_remove_outliers\"] = 0\n",
    "dic[\"tomo_threshold\"] = 20.0\n",
    "dic[\"tomo_local_offset\"] = [] # [top,bottom,left,right, axis]\n",
    "dic[\"tomo_mask\"] = []"
   ]
  },
  {
   "cell_type": "code",
   "execution_count": null,
   "id": "fdcf93bb-5ac6-4767-b0a2-4e2ae3b4303d",
   "metadata": {},
   "outputs": [],
   "source": [
    "sscCdi.tomo_equalize3D(dic)"
   ]
  },
  {
   "cell_type": "code",
   "execution_count": null,
   "id": "cc3d8e5b-b21d-4eaf-84c8-9891659233fc",
   "metadata": {
    "tags": []
   },
   "outputs": [],
   "source": [
    "sscCdi.deploy_visualizer(np.load(dic[\"eq_reconstruction_filepath\"]),title=\"Equalized Recon\",cmap='gray',axis=0)"
   ]
  },
  {
   "cell_type": "code",
   "execution_count": null,
   "id": "c77432ae-61ab-472d-ae03-e653bdeef591",
   "metadata": {
    "tags": []
   },
   "outputs": [],
   "source": [
    "equalized_tomogram = np.load(dic[\"eq_reconstruction_filepath\"])\n",
    "sscCdi.plot_histograms(recon3D, equalized_tomogram,bins=300)"
   ]
  }
 ],
 "metadata": {
  "kernelspec": {
   "display_name": "Python 3 (ipykernel)",
   "language": "python",
   "name": "python3"
  },
  "language_info": {
   "codemirror_mode": {
    "name": "ipython",
    "version": 3
   },
   "file_extension": ".py",
   "mimetype": "text/x-python",
   "name": "python",
   "nbconvert_exporter": "python",
   "pygments_lexer": "ipython3",
   "version": "3.9.2"
  }
 },
 "nbformat": 4,
 "nbformat_minor": 5
}
